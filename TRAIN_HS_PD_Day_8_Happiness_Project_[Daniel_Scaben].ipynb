{
  "cells": [
    {
      "cell_type": "markdown",
      "metadata": {
        "id": "view-in-github",
        "colab_type": "text"
      },
      "source": [
        "<a href=\"https://colab.research.google.com/github/blckpwdr50/datasciencecoursera/blob/master/TRAIN_HS_PD_Day_8_Happiness_Project_%5BDaniel_Scaben%5D.ipynb\" target=\"_parent\"><img src=\"https://colab.research.google.com/assets/colab-badge.svg\" alt=\"Open In Colab\"/></a>"
      ]
    },
    {
      "cell_type": "markdown",
      "source": [
        "# **Lab 8: 2015 World Happiness Report Project**\n",
        "---\n",
        "\n",
        "### **Description**\n",
        "In this project, you will use what you have learned so far about the machine learning process, Linear Regression, and KNN to analyze the official 2015 World Happiness Report from the United Nations. In particular, you will explore, wrangle, and visualize this data and then model the Happiness Score and Region of countries based on the variables reported in this dataset.\n",
        "\n",
        "<br>\n",
        "\n",
        "\n",
        "### **Overview**\n",
        "For this project, you are given data collected for the 2015 UN Happiness Report. The 2015 Happiness Report, also known as the World Happiness Report 2015, is a publication that presents rankings of countries based on their levels of happiness and well-being. The report is a collaborative effort between the Sustainable Development Solutions Network (SDSN) and the Earth Institute at Columbia University, with contributions from various researchers and experts.\n",
        "\n",
        "<br>\n",
        "\n",
        "The report includes rankings of 158 countries based on the \"World Happiness Index,\" which is calculated using survey data from the Gallup World Poll and other sources. The index combines factors such as GDP per capita, social support, healthy life expectancy, freedom to make life choices, generosity, and perceptions of corruption to assess overall happiness levels.\n",
        "\n",
        "<br>\n",
        "\n",
        "The 2015 Happiness Report sheds light on the relationship between happiness, well-being, and sustainable development, emphasizing the importance of incorporating measures of happiness into policy-making and development strategies. It provides valuable insights into global happiness levels, highlighting the factors that contribute to happiness and offering recommendations for policymakers and individuals to improve overall well-being.\n",
        "\n",
        "<br>\n",
        "\n",
        " Everything you need is provided below. But, if you are curious to learn more the [official source can be found here](https://worldhappiness.report/ed/2015/#appendices-and-data). Here is a list of variables for your reference:\n",
        "\n",
        "* `Country`: The country that the data corresponds to.\n",
        "\n",
        "* `Region`: The region that this country is classified as belong to.\n",
        "\n",
        "* `Happiness Score`: A metric measured in 2015 by asking the sampled people the question: \"How would you rate your happiness on a scale of 0 to 10 where 10 is the happiest.\"\n",
        "\n",
        "* `GDP`: The extent to which GDP contributes to the calculation of the Happiness Score.\n",
        "\n",
        "* `Social Support`: The extent to which Family contributes to the calculation of the Happiness Score\n",
        "\n",
        "* `Health Life Expectancy`: The extent to which Life expectancy contributed to the calculation of the Happiness Score\n",
        "\n",
        "* `Freedom`: The extent to which Freedom contributed to the calculation of the Happiness Score.\n",
        "\n",
        "* `Corruption Perception`: The extent to which Perception of Corruption contributes to Happiness Score.\n",
        "\n",
        "* `Generosity`: A model of the national average of response to the question “Have you donated money to a charity in the past month?” on GDP per\n",
        "capita.\n",
        "\n",
        "**NOTE**: All numerical variables except `Happiness Score` have already been standardized.\n",
        "\n",
        "<br>\n",
        "\n",
        "### **Key questions to answer**\n",
        "1. How do these variables, such as `Generosity` or `Freedom`, influence a country's `Happiness Score`?\n",
        "\n",
        "2. In 2015, which nation had the highest `Happiness Score`? Which nation had the lowest `Happiness Score`?\n",
        "\n",
        "2. What patterns can be observed visually? What patterns can be observed with deeper data exploration?\n",
        "\n",
        "3. Is Linear Regression or KNN better suited to this task of predicting Happiness Score or Region and why?\n",
        "\n",
        "4. What is the best value of K for any case where you used KNN?\n",
        "\n",
        "5. What role did feature selection play in the performance of models for both cases?\n",
        "\n",
        "6. What variables play the largest role in predicting Happiness Score or Region?\n",
        "\n",
        "<br>\n",
        "\n",
        "### **Lab Structure**\n",
        "**Part 1**:  [Data Exploration, Wrangling, and Visualization](#p1)\n",
        "\n",
        "**Part 2**:  [Predicting Happiness Score](#p2)\n",
        "\n",
        "> **Part 2.1**: [Using All Numerical Features](#p21)\n",
        ">\n",
        "> **Part 2.2**: [Using the 3 Best Numerical Features](#p22)\n",
        ">\n",
        ">\n",
        ">\n",
        "\n",
        "**Part 3**: [Predicting Region](#p3)\n",
        "\n",
        "> **Part 3.1**: [Using All Numerical Features](#p31)\n",
        ">\n",
        "> **Part 3.2**: [Using the 2 Best Numerical Features](#p32)\n",
        ">\n",
        ">\n",
        ">\n",
        "\n",
        "</br>\n",
        "\n",
        "### **Goals**\n",
        "**By the end of this project, you will have:**\n",
        "1. Cleaned, explored, and visualized this dataset.\n",
        "2. Engineered a new feature and modeled it.\n",
        "3. Decided when to use Linear Regression or KNN for different tasks.\n",
        "4. Modeled several different variables and analyzed the results.\n",
        "\n",
        "<br>\n",
        "\n",
        "\n",
        "### **Cheat Sheets**\n",
        "\n",
        "* [Python Basics](https://docs.google.com/document/d/1sbDvZXxqkqvaxEj7WM_nfhTI3q5Yut-9dz0IxEta-VA/edit?usp=drive_link)\n",
        "\n",
        "* [EDA with pandas](https://docs.google.com/document/d/1lb58BaUQZi_Y9tvgeGuhmm2_oe88smVbpV9pqb1sFNI/edit?usp=drive_link)\n",
        "\n",
        "* [Data Wrangling with pandas](https://docs.google.com/document/d/1fYANsUd4dKdgGHlAcvaugTihYIP7dku-yqYtjMh95LQ/edit?usp=drive_link)\n",
        "\n",
        "* [Data Visualization with matplotlib](https://docs.google.com/document/d/1n8kwv3ysgSQL7siw8zOo8lvkwSell1LgW82xDIe9bf4/edit?usp=drive_link)\n",
        "\n",
        "* [Linear Regression with sklearn](https://docs.google.com/document/d/1aymYoakMDdvRZJS4-NBCF5D54f4RQlCJFimz8Mf-uJI/edit?usp=drive_link)\n",
        "\n",
        "* [KNN with sklearn](https://docs.google.com/document/d/1bgOWUmWyPcc2rUinRsGNDjE04eQdMPq49PWbCGMOHSw/edit?usp=drive_link)\n",
        "\n",
        "<br>\n",
        "\n",
        "**Run the cell below to import all necessary libraries and functions.**"
      ],
      "metadata": {
        "id": "8Np2oa_ZijMe"
      }
    },
    {
      "cell_type": "code",
      "execution_count": null,
      "metadata": {
        "id": "J697Qi0eizBL"
      },
      "outputs": [],
      "source": [
        "import warnings\n",
        "warnings.filterwarnings('ignore')\n",
        "\n",
        "import numpy as np\n",
        "import pandas as pd\n",
        "import matplotlib.pyplot as plt\n",
        "\n",
        "from sklearn.feature_selection import SelectKBest\n",
        "from sklearn.model_selection import train_test_split\n",
        "from sklearn.metrics import r2_score, mean_squared_error, mean_absolute_error, accuracy_score"
      ]
    },
    {
      "cell_type": "markdown",
      "metadata": {
        "id": "PW6EDtnXdczv"
      },
      "source": [
        "<a name=\"p1\"></a>\n",
        "\n",
        "---\n",
        "## **Part 1: Data Exploration, Wrangling, and Visualization**\n",
        "---\n",
        "\n",
        "In this part, you will load in and explore the dataset for this project. This will involve using functions from pandas as well as reading source material to understand the data that you are working with.\n",
        "\n",
        "**NOTE**: In most real world situations, you will not do data exploration, wrangling, and visualization separately as we have done in the past. As such, you will simply be asked to perform tasks throughout this section without explicitly distinguishing between exploration, wrangling, and visualization.\n",
        "\n",
        "<br>\n",
        "\n",
        "**Run the code below to load in the data.**"
      ]
    },
    {
      "cell_type": "code",
      "source": [
        "url = \"https://docs.google.com/spreadsheets/d/e/2PACX-1vSUoGLZ90Qr6A5-DmdYD30CIEwMqIAmtWSbdcLgi10u5WoCtCuj_RuSm7wDsFsfcwPGRB6ZZDduCxpO/pub?gid=108149846&single=true&output=csv\"\n",
        "\n",
        "happy_df = pd.read_csv(url)\n",
        "happy_df.head()"
      ],
      "metadata": {
        "id": "hRZBMlvDZn5U",
        "colab": {
          "base_uri": "https://localhost:8080/",
          "height": 374
        },
        "outputId": "a118cc00-21ad-4a28-98fb-9ca127b71088"
      },
      "execution_count": null,
      "outputs": [
        {
          "output_type": "execute_result",
          "data": {
            "text/plain": [
              "       Country          region  Happiness Score      GDP  Social_support  \\\n",
              "0  Switzerland  Western Europe            7.587  1.39651         1.34951   \n",
              "1      Iceland  Western Europe            7.561  1.30232         1.40223   \n",
              "2      Denmark  Western Europe            7.527  1.32548         1.36058   \n",
              "3       Norway  Western Europe            7.522  1.45900         1.33095   \n",
              "4       Canada   North America            7.427  1.32629         1.32261   \n",
              "\n",
              "   Healthy Life_Expectancy  Freedom  corruptionperception  Generosity  \n",
              "0                  0.94143  0.66557               0.41978     0.29678  \n",
              "1                  0.94784  0.62877               0.14145     0.43630  \n",
              "2                  0.87464  0.64938               0.48357     0.34139  \n",
              "3                  0.88521  0.66973               0.36503     0.34699  \n",
              "4                  0.90563  0.63297               0.32957     0.45811  "
            ],
            "text/html": [
              "\n",
              "  <div id=\"df-e0ead328-3ab1-4f8e-bf41-b31bb4896e06\">\n",
              "    <div class=\"colab-df-container\">\n",
              "      <div>\n",
              "<style scoped>\n",
              "    .dataframe tbody tr th:only-of-type {\n",
              "        vertical-align: middle;\n",
              "    }\n",
              "\n",
              "    .dataframe tbody tr th {\n",
              "        vertical-align: top;\n",
              "    }\n",
              "\n",
              "    .dataframe thead th {\n",
              "        text-align: right;\n",
              "    }\n",
              "</style>\n",
              "<table border=\"1\" class=\"dataframe\">\n",
              "  <thead>\n",
              "    <tr style=\"text-align: right;\">\n",
              "      <th></th>\n",
              "      <th>Country</th>\n",
              "      <th>region</th>\n",
              "      <th>Happiness Score</th>\n",
              "      <th>GDP</th>\n",
              "      <th>Social_support</th>\n",
              "      <th>Healthy Life_Expectancy</th>\n",
              "      <th>Freedom</th>\n",
              "      <th>corruptionperception</th>\n",
              "      <th>Generosity</th>\n",
              "    </tr>\n",
              "  </thead>\n",
              "  <tbody>\n",
              "    <tr>\n",
              "      <th>0</th>\n",
              "      <td>Switzerland</td>\n",
              "      <td>Western Europe</td>\n",
              "      <td>7.587</td>\n",
              "      <td>1.39651</td>\n",
              "      <td>1.34951</td>\n",
              "      <td>0.94143</td>\n",
              "      <td>0.66557</td>\n",
              "      <td>0.41978</td>\n",
              "      <td>0.29678</td>\n",
              "    </tr>\n",
              "    <tr>\n",
              "      <th>1</th>\n",
              "      <td>Iceland</td>\n",
              "      <td>Western Europe</td>\n",
              "      <td>7.561</td>\n",
              "      <td>1.30232</td>\n",
              "      <td>1.40223</td>\n",
              "      <td>0.94784</td>\n",
              "      <td>0.62877</td>\n",
              "      <td>0.14145</td>\n",
              "      <td>0.43630</td>\n",
              "    </tr>\n",
              "    <tr>\n",
              "      <th>2</th>\n",
              "      <td>Denmark</td>\n",
              "      <td>Western Europe</td>\n",
              "      <td>7.527</td>\n",
              "      <td>1.32548</td>\n",
              "      <td>1.36058</td>\n",
              "      <td>0.87464</td>\n",
              "      <td>0.64938</td>\n",
              "      <td>0.48357</td>\n",
              "      <td>0.34139</td>\n",
              "    </tr>\n",
              "    <tr>\n",
              "      <th>3</th>\n",
              "      <td>Norway</td>\n",
              "      <td>Western Europe</td>\n",
              "      <td>7.522</td>\n",
              "      <td>1.45900</td>\n",
              "      <td>1.33095</td>\n",
              "      <td>0.88521</td>\n",
              "      <td>0.66973</td>\n",
              "      <td>0.36503</td>\n",
              "      <td>0.34699</td>\n",
              "    </tr>\n",
              "    <tr>\n",
              "      <th>4</th>\n",
              "      <td>Canada</td>\n",
              "      <td>North America</td>\n",
              "      <td>7.427</td>\n",
              "      <td>1.32629</td>\n",
              "      <td>1.32261</td>\n",
              "      <td>0.90563</td>\n",
              "      <td>0.63297</td>\n",
              "      <td>0.32957</td>\n",
              "      <td>0.45811</td>\n",
              "    </tr>\n",
              "  </tbody>\n",
              "</table>\n",
              "</div>\n",
              "      <button class=\"colab-df-convert\" onclick=\"convertToInteractive('df-e0ead328-3ab1-4f8e-bf41-b31bb4896e06')\"\n",
              "              title=\"Convert this dataframe to an interactive table.\"\n",
              "              style=\"display:none;\">\n",
              "        \n",
              "  <svg xmlns=\"http://www.w3.org/2000/svg\" height=\"24px\"viewBox=\"0 0 24 24\"\n",
              "       width=\"24px\">\n",
              "    <path d=\"M0 0h24v24H0V0z\" fill=\"none\"/>\n",
              "    <path d=\"M18.56 5.44l.94 2.06.94-2.06 2.06-.94-2.06-.94-.94-2.06-.94 2.06-2.06.94zm-11 1L8.5 8.5l.94-2.06 2.06-.94-2.06-.94L8.5 2.5l-.94 2.06-2.06.94zm10 10l.94 2.06.94-2.06 2.06-.94-2.06-.94-.94-2.06-.94 2.06-2.06.94z\"/><path d=\"M17.41 7.96l-1.37-1.37c-.4-.4-.92-.59-1.43-.59-.52 0-1.04.2-1.43.59L10.3 9.45l-7.72 7.72c-.78.78-.78 2.05 0 2.83L4 21.41c.39.39.9.59 1.41.59.51 0 1.02-.2 1.41-.59l7.78-7.78 2.81-2.81c.8-.78.8-2.07 0-2.86zM5.41 20L4 18.59l7.72-7.72 1.47 1.35L5.41 20z\"/>\n",
              "  </svg>\n",
              "      </button>\n",
              "      \n",
              "  <style>\n",
              "    .colab-df-container {\n",
              "      display:flex;\n",
              "      flex-wrap:wrap;\n",
              "      gap: 12px;\n",
              "    }\n",
              "\n",
              "    .colab-df-convert {\n",
              "      background-color: #E8F0FE;\n",
              "      border: none;\n",
              "      border-radius: 50%;\n",
              "      cursor: pointer;\n",
              "      display: none;\n",
              "      fill: #1967D2;\n",
              "      height: 32px;\n",
              "      padding: 0 0 0 0;\n",
              "      width: 32px;\n",
              "    }\n",
              "\n",
              "    .colab-df-convert:hover {\n",
              "      background-color: #E2EBFA;\n",
              "      box-shadow: 0px 1px 2px rgba(60, 64, 67, 0.3), 0px 1px 3px 1px rgba(60, 64, 67, 0.15);\n",
              "      fill: #174EA6;\n",
              "    }\n",
              "\n",
              "    [theme=dark] .colab-df-convert {\n",
              "      background-color: #3B4455;\n",
              "      fill: #D2E3FC;\n",
              "    }\n",
              "\n",
              "    [theme=dark] .colab-df-convert:hover {\n",
              "      background-color: #434B5C;\n",
              "      box-shadow: 0px 1px 3px 1px rgba(0, 0, 0, 0.15);\n",
              "      filter: drop-shadow(0px 1px 2px rgba(0, 0, 0, 0.3));\n",
              "      fill: #FFFFFF;\n",
              "    }\n",
              "  </style>\n",
              "\n",
              "      <script>\n",
              "        const buttonEl =\n",
              "          document.querySelector('#df-e0ead328-3ab1-4f8e-bf41-b31bb4896e06 button.colab-df-convert');\n",
              "        buttonEl.style.display =\n",
              "          google.colab.kernel.accessAllowed ? 'block' : 'none';\n",
              "\n",
              "        async function convertToInteractive(key) {\n",
              "          const element = document.querySelector('#df-e0ead328-3ab1-4f8e-bf41-b31bb4896e06');\n",
              "          const dataTable =\n",
              "            await google.colab.kernel.invokeFunction('convertToInteractive',\n",
              "                                                     [key], {});\n",
              "          if (!dataTable) return;\n",
              "\n",
              "          const docLinkHtml = 'Like what you see? Visit the ' +\n",
              "            '<a target=\"_blank\" href=https://colab.research.google.com/notebooks/data_table.ipynb>data table notebook</a>'\n",
              "            + ' to learn more about interactive tables.';\n",
              "          element.innerHTML = '';\n",
              "          dataTable['output_type'] = 'display_data';\n",
              "          await google.colab.output.renderOutput(dataTable, element);\n",
              "          const docLink = document.createElement('div');\n",
              "          docLink.innerHTML = docLinkHtml;\n",
              "          element.appendChild(docLink);\n",
              "        }\n",
              "      </script>\n",
              "    </div>\n",
              "  </div>\n",
              "  "
            ]
          },
          "metadata": {},
          "execution_count": 3
        }
      ]
    },
    {
      "cell_type": "markdown",
      "source": [
        "### **Problem #1.1**\n",
        "\n",
        "Spend a few minutes getting familiar with the data. Some things to consider: how many instances are there? How many features? What are the features' datatypes?"
      ],
      "metadata": {
        "id": "NhuunxzY8Sxx"
      }
    },
    {
      "cell_type": "code",
      "source": [
        "happy_df.info()\n"
      ],
      "metadata": {
        "id": "NqsdS5NXcwR8",
        "colab": {
          "base_uri": "https://localhost:8080/"
        },
        "outputId": "a385975b-b20a-4aaa-dfca-0eccaee24851"
      },
      "execution_count": null,
      "outputs": [
        {
          "output_type": "stream",
          "name": "stdout",
          "text": [
            "<class 'pandas.core.frame.DataFrame'>\n",
            "RangeIndex: 163 entries, 0 to 162\n",
            "Data columns (total 9 columns):\n",
            " #   Column                   Non-Null Count  Dtype  \n",
            "---  ------                   --------------  -----  \n",
            " 0   Country                  163 non-null    object \n",
            " 1   region                   162 non-null    object \n",
            " 2   Happiness Score          162 non-null    float64\n",
            " 3   GDP                      163 non-null    float64\n",
            " 4   Social_support           163 non-null    float64\n",
            " 5   Healthy Life_Expectancy  162 non-null    float64\n",
            " 6   Freedom                  163 non-null    float64\n",
            " 7   corruptionperception     163 non-null    float64\n",
            " 8   Generosity               163 non-null    float64\n",
            "dtypes: float64(7), object(2)\n",
            "memory usage: 11.6+ KB\n"
          ]
        }
      ]
    },
    {
      "cell_type": "markdown",
      "source": [
        "### **Problem #1.2**\n",
        "\n",
        "This data currently has no consistent naming convention for columns, which is very bad practice. So, rename each column to be of the style, `'Column Name'`, where each word is separated by a space (not an underscore, slash, or anything else) and starts uppercase. Furthermore, make sure all words are spelled correctly.\n",
        "\n",
        "<br>\n",
        "\n",
        "**Hint**: It may make you life easier to quickly print the current column names here using the `.columns` attribute."
      ],
      "metadata": {
        "id": "SN4uAbT-0GLi"
      }
    },
    {
      "cell_type": "code",
      "source": [
        "happy_df = happy_df.rename(columns={'Social_support': 'Social Support', 'Healthy Life_Expectancy': 'Healthy Life Expectancy','corruptionperception':'Corruption Perception'})\n",
        "happy_df.info()\n"
      ],
      "metadata": {
        "id": "T1dokwjC0GLj",
        "colab": {
          "base_uri": "https://localhost:8080/"
        },
        "outputId": "9b199763-4a49-4030-e1c3-3c266567bd0f"
      },
      "execution_count": null,
      "outputs": [
        {
          "output_type": "stream",
          "name": "stdout",
          "text": [
            "<class 'pandas.core.frame.DataFrame'>\n",
            "RangeIndex: 163 entries, 0 to 162\n",
            "Data columns (total 9 columns):\n",
            " #   Column                   Non-Null Count  Dtype  \n",
            "---  ------                   --------------  -----  \n",
            " 0   Country                  163 non-null    object \n",
            " 1   region                   162 non-null    object \n",
            " 2   Happiness Score          162 non-null    float64\n",
            " 3   GDP                      163 non-null    float64\n",
            " 4   Social Support           163 non-null    float64\n",
            " 5   Healthy Life Expectancy  162 non-null    float64\n",
            " 6   Freedom                  163 non-null    float64\n",
            " 7   Corruption Perception    163 non-null    float64\n",
            " 8   Generosity               163 non-null    float64\n",
            "dtypes: float64(7), object(2)\n",
            "memory usage: 11.6+ KB\n"
          ]
        }
      ]
    },
    {
      "cell_type": "markdown",
      "source": [
        "### **Problem #1.3**\n",
        "\n",
        "Drop any duplicate rows."
      ],
      "metadata": {
        "id": "f5ZW7Yo_ypkD"
      }
    },
    {
      "cell_type": "code",
      "source": [
        "happy_df=happy_df.drop_duplicates()\n",
        "happy_df.info()"
      ],
      "metadata": {
        "id": "t3srgtUjypkE",
        "colab": {
          "base_uri": "https://localhost:8080/"
        },
        "outputId": "fe66faa2-8c6c-4d01-e2b5-024848c0ffa8"
      },
      "execution_count": null,
      "outputs": [
        {
          "output_type": "stream",
          "name": "stdout",
          "text": [
            "<class 'pandas.core.frame.DataFrame'>\n",
            "Int64Index: 158 entries, 0 to 161\n",
            "Data columns (total 9 columns):\n",
            " #   Column                   Non-Null Count  Dtype  \n",
            "---  ------                   --------------  -----  \n",
            " 0   Country                  158 non-null    object \n",
            " 1   region                   157 non-null    object \n",
            " 2   Happiness Score          157 non-null    float64\n",
            " 3   GDP                      158 non-null    float64\n",
            " 4   Social Support           158 non-null    float64\n",
            " 5   Healthy Life Expectancy  157 non-null    float64\n",
            " 6   Freedom                  158 non-null    float64\n",
            " 7   Corruption Perception    158 non-null    float64\n",
            " 8   Generosity               158 non-null    float64\n",
            "dtypes: float64(7), object(2)\n",
            "memory usage: 12.3+ KB\n"
          ]
        }
      ]
    },
    {
      "cell_type": "markdown",
      "source": [
        "### **Problem #1.4**\n",
        "\n",
        "Determine the datatypes of each feature. Determine the number of non-null values in each column."
      ],
      "metadata": {
        "id": "9k5LjqCxwpHa"
      }
    },
    {
      "cell_type": "code",
      "source": [
        "happy_df.info()"
      ],
      "metadata": {
        "id": "D9tg8YBiwpHb",
        "colab": {
          "base_uri": "https://localhost:8080/"
        },
        "outputId": "68c3b4cd-b1e2-4801-f620-9648a7c75bc0"
      },
      "execution_count": null,
      "outputs": [
        {
          "output_type": "stream",
          "name": "stdout",
          "text": [
            "<class 'pandas.core.frame.DataFrame'>\n",
            "Int64Index: 158 entries, 0 to 161\n",
            "Data columns (total 9 columns):\n",
            " #   Column                   Non-Null Count  Dtype  \n",
            "---  ------                   --------------  -----  \n",
            " 0   Country                  158 non-null    object \n",
            " 1   region                   157 non-null    object \n",
            " 2   Happiness Score          157 non-null    float64\n",
            " 3   GDP                      158 non-null    float64\n",
            " 4   Social Support           158 non-null    float64\n",
            " 5   Healthy Life Expectancy  157 non-null    float64\n",
            " 6   Freedom                  158 non-null    float64\n",
            " 7   Corruption Perception    158 non-null    float64\n",
            " 8   Generosity               158 non-null    float64\n",
            "dtypes: float64(7), object(2)\n",
            "memory usage: 12.3+ KB\n"
          ]
        }
      ]
    },
    {
      "cell_type": "markdown",
      "source": [
        "### **Problem #1.5**\n",
        "\n",
        "You should have seen from Problem #1.4 that there are 3 columns with null values. We need to either impute by filling with the average or drop the rows with null values.\n",
        "\n",
        "\n",
        "Let's deal with these columns by type, specifically:\n",
        "1. Impute or drop the numerical null values.\n",
        "2. Impute or drop the object (string) null values."
      ],
      "metadata": {
        "id": "eIcT3HdYy0Tz"
      }
    },
    {
      "cell_type": "markdown",
      "source": [
        "#### **1. Impute or drop the numerical null values.**\n",
        "\n",
        "Complete the code below to *drop* the numerical null values. There's an argument for dropping or imputing, but dropping is a safer choice that does not rely on making any assumptions about these variables."
      ],
      "metadata": {
        "id": "kZJ25BOCTusV"
      }
    },
    {
      "cell_type": "code",
      "source": [
        "happy_df = happy_df.dropna(axis = 0, how='any', subset = ['Happiness Score', 'Healthy Life Expectancy'])\n",
        "happy_df.info()"
      ],
      "metadata": {
        "id": "X463Ho8By0Tz",
        "colab": {
          "base_uri": "https://localhost:8080/"
        },
        "outputId": "3d6dafbb-78f1-47de-fa50-75330924be01"
      },
      "execution_count": null,
      "outputs": [
        {
          "output_type": "stream",
          "name": "stdout",
          "text": [
            "<class 'pandas.core.frame.DataFrame'>\n",
            "Int64Index: 156 entries, 0 to 161\n",
            "Data columns (total 9 columns):\n",
            " #   Column                   Non-Null Count  Dtype  \n",
            "---  ------                   --------------  -----  \n",
            " 0   Country                  156 non-null    object \n",
            " 1   region                   155 non-null    object \n",
            " 2   Happiness Score          156 non-null    float64\n",
            " 3   GDP                      156 non-null    float64\n",
            " 4   Social Support           156 non-null    float64\n",
            " 5   Healthy Life Expectancy  156 non-null    float64\n",
            " 6   Freedom                  156 non-null    float64\n",
            " 7   Corruption Perception    156 non-null    float64\n",
            " 8   Generosity               156 non-null    float64\n",
            "dtypes: float64(7), object(2)\n",
            "memory usage: 12.2+ KB\n"
          ]
        }
      ]
    },
    {
      "cell_type": "markdown",
      "source": [
        "#### **2. Impute or drop the object (string) null values.**\n",
        "\n",
        "Complete the code below to *impute* the object (string) null value(s). This is something we can look up, so it's completely reasonable to fill in the missing values manually and not have to sacrifice more data points.\n",
        "\n",
        "<br>\n",
        "\n",
        "**NOTE**: You will likely need to use the following three commands to accomplish this:\n",
        "\n",
        "1. `happy_df[happy_df['column name'].isnull()]`: Print the specific data point(s) with a null value for `'column name'`.\n",
        "2. `happy_df['column name'].unique()`: Print the possible values that we could use to fill in the null value found above.\n",
        "3. `happy_df.loc[happy_df['column name'].isnull(), 'column name'] = 'non-null value'`: Fill in the null value with a new value. This should be the best option from the list of unique values found above."
      ],
      "metadata": {
        "id": "o43u1mzRUYH0"
      }
    },
    {
      "cell_type": "code",
      "source": [
        "happy_df[happy_df['region'].isnull()]\n"
      ],
      "metadata": {
        "id": "5qKWwPnPUv9u",
        "colab": {
          "base_uri": "https://localhost:8080/",
          "height": 159
        },
        "outputId": "1821a59f-486d-4c80-d9a0-10b2f4fbada5"
      },
      "execution_count": null,
      "outputs": [
        {
          "output_type": "execute_result",
          "data": {
            "text/plain": [
              "   Country region  Happiness Score      GDP  Social Support  \\\n",
              "64   Libya    NaN            5.754  1.13145         1.11862   \n",
              "\n",
              "    Healthy Life Expectancy  Freedom  Corruption Perception  Generosity  \n",
              "64                   0.7038  0.41668                0.11023     0.18295  "
            ],
            "text/html": [
              "\n",
              "  <div id=\"df-5112ef8e-c705-4a2c-950c-661b6e2a5eaa\">\n",
              "    <div class=\"colab-df-container\">\n",
              "      <div>\n",
              "<style scoped>\n",
              "    .dataframe tbody tr th:only-of-type {\n",
              "        vertical-align: middle;\n",
              "    }\n",
              "\n",
              "    .dataframe tbody tr th {\n",
              "        vertical-align: top;\n",
              "    }\n",
              "\n",
              "    .dataframe thead th {\n",
              "        text-align: right;\n",
              "    }\n",
              "</style>\n",
              "<table border=\"1\" class=\"dataframe\">\n",
              "  <thead>\n",
              "    <tr style=\"text-align: right;\">\n",
              "      <th></th>\n",
              "      <th>Country</th>\n",
              "      <th>region</th>\n",
              "      <th>Happiness Score</th>\n",
              "      <th>GDP</th>\n",
              "      <th>Social Support</th>\n",
              "      <th>Healthy Life Expectancy</th>\n",
              "      <th>Freedom</th>\n",
              "      <th>Corruption Perception</th>\n",
              "      <th>Generosity</th>\n",
              "    </tr>\n",
              "  </thead>\n",
              "  <tbody>\n",
              "    <tr>\n",
              "      <th>64</th>\n",
              "      <td>Libya</td>\n",
              "      <td>NaN</td>\n",
              "      <td>5.754</td>\n",
              "      <td>1.13145</td>\n",
              "      <td>1.11862</td>\n",
              "      <td>0.7038</td>\n",
              "      <td>0.41668</td>\n",
              "      <td>0.11023</td>\n",
              "      <td>0.18295</td>\n",
              "    </tr>\n",
              "  </tbody>\n",
              "</table>\n",
              "</div>\n",
              "      <button class=\"colab-df-convert\" onclick=\"convertToInteractive('df-5112ef8e-c705-4a2c-950c-661b6e2a5eaa')\"\n",
              "              title=\"Convert this dataframe to an interactive table.\"\n",
              "              style=\"display:none;\">\n",
              "        \n",
              "  <svg xmlns=\"http://www.w3.org/2000/svg\" height=\"24px\"viewBox=\"0 0 24 24\"\n",
              "       width=\"24px\">\n",
              "    <path d=\"M0 0h24v24H0V0z\" fill=\"none\"/>\n",
              "    <path d=\"M18.56 5.44l.94 2.06.94-2.06 2.06-.94-2.06-.94-.94-2.06-.94 2.06-2.06.94zm-11 1L8.5 8.5l.94-2.06 2.06-.94-2.06-.94L8.5 2.5l-.94 2.06-2.06.94zm10 10l.94 2.06.94-2.06 2.06-.94-2.06-.94-.94-2.06-.94 2.06-2.06.94z\"/><path d=\"M17.41 7.96l-1.37-1.37c-.4-.4-.92-.59-1.43-.59-.52 0-1.04.2-1.43.59L10.3 9.45l-7.72 7.72c-.78.78-.78 2.05 0 2.83L4 21.41c.39.39.9.59 1.41.59.51 0 1.02-.2 1.41-.59l7.78-7.78 2.81-2.81c.8-.78.8-2.07 0-2.86zM5.41 20L4 18.59l7.72-7.72 1.47 1.35L5.41 20z\"/>\n",
              "  </svg>\n",
              "      </button>\n",
              "      \n",
              "  <style>\n",
              "    .colab-df-container {\n",
              "      display:flex;\n",
              "      flex-wrap:wrap;\n",
              "      gap: 12px;\n",
              "    }\n",
              "\n",
              "    .colab-df-convert {\n",
              "      background-color: #E8F0FE;\n",
              "      border: none;\n",
              "      border-radius: 50%;\n",
              "      cursor: pointer;\n",
              "      display: none;\n",
              "      fill: #1967D2;\n",
              "      height: 32px;\n",
              "      padding: 0 0 0 0;\n",
              "      width: 32px;\n",
              "    }\n",
              "\n",
              "    .colab-df-convert:hover {\n",
              "      background-color: #E2EBFA;\n",
              "      box-shadow: 0px 1px 2px rgba(60, 64, 67, 0.3), 0px 1px 3px 1px rgba(60, 64, 67, 0.15);\n",
              "      fill: #174EA6;\n",
              "    }\n",
              "\n",
              "    [theme=dark] .colab-df-convert {\n",
              "      background-color: #3B4455;\n",
              "      fill: #D2E3FC;\n",
              "    }\n",
              "\n",
              "    [theme=dark] .colab-df-convert:hover {\n",
              "      background-color: #434B5C;\n",
              "      box-shadow: 0px 1px 3px 1px rgba(0, 0, 0, 0.15);\n",
              "      filter: drop-shadow(0px 1px 2px rgba(0, 0, 0, 0.3));\n",
              "      fill: #FFFFFF;\n",
              "    }\n",
              "  </style>\n",
              "\n",
              "      <script>\n",
              "        const buttonEl =\n",
              "          document.querySelector('#df-5112ef8e-c705-4a2c-950c-661b6e2a5eaa button.colab-df-convert');\n",
              "        buttonEl.style.display =\n",
              "          google.colab.kernel.accessAllowed ? 'block' : 'none';\n",
              "\n",
              "        async function convertToInteractive(key) {\n",
              "          const element = document.querySelector('#df-5112ef8e-c705-4a2c-950c-661b6e2a5eaa');\n",
              "          const dataTable =\n",
              "            await google.colab.kernel.invokeFunction('convertToInteractive',\n",
              "                                                     [key], {});\n",
              "          if (!dataTable) return;\n",
              "\n",
              "          const docLinkHtml = 'Like what you see? Visit the ' +\n",
              "            '<a target=\"_blank\" href=https://colab.research.google.com/notebooks/data_table.ipynb>data table notebook</a>'\n",
              "            + ' to learn more about interactive tables.';\n",
              "          element.innerHTML = '';\n",
              "          dataTable['output_type'] = 'display_data';\n",
              "          await google.colab.output.renderOutput(dataTable, element);\n",
              "          const docLink = document.createElement('div');\n",
              "          docLink.innerHTML = docLinkHtml;\n",
              "          element.appendChild(docLink);\n",
              "        }\n",
              "      </script>\n",
              "    </div>\n",
              "  </div>\n",
              "  "
            ]
          },
          "metadata": {},
          "execution_count": 12
        }
      ]
    },
    {
      "cell_type": "code",
      "source": [
        "happy_df['region'].unique()"
      ],
      "metadata": {
        "id": "WduNjaE2V-dS",
        "colab": {
          "base_uri": "https://localhost:8080/"
        },
        "outputId": "5a0a433a-9586-41b5-af76-e1b4da587459"
      },
      "execution_count": null,
      "outputs": [
        {
          "output_type": "execute_result",
          "data": {
            "text/plain": [
              "array(['Western Europe', 'North America', 'Australia and New Zealand',\n",
              "       'Middle East and Northern Africa', 'Latin America and Caribbean',\n",
              "       'Southeastern Asia', 'Central and Eastern Europe', 'Eastern Asia',\n",
              "       nan, 'Sub-Saharan Africa', 'Southern Asia'], dtype=object)"
            ]
          },
          "metadata": {},
          "execution_count": 13
        }
      ]
    },
    {
      "cell_type": "code",
      "source": [
        "happy_df.loc[happy_df['region'].isnull(),'region']='Middle East and Northern Africa'\n",
        "happy_df.info()"
      ],
      "metadata": {
        "id": "ri19lCOQWBId",
        "colab": {
          "base_uri": "https://localhost:8080/"
        },
        "outputId": "cd19173e-8d36-4c4c-c875-0817d4e7dfbe"
      },
      "execution_count": null,
      "outputs": [
        {
          "output_type": "stream",
          "name": "stdout",
          "text": [
            "<class 'pandas.core.frame.DataFrame'>\n",
            "Int64Index: 156 entries, 0 to 161\n",
            "Data columns (total 9 columns):\n",
            " #   Column                   Non-Null Count  Dtype  \n",
            "---  ------                   --------------  -----  \n",
            " 0   Country                  156 non-null    object \n",
            " 1   region                   156 non-null    object \n",
            " 2   Happiness Score          156 non-null    float64\n",
            " 3   GDP                      156 non-null    float64\n",
            " 4   Social Support           156 non-null    float64\n",
            " 5   Healthy Life Expectancy  156 non-null    float64\n",
            " 6   Freedom                  156 non-null    float64\n",
            " 7   Corruption Perception    156 non-null    float64\n",
            " 8   Generosity               156 non-null    float64\n",
            "dtypes: float64(7), object(2)\n",
            "memory usage: 12.2+ KB\n"
          ]
        }
      ]
    },
    {
      "cell_type": "markdown",
      "source": [
        "### **Problem #1.6**\n",
        "\n",
        "Now that the data should be clean, take some time to understand the variables in this dataset, by looking at the [official statistical appendix/codebook here](https://s3.amazonaws.com/happiness-report/2015/StatisticalAppendixWHR3-April-16-2015.pdf) and answering the multiple choice questions below.\n",
        "\n",
        "You will only need to refer to the first 2.5 pages of information, until they start mentioning the \"expanded data set\". You do not need to read anything after this.\n",
        "\n",
        "<br>\n",
        "\n",
        "**1. Which of the following best describes the `Happiness Score`?**\n",
        "\n",
        ">**a.** We can also call this measure the \"life ladder”.\n",
        "\n",
        ">**b.** We can also call this measure the “objective well-being”.\n",
        "\n",
        ">**c.** This is a measure of how many ladders people own in a country on average. The more ladders, the happier the people.\n",
        "\n",
        ">**d.** Respondents were asked how happy they were on a scale of 1 - 10.\n",
        "\n",
        "<br>\n",
        "\n",
        "**2. How is `Social Support` measured?**\n",
        "\n",
        ">**a.** This represents the average of responses on a scale of 1 - 10.\n",
        "\n",
        ">**b.** This is measured differently for each country.\n",
        "\n",
        ">**c**. Respondents were asked, “If you were in trouble, would you have support?”\n",
        "\n",
        ">**d.** Respondents were asked, “If you were in trouble, do you have relatives or friends you can count on to help you whenever you need them, or not?”\n",
        "\n",
        "<br>\n",
        "\n",
        "**3. How is `Freedom` measured?**\n",
        "\n",
        ">**a.** This represents the average of responses on a scale of 1 - 10.\n",
        "\n",
        ">**b.** This is measured differently for each country.\n",
        "\n",
        ">**c**. Respondents were asked, “Are you satisfied or dissatisfied with your freedom to choose what you do with your life?”\n",
        "\n",
        ">**d.** Respondents were asked, “How free are you?”"
      ],
      "metadata": {
        "id": "0sOSncGP8fNU"
      }
    },
    {
      "cell_type": "code",
      "source": [
        "a# ENTER YOUR ANSWER TO 1 HERE"
      ],
      "metadata": {
        "id": "P-KFjeVWXhgl"
      },
      "execution_count": null,
      "outputs": []
    },
    {
      "cell_type": "code",
      "source": [
        "d# ENTER YOUR ANSWER TO 2 HERE"
      ],
      "metadata": {
        "id": "YHP1QIDaXjpU"
      },
      "execution_count": null,
      "outputs": []
    },
    {
      "cell_type": "code",
      "source": [
        "c# ENTER YOUR ANSWER TO 3 HERE"
      ],
      "metadata": {
        "id": "vaOGD6ifXk8M"
      },
      "execution_count": null,
      "outputs": []
    },
    {
      "cell_type": "markdown",
      "source": [
        "### **Problem #1.7**\n",
        "\n",
        "Determine the average (mean) and standard deviation (std) of the numerical variables."
      ],
      "metadata": {
        "id": "1pSRy496-WVf"
      }
    },
    {
      "cell_type": "code",
      "source": [
        "happy_df.describe()"
      ],
      "metadata": {
        "id": "X-GpnCl0tkcO",
        "colab": {
          "base_uri": "https://localhost:8080/",
          "height": 362
        },
        "outputId": "b5eb8490-c3b4-4ff4-bc69-7dad67a9b4a2"
      },
      "execution_count": null,
      "outputs": [
        {
          "output_type": "execute_result",
          "data": {
            "text/plain": [
              "       Happiness Score         GDP  Social Support  Healthy Life Expectancy  \\\n",
              "count       156.000000  156.000000      156.000000               156.000000   \n",
              "mean          5.360750    0.844602        0.988929                 0.628669   \n",
              "std           1.142177    0.403282        0.273001                 0.247780   \n",
              "min           2.839000    0.000000        0.000000                 0.000000   \n",
              "25%           4.517750    0.539453        0.854692                 0.437897   \n",
              "50%           5.203000    0.910245        1.029510                 0.696705   \n",
              "75%           6.193250    1.155523        1.210735                 0.809837   \n",
              "max           7.587000    1.690420        1.402230                 1.025250   \n",
              "\n",
              "          Freedom  Corruption Perception  Generosity  \n",
              "count  156.000000             156.000000  156.000000  \n",
              "mean     0.428004               0.143960    0.236874  \n",
              "std      0.150628               0.120321    0.127258  \n",
              "min      0.000000               0.000000    0.000000  \n",
              "25%      0.326865               0.062105    0.148800  \n",
              "50%      0.435515               0.107220    0.216130  \n",
              "75%      0.547057               0.179565    0.307547  \n",
              "max      0.669730               0.551910    0.795880  "
            ],
            "text/html": [
              "\n",
              "  <div id=\"df-417f0a02-7725-4f24-90c7-8c45911526f2\">\n",
              "    <div class=\"colab-df-container\">\n",
              "      <div>\n",
              "<style scoped>\n",
              "    .dataframe tbody tr th:only-of-type {\n",
              "        vertical-align: middle;\n",
              "    }\n",
              "\n",
              "    .dataframe tbody tr th {\n",
              "        vertical-align: top;\n",
              "    }\n",
              "\n",
              "    .dataframe thead th {\n",
              "        text-align: right;\n",
              "    }\n",
              "</style>\n",
              "<table border=\"1\" class=\"dataframe\">\n",
              "  <thead>\n",
              "    <tr style=\"text-align: right;\">\n",
              "      <th></th>\n",
              "      <th>Happiness Score</th>\n",
              "      <th>GDP</th>\n",
              "      <th>Social Support</th>\n",
              "      <th>Healthy Life Expectancy</th>\n",
              "      <th>Freedom</th>\n",
              "      <th>Corruption Perception</th>\n",
              "      <th>Generosity</th>\n",
              "    </tr>\n",
              "  </thead>\n",
              "  <tbody>\n",
              "    <tr>\n",
              "      <th>count</th>\n",
              "      <td>156.000000</td>\n",
              "      <td>156.000000</td>\n",
              "      <td>156.000000</td>\n",
              "      <td>156.000000</td>\n",
              "      <td>156.000000</td>\n",
              "      <td>156.000000</td>\n",
              "      <td>156.000000</td>\n",
              "    </tr>\n",
              "    <tr>\n",
              "      <th>mean</th>\n",
              "      <td>5.360750</td>\n",
              "      <td>0.844602</td>\n",
              "      <td>0.988929</td>\n",
              "      <td>0.628669</td>\n",
              "      <td>0.428004</td>\n",
              "      <td>0.143960</td>\n",
              "      <td>0.236874</td>\n",
              "    </tr>\n",
              "    <tr>\n",
              "      <th>std</th>\n",
              "      <td>1.142177</td>\n",
              "      <td>0.403282</td>\n",
              "      <td>0.273001</td>\n",
              "      <td>0.247780</td>\n",
              "      <td>0.150628</td>\n",
              "      <td>0.120321</td>\n",
              "      <td>0.127258</td>\n",
              "    </tr>\n",
              "    <tr>\n",
              "      <th>min</th>\n",
              "      <td>2.839000</td>\n",
              "      <td>0.000000</td>\n",
              "      <td>0.000000</td>\n",
              "      <td>0.000000</td>\n",
              "      <td>0.000000</td>\n",
              "      <td>0.000000</td>\n",
              "      <td>0.000000</td>\n",
              "    </tr>\n",
              "    <tr>\n",
              "      <th>25%</th>\n",
              "      <td>4.517750</td>\n",
              "      <td>0.539453</td>\n",
              "      <td>0.854692</td>\n",
              "      <td>0.437897</td>\n",
              "      <td>0.326865</td>\n",
              "      <td>0.062105</td>\n",
              "      <td>0.148800</td>\n",
              "    </tr>\n",
              "    <tr>\n",
              "      <th>50%</th>\n",
              "      <td>5.203000</td>\n",
              "      <td>0.910245</td>\n",
              "      <td>1.029510</td>\n",
              "      <td>0.696705</td>\n",
              "      <td>0.435515</td>\n",
              "      <td>0.107220</td>\n",
              "      <td>0.216130</td>\n",
              "    </tr>\n",
              "    <tr>\n",
              "      <th>75%</th>\n",
              "      <td>6.193250</td>\n",
              "      <td>1.155523</td>\n",
              "      <td>1.210735</td>\n",
              "      <td>0.809837</td>\n",
              "      <td>0.547057</td>\n",
              "      <td>0.179565</td>\n",
              "      <td>0.307547</td>\n",
              "    </tr>\n",
              "    <tr>\n",
              "      <th>max</th>\n",
              "      <td>7.587000</td>\n",
              "      <td>1.690420</td>\n",
              "      <td>1.402230</td>\n",
              "      <td>1.025250</td>\n",
              "      <td>0.669730</td>\n",
              "      <td>0.551910</td>\n",
              "      <td>0.795880</td>\n",
              "    </tr>\n",
              "  </tbody>\n",
              "</table>\n",
              "</div>\n",
              "      <button class=\"colab-df-convert\" onclick=\"convertToInteractive('df-417f0a02-7725-4f24-90c7-8c45911526f2')\"\n",
              "              title=\"Convert this dataframe to an interactive table.\"\n",
              "              style=\"display:none;\">\n",
              "        \n",
              "  <svg xmlns=\"http://www.w3.org/2000/svg\" height=\"24px\"viewBox=\"0 0 24 24\"\n",
              "       width=\"24px\">\n",
              "    <path d=\"M0 0h24v24H0V0z\" fill=\"none\"/>\n",
              "    <path d=\"M18.56 5.44l.94 2.06.94-2.06 2.06-.94-2.06-.94-.94-2.06-.94 2.06-2.06.94zm-11 1L8.5 8.5l.94-2.06 2.06-.94-2.06-.94L8.5 2.5l-.94 2.06-2.06.94zm10 10l.94 2.06.94-2.06 2.06-.94-2.06-.94-.94-2.06-.94 2.06-2.06.94z\"/><path d=\"M17.41 7.96l-1.37-1.37c-.4-.4-.92-.59-1.43-.59-.52 0-1.04.2-1.43.59L10.3 9.45l-7.72 7.72c-.78.78-.78 2.05 0 2.83L4 21.41c.39.39.9.59 1.41.59.51 0 1.02-.2 1.41-.59l7.78-7.78 2.81-2.81c.8-.78.8-2.07 0-2.86zM5.41 20L4 18.59l7.72-7.72 1.47 1.35L5.41 20z\"/>\n",
              "  </svg>\n",
              "      </button>\n",
              "      \n",
              "  <style>\n",
              "    .colab-df-container {\n",
              "      display:flex;\n",
              "      flex-wrap:wrap;\n",
              "      gap: 12px;\n",
              "    }\n",
              "\n",
              "    .colab-df-convert {\n",
              "      background-color: #E8F0FE;\n",
              "      border: none;\n",
              "      border-radius: 50%;\n",
              "      cursor: pointer;\n",
              "      display: none;\n",
              "      fill: #1967D2;\n",
              "      height: 32px;\n",
              "      padding: 0 0 0 0;\n",
              "      width: 32px;\n",
              "    }\n",
              "\n",
              "    .colab-df-convert:hover {\n",
              "      background-color: #E2EBFA;\n",
              "      box-shadow: 0px 1px 2px rgba(60, 64, 67, 0.3), 0px 1px 3px 1px rgba(60, 64, 67, 0.15);\n",
              "      fill: #174EA6;\n",
              "    }\n",
              "\n",
              "    [theme=dark] .colab-df-convert {\n",
              "      background-color: #3B4455;\n",
              "      fill: #D2E3FC;\n",
              "    }\n",
              "\n",
              "    [theme=dark] .colab-df-convert:hover {\n",
              "      background-color: #434B5C;\n",
              "      box-shadow: 0px 1px 3px 1px rgba(0, 0, 0, 0.15);\n",
              "      filter: drop-shadow(0px 1px 2px rgba(0, 0, 0, 0.3));\n",
              "      fill: #FFFFFF;\n",
              "    }\n",
              "  </style>\n",
              "\n",
              "      <script>\n",
              "        const buttonEl =\n",
              "          document.querySelector('#df-417f0a02-7725-4f24-90c7-8c45911526f2 button.colab-df-convert');\n",
              "        buttonEl.style.display =\n",
              "          google.colab.kernel.accessAllowed ? 'block' : 'none';\n",
              "\n",
              "        async function convertToInteractive(key) {\n",
              "          const element = document.querySelector('#df-417f0a02-7725-4f24-90c7-8c45911526f2');\n",
              "          const dataTable =\n",
              "            await google.colab.kernel.invokeFunction('convertToInteractive',\n",
              "                                                     [key], {});\n",
              "          if (!dataTable) return;\n",
              "\n",
              "          const docLinkHtml = 'Like what you see? Visit the ' +\n",
              "            '<a target=\"_blank\" href=https://colab.research.google.com/notebooks/data_table.ipynb>data table notebook</a>'\n",
              "            + ' to learn more about interactive tables.';\n",
              "          element.innerHTML = '';\n",
              "          dataTable['output_type'] = 'display_data';\n",
              "          await google.colab.output.renderOutput(dataTable, element);\n",
              "          const docLink = document.createElement('div');\n",
              "          docLink.innerHTML = docLinkHtml;\n",
              "          element.appendChild(docLink);\n",
              "        }\n",
              "      </script>\n",
              "    </div>\n",
              "  </div>\n",
              "  "
            ]
          },
          "metadata": {},
          "execution_count": 15
        }
      ]
    },
    {
      "cell_type": "markdown",
      "source": [
        "### **Problem #1.8**\n",
        "\n",
        "Determine all the regions that were included in this dataset."
      ],
      "metadata": {
        "id": "tWCgavI9-q_b"
      }
    },
    {
      "cell_type": "code",
      "source": [
        "happy_df['region'].unique()"
      ],
      "metadata": {
        "id": "2pNMjL4_t-Bh",
        "colab": {
          "base_uri": "https://localhost:8080/"
        },
        "outputId": "ed474296-2452-4e37-e4ce-93b5fa87b61c"
      },
      "execution_count": null,
      "outputs": [
        {
          "output_type": "execute_result",
          "data": {
            "text/plain": [
              "array(['Western Europe', 'North America', 'Australia and New Zealand',\n",
              "       'Middle East and Northern Africa', 'Latin America and Caribbean',\n",
              "       'Southeastern Asia', 'Central and Eastern Europe', 'Eastern Asia',\n",
              "       'Sub-Saharan Africa', 'Southern Asia'], dtype=object)"
            ]
          },
          "metadata": {},
          "execution_count": 16
        }
      ]
    },
    {
      "cell_type": "markdown",
      "source": [
        "### **Problem #1.9**\n",
        "\n",
        "Complete the code below to create a new feature called `Region Encoded` that encodes the regions into numerical values."
      ],
      "metadata": {
        "id": "vD3nrzSPY9D9"
      }
    },
    {
      "cell_type": "code",
      "source": [
        "region_list = happy_df['region'].unique()\n",
        "region_map = {region_list[i]: i for i in range(len(region_list))}\n",
        "\n",
        "happy_df['Region Encoded'] = happy_df['region'].map(region_map)\n",
        "\n",
        "happy_df.head()"
      ],
      "metadata": {
        "id": "mipCFd7AY9D9",
        "colab": {
          "base_uri": "https://localhost:8080/",
          "height": 392
        },
        "outputId": "9f0ec55d-e974-4c94-c3f6-5de617be4be9"
      },
      "execution_count": null,
      "outputs": [
        {
          "output_type": "execute_result",
          "data": {
            "text/plain": [
              "       Country          region  Happiness Score      GDP  Social Support  \\\n",
              "0  Switzerland  Western Europe            7.587  1.39651         1.34951   \n",
              "1      Iceland  Western Europe            7.561  1.30232         1.40223   \n",
              "2      Denmark  Western Europe            7.527  1.32548         1.36058   \n",
              "3       Norway  Western Europe            7.522  1.45900         1.33095   \n",
              "4       Canada   North America            7.427  1.32629         1.32261   \n",
              "\n",
              "   Healthy Life Expectancy  Freedom  Corruption Perception  Generosity  \\\n",
              "0                  0.94143  0.66557                0.41978     0.29678   \n",
              "1                  0.94784  0.62877                0.14145     0.43630   \n",
              "2                  0.87464  0.64938                0.48357     0.34139   \n",
              "3                  0.88521  0.66973                0.36503     0.34699   \n",
              "4                  0.90563  0.63297                0.32957     0.45811   \n",
              "\n",
              "   Region Encoded  \n",
              "0               0  \n",
              "1               0  \n",
              "2               0  \n",
              "3               0  \n",
              "4               1  "
            ],
            "text/html": [
              "\n",
              "  <div id=\"df-f96dfc11-d52f-41cf-b7f2-1a2735c622fb\">\n",
              "    <div class=\"colab-df-container\">\n",
              "      <div>\n",
              "<style scoped>\n",
              "    .dataframe tbody tr th:only-of-type {\n",
              "        vertical-align: middle;\n",
              "    }\n",
              "\n",
              "    .dataframe tbody tr th {\n",
              "        vertical-align: top;\n",
              "    }\n",
              "\n",
              "    .dataframe thead th {\n",
              "        text-align: right;\n",
              "    }\n",
              "</style>\n",
              "<table border=\"1\" class=\"dataframe\">\n",
              "  <thead>\n",
              "    <tr style=\"text-align: right;\">\n",
              "      <th></th>\n",
              "      <th>Country</th>\n",
              "      <th>region</th>\n",
              "      <th>Happiness Score</th>\n",
              "      <th>GDP</th>\n",
              "      <th>Social Support</th>\n",
              "      <th>Healthy Life Expectancy</th>\n",
              "      <th>Freedom</th>\n",
              "      <th>Corruption Perception</th>\n",
              "      <th>Generosity</th>\n",
              "      <th>Region Encoded</th>\n",
              "    </tr>\n",
              "  </thead>\n",
              "  <tbody>\n",
              "    <tr>\n",
              "      <th>0</th>\n",
              "      <td>Switzerland</td>\n",
              "      <td>Western Europe</td>\n",
              "      <td>7.587</td>\n",
              "      <td>1.39651</td>\n",
              "      <td>1.34951</td>\n",
              "      <td>0.94143</td>\n",
              "      <td>0.66557</td>\n",
              "      <td>0.41978</td>\n",
              "      <td>0.29678</td>\n",
              "      <td>0</td>\n",
              "    </tr>\n",
              "    <tr>\n",
              "      <th>1</th>\n",
              "      <td>Iceland</td>\n",
              "      <td>Western Europe</td>\n",
              "      <td>7.561</td>\n",
              "      <td>1.30232</td>\n",
              "      <td>1.40223</td>\n",
              "      <td>0.94784</td>\n",
              "      <td>0.62877</td>\n",
              "      <td>0.14145</td>\n",
              "      <td>0.43630</td>\n",
              "      <td>0</td>\n",
              "    </tr>\n",
              "    <tr>\n",
              "      <th>2</th>\n",
              "      <td>Denmark</td>\n",
              "      <td>Western Europe</td>\n",
              "      <td>7.527</td>\n",
              "      <td>1.32548</td>\n",
              "      <td>1.36058</td>\n",
              "      <td>0.87464</td>\n",
              "      <td>0.64938</td>\n",
              "      <td>0.48357</td>\n",
              "      <td>0.34139</td>\n",
              "      <td>0</td>\n",
              "    </tr>\n",
              "    <tr>\n",
              "      <th>3</th>\n",
              "      <td>Norway</td>\n",
              "      <td>Western Europe</td>\n",
              "      <td>7.522</td>\n",
              "      <td>1.45900</td>\n",
              "      <td>1.33095</td>\n",
              "      <td>0.88521</td>\n",
              "      <td>0.66973</td>\n",
              "      <td>0.36503</td>\n",
              "      <td>0.34699</td>\n",
              "      <td>0</td>\n",
              "    </tr>\n",
              "    <tr>\n",
              "      <th>4</th>\n",
              "      <td>Canada</td>\n",
              "      <td>North America</td>\n",
              "      <td>7.427</td>\n",
              "      <td>1.32629</td>\n",
              "      <td>1.32261</td>\n",
              "      <td>0.90563</td>\n",
              "      <td>0.63297</td>\n",
              "      <td>0.32957</td>\n",
              "      <td>0.45811</td>\n",
              "      <td>1</td>\n",
              "    </tr>\n",
              "  </tbody>\n",
              "</table>\n",
              "</div>\n",
              "      <button class=\"colab-df-convert\" onclick=\"convertToInteractive('df-f96dfc11-d52f-41cf-b7f2-1a2735c622fb')\"\n",
              "              title=\"Convert this dataframe to an interactive table.\"\n",
              "              style=\"display:none;\">\n",
              "        \n",
              "  <svg xmlns=\"http://www.w3.org/2000/svg\" height=\"24px\"viewBox=\"0 0 24 24\"\n",
              "       width=\"24px\">\n",
              "    <path d=\"M0 0h24v24H0V0z\" fill=\"none\"/>\n",
              "    <path d=\"M18.56 5.44l.94 2.06.94-2.06 2.06-.94-2.06-.94-.94-2.06-.94 2.06-2.06.94zm-11 1L8.5 8.5l.94-2.06 2.06-.94-2.06-.94L8.5 2.5l-.94 2.06-2.06.94zm10 10l.94 2.06.94-2.06 2.06-.94-2.06-.94-.94-2.06-.94 2.06-2.06.94z\"/><path d=\"M17.41 7.96l-1.37-1.37c-.4-.4-.92-.59-1.43-.59-.52 0-1.04.2-1.43.59L10.3 9.45l-7.72 7.72c-.78.78-.78 2.05 0 2.83L4 21.41c.39.39.9.59 1.41.59.51 0 1.02-.2 1.41-.59l7.78-7.78 2.81-2.81c.8-.78.8-2.07 0-2.86zM5.41 20L4 18.59l7.72-7.72 1.47 1.35L5.41 20z\"/>\n",
              "  </svg>\n",
              "      </button>\n",
              "      \n",
              "  <style>\n",
              "    .colab-df-container {\n",
              "      display:flex;\n",
              "      flex-wrap:wrap;\n",
              "      gap: 12px;\n",
              "    }\n",
              "\n",
              "    .colab-df-convert {\n",
              "      background-color: #E8F0FE;\n",
              "      border: none;\n",
              "      border-radius: 50%;\n",
              "      cursor: pointer;\n",
              "      display: none;\n",
              "      fill: #1967D2;\n",
              "      height: 32px;\n",
              "      padding: 0 0 0 0;\n",
              "      width: 32px;\n",
              "    }\n",
              "\n",
              "    .colab-df-convert:hover {\n",
              "      background-color: #E2EBFA;\n",
              "      box-shadow: 0px 1px 2px rgba(60, 64, 67, 0.3), 0px 1px 3px 1px rgba(60, 64, 67, 0.15);\n",
              "      fill: #174EA6;\n",
              "    }\n",
              "\n",
              "    [theme=dark] .colab-df-convert {\n",
              "      background-color: #3B4455;\n",
              "      fill: #D2E3FC;\n",
              "    }\n",
              "\n",
              "    [theme=dark] .colab-df-convert:hover {\n",
              "      background-color: #434B5C;\n",
              "      box-shadow: 0px 1px 3px 1px rgba(0, 0, 0, 0.15);\n",
              "      filter: drop-shadow(0px 1px 2px rgba(0, 0, 0, 0.3));\n",
              "      fill: #FFFFFF;\n",
              "    }\n",
              "  </style>\n",
              "\n",
              "      <script>\n",
              "        const buttonEl =\n",
              "          document.querySelector('#df-f96dfc11-d52f-41cf-b7f2-1a2735c622fb button.colab-df-convert');\n",
              "        buttonEl.style.display =\n",
              "          google.colab.kernel.accessAllowed ? 'block' : 'none';\n",
              "\n",
              "        async function convertToInteractive(key) {\n",
              "          const element = document.querySelector('#df-f96dfc11-d52f-41cf-b7f2-1a2735c622fb');\n",
              "          const dataTable =\n",
              "            await google.colab.kernel.invokeFunction('convertToInteractive',\n",
              "                                                     [key], {});\n",
              "          if (!dataTable) return;\n",
              "\n",
              "          const docLinkHtml = 'Like what you see? Visit the ' +\n",
              "            '<a target=\"_blank\" href=https://colab.research.google.com/notebooks/data_table.ipynb>data table notebook</a>'\n",
              "            + ' to learn more about interactive tables.';\n",
              "          element.innerHTML = '';\n",
              "          dataTable['output_type'] = 'display_data';\n",
              "          await google.colab.output.renderOutput(dataTable, element);\n",
              "          const docLink = document.createElement('div');\n",
              "          docLink.innerHTML = docLinkHtml;\n",
              "          element.appendChild(docLink);\n",
              "        }\n",
              "      </script>\n",
              "    </div>\n",
              "  </div>\n",
              "  "
            ]
          },
          "metadata": {},
          "execution_count": 17
        }
      ]
    },
    {
      "cell_type": "markdown",
      "source": [
        "### **Problem #1.10**\n",
        "\n",
        "Let's visualize some of the data and see if we can discover some relationships. Specifically, create bar graphs of `Happiness Score` for the countries in several different regions: `\"Middle East and Northern Africa\"`, `\"Southern Asia\"`, and `\"North America\"`.\n",
        "\n",
        "\n",
        "**NOTE:** Some of the code has already been provided for the first example to help you get started."
      ],
      "metadata": {
        "id": "Qq1bhvR6-dYm"
      }
    },
    {
      "cell_type": "markdown",
      "source": [
        "#### **Middle East and Northern Africa**"
      ],
      "metadata": {
        "id": "jrmSU9K1DTB6"
      }
    },
    {
      "cell_type": "code",
      "source": [
        "x = happy_df[happy_df[\"region\"] == 'Middle East and Northern Africa']['Country']\n",
        "y = happy_df[happy_df[\"region\"] == 'Middle East and Northern Africa']['Happiness Score']\n",
        "\n",
        "plt.bar(x,y)\n",
        "plt.title('Countries in Middle East and NOrthern Africa vs. Happiness Score')\n",
        "plt.xlabel('Countries in Middle East and Northern Africa')\n",
        "plt.ylabel('Happiness Score')\n",
        "plt.xticks(rotation = 90)\n",
        "\n",
        "plt.show()"
      ],
      "metadata": {
        "id": "qrv4G4yTaUA8",
        "colab": {
          "base_uri": "https://localhost:8080/",
          "height": 606
        },
        "outputId": "0f9bc38a-75a2-480d-db27-48c9514f2035"
      },
      "execution_count": null,
      "outputs": [
        {
          "output_type": "display_data",
          "data": {
            "text/plain": [
              "<Figure size 640x480 with 1 Axes>"
            ],
            "image/png": "[encoded data removed]"
          },
          "metadata": {}
        }
      ]
    },
    {
      "cell_type": "markdown",
      "source": [
        "#### **Southern Asia**"
      ],
      "metadata": {
        "id": "7n3OX701DXUO"
      }
    },
    {
      "cell_type": "code",
      "source": [
        "x = happy_df[happy_df[\"region\"] == 'Middle East and Northern Africa']['Country']\n",
        "y = happy_df[happy_df[\"region\"] == 'Middle East and Northern Africa']['Happiness Score']\n",
        "\n",
        "plt.bar(x,y)\n",
        "plt.title('Countries in Middle East and NOrthern Africa vs. Happiness Score')\n",
        "plt.xlabel('Countries in Middle East and Northern Africa')\n",
        "plt.ylabel('Happiness Score')\n",
        "plt.xticks(rotation = 90)\n",
        "\n",
        "plt.show()"
      ],
      "metadata": {
        "id": "oty9jw9MaXUm"
      },
      "execution_count": null,
      "outputs": []
    },
    {
      "cell_type": "markdown",
      "source": [
        "#### **North America**"
      ],
      "metadata": {
        "id": "QdV-HA4DaJGG"
      }
    },
    {
      "cell_type": "code",
      "source": [
        "x = happy_df[happy_df[\"region\"] == 'Middle East and Northern Africa']['Country']\n",
        "y = happy_df[happy_df[\"region\"] == 'Middle East and Northern Africa']['Happiness Score']\n",
        "\n",
        "plt.bar(x,y)\n",
        "plt.title('Countries in Middle East and NOrthern Africa vs. Happiness Score')\n",
        "plt.xlabel('Countries in Middle East and Northern Africa')\n",
        "plt.ylabel('Happiness Score')\n",
        "plt.xticks(rotation = 90)\n",
        "\n",
        "plt.show()"
      ],
      "metadata": {
        "id": "BMGWEHDoaX9O"
      },
      "execution_count": null,
      "outputs": []
    },
    {
      "cell_type": "markdown",
      "source": [
        "### **Problem #1.11**\n",
        "\n",
        "Now, create scatter plots of `Happiness Score` on the y-axis versus several different numerical variables on the x-axis: `Social Support`, `Freedom`, and `GDP`."
      ],
      "metadata": {
        "id": "E9EZiL7Xb1cH"
      }
    },
    {
      "cell_type": "markdown",
      "source": [
        "#### **Happiness Score vs. Social Support**"
      ],
      "metadata": {
        "id": "B8J2nKMeEA34"
      }
    },
    {
      "cell_type": "code",
      "source": [
        "plt.scatter(happy_df['Social Support'],happy_df['Happiness Score'])\n",
        "plt.title('Social Support vs and Happiness Score')\n",
        "plt.xlabel('Social Support')\n",
        "plt.ylabel('Happiness Score')\n",
        "plt.show()"
      ],
      "metadata": {
        "id": "0MwCdyWTa7aQ",
        "colab": {
          "base_uri": "https://localhost:8080/",
          "height": 472
        },
        "outputId": "d32eab91-ca75-419c-84a8-f4dd6f1771b9"
      },
      "execution_count": null,
      "outputs": [
        {
          "output_type": "display_data",
          "data": {
            "text/plain": [
              "<Figure size 640x480 with 1 Axes>"
            ],
            "image/png": "[encoded data removed]"
          },
          "metadata": {}
        }
      ]
    },
    {
      "cell_type": "markdown",
      "source": [
        "#### **Happiness Score vs. Freedom**"
      ],
      "metadata": {
        "id": "ewxAlHaobC66"
      }
    },
    {
      "cell_type": "code",
      "source": [
        "plt.scatter(happy_df['Happiness Score'],happy_df['Freedom'])\n",
        "plt.title('Happiness Score vs. Freedom')\n",
        "plt.xlabel(\"Happiness Score\")\n",
        "plt.ylabel(\"Freedom\")\n",
        "plt.show()"
      ],
      "metadata": {
        "id": "-R8EnRWFbC66",
        "colab": {
          "base_uri": "https://localhost:8080/",
          "height": 472
        },
        "outputId": "5642be96-cfb7-4cde-a166-6bdf31ebf74f"
      },
      "execution_count": null,
      "outputs": [
        {
          "output_type": "display_data",
          "data": {
            "text/plain": [
              "<Figure size 640x480 with 1 Axes>"
            ],
            "image/png": "[encoded data removed]"
          },
          "metadata": {}
        }
      ]
    },
    {
      "cell_type": "markdown",
      "source": [
        "#### **Happiness Score vs. GDP**"
      ],
      "metadata": {
        "id": "VciZBGV1bc9X"
      }
    },
    {
      "cell_type": "code",
      "source": [
        "plt.scatter(happy_df['Social Support'],happy_df['Happiness Score'])\n",
        "plt.title('Happiness Score vs. GDP')\n",
        "plt.xlabel(\"GDP\")\n",
        "plt.ylabel(\"Happiness Score\")\n",
        "plt.show()"
      ],
      "metadata": {
        "id": "4O-NXhTHbc9g",
        "colab": {
          "base_uri": "https://localhost:8080/",
          "height": 472
        },
        "outputId": "69d6b0e6-df3b-4e6f-c500-4ca6753d9b4e"
      },
      "execution_count": null,
      "outputs": [
        {
          "output_type": "display_data",
          "data": {
            "text/plain": [
              "<Figure size 640x480 with 1 Axes>"
            ],
            "image/png": "[encoded data removed]"
          },
          "metadata": {}
        }
      ]
    },
    {
      "cell_type": "markdown",
      "source": [
        "### **Reflection Questions**\n",
        "---\n",
        "1. Is there a noticeable difference in happiness scores between different regions?\n",
        "2. Does any region display a significant disparity between its country with the highest happiness score and its country with the lowest?\n",
        "3. How do variables such as `Social Support`, `GDP`, and `Freedom` influence a country's happiness score? Do any variables seem to influence a country's happiness score more than others?\n",
        "4. What are other relationships between variables that you think may be useful to visualize? What kind of data visualization graph would you use?\n",
        "5. Consider the conceptual definitions of the features provided in the dataset. Are there any features that seem ambiguous or open to interpretation? How might these conceptual definitions impact the accuracy and reliability of the models when predicting happiness levels?\n",
        "6. Reflect on the cultural and contextual factors that may influence the interpretation and relevance of the features in different countries. How might the meaning of a specific feature differ across diverse cultural and socioeconomic contexts?"
      ],
      "metadata": {
        "id": "uQr8LsOKkeU5"
      }
    },
    {
      "cell_type": "markdown",
      "metadata": {
        "id": "tR2_M-tIYyfD"
      },
      "source": [
        "<a name=\"p2\"></a>\n",
        "\n",
        "---\n",
        "## **Part 2: Predicting Happiness Score**\n",
        "---\n",
        "\n",
        "Now you will create, evaluate, and train a machine learning model to predict the happiness score of a country based on the provided numerical features. It is up to you to determine if you should be using Linear Regression or KNN here.\n",
        "\n",
        "<br>\n",
        "\n",
        "You will do this two times as follows:\n",
        "\n",
        "**Part 2.1**: Using All Numerical Features\n",
        "\n",
        "**Part 2.2**: Using the 3 Best Numerical Features"
      ]
    },
    {
      "cell_type": "markdown",
      "source": [
        "<a name=\"p21\"></a>\n",
        "\n",
        "---\n",
        "### **Part 2.1: Using All Numerical Features**\n",
        "---"
      ],
      "metadata": {
        "id": "lAnwuc5ie4jU"
      }
    },
    {
      "cell_type": "markdown",
      "source": [
        "#### **Step #1: Load in the data**\n",
        "\n",
        "This step was completed in Part 1!"
      ],
      "metadata": {
        "id": "4rq3tDncvCOd"
      }
    },
    {
      "cell_type": "markdown",
      "metadata": {
        "id": "Lf5OrHhNifXL"
      },
      "source": [
        "#### **Step #2: Decide independent and dependent variables**\n",
        "\n",
        "Complete the code below to decide the independent and dependent variables.\n",
        "\n",
        "<br>\n",
        "\n",
        "**NOTE**: The dependent variable (label) for all of Part 2 is `Happiness Score`. Using one of several pandas functions, you can determine the numerical features available and use them all as the independent variables."
      ]
    },
    {
      "cell_type": "code",
      "source": [
        "happy_df.info()\n"
      ],
      "metadata": {
        "id": "nt2s_Sh8gE2f",
        "colab": {
          "base_uri": "https://localhost:8080/"
        },
        "outputId": "98c77f13-3aeb-4ddd-abf7-d4786defc7d5"
      },
      "execution_count": null,
      "outputs": [
        {
          "output_type": "stream",
          "name": "stdout",
          "text": [
            "<class 'pandas.core.frame.DataFrame'>\n",
            "Int64Index: 156 entries, 0 to 161\n",
            "Data columns (total 10 columns):\n",
            " #   Column                   Non-Null Count  Dtype  \n",
            "---  ------                   --------------  -----  \n",
            " 0   Country                  156 non-null    object \n",
            " 1   region                   156 non-null    object \n",
            " 2   Happiness Score          156 non-null    float64\n",
            " 3   GDP                      156 non-null    float64\n",
            " 4   Social Support           156 non-null    float64\n",
            " 5   Healthy Life Expectancy  156 non-null    float64\n",
            " 6   Freedom                  156 non-null    float64\n",
            " 7   Corruption Perception    156 non-null    float64\n",
            " 8   Generosity               156 non-null    float64\n",
            " 9   Region Encoded           156 non-null    int64  \n",
            "dtypes: float64(7), int64(1), object(2)\n",
            "memory usage: 13.4+ KB\n"
          ]
        }
      ]
    },
    {
      "cell_type": "code",
      "source": [
        "x = happy_df.drop(columns =['Country','region', 'Happiness Score'],axis=1)\n",
        "y = happy_df['Happiness Score']"
      ],
      "metadata": {
        "id": "roZfBwfPgEiY"
      },
      "execution_count": null,
      "outputs": []
    },
    {
      "cell_type": "markdown",
      "metadata": {
        "id": "f2My4nq5gKNq"
      },
      "source": [
        "#### **Step #3: Split data into training and testing data**\n",
        "\n",
        "Complete the code below to split the data, using 80% for training and 20% for testing."
      ]
    },
    {
      "cell_type": "code",
      "source": [
        "X_train, X_test, y_train, y_test = train_test_split(x, y, test_size = 0.2, random_state = 42)"
      ],
      "metadata": {
        "id": "L-zVhDgvgXMD"
      },
      "execution_count": null,
      "outputs": []
    },
    {
      "cell_type": "markdown",
      "metadata": {
        "id": "CfiX_8hhg9n8"
      },
      "source": [
        "#### **Step #4: Import the algorithm**\n",
        "\n",
        "We are using `GDP`,\t`Social Support`,\t`Healthy Life Expectancy`, `Freedom`,\t`Corruption Perception`, `Generosity`, and \t`Region Encoded` to predict `Happiness Score`. Which algorithm is best suited for this goal?"
      ]
    },
    {
      "cell_type": "code",
      "source": [
        "from sklearn.linear_model import LinearRegression"
      ],
      "metadata": {
        "id": "Cd1IkHtOg-Ig"
      },
      "execution_count": null,
      "outputs": []
    },
    {
      "cell_type": "markdown",
      "metadata": {
        "id": "g2KE3jHPhKzg"
      },
      "source": [
        "#### **Step #5: Initialize the model and set hyperparameters**\n",
        "\n",
        "Specifically,\n",
        "* For Linear Regression, there are no hyperparameters to set.\n",
        "* For KNN, choose a reasonable value for `n_neighbors`. You are encouraged to try Steps #5 - 7 for several values and picking the model with the highest performance."
      ]
    },
    {
      "cell_type": "code",
      "source": [
        "model_1 = model_1 = LinearRegression()"
      ],
      "metadata": {
        "id": "elnmJ3iBhTKR"
      },
      "execution_count": null,
      "outputs": []
    },
    {
      "cell_type": "markdown",
      "metadata": {
        "id": "0Xb5J75whk-Z"
      },
      "source": [
        "#### **Step #6: Fit your model and make a prediction.**\n",
        "\n",
        "Create a visualization if applicable.\n",
        "\n",
        "Specifically,\n",
        "\n",
        "1. Fit the model to the training data and make predictions on the test data.\n",
        "2. Visualize the results."
      ]
    },
    {
      "cell_type": "markdown",
      "source": [
        "##### **1. Fit the model to the training data.**"
      ],
      "metadata": {
        "id": "zEVQG9nT1P_c"
      }
    },
    {
      "cell_type": "code",
      "source": [
        "model_1.fit(X_train, y_train)\n",
        "predictions = model_1.predict(X_test)\n"
      ],
      "metadata": {
        "id": "c4SWvBhkiJzD"
      },
      "execution_count": null,
      "outputs": []
    },
    {
      "cell_type": "markdown",
      "source": [
        "##### **2. Visualize the results.**\n",
        "\n",
        "The code is provided for both linear regression and KNN, but it is up to you to decide which one makes the most sense here."
      ],
      "metadata": {
        "id": "j6ELbxOz1dEJ"
      }
    },
    {
      "cell_type": "markdown",
      "source": [
        "###### **Linear Regression Visualization**"
      ],
      "metadata": {
        "id": "l4LgQGvH1vwz"
      }
    },
    {
      "cell_type": "code",
      "source": [
        "# Visualize comparison of predictions vs. actual values\n",
        "plt.scatter(y_test, predictions)\n",
        "plt.plot([y_test.min(), y_test.max()], [y_test.min(), y_test.max()], color = 'black', label='Correct Predictions')\n",
        "\n",
        "\n",
        "plt.xlabel('True Value')\n",
        "plt.ylabel('Predicted Value')\n",
        "plt.title('Real vs Value')\n",
        "plt.legend()\n",
        "\n",
        "plt.show()"
      ],
      "metadata": {
        "id": "1hJPYG6E1dEK",
        "colab": {
          "base_uri": "https://localhost:8080/",
          "height": 472
        },
        "outputId": "35a1abd6-dbb9-4de6-a9b8-98f6792acc56"
      },
      "execution_count": null,
      "outputs": [
        {
          "output_type": "display_data",
          "data": {
            "text/plain": [
              "<Figure size 640x480 with 1 Axes>"
            ],
            "image/png": "[encoded data removed]"
          },
          "metadata": {}
        }
      ]
    },
    {
      "cell_type": "markdown",
      "source": [
        "###### **KNN Visualization**"
      ],
      "metadata": {
        "id": "5sqApk_B1zFd"
      }
    },
    {
      "cell_type": "code",
      "source": [
        "feature_1_name = 'GDP'\n",
        "feature_2_name = 'Healthy Life Expectancy'\n",
        "\n",
        "\n",
        "# Make the same scatter plot of the training data\n",
        "fig, ax = plt.subplots(figsize=(10,6))\n",
        "\n",
        "xx, yy = np.meshgrid(np.arange(happy_df[feature_1_name].min() - 0.1, happy_df[feature_1_name].max() + 0.1, 0.01),\n",
        "                     np.arange(happy_df[feature_2_name].min() - 0.1, happy_df[feature_2_name].max() + 0.1, 0.01))\n",
        "\n",
        "means = x.mean()\n",
        "inputs = [[means[0], x, means[2], y, means[4], means[5], means[6]] for (x, y) in np.c_[xx.ravel(), yy.ravel()]]\n",
        "z = model_1.predict(inputs)\n",
        "z = z.reshape(xx.shape)\n",
        "\n",
        "ax.pcolormesh(xx, yy, z, alpha=0.1)\n",
        "\n",
        "for label, data in happy_df.groupby('Happiness Score'):\n",
        "  ax.scatter(data[feature_1_name], data[feature_2_name], label=label)\n",
        "\n",
        "ax.set_title(\"Decision Boundary of the KNN Classifier\")\n",
        "ax.set_xlabel(feature_1_name)\n",
        "ax.set_ylabel(feature_2_name)\n",
        "ax.legend()\n",
        "plt.show()"
      ],
      "metadata": {
        "id": "3GzlDuEA12Ip",
        "colab": {
          "base_uri": "https://localhost:8080/",
          "height": 1000
        },
        "outputId": "b7974a77-dd36-448e-ce90-4797e24820d7"
      },
      "execution_count": null,
      "outputs": [
        {
          "output_type": "display_data",
          "data": {
            "text/plain": [
              "<Figure size 1000x600 with 1 Axes>"
            ],
            "image/png": "[encoded data removed]"
          },
          "metadata": {}
        }
      ]
    },
    {
      "cell_type": "markdown",
      "metadata": {
        "id": "nuqWq13eibD-"
      },
      "source": [
        "#### **Step #7: Evaluate the model's performance**\n",
        "\n",
        "To complete this step, you will need to recall or find out what evaluation metrics we typically use for whichever type of model you have trained.\n",
        "\n",
        "<br>\n",
        "\n",
        "If you used KNN, you should try several values for Steps #5 - 7 and pick the model that performs highest according to these metrics."
      ]
    },
    {
      "cell_type": "code",
      "source": [
        "\n",
        "print(\"R2: \" + str(r2_score(y_test, predictions)))\n",
        "print(\"MSE: \" + str(mean_squared_error(y_test, predictions)))\n",
        "print(\"MAE: \" + str(mean_absolute_error(y_test, predictions)))"
      ],
      "metadata": {
        "id": "Ezue7YozibD_",
        "colab": {
          "base_uri": "https://localhost:8080/"
        },
        "outputId": "17094cb3-3878-413b-b1e0-36c65edb9d8e"
      },
      "execution_count": null,
      "outputs": [
        {
          "output_type": "stream",
          "name": "stdout",
          "text": [
            "R2: 0.6725966134860057\n",
            "MSE: 0.3646316886171512\n",
            "MAE: 0.4652770191515724\n"
          ]
        }
      ]
    },
    {
      "cell_type": "markdown",
      "metadata": {
        "id": "LT_lgbfTjJlO"
      },
      "source": [
        "#### **Step #8: Use the model**\n",
        "\n",
        "Specifically,\n",
        "\n",
        "1. Predict the happiness score of three countries that reported provided results for their numerical measures.\n",
        "\n",
        "2. Visualize the modeled relationship between `Happinesss Score` and `Social Support` to see if a qualitative relationship can be inferred.\n",
        "\n",
        "3. *If you used linear regression*, look at the coefficients and intercept to determine the modeled relationships quantitatively."
      ]
    },
    {
      "cell_type": "markdown",
      "source": [
        "##### **1. Predict the happiness score of these countries that reported the following results for their numerical measures:**\n",
        "\n",
        "**Country 1**\n",
        "\n",
        "* `GDP`: 0.9\n",
        "* `Social Support`: 0.4\n",
        "* `Healthy Life Expectancy`: 0.8\n",
        "* `Freedom`: 0.4\n",
        "* `Corruption Perception`: 0.2\n",
        "* `Generosity`: 0.09\n",
        "* `Region Encoded`: 0\n",
        "\n",
        "<br>\n",
        "\n",
        "**Country 2**\n",
        "\n",
        "* `GDP`: 0.9\n",
        "* `Social Support`: 0.4\n",
        "* `Healthy Life Expectancy`: 0.8\n",
        "* `Freedom`: 0.4\n",
        "* `Corruption Perception`: 0.2\n",
        "* `Generosity`: 0.09\n",
        "* `Region Encoded`: 9\n",
        "\n",
        "<br>\n",
        "\n",
        "**Country 3**\n",
        "\n",
        "* `GDP`: 1.1\n",
        "* `Social Support`: 0.9\n",
        "* `Healthy Life Expectancy`: 1.01\n",
        "* `Freedom`: 0.9\n",
        "* `Corruption Perception`: 0.1\n",
        "* `Generosity`: 0.9\n",
        "* `Region Encoded`: 4"
      ],
      "metadata": {
        "id": "APzOK_U9NcDn"
      }
    },
    {
      "cell_type": "code",
      "source": [
        "# COUNTRY 1\n",
        "new_country = pd.DataFrame([[0.9, 0.4, 0.8, 0.4, 0.2, 0.09, 0]], columns = X_test.columns)\n",
        "\n",
        "print(model_1.predict(new_country))\n"
      ],
      "metadata": {
        "id": "ZOwDEPfUjrtj",
        "colab": {
          "base_uri": "https://localhost:8080/"
        },
        "outputId": "be86646e-2e8b-4a02-c359-0789671187dc"
      },
      "execution_count": null,
      "outputs": [
        {
          "output_type": "stream",
          "name": "stdout",
          "text": [
            "[4.82783728]\n"
          ]
        }
      ]
    },
    {
      "cell_type": "code",
      "source": [
        "new_country = pd.DataFrame([[0.9, 0.4, 0.8, 0.4, 0.2, 0.09, 9]], columns = X_test.columns)\n",
        "\n",
        "print(model_1.predict(new_country))"
      ],
      "metadata": {
        "id": "m6FTxs0dmKo5",
        "colab": {
          "base_uri": "https://localhost:8080/"
        },
        "outputId": "cb6fb026-924a-4631-f749-2ca54aaba5c7"
      },
      "execution_count": null,
      "outputs": [
        {
          "output_type": "stream",
          "name": "stdout",
          "text": [
            "[4.26447233]\n"
          ]
        }
      ]
    },
    {
      "cell_type": "code",
      "source": [
        "# COUNTRY 3\n",
        "new_country = pd.DataFrame([[1.1, 0.9, 1.01, 0.9, 0.1, 0.9, 4]], columns = X_test.columns)\n",
        "\n",
        "print(model_1.predict(new_country))"
      ],
      "metadata": {
        "id": "6CXK6HSEmMut",
        "colab": {
          "base_uri": "https://localhost:8080/"
        },
        "outputId": "475fba80-677d-4b54-de06-4cd98b29b85e"
      },
      "execution_count": null,
      "outputs": [
        {
          "output_type": "stream",
          "name": "stdout",
          "text": [
            "[6.52831249]\n"
          ]
        }
      ]
    },
    {
      "cell_type": "markdown",
      "source": [
        "##### **2. Visualize the modeled relationship between `Happinesss Score` and `Social Support` to see if a qualitative relationship can be inferred.**"
      ],
      "metadata": {
        "id": "oHo9E1DaNcMp"
      }
    },
    {
      "cell_type": "code",
      "source": [],
      "metadata": {
        "id": "wCcjKeGGmz5v"
      },
      "execution_count": null,
      "outputs": []
    },
    {
      "cell_type": "markdown",
      "source": [
        "##### **3. *If you used linear regression*, complete the cells below to look at the coefficients and intercept to determine the modeled relationships quantitatively.**"
      ],
      "metadata": {
        "id": "YG6QrVIrNcSr"
      }
    },
    {
      "cell_type": "code",
      "source": [
        "coefficients = model_1.coef_\n",
        "intercept = model_1.intercept_\n",
        "\n",
        "coefficients = pd.DataFrame([coefficients], columns = X_test.columns)\n",
        "intercept = pd.DataFrame([intercept], columns = [\"Happiness Score\"])"
      ],
      "metadata": {
        "id": "1AI68Jupn6UR"
      },
      "execution_count": null,
      "outputs": []
    },
    {
      "cell_type": "code",
      "source": [
        "print(\"Coefficients:\")\n",
        "coefficients.head()"
      ],
      "metadata": {
        "id": "A4TnZL6fn6US",
        "colab": {
          "base_uri": "https://localhost:8080/",
          "height": 160
        },
        "outputId": "0a0fb07f-1858-48a6-e084-9d1d38feb415"
      },
      "execution_count": null,
      "outputs": [
        {
          "output_type": "stream",
          "name": "stdout",
          "text": [
            "Coefficients:\n"
          ]
        },
        {
          "output_type": "execute_result",
          "data": {
            "text/plain": [
              "        GDP  Social Support  Healthy Life Expectancy   Freedom  \\\n",
              "0  0.833614        1.524989                 0.442303  1.387252   \n",
              "\n",
              "   Corruption Perception  Generosity  Region Encoded  \n",
              "0                0.64792    0.370277       -0.062596  "
            ],
            "text/html": [
              "\n",
              "  <div id=\"df-da2b959a-cfc6-4653-ae2b-3fec6aeb1878\">\n",
              "    <div class=\"colab-df-container\">\n",
              "      <div>\n",
              "<style scoped>\n",
              "    .dataframe tbody tr th:only-of-type {\n",
              "        vertical-align: middle;\n",
              "    }\n",
              "\n",
              "    .dataframe tbody tr th {\n",
              "        vertical-align: top;\n",
              "    }\n",
              "\n",
              "    .dataframe thead th {\n",
              "        text-align: right;\n",
              "    }\n",
              "</style>\n",
              "<table border=\"1\" class=\"dataframe\">\n",
              "  <thead>\n",
              "    <tr style=\"text-align: right;\">\n",
              "      <th></th>\n",
              "      <th>GDP</th>\n",
              "      <th>Social Support</th>\n",
              "      <th>Healthy Life Expectancy</th>\n",
              "      <th>Freedom</th>\n",
              "      <th>Corruption Perception</th>\n",
              "      <th>Generosity</th>\n",
              "      <th>Region Encoded</th>\n",
              "    </tr>\n",
              "  </thead>\n",
              "  <tbody>\n",
              "    <tr>\n",
              "      <th>0</th>\n",
              "      <td>0.833614</td>\n",
              "      <td>1.524989</td>\n",
              "      <td>0.442303</td>\n",
              "      <td>1.387252</td>\n",
              "      <td>0.64792</td>\n",
              "      <td>0.370277</td>\n",
              "      <td>-0.062596</td>\n",
              "    </tr>\n",
              "  </tbody>\n",
              "</table>\n",
              "</div>\n",
              "      <button class=\"colab-df-convert\" onclick=\"convertToInteractive('df-da2b959a-cfc6-4653-ae2b-3fec6aeb1878')\"\n",
              "              title=\"Convert this dataframe to an interactive table.\"\n",
              "              style=\"display:none;\">\n",
              "        \n",
              "  <svg xmlns=\"http://www.w3.org/2000/svg\" height=\"24px\"viewBox=\"0 0 24 24\"\n",
              "       width=\"24px\">\n",
              "    <path d=\"M0 0h24v24H0V0z\" fill=\"none\"/>\n",
              "    <path d=\"M18.56 5.44l.94 2.06.94-2.06 2.06-.94-2.06-.94-.94-2.06-.94 2.06-2.06.94zm-11 1L8.5 8.5l.94-2.06 2.06-.94-2.06-.94L8.5 2.5l-.94 2.06-2.06.94zm10 10l.94 2.06.94-2.06 2.06-.94-2.06-.94-.94-2.06-.94 2.06-2.06.94z\"/><path d=\"M17.41 7.96l-1.37-1.37c-.4-.4-.92-.59-1.43-.59-.52 0-1.04.2-1.43.59L10.3 9.45l-7.72 7.72c-.78.78-.78 2.05 0 2.83L4 21.41c.39.39.9.59 1.41.59.51 0 1.02-.2 1.41-.59l7.78-7.78 2.81-2.81c.8-.78.8-2.07 0-2.86zM5.41 20L4 18.59l7.72-7.72 1.47 1.35L5.41 20z\"/>\n",
              "  </svg>\n",
              "      </button>\n",
              "      \n",
              "  <style>\n",
              "    .colab-df-container {\n",
              "      display:flex;\n",
              "      flex-wrap:wrap;\n",
              "      gap: 12px;\n",
              "    }\n",
              "\n",
              "    .colab-df-convert {\n",
              "      background-color: #E8F0FE;\n",
              "      border: none;\n",
              "      border-radius: 50%;\n",
              "      cursor: pointer;\n",
              "      display: none;\n",
              "      fill: #1967D2;\n",
              "      height: 32px;\n",
              "      padding: 0 0 0 0;\n",
              "      width: 32px;\n",
              "    }\n",
              "\n",
              "    .colab-df-convert:hover {\n",
              "      background-color: #E2EBFA;\n",
              "      box-shadow: 0px 1px 2px rgba(60, 64, 67, 0.3), 0px 1px 3px 1px rgba(60, 64, 67, 0.15);\n",
              "      fill: #174EA6;\n",
              "    }\n",
              "\n",
              "    [theme=dark] .colab-df-convert {\n",
              "      background-color: #3B4455;\n",
              "      fill: #D2E3FC;\n",
              "    }\n",
              "\n",
              "    [theme=dark] .colab-df-convert:hover {\n",
              "      background-color: #434B5C;\n",
              "      box-shadow: 0px 1px 3px 1px rgba(0, 0, 0, 0.15);\n",
              "      filter: drop-shadow(0px 1px 2px rgba(0, 0, 0, 0.3));\n",
              "      fill: #FFFFFF;\n",
              "    }\n",
              "  </style>\n",
              "\n",
              "      <script>\n",
              "        const buttonEl =\n",
              "          document.querySelector('#df-da2b959a-cfc6-4653-ae2b-3fec6aeb1878 button.colab-df-convert');\n",
              "        buttonEl.style.display =\n",
              "          google.colab.kernel.accessAllowed ? 'block' : 'none';\n",
              "\n",
              "        async function convertToInteractive(key) {\n",
              "          const element = document.querySelector('#df-da2b959a-cfc6-4653-ae2b-3fec6aeb1878');\n",
              "          const dataTable =\n",
              "            await google.colab.kernel.invokeFunction('convertToInteractive',\n",
              "                                                     [key], {});\n",
              "          if (!dataTable) return;\n",
              "\n",
              "          const docLinkHtml = 'Like what you see? Visit the ' +\n",
              "            '<a target=\"_blank\" href=https://colab.research.google.com/notebooks/data_table.ipynb>data table notebook</a>'\n",
              "            + ' to learn more about interactive tables.';\n",
              "          element.innerHTML = '';\n",
              "          dataTable['output_type'] = 'display_data';\n",
              "          await google.colab.output.renderOutput(dataTable, element);\n",
              "          const docLink = document.createElement('div');\n",
              "          docLink.innerHTML = docLinkHtml;\n",
              "          element.appendChild(docLink);\n",
              "        }\n",
              "      </script>\n",
              "    </div>\n",
              "  </div>\n",
              "  "
            ]
          },
          "metadata": {},
          "execution_count": 39
        }
      ]
    },
    {
      "cell_type": "code",
      "source": [
        "print(\"\\nIntercept:\")\n",
        "intercept.head()"
      ],
      "metadata": {
        "id": "9MxeCWwsn6US",
        "colab": {
          "base_uri": "https://localhost:8080/",
          "height": 116
        },
        "outputId": "9b74b29f-b112-4595-a1f3-ded3097fa070"
      },
      "execution_count": null,
      "outputs": [
        {
          "output_type": "stream",
          "name": "stdout",
          "text": [
            "\n",
            "Intercept:\n"
          ]
        },
        {
          "output_type": "execute_result",
          "data": {
            "text/plain": [
              "   Happiness Score\n",
              "0         2.395936"
            ],
            "text/html": [
              "\n",
              "  <div id=\"df-ed9b1d27-92a2-404a-b6d6-488c7f41c680\">\n",
              "    <div class=\"colab-df-container\">\n",
              "      <div>\n",
              "<style scoped>\n",
              "    .dataframe tbody tr th:only-of-type {\n",
              "        vertical-align: middle;\n",
              "    }\n",
              "\n",
              "    .dataframe tbody tr th {\n",
              "        vertical-align: top;\n",
              "    }\n",
              "\n",
              "    .dataframe thead th {\n",
              "        text-align: right;\n",
              "    }\n",
              "</style>\n",
              "<table border=\"1\" class=\"dataframe\">\n",
              "  <thead>\n",
              "    <tr style=\"text-align: right;\">\n",
              "      <th></th>\n",
              "      <th>Happiness Score</th>\n",
              "    </tr>\n",
              "  </thead>\n",
              "  <tbody>\n",
              "    <tr>\n",
              "      <th>0</th>\n",
              "      <td>2.395936</td>\n",
              "    </tr>\n",
              "  </tbody>\n",
              "</table>\n",
              "</div>\n",
              "      <button class=\"colab-df-convert\" onclick=\"convertToInteractive('df-ed9b1d27-92a2-404a-b6d6-488c7f41c680')\"\n",
              "              title=\"Convert this dataframe to an interactive table.\"\n",
              "              style=\"display:none;\">\n",
              "        \n",
              "  <svg xmlns=\"http://www.w3.org/2000/svg\" height=\"24px\"viewBox=\"0 0 24 24\"\n",
              "       width=\"24px\">\n",
              "    <path d=\"M0 0h24v24H0V0z\" fill=\"none\"/>\n",
              "    <path d=\"M18.56 5.44l.94 2.06.94-2.06 2.06-.94-2.06-.94-.94-2.06-.94 2.06-2.06.94zm-11 1L8.5 8.5l.94-2.06 2.06-.94-2.06-.94L8.5 2.5l-.94 2.06-2.06.94zm10 10l.94 2.06.94-2.06 2.06-.94-2.06-.94-.94-2.06-.94 2.06-2.06.94z\"/><path d=\"M17.41 7.96l-1.37-1.37c-.4-.4-.92-.59-1.43-.59-.52 0-1.04.2-1.43.59L10.3 9.45l-7.72 7.72c-.78.78-.78 2.05 0 2.83L4 21.41c.39.39.9.59 1.41.59.51 0 1.02-.2 1.41-.59l7.78-7.78 2.81-2.81c.8-.78.8-2.07 0-2.86zM5.41 20L4 18.59l7.72-7.72 1.47 1.35L5.41 20z\"/>\n",
              "  </svg>\n",
              "      </button>\n",
              "      \n",
              "  <style>\n",
              "    .colab-df-container {\n",
              "      display:flex;\n",
              "      flex-wrap:wrap;\n",
              "      gap: 12px;\n",
              "    }\n",
              "\n",
              "    .colab-df-convert {\n",
              "      background-color: #E8F0FE;\n",
              "      border: none;\n",
              "      border-radius: 50%;\n",
              "      cursor: pointer;\n",
              "      display: none;\n",
              "      fill: #1967D2;\n",
              "      height: 32px;\n",
              "      padding: 0 0 0 0;\n",
              "      width: 32px;\n",
              "    }\n",
              "\n",
              "    .colab-df-convert:hover {\n",
              "      background-color: #E2EBFA;\n",
              "      box-shadow: 0px 1px 2px rgba(60, 64, 67, 0.3), 0px 1px 3px 1px rgba(60, 64, 67, 0.15);\n",
              "      fill: #174EA6;\n",
              "    }\n",
              "\n",
              "    [theme=dark] .colab-df-convert {\n",
              "      background-color: #3B4455;\n",
              "      fill: #D2E3FC;\n",
              "    }\n",
              "\n",
              "    [theme=dark] .colab-df-convert:hover {\n",
              "      background-color: #434B5C;\n",
              "      box-shadow: 0px 1px 3px 1px rgba(0, 0, 0, 0.15);\n",
              "      filter: drop-shadow(0px 1px 2px rgba(0, 0, 0, 0.3));\n",
              "      fill: #FFFFFF;\n",
              "    }\n",
              "  </style>\n",
              "\n",
              "      <script>\n",
              "        const buttonEl =\n",
              "          document.querySelector('#df-ed9b1d27-92a2-404a-b6d6-488c7f41c680 button.colab-df-convert');\n",
              "        buttonEl.style.display =\n",
              "          google.colab.kernel.accessAllowed ? 'block' : 'none';\n",
              "\n",
              "        async function convertToInteractive(key) {\n",
              "          const element = document.querySelector('#df-ed9b1d27-92a2-404a-b6d6-488c7f41c680');\n",
              "          const dataTable =\n",
              "            await google.colab.kernel.invokeFunction('convertToInteractive',\n",
              "                                                     [key], {});\n",
              "          if (!dataTable) return;\n",
              "\n",
              "          const docLinkHtml = 'Like what you see? Visit the ' +\n",
              "            '<a target=\"_blank\" href=https://colab.research.google.com/notebooks/data_table.ipynb>data table notebook</a>'\n",
              "            + ' to learn more about interactive tables.';\n",
              "          element.innerHTML = '';\n",
              "          dataTable['output_type'] = 'display_data';\n",
              "          await google.colab.output.renderOutput(dataTable, element);\n",
              "          const docLink = document.createElement('div');\n",
              "          docLink.innerHTML = docLinkHtml;\n",
              "          element.appendChild(docLink);\n",
              "        }\n",
              "      </script>\n",
              "    </div>\n",
              "  </div>\n",
              "  "
            ]
          },
          "metadata": {},
          "execution_count": 40
        }
      ]
    },
    {
      "cell_type": "code",
      "source": [],
      "metadata": {
        "id": "rI1UusGEn20C"
      },
      "execution_count": null,
      "outputs": []
    },
    {
      "cell_type": "markdown",
      "source": [
        "#### **Reflection Questions**\n",
        "\n",
        "1. Which machine learning algorithm was best suited for this section? Why?\n",
        "2. Consider the strengths and limitations of the KNN model for predicting happiness levels in different countries. How does it handle categorical versus numerical features in the dataset?\n",
        "3. Reflect on the ethical considerations and potential biases associated with using machine learning models to predict happiness levels. How might the choice between KNN and linear regression impact these considerations?\n"
      ],
      "metadata": {
        "id": "KYwIQjBzyFoo"
      }
    },
    {
      "cell_type": "markdown",
      "source": [
        "<a name=\"p22\"></a>\n",
        "\n",
        "---\n",
        "### **Part 2.2: Using the 3 Best Numerical Features**\n",
        "---\n",
        "It's important to note that not all features in a dataset necessarily contribute positively to a machine learning model when predicting happiness levels. Some features may be irrelevant, noisy, or even introduce biases into the model. Therefore, careful feature selection or feature engineering is essential to ensure the model focuses on the most meaningful and influential factors.\n"
      ],
      "metadata": {
        "id": "qIY_pTi6oI4r"
      }
    },
    {
      "cell_type": "markdown",
      "source": [
        "#### **Step #1:** Load in the data\n",
        "\n",
        "This step was completed in Part 1!"
      ],
      "metadata": {
        "id": "gSQ1tIbv7xOG"
      }
    },
    {
      "cell_type": "markdown",
      "metadata": {
        "id": "xAwf4Xu5oI4s"
      },
      "source": [
        "#### **Step #2: Decide independent and dependent variables**\n",
        "\n",
        "Determining the appropriate number of features to choose for a KNN (K-Nearest Neighbors) model depends on several factors, including the size of your dataset, the dimensionality of the feature space, and the complexity of the problem you are trying to solve. Remember that feature selection is not a one-time decision, and it may require an iterative process of experimentation and evaluation. Let's begin by reducing our feature space to only include 3 features. Redo Step #2 using `SelectKBest(...)` on the `x` and `y` data from Part 2.1 to select the top 3 features.\n",
        "\n",
        "<br>\n",
        "\n",
        "**NOTE**: `y` will be the same in all of Part 2."
      ]
    },
    {
      "cell_type": "code",
      "source": [
        "# Select 3 best features\n",
        "feature_selector = SelectKBest(k = 3)\n",
        "feature_selector.fit_transform(x, y)\n",
        "\n",
        "best_features = happy_df[feature_selector.get_feature_names_out()]\n",
        "\n",
        "# Look at resulting DataFrame\n",
        "best_features.head()"
      ],
      "metadata": {
        "id": "90E2UMEmoI4s",
        "colab": {
          "base_uri": "https://localhost:8080/",
          "height": 206
        },
        "outputId": "aa8f50d6-567c-40bc-8805-943be42f96b2"
      },
      "execution_count": null,
      "outputs": [
        {
          "output_type": "execute_result",
          "data": {
            "text/plain": [
              "       GDP  Healthy Life Expectancy  Corruption Perception\n",
              "0  1.39651                  0.94143                0.41978\n",
              "1  1.30232                  0.94784                0.14145\n",
              "2  1.32548                  0.87464                0.48357\n",
              "3  1.45900                  0.88521                0.36503\n",
              "4  1.32629                  0.90563                0.32957"
            ],
            "text/html": [
              "\n",
              "  <div id=\"df-d2a2734c-3e77-4492-97bc-c7086f769cff\">\n",
              "    <div class=\"colab-df-container\">\n",
              "      <div>\n",
              "<style scoped>\n",
              "    .dataframe tbody tr th:only-of-type {\n",
              "        vertical-align: middle;\n",
              "    }\n",
              "\n",
              "    .dataframe tbody tr th {\n",
              "        vertical-align: top;\n",
              "    }\n",
              "\n",
              "    .dataframe thead th {\n",
              "        text-align: right;\n",
              "    }\n",
              "</style>\n",
              "<table border=\"1\" class=\"dataframe\">\n",
              "  <thead>\n",
              "    <tr style=\"text-align: right;\">\n",
              "      <th></th>\n",
              "      <th>GDP</th>\n",
              "      <th>Healthy Life Expectancy</th>\n",
              "      <th>Corruption Perception</th>\n",
              "    </tr>\n",
              "  </thead>\n",
              "  <tbody>\n",
              "    <tr>\n",
              "      <th>0</th>\n",
              "      <td>1.39651</td>\n",
              "      <td>0.94143</td>\n",
              "      <td>0.41978</td>\n",
              "    </tr>\n",
              "    <tr>\n",
              "      <th>1</th>\n",
              "      <td>1.30232</td>\n",
              "      <td>0.94784</td>\n",
              "      <td>0.14145</td>\n",
              "    </tr>\n",
              "    <tr>\n",
              "      <th>2</th>\n",
              "      <td>1.32548</td>\n",
              "      <td>0.87464</td>\n",
              "      <td>0.48357</td>\n",
              "    </tr>\n",
              "    <tr>\n",
              "      <th>3</th>\n",
              "      <td>1.45900</td>\n",
              "      <td>0.88521</td>\n",
              "      <td>0.36503</td>\n",
              "    </tr>\n",
              "    <tr>\n",
              "      <th>4</th>\n",
              "      <td>1.32629</td>\n",
              "      <td>0.90563</td>\n",
              "      <td>0.32957</td>\n",
              "    </tr>\n",
              "  </tbody>\n",
              "</table>\n",
              "</div>\n",
              "      <button class=\"colab-df-convert\" onclick=\"convertToInteractive('df-d2a2734c-3e77-4492-97bc-c7086f769cff')\"\n",
              "              title=\"Convert this dataframe to an interactive table.\"\n",
              "              style=\"display:none;\">\n",
              "        \n",
              "  <svg xmlns=\"http://www.w3.org/2000/svg\" height=\"24px\"viewBox=\"0 0 24 24\"\n",
              "       width=\"24px\">\n",
              "    <path d=\"M0 0h24v24H0V0z\" fill=\"none\"/>\n",
              "    <path d=\"M18.56 5.44l.94 2.06.94-2.06 2.06-.94-2.06-.94-.94-2.06-.94 2.06-2.06.94zm-11 1L8.5 8.5l.94-2.06 2.06-.94-2.06-.94L8.5 2.5l-.94 2.06-2.06.94zm10 10l.94 2.06.94-2.06 2.06-.94-2.06-.94-.94-2.06-.94 2.06-2.06.94z\"/><path d=\"M17.41 7.96l-1.37-1.37c-.4-.4-.92-.59-1.43-.59-.52 0-1.04.2-1.43.59L10.3 9.45l-7.72 7.72c-.78.78-.78 2.05 0 2.83L4 21.41c.39.39.9.59 1.41.59.51 0 1.02-.2 1.41-.59l7.78-7.78 2.81-2.81c.8-.78.8-2.07 0-2.86zM5.41 20L4 18.59l7.72-7.72 1.47 1.35L5.41 20z\"/>\n",
              "  </svg>\n",
              "      </button>\n",
              "      \n",
              "  <style>\n",
              "    .colab-df-container {\n",
              "      display:flex;\n",
              "      flex-wrap:wrap;\n",
              "      gap: 12px;\n",
              "    }\n",
              "\n",
              "    .colab-df-convert {\n",
              "      background-color: #E8F0FE;\n",
              "      border: none;\n",
              "      border-radius: 50%;\n",
              "      cursor: pointer;\n",
              "      display: none;\n",
              "      fill: #1967D2;\n",
              "      height: 32px;\n",
              "      padding: 0 0 0 0;\n",
              "      width: 32px;\n",
              "    }\n",
              "\n",
              "    .colab-df-convert:hover {\n",
              "      background-color: #E2EBFA;\n",
              "      box-shadow: 0px 1px 2px rgba(60, 64, 67, 0.3), 0px 1px 3px 1px rgba(60, 64, 67, 0.15);\n",
              "      fill: #174EA6;\n",
              "    }\n",
              "\n",
              "    [theme=dark] .colab-df-convert {\n",
              "      background-color: #3B4455;\n",
              "      fill: #D2E3FC;\n",
              "    }\n",
              "\n",
              "    [theme=dark] .colab-df-convert:hover {\n",
              "      background-color: #434B5C;\n",
              "      box-shadow: 0px 1px 3px 1px rgba(0, 0, 0, 0.15);\n",
              "      filter: drop-shadow(0px 1px 2px rgba(0, 0, 0, 0.3));\n",
              "      fill: #FFFFFF;\n",
              "    }\n",
              "  </style>\n",
              "\n",
              "      <script>\n",
              "        const buttonEl =\n",
              "          document.querySelector('#df-d2a2734c-3e77-4492-97bc-c7086f769cff button.colab-df-convert');\n",
              "        buttonEl.style.display =\n",
              "          google.colab.kernel.accessAllowed ? 'block' : 'none';\n",
              "\n",
              "        async function convertToInteractive(key) {\n",
              "          const element = document.querySelector('#df-d2a2734c-3e77-4492-97bc-c7086f769cff');\n",
              "          const dataTable =\n",
              "            await google.colab.kernel.invokeFunction('convertToInteractive',\n",
              "                                                     [key], {});\n",
              "          if (!dataTable) return;\n",
              "\n",
              "          const docLinkHtml = 'Like what you see? Visit the ' +\n",
              "            '<a target=\"_blank\" href=https://colab.research.google.com/notebooks/data_table.ipynb>data table notebook</a>'\n",
              "            + ' to learn more about interactive tables.';\n",
              "          element.innerHTML = '';\n",
              "          dataTable['output_type'] = 'display_data';\n",
              "          await google.colab.output.renderOutput(dataTable, element);\n",
              "          const docLink = document.createElement('div');\n",
              "          docLink.innerHTML = docLinkHtml;\n",
              "          element.appendChild(docLink);\n",
              "        }\n",
              "      </script>\n",
              "    </div>\n",
              "  </div>\n",
              "  "
            ]
          },
          "metadata": {},
          "execution_count": 42
        }
      ]
    },
    {
      "cell_type": "markdown",
      "metadata": {
        "id": "5Byu8rM-oI4t"
      },
      "source": [
        "#### **Step #3: Split data into training and testing data**\n",
        "\n",
        "Complete the code below to split the data, using 80% for training and 20% for testing."
      ]
    },
    {
      "cell_type": "code",
      "source": [
        "X_train, X_test, y_train, y_test = train_test_split(best_features, y, test_size = 0.2, random_state = 42) # COMPLETE THIS LINE"
      ],
      "metadata": {
        "id": "EsVqPp2GoI4t"
      },
      "execution_count": null,
      "outputs": []
    },
    {
      "cell_type": "markdown",
      "metadata": {
        "id": "eYgfv8YnoI4t"
      },
      "source": [
        "#### **Step #4: Import the algorithm**"
      ]
    },
    {
      "cell_type": "code",
      "source": [
        "from sklearn.linear_model import LinearRegression"
      ],
      "metadata": {
        "id": "TeJL0JwfoI4t"
      },
      "execution_count": null,
      "outputs": []
    },
    {
      "cell_type": "markdown",
      "metadata": {
        "id": "q52eDLqFSBhY"
      },
      "source": [
        "#### **Step #5: Initialize the model and set hyperparameters**\n",
        "\n",
        "Specifically,\n",
        "* For Linear Regression, there are no hyperparameters to set.\n",
        "* For KNN, choose a reasonable value for `n_neighbors`. You are encouraged to try Steps #5 - 7 for several values and picking the model with the highest performance."
      ]
    },
    {
      "cell_type": "code",
      "source": [
        "model_2 = LinearRegression()"
      ],
      "metadata": {
        "id": "U4ImlrFUoI4t"
      },
      "execution_count": null,
      "outputs": []
    },
    {
      "cell_type": "markdown",
      "metadata": {
        "id": "hMx19Alh4tZs"
      },
      "source": [
        "#### **Step #6: Fit your model and make a prediction.**\n",
        "\n",
        "Create a visualization if applicable.\n",
        "\n",
        "Specifically,\n",
        "\n",
        "1. Fit the model to the training data and make predictions on the test data.\n",
        "2. Visualize the results."
      ]
    },
    {
      "cell_type": "markdown",
      "source": [
        "##### **1. Fit the model to the training data.**"
      ],
      "metadata": {
        "id": "BDMrAvoW4tZt"
      }
    },
    {
      "cell_type": "code",
      "source": [
        "model_2.fit(X_train, y_train)\n",
        "predictions = model_2.predict(X_test)"
      ],
      "metadata": {
        "id": "km_P03RK4tZt"
      },
      "execution_count": null,
      "outputs": []
    },
    {
      "cell_type": "markdown",
      "source": [
        "##### **2. Visualize the results.**\n",
        "\n",
        "The code is provided for both linear regression and KNN, but it is up to you to decide which one makes the most sense here."
      ],
      "metadata": {
        "id": "Y14XXkms4tZt"
      }
    },
    {
      "cell_type": "markdown",
      "source": [
        "###### **Linear Regression Visualization**"
      ],
      "metadata": {
        "id": "9QstGcAK4tZt"
      }
    },
    {
      "cell_type": "code",
      "source": [
        "# Visualize comparison of predictions vs. actual values\n",
        "plt.scatter(y_test, predictions)\n",
        "plt.plot([y_test.min(), y_test.max()], [y_test.min(), y_test.max()], color = 'black', label='Correct Predictions')\n",
        "\n",
        "\n",
        "plt.xlabel('True Value')\n",
        "plt.ylabel('Predicted Value')\n",
        "plt.title('Real vs Value')\n",
        "plt.legend()\n",
        "\n",
        "plt.show()"
      ],
      "metadata": {
        "id": "ycHBLYFC4tZt",
        "colab": {
          "base_uri": "https://localhost:8080/",
          "height": 472
        },
        "outputId": "6e203176-f218-42a8-a248-378075afe61f"
      },
      "execution_count": null,
      "outputs": [
        {
          "output_type": "display_data",
          "data": {
            "text/plain": [
              "<Figure size 640x480 with 1 Axes>"
            ],
            "image/png": "[encoded data removed]"
          },
          "metadata": {}
        }
      ]
    },
    {
      "cell_type": "markdown",
      "source": [
        "###### **KNN Visualization**"
      ],
      "metadata": {
        "id": "KU75FZTV4tZt"
      }
    },
    {
      "cell_type": "code",
      "source": [
        "feature_1_name = 'GDP'\n",
        "feature_2_name = 'Healthy Life Expectancy'\n",
        "\n",
        "\n",
        "# Make the same scatter plot of the training data\n",
        "fig, ax = plt.subplots(figsize=(10,6))\n",
        "\n",
        "xx, yy = np.meshgrid(np.arange(happy_df[feature_1_name].min() - 0.1, happy_df[feature_1_name].max() + 0.1, 0.01),\n",
        "                     np.arange(happy_df[feature_2_name].min() - 0.1, happy_df[feature_2_name].max() + 0.1, 0.01))\n",
        "means = x.mean()\n",
        "inputs = [[x, y, means[2]] for (x, y) in np.c_[xx.ravel(), yy.ravel()]]\n",
        "z = model_2.predict(inputs)\n",
        "z = z.reshape(xx.shape)\n",
        "\n",
        "ax.pcolormesh(xx, yy, z, alpha=0.1)\n",
        "\n",
        "for label, data in happy_df.groupby('Happiness Score'):\n",
        "  ax.scatter(data[feature_1_name], data[feature_2_name], label=label)\n",
        "\n",
        "ax.set_title(\"Decision Boundary of the KNN Classifier\")\n",
        "ax.set_xlabel(feature_1_name)\n",
        "ax.set_ylabel(feature_2_name)\n",
        "ax.legend()\n",
        "plt.show()"
      ],
      "metadata": {
        "id": "KKcnHU-t4tZt"
      },
      "execution_count": null,
      "outputs": []
    },
    {
      "cell_type": "markdown",
      "metadata": {
        "id": "WyUQzTdsSWND"
      },
      "source": [
        "#### **Step #7: Evaluate the model’s performance**\n",
        "\n",
        "To complete this step, you will need to recall or find out what evaluation metrics we typically use for whichever type of model you have trained.\n",
        "\n",
        "<br>\n",
        "\n",
        "If you used KNN, you should try several values for Steps #5 - 7 and pick the model that performs highest according to these metrics."
      ]
    },
    {
      "cell_type": "code",
      "source": [
        "print(\"R2: \" + str(r2_score(y_test, predictions)))\n",
        "print(\"MSE: \" + str(mean_squared_error(y_test, predictions)))\n",
        "print(\"MAE: \" + str(mean_absolute_error(y_test, predictions)))"
      ],
      "metadata": {
        "id": "8gIFqECn5GKz",
        "colab": {
          "base_uri": "https://localhost:8080/"
        },
        "outputId": "59c1c970-28a4-4dce-8928-3597553eaf54"
      },
      "execution_count": null,
      "outputs": [
        {
          "output_type": "stream",
          "name": "stdout",
          "text": [
            "R2: 0.6553380105076845\n",
            "MSE: 0.3838527284914264\n",
            "MAE: 0.5040967754442508\n"
          ]
        }
      ]
    },
    {
      "cell_type": "markdown",
      "metadata": {
        "id": "LkdTG0rOoI4u"
      },
      "source": [
        "#### **Step #8: Use the model**\n",
        "\n",
        "Specifically,\n",
        "\n",
        "1. Predict the happiness score of three countries that reported provided results for their numerical measures.\n",
        "\n",
        "2. Visualize the modeled relationship between `Happinesss Score` and `Social Support` to see if a qualitative relationship can be inferred.\n",
        "\n",
        "3. Look at the coefficients and intercept to determine the modeled relationships quantitatively."
      ]
    },
    {
      "cell_type": "markdown",
      "source": [
        "##### **1. Predict the happiness score of these countries that reported the following results for their numerical measures:**\n",
        "\n",
        "**Country 1**\n",
        "\n",
        "* `GDP`: 0.9\n",
        "* `Social Support`: 0.4\n",
        "* `Healthy Life Expectancy`: 0.8\n",
        "* `Freedom`: 0.4\n",
        "* `Corruption Perception`: 0.2\n",
        "* `Generosity`: 0.09\n",
        "* `Region Encoded`: 0\n",
        "\n",
        "<br>\n",
        "\n",
        "**Country 2**\n",
        "\n",
        "* `GDP`: 0.9\n",
        "* `Social Support`: 0.4\n",
        "* `Healthy Life Expectancy`: 0.8\n",
        "* `Freedom`: 0.4\n",
        "* `Corruption Perception`: 0.2\n",
        "* `Generosity`: 0.09\n",
        "* `Region Encoded`: 9\n",
        "\n",
        "<br>\n",
        "\n",
        "**Country 3**\n",
        "\n",
        "* `GDP`: 1.1\n",
        "* `Social Support`: 0.9\n",
        "* `Healthy Life Expectancy`: 1.01\n",
        "* `Freedom`: 0.9\n",
        "* `Corruption Perception`: 0.1\n",
        "* `Generosity`: 0.9\n",
        "* `Region Encoded`: 4\n",
        "\n",
        "\n",
        "<br>\n",
        "\n",
        "**NOTE**: Since we selected only the top 3 features, you will need to only provide these 3 values for each prediction. Looking at the columns in the X data could be helpful here."
      ],
      "metadata": {
        "id": "4uf2h5ihoI4u"
      }
    },
    {
      "cell_type": "code",
      "source": [
        "# COUNTRY 1\n",
        "new_country = pd.DataFrame([[0.9, 0.4, 0.8, 0.4, 0.2, 0.09, 0]], columns = X_test.columns)\n",
        "print(linear_model_2.predict(# COMPLETE THIS LINE"
      ],
      "metadata": {
        "id": "bKY7vgkJoI4u"
      },
      "execution_count": null,
      "outputs": []
    },
    {
      "cell_type": "code",
      "source": [
        "# COUNTRY 2\n",
        "# COMPLETE THIS CODE"
      ],
      "metadata": {
        "id": "M2jcPQZroI4v"
      },
      "execution_count": null,
      "outputs": []
    },
    {
      "cell_type": "code",
      "source": [
        "# COUNTRY 3\n",
        "# COMPLETE THIS CODE"
      ],
      "metadata": {
        "id": "fNKdgXAKoI4v"
      },
      "execution_count": null,
      "outputs": []
    },
    {
      "cell_type": "markdown",
      "source": [
        "##### **2. Visualize the modeled relationship between `Happinesss Score` and one of the 3 features chosen to see if a qualitative relationship can be inferred.**"
      ],
      "metadata": {
        "id": "X7u4GtMToI4v"
      }
    },
    {
      "cell_type": "code",
      "source": [],
      "metadata": {
        "id": "GcEBBmR-oI4v"
      },
      "execution_count": null,
      "outputs": []
    },
    {
      "cell_type": "markdown",
      "source": [
        "##### **3. *If you used linear regression*, complete the cells below to look at the coefficients and intercept to determine the modeled relationships quantitatively.**"
      ],
      "metadata": {
        "id": "kZoN8-hwoI4w"
      }
    },
    {
      "cell_type": "code",
      "source": [
        "coefficients = model_2.# COMPLETE THIS LINE\n",
        "intercept = model_2.# COMPLETE THIS LINE\n",
        "\n",
        "coefficients = pd.DataFrame([coefficients], columns = X_test.columns)\n",
        "intercept = pd.DataFrame([intercept], columns = [\"Happiness Score\"])"
      ],
      "metadata": {
        "id": "s1pBM4KooI4w"
      },
      "execution_count": null,
      "outputs": []
    },
    {
      "cell_type": "code",
      "source": [
        "print(\"Coefficients:\")\n",
        "coefficients.head()"
      ],
      "metadata": {
        "id": "OjgGVP8VoI4w"
      },
      "execution_count": null,
      "outputs": []
    },
    {
      "cell_type": "code",
      "source": [
        "print(\"\\nIntercept:\")\n",
        "intercept.head()"
      ],
      "metadata": {
        "id": "khefYBQroI4w"
      },
      "execution_count": null,
      "outputs": []
    },
    {
      "cell_type": "markdown",
      "source": [
        "#### **Reflection Questions**\n",
        "\n",
        "Now that you have trained several models to accomplish this task, answer the following questions:\n",
        "\n",
        "1. Were there any hyperparameters you need to tune and, if so, what were the best values you found?\n",
        "2. Did selecting a smaller number of features improve or decrease the performance of your model?\n",
        "3. What 3 variables seem to play the largest role in determining `Happiness Score` based on your work in this part?"
      ],
      "metadata": {
        "id": "j3uA4BEp5qgI"
      }
    },
    {
      "cell_type": "markdown",
      "metadata": {
        "id": "EJMMjh4tE5GX"
      },
      "source": [
        "<a name=\"p3\"></a>\n",
        "\n",
        "---\n",
        "## **Part 3: Predicting Region**\n",
        "---\n",
        "\n",
        "Now you will create, evaluate, and train a machine learning model to predict the region of a country based on the provided numerical features. It is up to you to determine if you should be using Linear Regression or KNN here.\n",
        "\n",
        "<br>\n",
        "\n",
        "You will do this two times as follows:\n",
        "\n",
        "**Part 3.1**: Using All Numerical Features\n",
        "\n",
        "**Part 3.2**: Using the 3 Best Numerical Features\n"
      ]
    },
    {
      "cell_type": "markdown",
      "source": [
        "<a name=\"p31\"></a>\n",
        "\n",
        "---\n",
        "### **Part 3.1:** Using All Numerical Features\n",
        "---"
      ],
      "metadata": {
        "id": "i0fyIQD9E5GY"
      }
    },
    {
      "cell_type": "markdown",
      "source": [
        "#### **Step #1: Load in the data**\n",
        "\n",
        "This step was completed in Part 1!"
      ],
      "metadata": {
        "id": "mdj0b1848XHa"
      }
    },
    {
      "cell_type": "markdown",
      "metadata": {
        "id": "D9CMuXQAE5GY"
      },
      "source": [
        "#### **Step #2: Decide independent and dependent variables**\n",
        "\n",
        "Complete the code below to decide the independent and dependent variables.\n",
        "\n",
        "<br>\n",
        "\n",
        "**NOTE**: The dependent variable (label) for all of Part 3 is `Region Encoded`. Using one of several pandas functions, you can determine the numerical features available and use them all as the independent variables."
      ]
    },
    {
      "cell_type": "code",
      "source": [
        "happy_df.# COMPLETE THIS LINE"
      ],
      "metadata": {
        "id": "99NDwBqkE5GY"
      },
      "execution_count": null,
      "outputs": []
    },
    {
      "cell_type": "code",
      "source": [
        "x = # COMPLETE THIS LINE\n",
        "y = # COMPLETE THIS LINE"
      ],
      "metadata": {
        "id": "NZGLpbP6E5GY"
      },
      "execution_count": null,
      "outputs": []
    },
    {
      "cell_type": "markdown",
      "metadata": {
        "id": "djC1sj3oE5GZ"
      },
      "source": [
        "#### **Step #3: Split data into training and testing data**\n",
        "\n",
        "Complete the code below to split the data, using 80% for training and 20% for testing."
      ]
    },
    {
      "cell_type": "code",
      "source": [
        "X_train, X_test, y_train, y_test = train_test_split(# COMPLETE THIS LINE"
      ],
      "metadata": {
        "id": "r3YE1P5PE5GZ"
      },
      "execution_count": null,
      "outputs": []
    },
    {
      "cell_type": "markdown",
      "metadata": {
        "id": "KWsq7ReOE5GZ"
      },
      "source": [
        "#### **Step #4: Import the algorithm**"
      ]
    },
    {
      "cell_type": "code",
      "source": [],
      "metadata": {
        "id": "F3PaG1FzE5GZ"
      },
      "execution_count": null,
      "outputs": []
    },
    {
      "cell_type": "markdown",
      "metadata": {
        "id": "XGNNOAncSEDM"
      },
      "source": [
        "#### **Step #5: Initialize the model and set hyperparameters**\n",
        "\n",
        "Specifically,\n",
        "* For Linear Regression, there are no hyperparameters to set.\n",
        "* For KNN, choose a reasonable value for `n_neighbors`. You are encouraged to try Steps #5 - 7 for several values and picking the model with the highest performance."
      ]
    },
    {
      "cell_type": "code",
      "source": [
        "model_1 = # COMPLETE THIS LINE"
      ],
      "metadata": {
        "id": "r3xju1miE5GZ"
      },
      "execution_count": null,
      "outputs": []
    },
    {
      "cell_type": "markdown",
      "metadata": {
        "id": "9nk_tLXnE5GZ"
      },
      "source": [
        "#### **Step #6: Fit your model and make a prediction.**\n",
        "\n",
        "Create a visualization if applicable.\n",
        "\n",
        "Specifically,\n",
        "\n",
        "1. Fit the model to the training data and make predictions on the test data.\n",
        "2. Visualize the results."
      ]
    },
    {
      "cell_type": "markdown",
      "source": [
        "##### **1. Fit the model to the training data.**"
      ],
      "metadata": {
        "id": "GaunVzj4E5GZ"
      }
    },
    {
      "cell_type": "code",
      "source": [
        "model_1.# COMPLETE THIS LINE TO TRAIN\n",
        "predictions = model_1.# COMPLETE THIS LINE TO PREDICT"
      ],
      "metadata": {
        "id": "6H04Op7QE5GZ"
      },
      "execution_count": null,
      "outputs": []
    },
    {
      "cell_type": "markdown",
      "source": [
        "##### **2. Visualize the results.**\n",
        "\n",
        "The code is provided for both linear regression and KNN, but it is up to you to decide which one makes the most sense here."
      ],
      "metadata": {
        "id": "ei8qXhfUE5GZ"
      }
    },
    {
      "cell_type": "markdown",
      "source": [
        "###### **Linear Regression Visualization**"
      ],
      "metadata": {
        "id": "Z0uReehGE5GZ"
      }
    },
    {
      "cell_type": "code",
      "source": [
        "# Visualize comparison of predictions vs. actual values\n",
        "plt.scatter(y_test, predictions)\n",
        "plt.plot([y_test.min(), y_test.max()], [y_test.min(), y_test.max()], color = 'black', label='Correct Predictions')\n",
        "\n",
        "\n",
        "plt.xlabel('True Value')\n",
        "plt.ylabel('Predicted Value')\n",
        "plt.title('Real vs Value')\n",
        "plt.legend()\n",
        "\n",
        "plt.show()"
      ],
      "metadata": {
        "id": "1EomRElbE5GZ"
      },
      "execution_count": null,
      "outputs": []
    },
    {
      "cell_type": "markdown",
      "source": [
        "###### **KNN Visualization**"
      ],
      "metadata": {
        "id": "aD9TwOaPE5GZ"
      }
    },
    {
      "cell_type": "code",
      "source": [
        "feature_1_name = 'GDP'\n",
        "feature_2_name = 'Healthy Life Expectancy'\n",
        "\n",
        "\n",
        "# Make the same scatter plot of the training data\n",
        "fig, ax = plt.subplots(figsize=(10,6))\n",
        "\n",
        "xx, yy = np.meshgrid(np.arange(happy_df[feature_1_name].min() - 0.1, happy_df[feature_1_name].max() + 0.1, 0.01),\n",
        "                     np.arange(happy_df[feature_2_name].min() - 0.1, happy_df[feature_2_name].max() + 0.1, 0.01))\n",
        "means = x.mean()\n",
        "inputs = [[means[0], x, means[2], y, means[4], means[5], means[6]] for (x, y) in np.c_[xx.ravel(), yy.ravel()]]\n",
        "z = model_1.predict(inputs)\n",
        "z = z.reshape(xx.shape)\n",
        "\n",
        "ax.pcolormesh(xx, yy, z, alpha=0.1)\n",
        "\n",
        "for label, data in happy_df.groupby('Region'):\n",
        "  ax.scatter(data[feature_1_name], data[feature_2_name], label=label)\n",
        "\n",
        "ax.set_title(\"Decision Boundary of the KNN Classifier\")\n",
        "ax.set_xlabel(feature_1_name)\n",
        "ax.set_ylabel(feature_2_name)\n",
        "ax.legend()\n",
        "plt.show()"
      ],
      "metadata": {
        "id": "EBOzFa8pE5GZ"
      },
      "execution_count": null,
      "outputs": []
    },
    {
      "cell_type": "markdown",
      "metadata": {
        "id": "wdbPdS_BSXpY"
      },
      "source": [
        "#### **Step #7: Evaluate the model’s performance**\n",
        "\n",
        "To complete this step, you will need to recall or find out what evaluation metrics we typically use for whichever type of model you have trained.\n",
        "\n",
        "<br>\n",
        "\n",
        "If you used KNN, you should try several values for Steps #5 - 7 and pick the model that performs highest according to these metrics."
      ]
    },
    {
      "cell_type": "code",
      "source": [],
      "metadata": {
        "id": "Npy8lq_6E5Ga"
      },
      "execution_count": null,
      "outputs": []
    },
    {
      "cell_type": "markdown",
      "metadata": {
        "id": "6dbGqSTJE5Ga"
      },
      "source": [
        "#### **Step #8: Use the model**\n",
        "\n",
        "Specifically,\n",
        "\n",
        "1. Predict the region of three countries that reported provided results for their numerical measures.\n",
        "\n",
        "2. Visualize the modeled relationship between `Happinesss Score` and `Social Support` to see if a qualitative relationship can be inferred.\n",
        "\n",
        "3. *If you used linear regression*, look at the coefficients and intercept to determine the modeled relationships quantitatively."
      ]
    },
    {
      "cell_type": "markdown",
      "source": [
        "##### **1. Predict the region of these countries that reported the following results for their numerical measures:**\n",
        "\n",
        "**Country 1**\n",
        "\n",
        "* `Happiness Score`: 2.3\n",
        "* `GDP`: 0.9\n",
        "* `Social Support`: 0.4\n",
        "* `Healthy Life Expectancy`: 0.8\n",
        "* `Freedom`: 0.4\n",
        "* `Corruption Perception`: 0.2\n",
        "* `Generosity`: 0.09\n",
        "\n",
        "<br>\n",
        "\n",
        "**Country 2**\n",
        "\n",
        "* `Happiness Score`: 7.8\n",
        "* `GDP`: 0.9\n",
        "* `Social Support`: 0.4\n",
        "* `Healthy Life Expectancy`: 0.8\n",
        "* `Freedom`: 0.4\n",
        "* `Corruption Perception`: 0.2\n",
        "* `Generosity`: 0.09\n",
        "\n",
        "<br>\n",
        "\n",
        "**Country 3**\n",
        "\n",
        "* `Happiness Score`: 4.5\n",
        "* `GDP`: 1.1\n",
        "* `Social Support`: 0.9\n",
        "* `Healthy Life Expectancy`: 1.01\n",
        "* `Freedom`: 0.9\n",
        "* `Corruption Perception`: 1.1\n",
        "* `Generosity`: 0.9"
      ],
      "metadata": {
        "id": "bku6k9_wE5Ga"
      }
    },
    {
      "cell_type": "code",
      "source": [
        "# COUNTRY 1\n",
        "new_country = pd.DataFrame([[# COMPLETE THIS LINE]], columns = X_test.columns)\n",
        "\n",
        "region = model_1.predict(# COMPLETE THIS LINE\n",
        "print(happy_df['Region'].unique()[region[0]])"
      ],
      "metadata": {
        "id": "57oSrPsOE5Ga"
      },
      "execution_count": null,
      "outputs": []
    },
    {
      "cell_type": "code",
      "source": [
        "# COUNTRY 2\n",
        "# COMPLETE THIS CODE"
      ],
      "metadata": {
        "id": "bBZisTMME5Ga"
      },
      "execution_count": null,
      "outputs": []
    },
    {
      "cell_type": "code",
      "source": [
        "# COUNTRY 3\n",
        "# COMPLETE THIS CODE"
      ],
      "metadata": {
        "id": "LuoaErMNE5Ga"
      },
      "execution_count": null,
      "outputs": []
    },
    {
      "cell_type": "markdown",
      "source": [
        "##### **2. Visualize the modeled relationship between `Region` and `Healthy Life Expectancy` to see if a qualitative relationship can be inferred.**"
      ],
      "metadata": {
        "id": "an3S5LktE5Ga"
      }
    },
    {
      "cell_type": "code",
      "source": [
        "# COMPLETE THIS CODE\n",
        "\n",
        "plt.yticks(ticks = range(10), labels = happy_df['Region'].unique())\n",
        "\n",
        "plt.show()"
      ],
      "metadata": {
        "id": "96zinD1XE5Ga"
      },
      "execution_count": null,
      "outputs": []
    },
    {
      "cell_type": "markdown",
      "source": [
        "##### **3. *If you used linear regression*, complete the cells below to look at the coefficients and intercept to determine the modeled relationships quantitatively.**"
      ],
      "metadata": {
        "id": "ZaPbThUnE5Ga"
      }
    },
    {
      "cell_type": "code",
      "source": [
        "coefficients = model_1.# COMPLETE THIS LINE\n",
        "intercept = model_1.# COMPLETE THIS LINE\n",
        "\n",
        "coefficients = pd.DataFrame([coefficients], columns = X_test.columns)\n",
        "intercept = pd.DataFrame([intercept], columns = [\"Happiness Score\"])"
      ],
      "metadata": {
        "id": "m4dmh6wpE5Ga"
      },
      "execution_count": null,
      "outputs": []
    },
    {
      "cell_type": "code",
      "source": [
        "print(\"Coefficients:\")\n",
        "coefficients.head()"
      ],
      "metadata": {
        "id": "Jm9zzcEPE5Ga"
      },
      "execution_count": null,
      "outputs": []
    },
    {
      "cell_type": "code",
      "source": [
        "print(\"\\nIntercept:\")\n",
        "intercept.head()"
      ],
      "metadata": {
        "id": "dTES_SghE5Ga"
      },
      "execution_count": null,
      "outputs": []
    },
    {
      "cell_type": "markdown",
      "source": [
        "<a name=\"p32\"></a>\n",
        "\n",
        "---\n",
        "### **Part 3.2: Using the 2 Best Numerical Features**\n",
        "---"
      ],
      "metadata": {
        "id": "BxdlnZ9iE5Gb"
      }
    },
    {
      "cell_type": "markdown",
      "source": [
        "#### **Step #1: Load your data**\n",
        "\n",
        "This step was already done previously."
      ],
      "metadata": {
        "id": "dV130a77KU8L"
      }
    },
    {
      "cell_type": "markdown",
      "metadata": {
        "id": "jZ9_kHbOE5Gb"
      },
      "source": [
        "#### **Step #2: Decide independent and dependent variables**\n",
        "\n",
        "Redo Step #2 using `SelectKBest(...)` on the `x` and `y` data from Part 3.1 to select the top 2 features.\n",
        "\n",
        "<br>\n",
        "\n",
        "**NOTE**: `y` will be the same in all of Part 3."
      ]
    },
    {
      "cell_type": "code",
      "source": [
        "# Select 3 best features\n",
        "feature_selector = SelectKBest(# COMPLETE THIS LINE\n",
        "feature_selector.fit_transform(# COMPLETE THIS LINE\n",
        "best_features = happy_df[feature_selector.get_feature_names_out()]\n",
        "\n",
        "# Look at resulting DataFrame\n",
        "best_features.head()"
      ],
      "metadata": {
        "id": "kJ4wr8ZrE5Gb"
      },
      "execution_count": null,
      "outputs": []
    },
    {
      "cell_type": "markdown",
      "metadata": {
        "id": "nuCRbGKnE5Gb"
      },
      "source": [
        "#### **Step #3: Split data into training and testing data**\n",
        "\n",
        "Complete the code below to split the data, using 80% for training and 20% for testing."
      ]
    },
    {
      "cell_type": "code",
      "source": [
        "X_train, X_test, y_train, y_test = train_test_split(best_features, # COMPLETE THIS LINE"
      ],
      "metadata": {
        "id": "cbKDQlNwE5Gb"
      },
      "execution_count": null,
      "outputs": []
    },
    {
      "cell_type": "markdown",
      "metadata": {
        "id": "ZoF6MutCKgtR"
      },
      "source": [
        "#### **Step #4: Import the algorithm**"
      ]
    },
    {
      "cell_type": "code",
      "source": [],
      "metadata": {
        "id": "uHph5lXCKgtR"
      },
      "execution_count": null,
      "outputs": []
    },
    {
      "cell_type": "markdown",
      "metadata": {
        "id": "FpdqzlZeSGC7"
      },
      "source": [
        "#### **Step #5: Initialize the model and set hyperparameters**\n",
        "\n",
        "Specifically,\n",
        "* For Linear Regression, there are no hyperparameters to set.\n",
        "* For KNN, choose a reasonable value for `n_neighbors`. You are encouraged to try Steps #5 - 7 for several values and picking the model with the highest performance."
      ]
    },
    {
      "cell_type": "code",
      "source": [
        "model_2 = # COMPLETE THIS LINE"
      ],
      "metadata": {
        "id": "PTAql5jlKgtR"
      },
      "execution_count": null,
      "outputs": []
    },
    {
      "cell_type": "markdown",
      "metadata": {
        "id": "rj_z82LaKgtR"
      },
      "source": [
        "#### **Step #6: Fit your model and make a prediction. Create a visualization if applicable**\n",
        "\n",
        "Specifically,\n",
        "\n",
        "1. Fit the model to the training data and make predictions on the test data.\n",
        "2. Visualize the results."
      ]
    },
    {
      "cell_type": "markdown",
      "source": [
        "##### **1. Fit the model to the training data.**"
      ],
      "metadata": {
        "id": "54MAdOgGKgtR"
      }
    },
    {
      "cell_type": "code",
      "source": [
        "model_2.# COMPLETE THIS LINE TO TRAIN\n",
        "predictions = model_2.# COMPLETE THIS LINE TO PREDICT"
      ],
      "metadata": {
        "id": "IhboxB7TKgtR"
      },
      "execution_count": null,
      "outputs": []
    },
    {
      "cell_type": "markdown",
      "source": [
        "##### **2. Visualize the results.**\n",
        "\n",
        "The code is provided for both linear regression and KNN, but it is up to you to decide which one makes the most sense here."
      ],
      "metadata": {
        "id": "6zengvEPKgtS"
      }
    },
    {
      "cell_type": "markdown",
      "source": [
        "###### **Linear Regression Visualization**"
      ],
      "metadata": {
        "id": "rC6KgbDPKgtS"
      }
    },
    {
      "cell_type": "code",
      "source": [
        "# Visualize comparison of predictions vs. actual values\n",
        "plt.scatter(y_test, predictions)\n",
        "plt.plot([y_test.min(), y_test.max()], [y_test.min(), y_test.max()], color = 'black', label='Correct Predictions')\n",
        "\n",
        "\n",
        "plt.xlabel('True Value')\n",
        "plt.ylabel('Predicted Value')\n",
        "plt.title('Real vs Value')\n",
        "plt.legend()\n",
        "\n",
        "plt.show()"
      ],
      "metadata": {
        "id": "f8mQ5YdDKgtS"
      },
      "execution_count": null,
      "outputs": []
    },
    {
      "cell_type": "markdown",
      "source": [
        "###### **KNN Visualization**"
      ],
      "metadata": {
        "id": "D4T40kbOKgtS"
      }
    },
    {
      "cell_type": "code",
      "source": [
        "labels = happy_df['Region'].unique()\n",
        "feature_1_name = 'GDP'\n",
        "feature_2_name = 'Healthy Life Expectancy'\n",
        "\n",
        "\n",
        "# Make the same scatter plot of the training data\n",
        "fig, ax = plt.subplots(figsize=(10,6))\n",
        "\n",
        "xx, yy = np.meshgrid(np.arange(happy_df[feature_1_name].min() - 0.1, happy_df[feature_1_name].max() + 0.1, 0.01),\n",
        "                     np.arange(happy_df[feature_2_name].min() - 0.1, happy_df[feature_2_name].max() + 0.1, 0.01))\n",
        "z = model_2.predict(np.c_[xx.ravel(), yy.ravel()])\n",
        "z = z.reshape(xx.shape)\n",
        "\n",
        "ax.pcolormesh(xx, yy, z, alpha=0.1)\n",
        "\n",
        "for label, data in happy_df.groupby('Region'):\n",
        "  ax.scatter(data[feature_1_name], data[feature_2_name], label=label)\n",
        "\n",
        "ax.set_title(\"Decision Boundary of the KNN Classifier\")\n",
        "ax.set_xlabel(feature_1_name)\n",
        "ax.set_ylabel(feature_2_name)\n",
        "ax.legend()\n",
        "plt.show()"
      ],
      "metadata": {
        "id": "hS7yC4FXKgtS"
      },
      "execution_count": null,
      "outputs": []
    },
    {
      "cell_type": "markdown",
      "metadata": {
        "id": "dKfkcxpVSY-G"
      },
      "source": [
        "#### **Step #7: Evaluate the model's performance**\n",
        "\n",
        "To complete this step, you will need to recall or find out what evaluation metrics we typically use for whichever type of model you have trained.\n",
        "\n",
        "<br>\n",
        "\n",
        "If you used KNN, you should try several values for Steps #5 - 7 and pick the model that performs highest according to these metrics."
      ]
    },
    {
      "cell_type": "code",
      "source": [],
      "metadata": {
        "id": "VIwVyyIhKgtS"
      },
      "execution_count": null,
      "outputs": []
    },
    {
      "cell_type": "markdown",
      "metadata": {
        "id": "85CBoOvZKgtS"
      },
      "source": [
        "#### **Step #8: Use the model**\n",
        "\n",
        "Specifically,\n",
        "\n",
        "1. Predict the region of three countries that reported provided results for their numerical measures.\n",
        "\n",
        "2. Visualize the modeled relationship between `Happinesss Score` and `Social Support` to see if a qualitative relationship can be inferred.\n",
        "\n",
        "3. *If you used linear regression*, look at the coefficients and intercept to determine the modeled relationships quantitatively."
      ]
    },
    {
      "cell_type": "markdown",
      "source": [
        "##### **1. Predict the region of these countries that reported the following results for their numerical measures:**\n",
        "\n",
        "**Country 1**\n",
        "\n",
        "* `Happiness Score`: 2.3\n",
        "* `GDP`: 0.9\n",
        "* `Social Support`: 0.4\n",
        "* `Healthy Life Expectancy`: 0.8\n",
        "* `Freedom`: 0.4\n",
        "* `Corruption Perception`: 0.2\n",
        "* `Generosity`: 0.09\n",
        "\n",
        "<br>\n",
        "\n",
        "**Country 2**\n",
        "\n",
        "* `Happiness Score`: 7.8\n",
        "* `GDP`: 0.9\n",
        "* `Social Support`: 0.4\n",
        "* `Healthy Life Expectancy`: 0.8\n",
        "* `Freedom`: 0.4\n",
        "* `Corruption Perception`: 0.2\n",
        "* `Generosity`: 0.09\n",
        "\n",
        "<br>\n",
        "\n",
        "**Country 3**\n",
        "\n",
        "* `Happiness Score`: 4.5\n",
        "* `GDP`: 1.1\n",
        "* `Social Support`: 0.9\n",
        "* `Healthy Life Expectancy`: 1.01\n",
        "* `Freedom`: 0.9\n",
        "* `Corruption Perception`: 1.1\n",
        "* `Generosity`: 0.9\n",
        "\n",
        "<br>\n",
        "\n",
        "**NOTE**: Since we selected only the top 2 features, you will need to only provide these 2 values for each prediction. Looking at the columns in the X data could be helpful here."
      ],
      "metadata": {
        "id": "Gpm6o6KYKgtS"
      }
    },
    {
      "cell_type": "code",
      "source": [
        "# COUNTRY 1\n",
        "new_country = pd.DataFrame([[# COMPLETE THIS LINE]], columns = X_test.columns)\n",
        "\n",
        "region = model_2.predict(# COMPLETE THIS LINE\n",
        "print(happy_df['Region'].unique()[region[0]])"
      ],
      "metadata": {
        "id": "Ar7qsFovKgtS"
      },
      "execution_count": null,
      "outputs": []
    },
    {
      "cell_type": "code",
      "source": [
        "# COUNTRY 2\n",
        "# COMPLETE THIS CODE"
      ],
      "metadata": {
        "id": "kr4_fWHvKgtS"
      },
      "execution_count": null,
      "outputs": []
    },
    {
      "cell_type": "code",
      "source": [
        "# COUNTRY 3\n",
        "# COMPLETE THIS CODE"
      ],
      "metadata": {
        "id": "Ba0dMw20KgtS"
      },
      "execution_count": null,
      "outputs": []
    },
    {
      "cell_type": "markdown",
      "source": [
        "##### **2. Visualize the modeled relationship between `Region` and `Healthy Life Expectancy` to see if a qualitative relationship can be inferred.**"
      ],
      "metadata": {
        "id": "Mh8BKsj7KgtT"
      }
    },
    {
      "cell_type": "code",
      "source": [
        "# COMPLETE THIS CODE\n",
        "\n",
        "plt.yticks(ticks = range(10), labels = happy_df['Region'].unique())\n",
        "\n",
        "plt.show()"
      ],
      "metadata": {
        "id": "0S-OVEKyKgtT"
      },
      "execution_count": null,
      "outputs": []
    },
    {
      "cell_type": "markdown",
      "source": [
        "##### **3. *If you used linear regression*, complete the cells below to look at the coefficients and intercept to determine the modeled relationships quantitatively.**"
      ],
      "metadata": {
        "id": "fMFcejH4KgtT"
      }
    },
    {
      "cell_type": "code",
      "source": [
        "coefficients = model_1.# COMPLETE THIS LINE\n",
        "intercept = model_1.# COMPLETE THIS LINE\n",
        "\n",
        "coefficients = pd.DataFrame([coefficients], columns = X_test.columns)\n",
        "intercept = pd.DataFrame([intercept], columns = [\"Happiness Score\"])"
      ],
      "metadata": {
        "id": "bUjlVAJWKgtT"
      },
      "execution_count": null,
      "outputs": []
    },
    {
      "cell_type": "code",
      "source": [
        "print(\"Coefficients:\")\n",
        "coefficients.head()"
      ],
      "metadata": {
        "id": "hPJpVIeSKgtT"
      },
      "execution_count": null,
      "outputs": []
    },
    {
      "cell_type": "code",
      "source": [
        "print(\"\\nIntercept:\")\n",
        "intercept.head()"
      ],
      "metadata": {
        "id": "Nz0kG99FKgtT"
      },
      "execution_count": null,
      "outputs": []
    },
    {
      "cell_type": "markdown",
      "source": [
        "#### **Reflection Questions**\n",
        "\n",
        "Now that you have trained several models to accomplish this task, answer the following questions:\n",
        "\n",
        "1. Is Linear Regression or KNN better suited to this task? Why?\n",
        "2. Were there any hyperparameters you need to tune and, if so, what were the best values you found?\n",
        "3. Did selecting a smaller number of features improve or decrease the performance of your model?\n",
        "4. What 2 variables seem to play the largest role in determining `Region Encoded` based on your work in this part?"
      ],
      "metadata": {
        "id": "f99CjA0aE5Gd"
      }
    },
    {
      "cell_type": "markdown",
      "source": [
        "# Congratulations, you have completed your first full Machine Learning Project!\n",
        "\n",
        "---\n",
        "© 2023 The Coding School, All rights reserved"
      ],
      "metadata": {
        "id": "Q6JQKCHn3Fmj"
      }
    }
  ],
  "metadata": {
    "colab": {
      "provenance": [],
      "include_colab_link": true
    },
    "kernelspec": {
      "display_name": "Python 3 (ipykernel)",
      "language": "python",
      "name": "python3"
    },
    "language_info": {
      "codemirror_mode": {
        "name": "ipython",
        "version": 3
      },
      "file_extension": ".py",
      "mimetype": "text/x-python",
      "name": "python",
      "nbconvert_exporter": "python",
      "pygments_lexer": "ipython3",
      "version": "3.9.7"
    }
  },
  "nbformat": 4,
  "nbformat_minor": 0
}