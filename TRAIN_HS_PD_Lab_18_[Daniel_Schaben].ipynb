{
  "cells": [
    {
      "cell_type": "markdown",
      "metadata": {
        "id": "view-in-github",
        "colab_type": "text"
      },
      "source": [
        "<a href=\"https://colab.research.google.com/github/blckpwdr50/datasciencecoursera/blob/master/TRAIN_HS_PD_Lab_18_%5BDaniel_Schaben%5D.ipynb\" target=\"_parent\"><img src=\"https://colab.research.google.com/assets/colab-badge.svg\" alt=\"Open In Colab\"/></a>"
      ]
    },
    {
      "cell_type": "markdown",
      "metadata": {
        "id": "mbZXQ3rA3NwL"
      },
      "source": [
        "# **Lab 18: AI Ethics**\n",
        "---\n",
        "\n",
        "### **Description**:\n",
        "In this lab, we will analyze UCI's Adult Data set and explore ethical issues with the dataset and models created from it, as well as attempt to mitigate any bias we find. Then, we will explore Amazon's Clarify.\n",
        "\n",
        "\n",
        "### **Lab Structure**\n",
        "* **Part 1**: [Using Visualizations to Identify Bias](#p1)\n",
        "\n",
        "* **Part 2**: [Using AWS Clarify to Identify Bias](#p2)\n",
        "\n",
        "* **Part 3**: [Mitigating Bias](#p3)\n",
        "\n",
        "\n",
        "</br>\n",
        "\n",
        "\n",
        "### **Goals:**\n",
        "By the end of this lab, you will be able to:\n",
        "* Explain why imbalanced data can lead to bias in models.\n",
        "* You will be able to identify bias through different means like data exploration and using AWS Clarify.\n",
        "* Mitigate bias in data once you have found it using several different approaches.\n",
        "\n",
        "\n",
        "<br>\n",
        "\n",
        "### **Cheat Sheets**\n",
        "[AWS Clarify Cheatsheet](https://docs.google.com/document/d/1GbjF8EXenn_7ZigHBLAdKfBZFhGu7LmBnMaR6161NgI/edit?usp=sharing)\n",
        "\n",
        "<br>\n",
        "\n",
        "**Before starting, run the code below to import all necessary functions and libraries.**\n"
      ]
    },
    {
      "cell_type": "code",
      "source": [
        "#!pip install scikit-learn\n",
        "!pip install --quiet smclarify\n",
        "\n",
        "import warnings\n",
        "warnings.filterwarnings('ignore')\n",
        "\n",
        "import pandas as pd\n",
        "import numpy as np\n",
        "import matplotlib.pyplot as plt\n",
        "\n",
        "from smclarify.bias.report import *\n",
        "\n",
        "from sklearn.preprocessing import OneHotEncoder, StandardScaler\n",
        "from sklearn.neighbors import KNeighborsClassifier\n",
        "from sklearn.model_selection import train_test_split, cross_val_score\n",
        "from sklearn.metrics import accuracy_score, confusion_matrix, ConfusionMatrixDisplay"
      ],
      "metadata": {
        "id": "lOtzKrWQL9aH",
        "colab": {
          "base_uri": "https://localhost:8080/"
        },
        "outputId": "d8cb2608-05ba-4482-c8c8-feccb80d70ca"
      },
      "execution_count": 3,
      "outputs": [
        {
          "output_type": "stream",
          "name": "stdout",
          "text": [
            "\u001b[?25l     \u001b[90m━━━━━━━━━━━━━━━━━━━━━━━━━━━━━━━━━━━━━━━━\u001b[0m \u001b[32m0.0/135.7 kB\u001b[0m \u001b[31m?\u001b[0m eta \u001b[36m-:--:--\u001b[0m\r\u001b[2K     \u001b[90m━━━━━━━━━━━━━━━━━━━━━━━━━━━━━━━━━━━━━━━\u001b[0m \u001b[32m135.7/135.7 kB\u001b[0m \u001b[31m4.5 MB/s\u001b[0m eta \u001b[36m0:00:00\u001b[0m\n",
            "\u001b[2K     \u001b[90m━━━━━━━━━━━━━━━━━━━━━━━━━━━━━━━━━━━━━━━━\u001b[0m \u001b[32m49.5/49.5 kB\u001b[0m \u001b[31m4.3 MB/s\u001b[0m eta \u001b[36m0:00:00\u001b[0m\n",
            "\u001b[2K     \u001b[90m━━━━━━━━━━━━━━━━━━━━━━━━━━━━━━━━━━━━━━━━\u001b[0m \u001b[32m11.0/11.0 MB\u001b[0m \u001b[31m31.0 MB/s\u001b[0m eta \u001b[36m0:00:00\u001b[0m\n",
            "\u001b[2K     \u001b[90m━━━━━━━━━━━━━━━━━━━━━━━━━━━━━━━━━━━━━━━━\u001b[0m \u001b[32m79.8/79.8 kB\u001b[0m \u001b[31m7.2 MB/s\u001b[0m eta \u001b[36m0:00:00\u001b[0m\n",
            "\u001b[2K     \u001b[90m━━━━━━━━━━━━━━━━━━━━━━━━━━━━━━━━━━━━━━\u001b[0m \u001b[32m110.5/110.5 kB\u001b[0m \u001b[31m11.2 MB/s\u001b[0m eta \u001b[36m0:00:00\u001b[0m\n",
            "\u001b[2K     \u001b[90m━━━━━━━━━━━━━━━━━━━━━━━━━━━━━━━━━━━━━━━━\u001b[0m \u001b[32m72.9/72.9 kB\u001b[0m \u001b[31m6.5 MB/s\u001b[0m eta \u001b[36m0:00:00\u001b[0m\n",
            "\u001b[2K     \u001b[90m━━━━━━━━━━━━━━━━━━━━━━━━━━━━━━━━━━━━━━━━\u001b[0m \u001b[32m72.8/72.8 kB\u001b[0m \u001b[31m5.5 MB/s\u001b[0m eta \u001b[36m0:00:00\u001b[0m\n",
            "\u001b[2K     \u001b[90m━━━━━━━━━━━━━━━━━━━━━━━━━━━━━━━━━━━━━━━━\u001b[0m \u001b[32m72.7/72.7 kB\u001b[0m \u001b[31m2.1 MB/s\u001b[0m eta \u001b[36m0:00:00\u001b[0m\n",
            "\u001b[2K     \u001b[90m━━━━━━━━━━━━━━━━━━━━━━━━━━━━━━━━━━━━━━\u001b[0m \u001b[32m160.1/160.1 kB\u001b[0m \u001b[31m11.4 MB/s\u001b[0m eta \u001b[36m0:00:00\u001b[0m\n",
            "\u001b[2K     \u001b[90m━━━━━━━━━━━━━━━━━━━━━━━━━━━━━━━━━━━━━━\u001b[0m \u001b[32m154.0/154.0 kB\u001b[0m \u001b[31m12.0 MB/s\u001b[0m eta \u001b[36m0:00:00\u001b[0m\n",
            "\u001b[2K     \u001b[90m━━━━━━━━━━━━━━━━━━━━━━━━━━━━━━━━━━━━━━━━\u001b[0m \u001b[32m66.8/66.8 kB\u001b[0m \u001b[31m5.5 MB/s\u001b[0m eta \u001b[36m0:00:00\u001b[0m\n",
            "\u001b[2K     \u001b[90m━━━━━━━━━━━━━━━━━━━━━━━━━━━━━━━━━━━━━━\u001b[0m \u001b[32m145.4/145.4 kB\u001b[0m \u001b[31m10.3 MB/s\u001b[0m eta \u001b[36m0:00:00\u001b[0m\n",
            "\u001b[2K     \u001b[90m━━━━━━━━━━━━━━━━━━━━━━━━━━━━━━━━━━━━━━\u001b[0m \u001b[32m143.0/143.0 kB\u001b[0m \u001b[31m10.8 MB/s\u001b[0m eta \u001b[36m0:00:00\u001b[0m\n",
            "\u001b[2K     \u001b[90m━━━━━━━━━━━━━━━━━━━━━━━━━━━━━━━━━━━━━━━\u001b[0m \u001b[32m139.5/139.5 kB\u001b[0m \u001b[31m9.0 MB/s\u001b[0m eta \u001b[36m0:00:00\u001b[0m\n",
            "\u001b[2K     \u001b[90m━━━━━━━━━━━━━━━━━━━━━━━━━━━━━━━━━━━━━━━━\u001b[0m \u001b[32m66.8/66.8 kB\u001b[0m \u001b[31m5.1 MB/s\u001b[0m eta \u001b[36m0:00:00\u001b[0m\n",
            "\u001b[2K     \u001b[90m━━━━━━━━━━━━━━━━━━━━━━━━━━━━━━━━━━━━━━━━\u001b[0m \u001b[32m65.8/65.8 kB\u001b[0m \u001b[31m6.1 MB/s\u001b[0m eta \u001b[36m0:00:00\u001b[0m\n",
            "\u001b[2K     \u001b[90m━━━━━━━━━━━━━━━━━━━━━━━━━━━━━━━━━━━━━━\u001b[0m \u001b[32m138.8/138.8 kB\u001b[0m \u001b[31m11.3 MB/s\u001b[0m eta \u001b[36m0:00:00\u001b[0m\n",
            "\u001b[2K     \u001b[90m━━━━━━━━━━━━━━━━━━━━━━━━━━━━━━━━━━━━━━\u001b[0m \u001b[32m140.8/140.8 kB\u001b[0m \u001b[31m10.7 MB/s\u001b[0m eta \u001b[36m0:00:00\u001b[0m\n",
            "\u001b[2K     \u001b[90m━━━━━━━━━━━━━━━━━━━━━━━━━━━━━━━━━━━━━━\u001b[0m \u001b[32m140.8/140.8 kB\u001b[0m \u001b[31m12.8 MB/s\u001b[0m eta \u001b[36m0:00:00\u001b[0m\n",
            "\u001b[2K     \u001b[90m━━━━━━━━━━━━━━━━━━━━━━━━━━━━━━━━━━━━━━\u001b[0m \u001b[32m141.0/141.0 kB\u001b[0m \u001b[31m13.6 MB/s\u001b[0m eta \u001b[36m0:00:00\u001b[0m\n",
            "\u001b[2K     \u001b[90m━━━━━━━━━━━━━━━━━━━━━━━━━━━━━━━━━━━━━━━━\u001b[0m \u001b[32m64.7/64.7 kB\u001b[0m \u001b[31m5.7 MB/s\u001b[0m eta \u001b[36m0:00:00\u001b[0m\n",
            "\u001b[2K     \u001b[90m━━━━━━━━━━━━━━━━━━━━━━━━━━━━━━━━━━━━━━\u001b[0m \u001b[32m141.2/141.2 kB\u001b[0m \u001b[31m11.7 MB/s\u001b[0m eta \u001b[36m0:00:00\u001b[0m\n",
            "\u001b[2K     \u001b[90m━━━━━━━━━━━━━━━━━━━━━━━━━━━━━━━━━━━━━━\u001b[0m \u001b[32m141.2/141.2 kB\u001b[0m \u001b[31m13.1 MB/s\u001b[0m eta \u001b[36m0:00:00\u001b[0m\n",
            "\u001b[2K     \u001b[90m━━━━━━━━━━━━━━━━━━━━━━━━━━━━━━━━━━━━━━\u001b[0m \u001b[32m140.6/140.6 kB\u001b[0m \u001b[31m13.6 MB/s\u001b[0m eta \u001b[36m0:00:00\u001b[0m\n",
            "\u001b[2K     \u001b[90m━━━━━━━━━━━━━━━━━━━━━━━━━━━━━━━━━━━━━━━━\u001b[0m \u001b[32m65.7/65.7 kB\u001b[0m \u001b[31m5.7 MB/s\u001b[0m eta \u001b[36m0:00:00\u001b[0m\n",
            "\u001b[?25h  Preparing metadata (setup.py) ... \u001b[?25l\u001b[?25hdone\n",
            "\u001b[2K     \u001b[90m━━━━━━━━━━━━━━━━━━━━━━━━━━━━━━━━━━━━━━━\u001b[0m \u001b[32m104.8/104.8 kB\u001b[0m \u001b[31m9.6 MB/s\u001b[0m eta \u001b[36m0:00:00\u001b[0m\n",
            "\u001b[?25h  Preparing metadata (setup.py) ... \u001b[?25l\u001b[?25hdone\n",
            "\u001b[2K     \u001b[90m━━━━━━━━━━━━━━━━━━━━━━━━━━━━━━━━━━━━━━━━\u001b[0m \u001b[32m65.3/65.3 kB\u001b[0m \u001b[31m5.4 MB/s\u001b[0m eta \u001b[36m0:00:00\u001b[0m\n",
            "\u001b[?25h  Preparing metadata (setup.py) ... \u001b[?25l\u001b[?25hdone\n",
            "\u001b[2K     \u001b[90m━━━━━━━━━━━━━━━━━━━━━━━━━━━━━━━━━━━━━━━━\u001b[0m \u001b[32m65.1/65.1 kB\u001b[0m \u001b[31m5.5 MB/s\u001b[0m eta \u001b[36m0:00:00\u001b[0m\n",
            "\u001b[?25h  Preparing metadata (setup.py) ... \u001b[?25l\u001b[?25hdone\n",
            "\u001b[2K     \u001b[90m━━━━━━━━━━━━━━━━━━━━━━━━━━━━━━━━━━━━━━━━\u001b[0m \u001b[32m59.7/59.7 kB\u001b[0m \u001b[31m5.3 MB/s\u001b[0m eta \u001b[36m0:00:00\u001b[0m\n",
            "\u001b[?25h  Preparing metadata (setup.py) ... \u001b[?25l\u001b[?25hdone\n",
            "\u001b[2K     \u001b[90m━━━━━━━━━━━━━━━━━━━━━━━━━━━━━━━━━━━━━━\u001b[0m \u001b[32m136.1/136.1 kB\u001b[0m \u001b[31m11.5 MB/s\u001b[0m eta \u001b[36m0:00:00\u001b[0m\n",
            "\u001b[2K     \u001b[90m━━━━━━━━━━━━━━━━━━━━━━━━━━━━━━━━━━━━━━━━\u001b[0m \u001b[32m56.0/56.0 kB\u001b[0m \u001b[31m4.7 MB/s\u001b[0m eta \u001b[36m0:00:00\u001b[0m\n",
            "\u001b[2K     \u001b[90m━━━━━━━━━━━━━━━━━━━━━━━━━━━━━━━━━━━━━━\u001b[0m \u001b[32m134.9/134.9 kB\u001b[0m \u001b[31m11.0 MB/s\u001b[0m eta \u001b[36m0:00:00\u001b[0m\n",
            "\u001b[2K     \u001b[90m━━━━━━━━━━━━━━━━━━━━━━━━━━━━━━━━━━━━━━━━\u001b[0m \u001b[32m57.5/57.5 kB\u001b[0m \u001b[31m5.0 MB/s\u001b[0m eta \u001b[36m0:00:00\u001b[0m\n",
            "\u001b[?25h  Preparing metadata (setup.py) ... \u001b[?25l\u001b[?25hdone\n",
            "\u001b[2K     \u001b[90m━━━━━━━━━━━━━━━━━━━━━━━━━━━━━━━━━━━━━━━━\u001b[0m \u001b[32m54.6/54.6 kB\u001b[0m \u001b[31m4.9 MB/s\u001b[0m eta \u001b[36m0:00:00\u001b[0m\n",
            "\u001b[?25h  Preparing metadata (setup.py) ... \u001b[?25l\u001b[?25hdone\n",
            "\u001b[2K     \u001b[90m━━━━━━━━━━━━━━━━━━━━━━━━━━━━━━━━━━━━━━\u001b[0m \u001b[32m133.2/133.2 kB\u001b[0m \u001b[31m11.6 MB/s\u001b[0m eta \u001b[36m0:00:00\u001b[0m\n",
            "\u001b[2K     \u001b[90m━━━━━━━━━━━━━━━━━━━━━━━━━━━━━━━━━━━━━━━━\u001b[0m \u001b[32m54.5/54.5 kB\u001b[0m \u001b[31m4.6 MB/s\u001b[0m eta \u001b[36m0:00:00\u001b[0m\n",
            "\u001b[?25h  Preparing metadata (setup.py) ... \u001b[?25l\u001b[?25hdone\n",
            "\u001b[2K     \u001b[90m━━━━━━━━━━━━━━━━━━━━━━━━━━━━━━━━━━━━━━\u001b[0m \u001b[32m133.0/133.0 kB\u001b[0m \u001b[31m12.4 MB/s\u001b[0m eta \u001b[36m0:00:00\u001b[0m\n",
            "\u001b[2K     \u001b[90m━━━━━━━━━━━━━━━━━━━━━━━━━━━━━━━━━━━━━━━━\u001b[0m \u001b[32m52.5/52.5 kB\u001b[0m \u001b[31m4.5 MB/s\u001b[0m eta \u001b[36m0:00:00\u001b[0m\n",
            "\u001b[?25h  Preparing metadata (setup.py) ... \u001b[?25l\u001b[?25hdone\n",
            "\u001b[2K     \u001b[90m━━━━━━━━━━━━━━━━━━━━━━━━━━━━━━━━━━━━━━\u001b[0m \u001b[32m132.4/132.4 kB\u001b[0m \u001b[31m11.2 MB/s\u001b[0m eta \u001b[36m0:00:00\u001b[0m\n",
            "\u001b[2K     \u001b[90m━━━━━━━━━━━━━━━━━━━━━━━━━━━━━━━━━━━━━━━━\u001b[0m \u001b[32m52.3/52.3 kB\u001b[0m \u001b[31m4.5 MB/s\u001b[0m eta \u001b[36m0:00:00\u001b[0m\n",
            "\u001b[?25h  Preparing metadata (setup.py) ... \u001b[?25l\u001b[?25hdone\n",
            "\u001b[2K     \u001b[90m━━━━━━━━━━━━━━━━━━━━━━━━━━━━━━━━━━━━━━\u001b[0m \u001b[32m125.6/125.6 kB\u001b[0m \u001b[31m10.8 MB/s\u001b[0m eta \u001b[36m0:00:00\u001b[0m\n",
            "\u001b[2K     \u001b[90m━━━━━━━━━━━━━━━━━━━━━━━━━━━━━━━━━━━━━━━\u001b[0m \u001b[32m125.0/125.0 kB\u001b[0m \u001b[31m9.4 MB/s\u001b[0m eta \u001b[36m0:00:00\u001b[0m\n",
            "\u001b[2K     \u001b[90m━━━━━━━━━━━━━━━━━━━━━━━━━━━━━━━━━━━━━━\u001b[0m \u001b[32m123.6/123.6 kB\u001b[0m \u001b[31m10.5 MB/s\u001b[0m eta \u001b[36m0:00:00\u001b[0m\n",
            "\u001b[2K     \u001b[90m━━━━━━━━━━━━━━━━━━━━━━━━━━━━━━━━━━━━━━\u001b[0m \u001b[32m119.3/119.3 kB\u001b[0m \u001b[31m10.1 MB/s\u001b[0m eta \u001b[36m0:00:00\u001b[0m\n",
            "\u001b[2K     \u001b[90m━━━━━━━━━━━━━━━━━━━━━━━━━━━━━━━━━━━━━━━━\u001b[0m \u001b[32m51.6/51.6 kB\u001b[0m \u001b[31m4.5 MB/s\u001b[0m eta \u001b[36m0:00:00\u001b[0m\n",
            "\u001b[?25h  Preparing metadata (setup.py) ... \u001b[?25l\u001b[?25hdone\n",
            "\u001b[2K     \u001b[90m━━━━━━━━━━━━━━━━━━━━━━━━━━━━━━━━━━━━━━\u001b[0m \u001b[32m118.1/118.1 kB\u001b[0m \u001b[31m10.0 MB/s\u001b[0m eta \u001b[36m0:00:00\u001b[0m\n",
            "\u001b[2K     \u001b[90m━━━━━━━━━━━━━━━━━━━━━━━━━━━━━━━━━━━━━━━━\u001b[0m \u001b[32m53.0/53.0 kB\u001b[0m \u001b[31m4.4 MB/s\u001b[0m eta \u001b[36m0:00:00\u001b[0m\n",
            "\u001b[?25h  Preparing metadata (setup.py) ... \u001b[?25l\u001b[?25hdone\n",
            "\u001b[2K     \u001b[90m━━━━━━━━━━━━━━━━━━━━━━━━━━━━━━━━━━━━━━━━\u001b[0m \u001b[32m50.6/50.6 kB\u001b[0m \u001b[31m4.5 MB/s\u001b[0m eta \u001b[36m0:00:00\u001b[0m\n",
            "\u001b[?25h  Preparing metadata (setup.py) ... \u001b[?25l\u001b[?25hdone\n",
            "\u001b[2K     \u001b[90m━━━━━━━━━━━━━━━━━━━━━━━━━━━━━━━━━━━━━━━━\u001b[0m \u001b[32m49.1/49.1 kB\u001b[0m \u001b[31m3.7 MB/s\u001b[0m eta \u001b[36m0:00:00\u001b[0m\n",
            "\u001b[?25h  Preparing metadata (setup.py) ... \u001b[?25l\u001b[?25hdone\n",
            "\u001b[2K     \u001b[90m━━━━━━━━━━━━━━━━━━━━━━━━━━━━━━━━━━━━━━━━\u001b[0m \u001b[32m48.8/48.8 kB\u001b[0m \u001b[31m4.0 MB/s\u001b[0m eta \u001b[36m0:00:00\u001b[0m\n",
            "\u001b[?25h  Preparing metadata (setup.py) ... \u001b[?25l\u001b[?25hdone\n",
            "\u001b[2K     \u001b[90m━━━━━━━━━━━━━━━━━━━━━━━━━━━━━━━━━━━━━━━━\u001b[0m \u001b[32m48.2/48.2 kB\u001b[0m \u001b[31m3.6 MB/s\u001b[0m eta \u001b[36m0:00:00\u001b[0m\n",
            "\u001b[?25h  Preparing metadata (setup.py) ... \u001b[?25l\u001b[?25hdone\n",
            "\u001b[2K     \u001b[90m━━━━━━━━━━━━━━━━━━━━━━━━━━━━━━━━━━━━━━━━\u001b[0m \u001b[32m48.1/48.1 kB\u001b[0m \u001b[31m4.2 MB/s\u001b[0m eta \u001b[36m0:00:00\u001b[0m\n",
            "\u001b[?25h  Preparing metadata (setup.py) ... \u001b[?25l\u001b[?25hdone\n",
            "\u001b[2K     \u001b[90m━━━━━━━━━━━━━━━━━━━━━━━━━━━━━━━━━━━━━━━━\u001b[0m \u001b[32m48.0/48.0 kB\u001b[0m \u001b[31m3.7 MB/s\u001b[0m eta \u001b[36m0:00:00\u001b[0m\n",
            "\u001b[?25h  Preparing metadata (setup.py) ... \u001b[?25l\u001b[?25hdone\n",
            "\u001b[2K     \u001b[90m━━━━━━━━━━━━━━━━━━━━━━━━━━━━━━━━━━━━━━━━\u001b[0m \u001b[32m47.3/47.3 kB\u001b[0m \u001b[31m3.7 MB/s\u001b[0m eta \u001b[36m0:00:00\u001b[0m\n",
            "\u001b[?25h  Preparing metadata (setup.py) ... \u001b[?25l\u001b[?25hdone\n",
            "\u001b[2K     \u001b[90m━━━━━━━━━━━━━━━━━━━━━━━━━━━━━━━━━━━━━━━━\u001b[0m \u001b[32m45.1/45.1 kB\u001b[0m \u001b[31m3.1 MB/s\u001b[0m eta \u001b[36m0:00:00\u001b[0m\n",
            "\u001b[2K     \u001b[90m━━━━━━━━━━━━━━━━━━━━━━━━━━━━━━━━━━━━━━━━\u001b[0m \u001b[32m45.0/45.0 kB\u001b[0m \u001b[31m3.0 MB/s\u001b[0m eta \u001b[36m0:00:00\u001b[0m\n",
            "\u001b[2K     \u001b[90m━━━━━━━━━━━━━━━━━━━━━━━━━━━━━━━━━━━━━━━━\u001b[0m \u001b[32m43.7/43.7 kB\u001b[0m \u001b[31m3.0 MB/s\u001b[0m eta \u001b[36m0:00:00\u001b[0m\n",
            "\u001b[2K     \u001b[90m━━━━━━━━━━━━━━━━━━━━━━━━━━━━━━━━━━━━━━━━\u001b[0m \u001b[32m42.9/42.9 kB\u001b[0m \u001b[31m3.1 MB/s\u001b[0m eta \u001b[36m0:00:00\u001b[0m\n",
            "\u001b[2K     \u001b[90m━━━━━━━━━━━━━━━━━━━━━━━━━━━━━━━━━━━━━━━━\u001b[0m \u001b[32m42.1/42.1 kB\u001b[0m \u001b[31m2.2 MB/s\u001b[0m eta \u001b[36m0:00:00\u001b[0m\n",
            "\u001b[2K     \u001b[90m━━━━━━━━━━━━━━━━━━━━━━━━━━━━━━━━━━━━━━━━\u001b[0m \u001b[32m42.1/42.1 kB\u001b[0m \u001b[31m2.3 MB/s\u001b[0m eta \u001b[36m0:00:00\u001b[0m\n",
            "\u001b[2K     \u001b[90m━━━━━━━━━━━━━━━━━━━━━━━━━━━━━━━━━━━━━━━━\u001b[0m \u001b[32m41.6/41.6 kB\u001b[0m \u001b[31m4.1 MB/s\u001b[0m eta \u001b[36m0:00:00\u001b[0m\n",
            "\u001b[2K     \u001b[90m━━━━━━━━━━━━━━━━━━━━━━━━━━━━━━━━━━━━━━━━\u001b[0m \u001b[32m40.8/40.8 kB\u001b[0m \u001b[31m3.4 MB/s\u001b[0m eta \u001b[36m0:00:00\u001b[0m\n",
            "\u001b[2K     \u001b[90m━━━━━━━━━━━━━━━━━━━━━━━━━━━━━━━━━━━━━━━━\u001b[0m \u001b[32m40.8/40.8 kB\u001b[0m \u001b[31m3.4 MB/s\u001b[0m eta \u001b[36m0:00:00\u001b[0m\n",
            "\u001b[2K     \u001b[90m━━━━━━━━━━━━━━━━━━━━━━━━━━━━━━━━━━━━━━━━\u001b[0m \u001b[32m40.7/40.7 kB\u001b[0m \u001b[31m3.4 MB/s\u001b[0m eta \u001b[36m0:00:00\u001b[0m\n",
            "\u001b[2K     \u001b[90m━━━━━━━━━━━━━━━━━━━━━━━━━━━━━━━━━━━━━━\u001b[0m \u001b[32m115.1/115.1 kB\u001b[0m \u001b[31m10.9 MB/s\u001b[0m eta \u001b[36m0:00:00\u001b[0m\n",
            "\u001b[2K     \u001b[90m━━━━━━━━━━━━━━━━━━━━━━━━━━━━━━━━━━━━━━\u001b[0m \u001b[32m114.7/114.7 kB\u001b[0m \u001b[31m11.0 MB/s\u001b[0m eta \u001b[36m0:00:00\u001b[0m\n",
            "\u001b[2K     \u001b[90m━━━━━━━━━━━━━━━━━━━━━━━━━━━━━━━━━━━━━━\u001b[0m \u001b[32m111.7/111.7 kB\u001b[0m \u001b[31m10.0 MB/s\u001b[0m eta \u001b[36m0:00:00\u001b[0m\n",
            "\u001b[2K     \u001b[90m━━━━━━━━━━━━━━━━━━━━━━━━━━━━━━━━━━━━━━━\u001b[0m \u001b[32m108.3/108.3 kB\u001b[0m \u001b[31m9.3 MB/s\u001b[0m eta \u001b[36m0:00:00\u001b[0m\n",
            "\u001b[?25h"
          ]
        }
      ]
    },
    {
      "cell_type": "markdown",
      "metadata": {
        "id": "oQSANzasIUX3"
      },
      "source": [
        "<a name=\"p1\"></a>\n",
        "\n",
        "---\n",
        "## **Part 1: Using Visualizations to Identify Bias**\n",
        "---\n",
        "\n",
        "We will be exploring UCI's [Adult Data Set](https://archive-beta.ics.uci.edu/ml/datasets/adult) and the bias inherent within it. This data was intended to inspect incomes over $50K based on census data in 1994, but as we will discover, there are some pitfalls with this data set. The following table will provide a description of what each column in the data set represents.\n",
        "\n",
        "<br>\n",
        "\n",
        "**NOTE:** This data set was derived from 'Census Data'. For this project, we are assuming this refers to the US Census Data for the year 1994. Our comparisons for visualizations reflect this assumption.\n",
        "\n",
        "<br>\n",
        "\n",
        "**Run the cell below to load the data.**"
      ]
    },
    {
      "cell_type": "code",
      "execution_count": 4,
      "metadata": {
        "id": "MvEtVccZzaDl",
        "colab": {
          "base_uri": "https://localhost:8080/",
          "height": 392
        },
        "outputId": "d636f898-014d-415b-d7e6-87c575a77999"
      },
      "outputs": [
        {
          "output_type": "execute_result",
          "data": {
            "text/plain": [
              "   Age          Workclass  Final-Weight   Education  \\\n",
              "0   39          State-gov         77516   Bachelors   \n",
              "1   50   Self-emp-not-inc         83311   Bachelors   \n",
              "2   38            Private        215646     HS-grad   \n",
              "3   53            Private        234721        11th   \n",
              "4   28            Private        338409   Bachelors   \n",
              "\n",
              "   Education-number-of-years       Marital-status          Occupation  \\\n",
              "0                         13        Never-married        Adm-clerical   \n",
              "1                         13   Married-civ-spouse     Exec-managerial   \n",
              "2                          9             Divorced   Handlers-cleaners   \n",
              "3                          7   Married-civ-spouse   Handlers-cleaners   \n",
              "4                         13   Married-civ-spouse      Prof-specialty   \n",
              "\n",
              "     Relationship    Race      Sex  Capital-gain  Capital-loss  \\\n",
              "0   Not-in-family   White     Male          2174             0   \n",
              "1         Husband   White     Male             0             0   \n",
              "2   Not-in-family   White     Male             0             0   \n",
              "3         Husband   Black     Male             0             0   \n",
              "4            Wife   Black   Female             0             0   \n",
              "\n",
              "   Hours-per-week  Native-country  Target  \n",
              "0              40   United-States   <=50K  \n",
              "1              13   United-States   <=50K  \n",
              "2              40   United-States   <=50K  \n",
              "3              40   United-States   <=50K  \n",
              "4              40            Cuba   <=50K  "
            ],
            "text/html": [
              "\n",
              "\n",
              "  <div id=\"df-8081468a-23e3-42ce-a8f4-6ee39358627d\">\n",
              "    <div class=\"colab-df-container\">\n",
              "      <div>\n",
              "<style scoped>\n",
              "    .dataframe tbody tr th:only-of-type {\n",
              "        vertical-align: middle;\n",
              "    }\n",
              "\n",
              "    .dataframe tbody tr th {\n",
              "        vertical-align: top;\n",
              "    }\n",
              "\n",
              "    .dataframe thead th {\n",
              "        text-align: right;\n",
              "    }\n",
              "</style>\n",
              "<table border=\"1\" class=\"dataframe\">\n",
              "  <thead>\n",
              "    <tr style=\"text-align: right;\">\n",
              "      <th></th>\n",
              "      <th>Age</th>\n",
              "      <th>Workclass</th>\n",
              "      <th>Final-Weight</th>\n",
              "      <th>Education</th>\n",
              "      <th>Education-number-of-years</th>\n",
              "      <th>Marital-status</th>\n",
              "      <th>Occupation</th>\n",
              "      <th>Relationship</th>\n",
              "      <th>Race</th>\n",
              "      <th>Sex</th>\n",
              "      <th>Capital-gain</th>\n",
              "      <th>Capital-loss</th>\n",
              "      <th>Hours-per-week</th>\n",
              "      <th>Native-country</th>\n",
              "      <th>Target</th>\n",
              "    </tr>\n",
              "  </thead>\n",
              "  <tbody>\n",
              "    <tr>\n",
              "      <th>0</th>\n",
              "      <td>39</td>\n",
              "      <td>State-gov</td>\n",
              "      <td>77516</td>\n",
              "      <td>Bachelors</td>\n",
              "      <td>13</td>\n",
              "      <td>Never-married</td>\n",
              "      <td>Adm-clerical</td>\n",
              "      <td>Not-in-family</td>\n",
              "      <td>White</td>\n",
              "      <td>Male</td>\n",
              "      <td>2174</td>\n",
              "      <td>0</td>\n",
              "      <td>40</td>\n",
              "      <td>United-States</td>\n",
              "      <td>&lt;=50K</td>\n",
              "    </tr>\n",
              "    <tr>\n",
              "      <th>1</th>\n",
              "      <td>50</td>\n",
              "      <td>Self-emp-not-inc</td>\n",
              "      <td>83311</td>\n",
              "      <td>Bachelors</td>\n",
              "      <td>13</td>\n",
              "      <td>Married-civ-spouse</td>\n",
              "      <td>Exec-managerial</td>\n",
              "      <td>Husband</td>\n",
              "      <td>White</td>\n",
              "      <td>Male</td>\n",
              "      <td>0</td>\n",
              "      <td>0</td>\n",
              "      <td>13</td>\n",
              "      <td>United-States</td>\n",
              "      <td>&lt;=50K</td>\n",
              "    </tr>\n",
              "    <tr>\n",
              "      <th>2</th>\n",
              "      <td>38</td>\n",
              "      <td>Private</td>\n",
              "      <td>215646</td>\n",
              "      <td>HS-grad</td>\n",
              "      <td>9</td>\n",
              "      <td>Divorced</td>\n",
              "      <td>Handlers-cleaners</td>\n",
              "      <td>Not-in-family</td>\n",
              "      <td>White</td>\n",
              "      <td>Male</td>\n",
              "      <td>0</td>\n",
              "      <td>0</td>\n",
              "      <td>40</td>\n",
              "      <td>United-States</td>\n",
              "      <td>&lt;=50K</td>\n",
              "    </tr>\n",
              "    <tr>\n",
              "      <th>3</th>\n",
              "      <td>53</td>\n",
              "      <td>Private</td>\n",
              "      <td>234721</td>\n",
              "      <td>11th</td>\n",
              "      <td>7</td>\n",
              "      <td>Married-civ-spouse</td>\n",
              "      <td>Handlers-cleaners</td>\n",
              "      <td>Husband</td>\n",
              "      <td>Black</td>\n",
              "      <td>Male</td>\n",
              "      <td>0</td>\n",
              "      <td>0</td>\n",
              "      <td>40</td>\n",
              "      <td>United-States</td>\n",
              "      <td>&lt;=50K</td>\n",
              "    </tr>\n",
              "    <tr>\n",
              "      <th>4</th>\n",
              "      <td>28</td>\n",
              "      <td>Private</td>\n",
              "      <td>338409</td>\n",
              "      <td>Bachelors</td>\n",
              "      <td>13</td>\n",
              "      <td>Married-civ-spouse</td>\n",
              "      <td>Prof-specialty</td>\n",
              "      <td>Wife</td>\n",
              "      <td>Black</td>\n",
              "      <td>Female</td>\n",
              "      <td>0</td>\n",
              "      <td>0</td>\n",
              "      <td>40</td>\n",
              "      <td>Cuba</td>\n",
              "      <td>&lt;=50K</td>\n",
              "    </tr>\n",
              "  </tbody>\n",
              "</table>\n",
              "</div>\n",
              "      <button class=\"colab-df-convert\" onclick=\"convertToInteractive('df-8081468a-23e3-42ce-a8f4-6ee39358627d')\"\n",
              "              title=\"Convert this dataframe to an interactive table.\"\n",
              "              style=\"display:none;\">\n",
              "\n",
              "  <svg xmlns=\"http://www.w3.org/2000/svg\" height=\"24px\"viewBox=\"0 0 24 24\"\n",
              "       width=\"24px\">\n",
              "    <path d=\"M0 0h24v24H0V0z\" fill=\"none\"/>\n",
              "    <path d=\"M18.56 5.44l.94 2.06.94-2.06 2.06-.94-2.06-.94-.94-2.06-.94 2.06-2.06.94zm-11 1L8.5 8.5l.94-2.06 2.06-.94-2.06-.94L8.5 2.5l-.94 2.06-2.06.94zm10 10l.94 2.06.94-2.06 2.06-.94-2.06-.94-.94-2.06-.94 2.06-2.06.94z\"/><path d=\"M17.41 7.96l-1.37-1.37c-.4-.4-.92-.59-1.43-.59-.52 0-1.04.2-1.43.59L10.3 9.45l-7.72 7.72c-.78.78-.78 2.05 0 2.83L4 21.41c.39.39.9.59 1.41.59.51 0 1.02-.2 1.41-.59l7.78-7.78 2.81-2.81c.8-.78.8-2.07 0-2.86zM5.41 20L4 18.59l7.72-7.72 1.47 1.35L5.41 20z\"/>\n",
              "  </svg>\n",
              "      </button>\n",
              "\n",
              "\n",
              "\n",
              "    <div id=\"df-a0edaa29-2d1e-4f4e-9116-39c02917136a\">\n",
              "      <button class=\"colab-df-quickchart\" onclick=\"quickchart('df-a0edaa29-2d1e-4f4e-9116-39c02917136a')\"\n",
              "              title=\"Suggest charts.\"\n",
              "              style=\"display:none;\">\n",
              "\n",
              "<svg xmlns=\"http://www.w3.org/2000/svg\" height=\"24px\"viewBox=\"0 0 24 24\"\n",
              "     width=\"24px\">\n",
              "    <g>\n",
              "        <path d=\"M19 3H5c-1.1 0-2 .9-2 2v14c0 1.1.9 2 2 2h14c1.1 0 2-.9 2-2V5c0-1.1-.9-2-2-2zM9 17H7v-7h2v7zm4 0h-2V7h2v10zm4 0h-2v-4h2v4z\"/>\n",
              "    </g>\n",
              "</svg>\n",
              "      </button>\n",
              "    </div>\n",
              "\n",
              "<style>\n",
              "  .colab-df-quickchart {\n",
              "    background-color: #E8F0FE;\n",
              "    border: none;\n",
              "    border-radius: 50%;\n",
              "    cursor: pointer;\n",
              "    display: none;\n",
              "    fill: #1967D2;\n",
              "    height: 32px;\n",
              "    padding: 0 0 0 0;\n",
              "    width: 32px;\n",
              "  }\n",
              "\n",
              "  .colab-df-quickchart:hover {\n",
              "    background-color: #E2EBFA;\n",
              "    box-shadow: 0px 1px 2px rgba(60, 64, 67, 0.3), 0px 1px 3px 1px rgba(60, 64, 67, 0.15);\n",
              "    fill: #174EA6;\n",
              "  }\n",
              "\n",
              "  [theme=dark] .colab-df-quickchart {\n",
              "    background-color: #3B4455;\n",
              "    fill: #D2E3FC;\n",
              "  }\n",
              "\n",
              "  [theme=dark] .colab-df-quickchart:hover {\n",
              "    background-color: #434B5C;\n",
              "    box-shadow: 0px 1px 3px 1px rgba(0, 0, 0, 0.15);\n",
              "    filter: drop-shadow(0px 1px 2px rgba(0, 0, 0, 0.3));\n",
              "    fill: #FFFFFF;\n",
              "  }\n",
              "</style>\n",
              "\n",
              "    <script>\n",
              "      async function quickchart(key) {\n",
              "        const containerElement = document.querySelector('#' + key);\n",
              "        const charts = await google.colab.kernel.invokeFunction(\n",
              "            'suggestCharts', [key], {});\n",
              "      }\n",
              "    </script>\n",
              "\n",
              "      <script>\n",
              "\n",
              "function displayQuickchartButton(domScope) {\n",
              "  let quickchartButtonEl =\n",
              "    domScope.querySelector('#df-a0edaa29-2d1e-4f4e-9116-39c02917136a button.colab-df-quickchart');\n",
              "  quickchartButtonEl.style.display =\n",
              "    google.colab.kernel.accessAllowed ? 'block' : 'none';\n",
              "}\n",
              "\n",
              "        displayQuickchartButton(document);\n",
              "      </script>\n",
              "      <style>\n",
              "    .colab-df-container {\n",
              "      display:flex;\n",
              "      flex-wrap:wrap;\n",
              "      gap: 12px;\n",
              "    }\n",
              "\n",
              "    .colab-df-convert {\n",
              "      background-color: #E8F0FE;\n",
              "      border: none;\n",
              "      border-radius: 50%;\n",
              "      cursor: pointer;\n",
              "      display: none;\n",
              "      fill: #1967D2;\n",
              "      height: 32px;\n",
              "      padding: 0 0 0 0;\n",
              "      width: 32px;\n",
              "    }\n",
              "\n",
              "    .colab-df-convert:hover {\n",
              "      background-color: #E2EBFA;\n",
              "      box-shadow: 0px 1px 2px rgba(60, 64, 67, 0.3), 0px 1px 3px 1px rgba(60, 64, 67, 0.15);\n",
              "      fill: #174EA6;\n",
              "    }\n",
              "\n",
              "    [theme=dark] .colab-df-convert {\n",
              "      background-color: #3B4455;\n",
              "      fill: #D2E3FC;\n",
              "    }\n",
              "\n",
              "    [theme=dark] .colab-df-convert:hover {\n",
              "      background-color: #434B5C;\n",
              "      box-shadow: 0px 1px 3px 1px rgba(0, 0, 0, 0.15);\n",
              "      filter: drop-shadow(0px 1px 2px rgba(0, 0, 0, 0.3));\n",
              "      fill: #FFFFFF;\n",
              "    }\n",
              "  </style>\n",
              "\n",
              "      <script>\n",
              "        const buttonEl =\n",
              "          document.querySelector('#df-8081468a-23e3-42ce-a8f4-6ee39358627d button.colab-df-convert');\n",
              "        buttonEl.style.display =\n",
              "          google.colab.kernel.accessAllowed ? 'block' : 'none';\n",
              "\n",
              "        async function convertToInteractive(key) {\n",
              "          const element = document.querySelector('#df-8081468a-23e3-42ce-a8f4-6ee39358627d');\n",
              "          const dataTable =\n",
              "            await google.colab.kernel.invokeFunction('convertToInteractive',\n",
              "                                                     [key], {});\n",
              "          if (!dataTable) return;\n",
              "\n",
              "          const docLinkHtml = 'Like what you see? Visit the ' +\n",
              "            '<a target=\"_blank\" href=https://colab.research.google.com/notebooks/data_table.ipynb>data table notebook</a>'\n",
              "            + ' to learn more about interactive tables.';\n",
              "          element.innerHTML = '';\n",
              "          dataTable['output_type'] = 'display_data';\n",
              "          await google.colab.output.renderOutput(dataTable, element);\n",
              "          const docLink = document.createElement('div');\n",
              "          docLink.innerHTML = docLinkHtml;\n",
              "          element.appendChild(docLink);\n",
              "        }\n",
              "      </script>\n",
              "    </div>\n",
              "  </div>\n"
            ]
          },
          "metadata": {},
          "execution_count": 4
        }
      ],
      "source": [
        "url = \"https://raw.githubusercontent.com/batuhansahincanel/UCIsAdultDataset/main/adult.data\" #\"https://raw.githubusercontent.com/batuhansahincanel/UCIsAdultDataset/main/adult.data\"\n",
        "names=[\"Age\", \"Workclass\", \"Final-Weight\", \"Education\", \"Education-number-of-years\", \"Marital-status\",\n",
        "        \"Occupation\", \"Relationship\", \"Race\", \"Sex\", \"Capital-gain\", \"Capital-loss\",\n",
        "        \"Hours-per-week\", \"Native-country\", \"Target\"]\n",
        "\n",
        "adult = pd.read_csv(url, names = names)\n",
        "adult = adult.dropna()\n",
        "adult.head()"
      ]
    },
    {
      "cell_type": "markdown",
      "metadata": {
        "id": "12SLuFwL7HRF"
      },
      "source": [
        "### **Problem #1.1: Sex Distribution**\n",
        "\n",
        "Complete the code below to create a bar graph for the sex distribution in this dataset. What do you notice in the visualization?"
      ]
    },
    {
      "cell_type": "code",
      "source": [
        "sex_labels = adult[\"Sex\"].unique()\n",
        "sex_counts = adult[\"Sex\"].value_counts(normalize=True)\n",
        "\n",
        "plt.bar(sex_labels,sex_counts)\n",
        "\n",
        "plt.title('Sex Distribution in the Data', fontweight = 'bold')\n",
        "plt.xlabel('Sex', fontweight = 'bold')\n",
        "plt.ylabel('Number of Adults', fontweight = 'bold')\n",
        "\n",
        "plt.show()"
      ],
      "metadata": {
        "id": "5BtRPrnnNe06",
        "colab": {
          "base_uri": "https://localhost:8080/",
          "height": 472
        },
        "outputId": "1c9b9e46-c728-4474-d15f-8da533149026"
      },
      "execution_count": 7,
      "outputs": [
        {
          "output_type": "display_data",
          "data": {
            "text/plain": [
              "<Figure size 640x480 with 1 Axes>"
            ],
            "image/png": "[encoded data removed]"
          },
          "metadata": {}
        }
      ]
    },
    {
      "cell_type": "markdown",
      "metadata": {
        "id": "hjV36iXJ6FCZ"
      },
      "source": [
        "#### **Follow Up**\n",
        "\n",
        "You may have noticed that there is approximately double the amount of males than females in our data. This is a big red flag. If the data were truly representative of the US population in 1994, there would actually be 50.9% females compared to the 49.1% of males."
      ]
    },
    {
      "cell_type": "markdown",
      "metadata": {
        "id": "PekvfD-8OTFD"
      },
      "source": [
        "### **Problem #1.2: Race Distribution**\n",
        "\n",
        "Complete the code below to create a bar graph for the race distribution in this dataset. What do you notice in the visualization?\n",
        "\n",
        "<br>\n",
        "\n",
        "Consider using the following when creating your graph to make the x-ticks more readable: `plt.xticks(rotation = 45)`."
      ]
    },
    {
      "cell_type": "code",
      "source": [
        "race_labels = adult[\"Race\"].unique()\n",
        "race_counts = adult[\"Race\"].value_counts(normalize = True)\n",
        "\n",
        "plt.bar(race_labels, race_counts, color = 'green')\n",
        "\n",
        "plt.title('Demographics in the Data', fontweight = 'bold')\n",
        "plt.xlabel('Ethnicity', fontweight = 'bold')\n",
        "plt.ylabel('Number of Adults', fontweight = 'bold')\n",
        "plt.xticks(rotation = 45)\n",
        "\n",
        "plt.show()"
      ],
      "metadata": {
        "id": "NDY7T73QOTFE",
        "colab": {
          "base_uri": "https://localhost:8080/",
          "height": 569
        },
        "outputId": "8e82b8f0-9fc6-419a-ca57-27310ff6275a"
      },
      "execution_count": 9,
      "outputs": [
        {
          "output_type": "display_data",
          "data": {
            "text/plain": [
              "<Figure size 640x480 with 1 Axes>"
            ],
            "image/png": "[encoded data removed]"
          },
          "metadata": {}
        }
      ]
    },
    {
      "cell_type": "markdown",
      "metadata": {
        "id": "iP_Yn0Ms7Ox9"
      },
      "source": [
        "#### **NOTE**\n",
        "\n",
        "This part of the data is also off! In the 1990s, approximately 80% of the population was white; 12% black; 1% American Indian, Eskimo, and Aleut; 3% Asian Pacific Islander; and the final 4% falling under the 'other' category. Our visual shows approximately 85% white, 10% black, and the remainder other minorities. While this ratio is not off by as large of amount as it was for the sex distribution, this data is still misrepresenting the US population."
      ]
    },
    {
      "cell_type": "markdown",
      "metadata": {
        "id": "Mxs_wHnWPTBj"
      },
      "source": [
        "### **Problem #1.3: Education Distribution**\n",
        "\n",
        "Create a bar graph for the education distribution in this dataset. What do you notice in the visualization?"
      ]
    },
    {
      "cell_type": "code",
      "source": [
        "education_labels = adult[\"Education\"].unique()\n",
        "education_counts = adult[\"Education\"].value_counts()\n",
        "\n",
        "plt.bar(education_labels, education_counts, color = 'lightblue')\n",
        "\n",
        "#plt.title('Education Levels in the Data', fontweight = 'bold')\n",
        "#plt.xlabel('Education Level', fontweight = 'bold')\n",
        "#plt.ylabel('Number of Adults', fontweight = 'bold')\n",
        "#plt.xticks(rotation = 90)\n",
        "\n",
        "#plt.show()\n",
        "\n",
        "print(education_labels)\n",
        "print(education_counts)\n",
        "print(education_counts.index)"
      ],
      "metadata": {
        "id": "2vCbiuyQPTBk",
        "colab": {
          "base_uri": "https://localhost:8080/",
          "height": 859
        },
        "outputId": "4c429c53-fb3f-4044-d928-d43b67caac54"
      },
      "execution_count": 8,
      "outputs": [
        {
          "output_type": "stream",
          "name": "stdout",
          "text": [
            "[' Bachelors' ' HS-grad' ' 11th' ' Masters' ' 9th' ' Some-college'\n",
            " ' Assoc-acdm' ' Assoc-voc' ' 7th-8th' ' Doctorate' ' Prof-school'\n",
            " ' 5th-6th' ' 10th' ' 1st-4th' ' Preschool' ' 12th']\n",
            " HS-grad         10501\n",
            " Some-college     7291\n",
            " Bachelors        5355\n",
            " Masters          1723\n",
            " Assoc-voc        1382\n",
            " 11th             1175\n",
            " Assoc-acdm       1067\n",
            " 10th              933\n",
            " 7th-8th           646\n",
            " Prof-school       576\n",
            " 9th               514\n",
            " 12th              433\n",
            " Doctorate         413\n",
            " 5th-6th           333\n",
            " 1st-4th           168\n",
            " Preschool          51\n",
            "Name: Education, dtype: int64\n",
            "Index([' HS-grad', ' Some-college', ' Bachelors', ' Masters', ' Assoc-voc',\n",
            "       ' 11th', ' Assoc-acdm', ' 10th', ' 7th-8th', ' Prof-school', ' 9th',\n",
            "       ' 12th', ' Doctorate', ' 5th-6th', ' 1st-4th', ' Preschool'],\n",
            "      dtype='object')\n"
          ]
        },
        {
          "output_type": "display_data",
          "data": {
            "text/plain": [
              "<Figure size 640x480 with 1 Axes>"
            ],
            "image/png": "[encoded data removed]"
          },
          "metadata": {}
        }
      ]
    },
    {
      "cell_type": "markdown",
      "source": [
        "#### **NOTE**\n",
        "\n",
        "The number of highschool graduates is more than 33% compared to college graduates and almost 50% more compared to individuals with bachelor's degrees."
      ],
      "metadata": {
        "id": "yKZJf8KkdlgD"
      }
    },
    {
      "cell_type": "markdown",
      "metadata": {
        "id": "wmS3l9rYQUjr"
      },
      "source": [
        "### **Problem #1.4: Education Distribution Revised**\n",
        "\n",
        "Modify your solution from above so that the counts for:\n",
        "* `1st-4th` and `5th-6th` are grouped under a new label: `Elementary`.\n",
        "* `9th`, `10th`, `11th`, `12th` are grouped under a new label: `High School`."
      ]
    },
    {
      "cell_type": "code",
      "source": [
        "education_dict = adult[\"Education\"].value_counts().to_dict()\n",
        "\n",
        "# Group all elementary\n",
        "education_dict[\"Elementary\"] = 0\n",
        "for value in [' 1st-4th', ' 5th-6th']:\n",
        "    education_dict[\"Elementary\"] += education_dict.pop(value)\n",
        "\n",
        "# Group all High School\n",
        "education_dict[\"High School\"] = 0\n",
        "for value in [' 9th', ' 10th', ' 11th', ' 12th']:\n",
        "    education_dict[\"High School\"] += education_dict.pop(value)\n",
        "\n",
        "education_labels = education_dict.keys()\n",
        "education_counts = education_dict.values()\n",
        "\n",
        "\n",
        "plt.bar(education_labels, education_counts, color = 'lightblue')\n",
        "\n",
        "plt.title('Education Levels in the Data', fontweight = 'bold')\n",
        "plt.xlabel('Education Level', fontweight = 'bold')\n",
        "plt.ylabel('Number of Adults', fontweight = 'bold')\n",
        "plt.xticks(rotation = 45)\n",
        "\n",
        "plt.show()"
      ],
      "metadata": {
        "id": "keR6Z5sgQUjr",
        "colab": {
          "base_uri": "https://localhost:8080/",
          "height": 537
        },
        "outputId": "fa043b88-db6a-4e3b-8b3d-8cbec3c5ea24"
      },
      "execution_count": 10,
      "outputs": [
        {
          "output_type": "display_data",
          "data": {
            "text/plain": [
              "<Figure size 640x480 with 1 Axes>"
            ],
            "image/png": "[encoded data removed]"
          },
          "metadata": {}
        }
      ]
    },
    {
      "cell_type": "markdown",
      "metadata": {
        "id": "mAzN3_hNRA89"
      },
      "source": [
        "### **Problem #1.5: Income Distribution**\n",
        "\n",
        "\n",
        "Create a bar graph for the target (income above or below 50K). What do you notice?"
      ]
    },
    {
      "cell_type": "code",
      "source": [
        "target_labels = adult[\"Target\"].unique()\n",
        "target_counts = adult[\"Target\"].value_counts(normalize=True)\n",
        "\n",
        "plt.bar(target_labels, target_counts, color = 'darkblue')\n",
        "\n",
        "plt.title('Income Levels in the Data', fontweight = 'bold')\n",
        "plt.xlabel('Income Level', fontweight = 'bold')\n",
        "plt.ylabel('Number of Adults', fontweight = 'bold')\n",
        "\n",
        "plt.show()"
      ],
      "metadata": {
        "id": "HRjQ9u6VRA8-",
        "colab": {
          "base_uri": "https://localhost:8080/",
          "height": 472
        },
        "outputId": "7f1392c5-9756-4690-c1ac-578a25830f30"
      },
      "execution_count": 11,
      "outputs": [
        {
          "output_type": "display_data",
          "data": {
            "text/plain": [
              "<Figure size 640x480 with 1 Axes>"
            ],
            "image/png": "[encoded data removed]"
          },
          "metadata": {}
        }
      ]
    },
    {
      "cell_type": "markdown",
      "metadata": {
        "id": "HK_twNzlCUEh"
      },
      "source": [
        "#### **NOTE**\n",
        "\n",
        "While we do not have as much information about the exact values of earnings for the year 1994, we must remember that this is our target data. It would be ideal to have equal amounts of both categories for our model."
      ]
    },
    {
      "cell_type": "markdown",
      "metadata": {
        "id": "gJ8eXh9WRT9Y"
      },
      "source": [
        "### **Problem #1.6: Target by Sex**\n",
        "\n",
        "Create a new feature, `Target by Sex`, that designates any person with:\n",
        "* `Target` of `' <=50K'` and `Sex` of `' Male'` as `'Male <=50K'`.\n",
        "* `Target` of `' <=50K'` and `Sex` of `' Female'` as `'Female <=50K'`.\n",
        "* `Target` of `' >50K'` and `Sex` of `' Male'` as `'Male >50K'`.\n",
        "* `Target` of `' >50K'` and `Sex` of `' Female'` as `'Female >50K'`.\n",
        "\n",
        "\n",
        "Then create a bar plot of this feature."
      ]
    },
    {
      "cell_type": "code",
      "source": [
        "adult.loc[(adult['Target'] == ' <=50K') & (adult['Sex'] == ' Male'), 'Target by Sex'] = 'Male <=50K'\n",
        "adult.loc[(adult['Target'] == ' <=50K') & (adult['Sex'] == ' Female'), 'Target by Sex'] = 'Female <=50K'\n",
        "adult.loc[(adult['Target'] == ' >50K') & (adult['Sex'] == ' Male'), 'Target by Sex'] = 'Male >50K'\n",
        "adult.loc[(adult['Target'] == ' >50K') & (adult['Sex'] == ' Female'), 'Target by Sex'] = 'Female >50K'\n",
        "\n",
        "target_by_sex_labels = adult[\"Target by Sex\"].unique()\n",
        "target_by_sex_counts = adult[\"Target by Sex\"].value_counts()\n",
        "\n",
        "plt.bar(target_by_sex_labels, target_by_sex_counts, color = 'darkblue')\n",
        "\n",
        "plt.title('Income Levels by Sex in the Data', fontweight = 'bold')\n",
        "plt.xlabel('Income Level', fontweight = 'bold')\n",
        "plt.ylabel('Number of Adults', fontweight = 'bold')\n",
        "plt.xticks(rotation = 45)\n",
        "\n",
        "plt.show()"
      ],
      "metadata": {
        "id": "JJHRFj6wRT9Y",
        "colab": {
          "base_uri": "https://localhost:8080/",
          "height": 541
        },
        "outputId": "fdfbbb5a-1f0c-43e6-c9cb-4ff1633e0b98"
      },
      "execution_count": 12,
      "outputs": [
        {
          "output_type": "display_data",
          "data": {
            "text/plain": [
              "<Figure size 640x480 with 1 Axes>"
            ],
            "image/png": "[encoded data removed]"
          },
          "metadata": {}
        }
      ]
    },
    {
      "cell_type": "markdown",
      "metadata": {
        "id": "hsTVopIGCoUW"
      },
      "source": [
        "#### **NOTE**\n",
        "\n",
        "This visual is extremely important. If we were to use sex in our model, we could easily be overfitting to the female population since our dataset for that section is much smaller than the rest of the data. Furthermore, there is not even 2,000 data points for females earning over 50K (less than 6% of our data)."
      ]
    },
    {
      "cell_type": "markdown",
      "metadata": {
        "id": "DmqbxTGdIXlV"
      },
      "source": [
        "<a name=\"p2\"></a>\n",
        "\n",
        "---\n",
        "## **Part 2: Using AWS Clarify to Identify Bias**\n",
        "---\n",
        "\n",
        "In this section, we are going to use Clarify to identify bias. This method is *much faster* than creating bar graphs for every column.\n",
        "\n",
        "Here is an AWS Clarify [cheatsheet](https://docs.google.com/document/d/1vvwmoWuGlfko7FpwnkjOF844TDLvHYTfG9EG5E7v0L0/edit?usp=sharing) for interpretting results.\n",
        "\n"
      ]
    },
    {
      "cell_type": "markdown",
      "source": [
        "### **Problem #2.1: AWS Clarify & UCI's Adult Dataset**\n"
      ],
      "metadata": {
        "id": "jmgj1tsvA6hQ"
      }
    },
    {
      "cell_type": "markdown",
      "source": [
        "#### **Steps #1-2: Load the data and import packages.**\n",
        "\n",
        "\n",
        "This step has been completed in the first code cell."
      ],
      "metadata": {
        "id": "hNrfTp0HBG_S"
      }
    },
    {
      "cell_type": "markdown",
      "source": [
        "#### **Step #3: Denote the facet column, the label column, and the group variable.**\n",
        "\n",
        "\n",
        "Set the:\n",
        "* Facet column as `Sex`.\n",
        "* Label column with `Target` as the target column and `' >50K'` as the positive label.\n",
        "* `Sex` as the group variable."
      ],
      "metadata": {
        "id": "Oz1fxr_Ho2M9"
      }
    },
    {
      "cell_type": "code",
      "source": [
        "facet_column = FacetColumn('Sex')\n",
        "label_column = LabelColumn('Target', adult['Target'], [' >50K'])\n",
        "group_variable = adult['Sex']"
      ],
      "metadata": {
        "id": "5T211wR_WOmh"
      },
      "execution_count": 13,
      "outputs": []
    },
    {
      "cell_type": "markdown",
      "source": [
        "#### **Step #4: Generate bias report.**\n",
        "\n",
        "Check out the [cheat sheet](https://docs.google.com/document/d/1GbjF8EXenn_7ZigHBLAdKfBZFhGu7LmBnMaR6161NgI/edit?usp=sharing) to see how to interpret pre-training metrics. Using this page, interpret what the following report is saying.\n",
        "\n",
        "<br>\n",
        "\n",
        "**Run the cell below to generate your bias report.**"
      ],
      "metadata": {
        "id": "heQjrb8ko7hV"
      }
    },
    {
      "cell_type": "code",
      "execution_count": 14,
      "metadata": {
        "id": "BUmS-Ol_5V0i",
        "colab": {
          "base_uri": "https://localhost:8080/"
        },
        "outputId": "ceba3d5b-de52-41a2-c82c-e8210ba728cb"
      },
      "outputs": [
        {
          "output_type": "stream",
          "name": "stdout",
          "text": [
            "\n",
            "\n",
            " -----------------------------------\n",
            "---------------  Male ---------------\n",
            "Conditional Demographic Disparity in Labels (CDDL): 0.0\n",
            "Class Imbalance (CI): -0.33841098246368356\n",
            "Difference in Positive Proportions in Labels (DPL): -0.19627598779361352\n",
            "Jensen-Shannon Divergence (JS): 0.030241092804852217\n",
            "Kullback-Liebler Divergence (KL): 0.10928938730742264\n",
            "Kolmogorov-Smirnov Distance (KS): 0.19627598779361355\n",
            "L-p Norm (LP): 0.27757616390590434\n",
            "Total Variation Distance (TVD): 0.19627598779361355\n",
            "\n",
            "\n",
            " -----------------------------------\n",
            "---------------  Female ---------------\n",
            "Conditional Demographic Disparity in Labels (CDDL): 0.0\n",
            "Class Imbalance (CI): 0.33841098246368356\n",
            "Difference in Positive Proportions in Labels (DPL): 0.19627598779361352\n",
            "Jensen-Shannon Divergence (JS): 0.030241092804852217\n",
            "Kullback-Liebler Divergence (KL): 0.14118531053076427\n",
            "Kolmogorov-Smirnov Distance (KS): 0.19627598779361355\n",
            "L-p Norm (LP): 0.27757616390590434\n",
            "Total Variation Distance (TVD): 0.19627598779361355\n"
          ]
        }
      ],
      "source": [
        "report = bias_report(adult, facet_column, label_column, stage_type=StageType.PRE_TRAINING, group_variable=group_variable)\n",
        "\n",
        "# use this to print your report - call it \"report\" for the code to work\n",
        "for cl in report:\n",
        "    print(\"\\n\\n\",\"-\"*35)\n",
        "    print(\"-\"*15, cl[\"value_or_threshold\"], \"-\"*15)\n",
        "    for metric in cl['metrics']:\n",
        "        print(f\"{metric['description']}: {metric['value']}\")"
      ]
    },
    {
      "cell_type": "markdown",
      "metadata": {
        "id": "DDBZLr4m5V0i"
      },
      "source": [
        "#### **Step #5: Look at the imbalance.**\n",
        "\n",
        "Use the cheat sheet to interpret what the bias report is telling you."
      ]
    },
    {
      "cell_type": "code",
      "source": [
        "# CDD - no demographic disparity\n",
        "#CI - has more training samples\n",
        "#DPL - higher proportion of positive outcomes\n",
        "#JS - similarly distributed labels\n",
        "#KL - diverge (but not by a lot)\n",
        "#KS - relative imbalance\n",
        "#LP - diverge\n",
        "#TVD - not very similarly distributed\n"
      ],
      "metadata": {
        "id": "R-nNr8AaEP1u"
      },
      "execution_count": null,
      "outputs": []
    },
    {
      "cell_type": "code",
      "source": [
        "# CDD - no demographic disparity\n",
        "#CI - has fewer training samples\n",
        "#DPL - lower proportion of positive outcomes\n",
        "#JS - similarly distributed labels\n",
        "#KL - diverge (but not by a lot)\n",
        "#KS - relative imbalance\n",
        "#LP - diverge\n",
        "#TVD - not very similarly distributed"
      ],
      "metadata": {
        "id": "Vbb4ZiyEXTzj"
      },
      "execution_count": null,
      "outputs": []
    },
    {
      "cell_type": "markdown",
      "source": [
        "### **Problem #2.2: AWS Clarify & UCI's Parkinson's Dataset**\n",
        "\n",
        "This dataset is composed of a range of biomedical voice measurements from 42 people with early-stage Parkinson's disease recruited to a six-month trial of a telemonitoring device for remote symptom progression monitoring. The recordings were automatically captured in the patient's homes.\n",
        "\n",
        "Columns in the table contain subject number, subject age, subject gender, time interval from baseline recruitment date, motor UPDRS, total UPDRS, and 16 biomedical voice measures. Each row corresponds to one of 5,875 voice recording from these individuals. The main aim of the data is to predict the motor and total UPDRS scores ('motor_UPDRS' and 'total_UPDRS') from the 16 voice measures.\n"
      ],
      "metadata": {
        "id": "MLla63GkBgRC"
      }
    },
    {
      "cell_type": "markdown",
      "source": [
        "#### **Steps #1-2: Load the data and import packages.**\n"
      ],
      "metadata": {
        "id": "Mhs8c_YvBgRL"
      }
    },
    {
      "cell_type": "code",
      "source": [
        "url = \"https://raw.githubusercontent.com/the-codingschool/TRAIN-datasets/main/parkinsons/parkinsons.csv\"\n",
        "df = pd.read_csv(url)\n",
        "df.head()"
      ],
      "metadata": {
        "id": "GDbrhvJ0D-Ef",
        "colab": {
          "base_uri": "https://localhost:8080/",
          "height": 300
        },
        "outputId": "331d81fd-ebf3-484e-aad8-4bb6a0d96948"
      },
      "execution_count": 15,
      "outputs": [
        {
          "output_type": "execute_result",
          "data": {
            "text/plain": [
              "   subject#  age  sex  test_time  motor_UPDRS  total_UPDRS  Jitter(%)  \\\n",
              "0         1   72    0     5.6431       28.199       34.398    0.00662   \n",
              "1         1   72    0    12.6660       28.447       34.894    0.00300   \n",
              "2         1   72    0    19.6810       28.695       35.389    0.00481   \n",
              "3         1   72    0    25.6470       28.905       35.810    0.00528   \n",
              "4         1   72    0    33.6420       29.187       36.375    0.00335   \n",
              "\n",
              "   Jitter(Abs)  Jitter:RAP  Jitter:PPQ5  ...  Shimmer(dB)  Shimmer:APQ3  \\\n",
              "0     0.000034     0.00401      0.00317  ...        0.230       0.01438   \n",
              "1     0.000017     0.00132      0.00150  ...        0.179       0.00994   \n",
              "2     0.000025     0.00205      0.00208  ...        0.181       0.00734   \n",
              "3     0.000027     0.00191      0.00264  ...        0.327       0.01106   \n",
              "4     0.000020     0.00093      0.00130  ...        0.176       0.00679   \n",
              "\n",
              "   Shimmer:APQ5  Shimmer:APQ11  Shimmer:DDA       NHR     HNR     RPDE  \\\n",
              "0       0.01309        0.01662      0.04314  0.014290  21.640  0.41888   \n",
              "1       0.01072        0.01689      0.02982  0.011112  27.183  0.43493   \n",
              "2       0.00844        0.01458      0.02202  0.020220  23.047  0.46222   \n",
              "3       0.01265        0.01963      0.03317  0.027837  24.445  0.48730   \n",
              "4       0.00929        0.01819      0.02036  0.011625  26.126  0.47188   \n",
              "\n",
              "       DFA      PPE  \n",
              "0  0.54842  0.16006  \n",
              "1  0.56477  0.10810  \n",
              "2  0.54405  0.21014  \n",
              "3  0.57794  0.33277  \n",
              "4  0.56122  0.19361  \n",
              "\n",
              "[5 rows x 22 columns]"
            ],
            "text/html": [
              "\n",
              "\n",
              "  <div id=\"df-05f93946-e196-4fc4-b9ea-08c4a6018646\">\n",
              "    <div class=\"colab-df-container\">\n",
              "      <div>\n",
              "<style scoped>\n",
              "    .dataframe tbody tr th:only-of-type {\n",
              "        vertical-align: middle;\n",
              "    }\n",
              "\n",
              "    .dataframe tbody tr th {\n",
              "        vertical-align: top;\n",
              "    }\n",
              "\n",
              "    .dataframe thead th {\n",
              "        text-align: right;\n",
              "    }\n",
              "</style>\n",
              "<table border=\"1\" class=\"dataframe\">\n",
              "  <thead>\n",
              "    <tr style=\"text-align: right;\">\n",
              "      <th></th>\n",
              "      <th>subject#</th>\n",
              "      <th>age</th>\n",
              "      <th>sex</th>\n",
              "      <th>test_time</th>\n",
              "      <th>motor_UPDRS</th>\n",
              "      <th>total_UPDRS</th>\n",
              "      <th>Jitter(%)</th>\n",
              "      <th>Jitter(Abs)</th>\n",
              "      <th>Jitter:RAP</th>\n",
              "      <th>Jitter:PPQ5</th>\n",
              "      <th>...</th>\n",
              "      <th>Shimmer(dB)</th>\n",
              "      <th>Shimmer:APQ3</th>\n",
              "      <th>Shimmer:APQ5</th>\n",
              "      <th>Shimmer:APQ11</th>\n",
              "      <th>Shimmer:DDA</th>\n",
              "      <th>NHR</th>\n",
              "      <th>HNR</th>\n",
              "      <th>RPDE</th>\n",
              "      <th>DFA</th>\n",
              "      <th>PPE</th>\n",
              "    </tr>\n",
              "  </thead>\n",
              "  <tbody>\n",
              "    <tr>\n",
              "      <th>0</th>\n",
              "      <td>1</td>\n",
              "      <td>72</td>\n",
              "      <td>0</td>\n",
              "      <td>5.6431</td>\n",
              "      <td>28.199</td>\n",
              "      <td>34.398</td>\n",
              "      <td>0.00662</td>\n",
              "      <td>0.000034</td>\n",
              "      <td>0.00401</td>\n",
              "      <td>0.00317</td>\n",
              "      <td>...</td>\n",
              "      <td>0.230</td>\n",
              "      <td>0.01438</td>\n",
              "      <td>0.01309</td>\n",
              "      <td>0.01662</td>\n",
              "      <td>0.04314</td>\n",
              "      <td>0.014290</td>\n",
              "      <td>21.640</td>\n",
              "      <td>0.41888</td>\n",
              "      <td>0.54842</td>\n",
              "      <td>0.16006</td>\n",
              "    </tr>\n",
              "    <tr>\n",
              "      <th>1</th>\n",
              "      <td>1</td>\n",
              "      <td>72</td>\n",
              "      <td>0</td>\n",
              "      <td>12.6660</td>\n",
              "      <td>28.447</td>\n",
              "      <td>34.894</td>\n",
              "      <td>0.00300</td>\n",
              "      <td>0.000017</td>\n",
              "      <td>0.00132</td>\n",
              "      <td>0.00150</td>\n",
              "      <td>...</td>\n",
              "      <td>0.179</td>\n",
              "      <td>0.00994</td>\n",
              "      <td>0.01072</td>\n",
              "      <td>0.01689</td>\n",
              "      <td>0.02982</td>\n",
              "      <td>0.011112</td>\n",
              "      <td>27.183</td>\n",
              "      <td>0.43493</td>\n",
              "      <td>0.56477</td>\n",
              "      <td>0.10810</td>\n",
              "    </tr>\n",
              "    <tr>\n",
              "      <th>2</th>\n",
              "      <td>1</td>\n",
              "      <td>72</td>\n",
              "      <td>0</td>\n",
              "      <td>19.6810</td>\n",
              "      <td>28.695</td>\n",
              "      <td>35.389</td>\n",
              "      <td>0.00481</td>\n",
              "      <td>0.000025</td>\n",
              "      <td>0.00205</td>\n",
              "      <td>0.00208</td>\n",
              "      <td>...</td>\n",
              "      <td>0.181</td>\n",
              "      <td>0.00734</td>\n",
              "      <td>0.00844</td>\n",
              "      <td>0.01458</td>\n",
              "      <td>0.02202</td>\n",
              "      <td>0.020220</td>\n",
              "      <td>23.047</td>\n",
              "      <td>0.46222</td>\n",
              "      <td>0.54405</td>\n",
              "      <td>0.21014</td>\n",
              "    </tr>\n",
              "    <tr>\n",
              "      <th>3</th>\n",
              "      <td>1</td>\n",
              "      <td>72</td>\n",
              "      <td>0</td>\n",
              "      <td>25.6470</td>\n",
              "      <td>28.905</td>\n",
              "      <td>35.810</td>\n",
              "      <td>0.00528</td>\n",
              "      <td>0.000027</td>\n",
              "      <td>0.00191</td>\n",
              "      <td>0.00264</td>\n",
              "      <td>...</td>\n",
              "      <td>0.327</td>\n",
              "      <td>0.01106</td>\n",
              "      <td>0.01265</td>\n",
              "      <td>0.01963</td>\n",
              "      <td>0.03317</td>\n",
              "      <td>0.027837</td>\n",
              "      <td>24.445</td>\n",
              "      <td>0.48730</td>\n",
              "      <td>0.57794</td>\n",
              "      <td>0.33277</td>\n",
              "    </tr>\n",
              "    <tr>\n",
              "      <th>4</th>\n",
              "      <td>1</td>\n",
              "      <td>72</td>\n",
              "      <td>0</td>\n",
              "      <td>33.6420</td>\n",
              "      <td>29.187</td>\n",
              "      <td>36.375</td>\n",
              "      <td>0.00335</td>\n",
              "      <td>0.000020</td>\n",
              "      <td>0.00093</td>\n",
              "      <td>0.00130</td>\n",
              "      <td>...</td>\n",
              "      <td>0.176</td>\n",
              "      <td>0.00679</td>\n",
              "      <td>0.00929</td>\n",
              "      <td>0.01819</td>\n",
              "      <td>0.02036</td>\n",
              "      <td>0.011625</td>\n",
              "      <td>26.126</td>\n",
              "      <td>0.47188</td>\n",
              "      <td>0.56122</td>\n",
              "      <td>0.19361</td>\n",
              "    </tr>\n",
              "  </tbody>\n",
              "</table>\n",
              "<p>5 rows × 22 columns</p>\n",
              "</div>\n",
              "      <button class=\"colab-df-convert\" onclick=\"convertToInteractive('df-05f93946-e196-4fc4-b9ea-08c4a6018646')\"\n",
              "              title=\"Convert this dataframe to an interactive table.\"\n",
              "              style=\"display:none;\">\n",
              "\n",
              "  <svg xmlns=\"http://www.w3.org/2000/svg\" height=\"24px\"viewBox=\"0 0 24 24\"\n",
              "       width=\"24px\">\n",
              "    <path d=\"M0 0h24v24H0V0z\" fill=\"none\"/>\n",
              "    <path d=\"M18.56 5.44l.94 2.06.94-2.06 2.06-.94-2.06-.94-.94-2.06-.94 2.06-2.06.94zm-11 1L8.5 8.5l.94-2.06 2.06-.94-2.06-.94L8.5 2.5l-.94 2.06-2.06.94zm10 10l.94 2.06.94-2.06 2.06-.94-2.06-.94-.94-2.06-.94 2.06-2.06.94z\"/><path d=\"M17.41 7.96l-1.37-1.37c-.4-.4-.92-.59-1.43-.59-.52 0-1.04.2-1.43.59L10.3 9.45l-7.72 7.72c-.78.78-.78 2.05 0 2.83L4 21.41c.39.39.9.59 1.41.59.51 0 1.02-.2 1.41-.59l7.78-7.78 2.81-2.81c.8-.78.8-2.07 0-2.86zM5.41 20L4 18.59l7.72-7.72 1.47 1.35L5.41 20z\"/>\n",
              "  </svg>\n",
              "      </button>\n",
              "\n",
              "\n",
              "\n",
              "    <div id=\"df-b878b393-1b44-4bf8-a318-9111de01dd2d\">\n",
              "      <button class=\"colab-df-quickchart\" onclick=\"quickchart('df-b878b393-1b44-4bf8-a318-9111de01dd2d')\"\n",
              "              title=\"Suggest charts.\"\n",
              "              style=\"display:none;\">\n",
              "\n",
              "<svg xmlns=\"http://www.w3.org/2000/svg\" height=\"24px\"viewBox=\"0 0 24 24\"\n",
              "     width=\"24px\">\n",
              "    <g>\n",
              "        <path d=\"M19 3H5c-1.1 0-2 .9-2 2v14c0 1.1.9 2 2 2h14c1.1 0 2-.9 2-2V5c0-1.1-.9-2-2-2zM9 17H7v-7h2v7zm4 0h-2V7h2v10zm4 0h-2v-4h2v4z\"/>\n",
              "    </g>\n",
              "</svg>\n",
              "      </button>\n",
              "    </div>\n",
              "\n",
              "<style>\n",
              "  .colab-df-quickchart {\n",
              "    background-color: #E8F0FE;\n",
              "    border: none;\n",
              "    border-radius: 50%;\n",
              "    cursor: pointer;\n",
              "    display: none;\n",
              "    fill: #1967D2;\n",
              "    height: 32px;\n",
              "    padding: 0 0 0 0;\n",
              "    width: 32px;\n",
              "  }\n",
              "\n",
              "  .colab-df-quickchart:hover {\n",
              "    background-color: #E2EBFA;\n",
              "    box-shadow: 0px 1px 2px rgba(60, 64, 67, 0.3), 0px 1px 3px 1px rgba(60, 64, 67, 0.15);\n",
              "    fill: #174EA6;\n",
              "  }\n",
              "\n",
              "  [theme=dark] .colab-df-quickchart {\n",
              "    background-color: #3B4455;\n",
              "    fill: #D2E3FC;\n",
              "  }\n",
              "\n",
              "  [theme=dark] .colab-df-quickchart:hover {\n",
              "    background-color: #434B5C;\n",
              "    box-shadow: 0px 1px 3px 1px rgba(0, 0, 0, 0.15);\n",
              "    filter: drop-shadow(0px 1px 2px rgba(0, 0, 0, 0.3));\n",
              "    fill: #FFFFFF;\n",
              "  }\n",
              "</style>\n",
              "\n",
              "    <script>\n",
              "      async function quickchart(key) {\n",
              "        const containerElement = document.querySelector('#' + key);\n",
              "        const charts = await google.colab.kernel.invokeFunction(\n",
              "            'suggestCharts', [key], {});\n",
              "      }\n",
              "    </script>\n",
              "\n",
              "      <script>\n",
              "\n",
              "function displayQuickchartButton(domScope) {\n",
              "  let quickchartButtonEl =\n",
              "    domScope.querySelector('#df-b878b393-1b44-4bf8-a318-9111de01dd2d button.colab-df-quickchart');\n",
              "  quickchartButtonEl.style.display =\n",
              "    google.colab.kernel.accessAllowed ? 'block' : 'none';\n",
              "}\n",
              "\n",
              "        displayQuickchartButton(document);\n",
              "      </script>\n",
              "      <style>\n",
              "    .colab-df-container {\n",
              "      display:flex;\n",
              "      flex-wrap:wrap;\n",
              "      gap: 12px;\n",
              "    }\n",
              "\n",
              "    .colab-df-convert {\n",
              "      background-color: #E8F0FE;\n",
              "      border: none;\n",
              "      border-radius: 50%;\n",
              "      cursor: pointer;\n",
              "      display: none;\n",
              "      fill: #1967D2;\n",
              "      height: 32px;\n",
              "      padding: 0 0 0 0;\n",
              "      width: 32px;\n",
              "    }\n",
              "\n",
              "    .colab-df-convert:hover {\n",
              "      background-color: #E2EBFA;\n",
              "      box-shadow: 0px 1px 2px rgba(60, 64, 67, 0.3), 0px 1px 3px 1px rgba(60, 64, 67, 0.15);\n",
              "      fill: #174EA6;\n",
              "    }\n",
              "\n",
              "    [theme=dark] .colab-df-convert {\n",
              "      background-color: #3B4455;\n",
              "      fill: #D2E3FC;\n",
              "    }\n",
              "\n",
              "    [theme=dark] .colab-df-convert:hover {\n",
              "      background-color: #434B5C;\n",
              "      box-shadow: 0px 1px 3px 1px rgba(0, 0, 0, 0.15);\n",
              "      filter: drop-shadow(0px 1px 2px rgba(0, 0, 0, 0.3));\n",
              "      fill: #FFFFFF;\n",
              "    }\n",
              "  </style>\n",
              "\n",
              "      <script>\n",
              "        const buttonEl =\n",
              "          document.querySelector('#df-05f93946-e196-4fc4-b9ea-08c4a6018646 button.colab-df-convert');\n",
              "        buttonEl.style.display =\n",
              "          google.colab.kernel.accessAllowed ? 'block' : 'none';\n",
              "\n",
              "        async function convertToInteractive(key) {\n",
              "          const element = document.querySelector('#df-05f93946-e196-4fc4-b9ea-08c4a6018646');\n",
              "          const dataTable =\n",
              "            await google.colab.kernel.invokeFunction('convertToInteractive',\n",
              "                                                     [key], {});\n",
              "          if (!dataTable) return;\n",
              "\n",
              "          const docLinkHtml = 'Like what you see? Visit the ' +\n",
              "            '<a target=\"_blank\" href=https://colab.research.google.com/notebooks/data_table.ipynb>data table notebook</a>'\n",
              "            + ' to learn more about interactive tables.';\n",
              "          element.innerHTML = '';\n",
              "          dataTable['output_type'] = 'display_data';\n",
              "          await google.colab.output.renderOutput(dataTable, element);\n",
              "          const docLink = document.createElement('div');\n",
              "          docLink.innerHTML = docLinkHtml;\n",
              "          element.appendChild(docLink);\n",
              "        }\n",
              "      </script>\n",
              "    </div>\n",
              "  </div>\n"
            ]
          },
          "metadata": {},
          "execution_count": 15
        }
      ]
    },
    {
      "cell_type": "markdown",
      "source": [
        "#### **Step #3: Denote the facet column, the label column, and the group variable.**\n",
        "\n",
        "Set the:\n",
        "* Facet column as `age`.\n",
        "* Label column with `sex` as the target column and `'0'` as the positive label.\n",
        "* `age` as the group variable."
      ],
      "metadata": {
        "id": "PG2z4wc8BgRL"
      }
    },
    {
      "cell_type": "code",
      "source": [
        "facet_column = FacetColumn('age')\n",
        "label_column = LabelColumn('Target', df['sex'], [0])\n",
        "group_variable = df['age']"
      ],
      "metadata": {
        "id": "xdSnVYUNBgRL"
      },
      "execution_count": 16,
      "outputs": []
    },
    {
      "cell_type": "markdown",
      "source": [
        "#### **Step #4: Generate bias report.**\n",
        "\n",
        "\n",
        "Use the cheat sheet to interpret pre-training metrics. Using this page, interpret what the following report is saying.\n",
        "\n",
        "<br>\n",
        "\n",
        "**Run the cell below to generate your bias report.**"
      ],
      "metadata": {
        "id": "AhkttWSdBgRL"
      }
    },
    {
      "cell_type": "code",
      "execution_count": 17,
      "metadata": {
        "id": "dSSILWe8BgRL",
        "colab": {
          "base_uri": "https://localhost:8080/"
        },
        "outputId": "57c67289-bda5-4986-8233-e31ec0153cc6"
      },
      "outputs": [
        {
          "output_type": "stream",
          "name": "stdout",
          "text": [
            "\n",
            "\n",
            " -----------------------------------\n",
            "--------------- 72 ---------------\n",
            "Conditional Demographic Disparity in Labels (CDDL): -0.05276595744680851\n",
            "Class Imbalance (CI): 0.894468085106383\n",
            "Difference in Positive Proportions in Labels (DPL): -0.3354896675651393\n",
            "Jensen-Shannon Divergence (JS): 0.017021228446644887\n",
            "Kullback-Liebler Divergence (KL): -0.27158859691248927\n",
            "Kolmogorov-Smirnov Distance (KS): 0.3354896675651393\n",
            "L-p Norm (LP): 0.3354896675651393\n",
            "Total Variation Distance (TVD): 0.16774483378256966\n",
            "\n",
            "\n",
            " -----------------------------------\n",
            "--------------- 58 ---------------\n",
            "Conditional Demographic Disparity in Labels (CDDL): 0.0\n",
            "Class Imbalance (CI): 0.8539574468085106\n",
            "Difference in Positive Proportions in Labels (DPL): -0.0008316447905136748\n",
            "Jensen-Shannon Divergence (JS): 3.990149039778668e-07\n",
            "Kullback-Liebler Divergence (KL): 1.5964327743804357e-06\n",
            "Kolmogorov-Smirnov Distance (KS): 0.0008316447905137303\n",
            "L-p Norm (LP): 0.0011761233418214096\n",
            "Total Variation Distance (TVD): 0.0008316447905137025\n",
            "\n",
            "\n",
            " -----------------------------------\n",
            "--------------- 57 ---------------\n",
            "Conditional Demographic Disparity in Labels (CDDL): 0.0\n",
            "Class Imbalance (CI): 0.8689361702127659\n",
            "Difference in Positive Proportions in Labels (DPL): 0.3297991625860478\n",
            "Jensen-Shannon Divergence (JS): 0.05578771158147487\n",
            "Kullback-Liebler Divergence (KL): 0.223316477937608\n",
            "Kolmogorov-Smirnov Distance (KS): 0.3297991625860478\n",
            "L-p Norm (LP): 0.46640644858847824\n",
            "Total Variation Distance (TVD): 0.3297991625860478\n",
            "\n",
            "\n",
            " -----------------------------------\n",
            "--------------- 74 ---------------\n",
            "Conditional Demographic Disparity in Labels (CDDL): 0.0\n",
            "Class Imbalance (CI): 0.9077446808510639\n",
            "Difference in Positive Proportions in Labels (DPL): 0.18522154707628447\n",
            "Jensen-Shannon Divergence (JS): 0.01796638040404898\n",
            "Kullback-Liebler Divergence (KL): 0.07049093854193603\n",
            "Kolmogorov-Smirnov Distance (KS): 0.18522154707628447\n",
            "L-p Norm (LP): 0.2619428239190082\n",
            "Total Variation Distance (TVD): 0.18522154707628447\n",
            "\n",
            "\n",
            " -----------------------------------\n",
            "--------------- 75 ---------------\n",
            "Conditional Demographic Disparity in Labels (CDDL): -0.048680851063829786\n",
            "Class Imbalance (CI): 0.9026382978723404\n",
            "Difference in Positive Proportions in Labels (DPL): -0.3340490248702809\n",
            "Jensen-Shannon Divergence (JS): 0.01685956090718066\n",
            "Kullback-Liebler Divergence (KL): -0.2707351913643304\n",
            "Kolmogorov-Smirnov Distance (KS): 0.3340490248702809\n",
            "L-p Norm (LP): 0.3340490248702809\n",
            "Total Variation Distance (TVD): 0.16702451243514044\n",
            "\n",
            "\n",
            " -----------------------------------\n",
            "--------------- 63 ---------------\n",
            "Conditional Demographic Disparity in Labels (CDDL): -0.0265531914893617\n",
            "Class Imbalance (CI): 0.9468936170212766\n",
            "Difference in Positive Proportions in Labels (DPL): -0.3264556740688932\n",
            "Jensen-Shannon Divergence (JS): 0.016022834016795634\n",
            "Kullback-Liebler Divergence (KL): -0.26618570838985833\n",
            "Kolmogorov-Smirnov Distance (KS): 0.3264556740688932\n",
            "L-p Norm (LP): 0.3264556740688932\n",
            "Total Variation Distance (TVD): 0.1632278370344466\n",
            "\n",
            "\n",
            " -----------------------------------\n",
            "--------------- 73 ---------------\n",
            "Conditional Demographic Disparity in Labels (CDDL): 0.0\n",
            "Class Imbalance (CI): 0.8689361702127659\n",
            "Difference in Positive Proportions in Labels (DPL): 0.38816975374352425\n",
            "Jensen-Shannon Divergence (JS): 0.0774193595394827\n",
            "Kullback-Liebler Divergence (KL): 0.31575356188016324\n",
            "Kolmogorov-Smirnov Distance (KS): 0.38816975374352425\n",
            "L-p Norm (LP): 0.5489549302471165\n",
            "Total Variation Distance (TVD): 0.38816975374352425\n",
            "\n",
            "\n",
            " -----------------------------------\n",
            "--------------- 68 ---------------\n",
            "Conditional Demographic Disparity in Labels (CDDL): 0.0\n",
            "Class Imbalance (CI): 0.8920851063829788\n",
            "Difference in Positive Proportions in Labels (DPL): 0.2142794709759882\n",
            "Jensen-Shannon Divergence (JS): 0.023883354741475127\n",
            "Kullback-Liebler Divergence (KL): 0.09384385045490382\n",
            "Kolmogorov-Smirnov Distance (KS): 0.2142794709759882\n",
            "L-p Norm (LP): 0.3030369339923745\n",
            "Total Variation Distance (TVD): 0.2142794709759882\n",
            "\n",
            "\n",
            " -----------------------------------\n",
            "--------------- 55 ---------------\n",
            "Conditional Demographic Disparity in Labels (CDDL): -0.0454468085106383\n",
            "Class Imbalance (CI): 0.9091063829787234\n",
            "Difference in Positive Proportions in Labels (DPL): -0.3329172610556348\n",
            "Jensen-Shannon Divergence (JS): 0.016733211642540505\n",
            "Kullback-Liebler Divergence (KL): -0.2700625727753661\n",
            "Kolmogorov-Smirnov Distance (KS): 0.3329172610556348\n",
            "L-p Norm (LP): 0.3329172610556348\n",
            "Total Variation Distance (TVD): 0.1664586305278174\n",
            "\n",
            "\n",
            " -----------------------------------\n",
            "--------------- 62 ---------------\n",
            "Conditional Demographic Disparity in Labels (CDDL): 0.0\n",
            "Class Imbalance (CI): 0.9196595744680851\n",
            "Difference in Positive Proportions in Labels (DPL): 0.23839949383981407\n",
            "Jensen-Shannon Divergence (JS): 0.029342676837587005\n",
            "Kullback-Liebler Divergence (KL): 0.11571113869199076\n",
            "Kolmogorov-Smirnov Distance (KS): 0.23839949383981413\n",
            "L-p Norm (LP): 0.3371477974511462\n",
            "Total Variation Distance (TVD): 0.2383994938398141\n",
            "\n",
            "\n",
            " -----------------------------------\n",
            "--------------- 65 ---------------\n",
            "Conditional Demographic Disparity in Labels (CDDL): -0.06927659574468086\n",
            "Class Imbalance (CI): 0.8614468085106383\n",
            "Difference in Positive Proportions in Labels (DPL): -0.341441111923921\n",
            "Jensen-Shannon Divergence (JS): 0.01769906901260694\n",
            "Kullback-Liebler Divergence (KL): -0.2750809261953308\n",
            "Kolmogorov-Smirnov Distance (KS): 0.341441111923921\n",
            "L-p Norm (LP): 0.341441111923921\n",
            "Total Variation Distance (TVD): 0.1707205559619605\n",
            "\n",
            "\n",
            " -----------------------------------\n",
            "--------------- 66 ---------------\n",
            "Conditional Demographic Disparity in Labels (CDDL): 0.0\n",
            "Class Imbalance (CI): 0.8563404255319149\n",
            "Difference in Positive Proportions in Labels (DPL): 0.3699215962690219\n",
            "Jensen-Shannon Divergence (JS): 0.07025420635750053\n",
            "Kullback-Liebler Divergence (KL): 0.28428483578901825\n",
            "Kolmogorov-Smirnov Distance (KS): 0.3699215962690219\n",
            "L-p Norm (LP): 0.5231481384583553\n",
            "Total Variation Distance (TVD): 0.3699215962690219\n",
            "\n",
            "\n",
            " -----------------------------------\n",
            "--------------- 67 ---------------\n",
            "Conditional Demographic Disparity in Labels (CDDL): -0.04817021276595745\n",
            "Class Imbalance (CI): 0.9036595744680851\n",
            "Difference in Positive Proportions in Labels (DPL): -0.3338698140200286\n",
            "Jensen-Shannon Divergence (JS): 0.016839515510317746\n",
            "Kullback-Liebler Divergence (KL): -0.2706288126426053\n",
            "Kolmogorov-Smirnov Distance (KS): 0.3338698140200286\n",
            "L-p Norm (LP): 0.3338698140200286\n",
            "Total Variation Distance (TVD): 0.1669349070100143\n",
            "\n",
            "\n",
            " -----------------------------------\n",
            "--------------- 59 ---------------\n",
            "Conditional Demographic Disparity in Labels (CDDL): 0.0\n",
            "Class Imbalance (CI): 0.8982127659574468\n",
            "Difference in Positive Proportions in Labels (DPL): 0.15145955192583604\n",
            "Jensen-Shannon Divergence (JS): 0.012161559732059471\n",
            "Kullback-Liebler Divergence (KL): 0.04767429614804049\n",
            "Kolmogorov-Smirnov Distance (KS): 0.15145955192583604\n",
            "L-p Norm (LP): 0.21419615248446935\n",
            "Total Variation Distance (TVD): 0.15145955192583604\n",
            "\n",
            "\n",
            " -----------------------------------\n",
            "--------------- 60 ---------------\n",
            "Conditional Demographic Disparity in Labels (CDDL): -0.0265531914893617\n",
            "Class Imbalance (CI): 0.9468936170212766\n",
            "Difference in Positive Proportions in Labels (DPL): -0.3264556740688932\n",
            "Jensen-Shannon Divergence (JS): 0.016022834016795634\n",
            "Kullback-Liebler Divergence (KL): -0.26618570838985833\n",
            "Kolmogorov-Smirnov Distance (KS): 0.3264556740688932\n",
            "L-p Norm (LP): 0.3264556740688932\n",
            "Total Variation Distance (TVD): 0.1632278370344466\n",
            "\n",
            "\n",
            " -----------------------------------\n",
            "--------------- 76 ---------------\n",
            "Conditional Demographic Disparity in Labels (CDDL): -0.02451063829787234\n",
            "Class Imbalance (CI): 0.9509787234042553\n",
            "Difference in Positive Proportions in Labels (DPL): -0.3257721165590647\n",
            "Jensen-Shannon Divergence (JS): 0.01594877228529369\n",
            "Kullback-Liebler Divergence (KL): -0.26577194707092766\n",
            "Kolmogorov-Smirnov Distance (KS): 0.3257721165590647\n",
            "L-p Norm (LP): 0.3257721165590647\n",
            "Total Variation Distance (TVD): 0.16288605827953234\n",
            "\n",
            "\n",
            " -----------------------------------\n",
            "--------------- 49 ---------------\n",
            "Conditional Demographic Disparity in Labels (CDDL): -0.043574468085106385\n",
            "Class Imbalance (CI): 0.9128510638297872\n",
            "Difference in Positive Proportions in Labels (DPL): -0.33226552767396333\n",
            "Jensen-Shannon Divergence (JS): 0.016660714007521102\n",
            "Kullback-Liebler Divergence (KL): -0.2696743696493652\n",
            "Kolmogorov-Smirnov Distance (KS): 0.33226552767396333\n",
            "L-p Norm (LP): 0.33226552767396333\n",
            "Total Variation Distance (TVD): 0.16613276383698167\n",
            "\n",
            "\n",
            " -----------------------------------\n",
            "--------------- 78 ---------------\n",
            "Conditional Demographic Disparity in Labels (CDDL): -0.028595744680851062\n",
            "Class Imbalance (CI): 0.9428085106382978\n",
            "Difference in Positive Proportions in Labels (DPL): -0.3271421061853864\n",
            "Jensen-Shannon Divergence (JS): 0.01609741577497588\n",
            "Kullback-Liebler Divergence (KL): -0.2666005116220348\n",
            "Kolmogorov-Smirnov Distance (KS): 0.3271421061853864\n",
            "L-p Norm (LP): 0.3271421061853864\n",
            "Total Variation Distance (TVD): 0.1635710530926932\n",
            "\n",
            "\n",
            " -----------------------------------\n",
            "--------------- 36 ---------------\n",
            "Conditional Demographic Disparity in Labels (CDDL): 0.017191489361702127\n",
            "Class Imbalance (CI): 0.9656170212765958\n",
            "Difference in Positive Proportions in Labels (DPL): 0.6941461724974022\n",
            "Jensen-Shannon Divergence (JS): 0.09717170683488585\n",
            "Kullback-Liebler Divergence (KL): -0.36232911863840495\n",
            "Kolmogorov-Smirnov Distance (KS): 0.6941461724974021\n",
            "L-p Norm (LP): 0.6941461724974021\n",
            "Total Variation Distance (TVD): 0.34707308624870103\n",
            "\n",
            "\n",
            " -----------------------------------\n",
            "--------------- 71 ---------------\n",
            "Conditional Demographic Disparity in Labels (CDDL): -0.028085106382978724\n",
            "Class Imbalance (CI): 0.9438297872340425\n",
            "Difference in Positive Proportions in Labels (DPL): -0.326970227670753\n",
            "Jensen-Shannon Divergence (JS): 0.01607872131543625\n",
            "Kullback-Liebler Divergence (KL): -0.2664967130548983\n",
            "Kolmogorov-Smirnov Distance (KS): 0.326970227670753\n",
            "L-p Norm (LP): 0.326970227670753\n",
            "Total Variation Distance (TVD): 0.1634851138353765\n",
            "\n",
            "\n",
            " -----------------------------------\n",
            "--------------- 56 ---------------\n",
            "Conditional Demographic Disparity in Labels (CDDL): 0.023829787234042554\n",
            "Class Imbalance (CI): 0.9523404255319149\n",
            "Difference in Positive Proportions in Labels (DPL): 0.6988666085440279\n",
            "Jensen-Shannon Divergence (JS): 0.09897563357711772\n",
            "Kullback-Liebler Divergence (KL): -0.36142088406221456\n",
            "Kolmogorov-Smirnov Distance (KS): 0.6988666085440278\n",
            "L-p Norm (LP): 0.6988666085440278\n",
            "Total Variation Distance (TVD): 0.3494333042720139\n",
            "\n",
            "\n",
            " -----------------------------------\n",
            "--------------- 85 ---------------\n",
            "Conditional Demographic Disparity in Labels (CDDL): 0.024170212765957447\n",
            "Class Imbalance (CI): 0.9516595744680851\n",
            "Difference in Positive Proportions in Labels (DPL): 0.6991104133961277\n",
            "Jensen-Shannon Divergence (JS): 0.09906957179644436\n",
            "Kullback-Liebler Divergence (KL): -0.3613719751332708\n",
            "Kolmogorov-Smirnov Distance (KS): 0.6991104133961277\n",
            "L-p Norm (LP): 0.6991104133961277\n",
            "Total Variation Distance (TVD): 0.34955520669806384\n",
            "\n",
            "\n",
            " -----------------------------------\n",
            "--------------- 61 ---------------\n",
            "Conditional Demographic Disparity in Labels (CDDL): -0.02553191489361702\n",
            "Class Imbalance (CI): 0.948936170212766\n",
            "Difference in Positive Proportions in Labels (DPL): -0.3261135371179039\n",
            "Jensen-Shannon Divergence (JS): 0.015985738452290427\n",
            "Kullback-Liebler Divergence (KL): -0.2659786975830923\n",
            "Kolmogorov-Smirnov Distance (KS): 0.3261135371179039\n",
            "L-p Norm (LP): 0.3261135371179039\n",
            "Total Variation Distance (TVD): 0.16305676855895196\n"
          ]
        }
      ],
      "source": [
        "report = bias_report(df, facet_column, label_column, stage_type=StageType.PRE_TRAINING, group_variable=group_variable)\n",
        "\n",
        "# use this to print your report - call it \"report\" for the code to work\n",
        "for cl in report:\n",
        "    print(\"\\n\\n\",\"-\"*35)\n",
        "    print(\"-\"*15, cl[\"value_or_threshold\"], \"-\"*15)\n",
        "    for metric in cl['metrics']:\n",
        "        print(f\"{metric['description']}: {metric['value']}\")"
      ]
    },
    {
      "cell_type": "markdown",
      "metadata": {
        "id": "kKAr9-pTBgRM"
      },
      "source": [
        "#### **Step #5: Look at the imbalance.**\n",
        "\n",
        "Use the cheat sheet provided to interpret what the bias report is telling you."
      ]
    },
    {
      "cell_type": "code",
      "source": [],
      "metadata": {
        "id": "LYdiu-mwBgRM"
      },
      "execution_count": null,
      "outputs": []
    },
    {
      "cell_type": "markdown",
      "source": [
        "<a name=\"p3\"></a>\n",
        "\n",
        "---\n",
        "## **Part 3: Mitigating Bias**\n",
        "---\n",
        "\n",
        "In this section, we will implement a KNN model before and after using different techniques for mitigating bias."
      ],
      "metadata": {
        "id": "wt9l2sGtF7ZG"
      }
    },
    {
      "cell_type": "markdown",
      "source": [
        "### **Problem #3.1**\n",
        "\n",
        "We need to convert any non-numerical binary values into numerical ones that can be used by our model. Specifically convert,\n",
        "* `Sex` from `' Female'` and `' Male'` to 0 and 1 respectively.\n",
        "\n",
        "<br>\n",
        "\n",
        "**NOTE**: There are several ways you could do this that you have learned, including label encoding."
      ],
      "metadata": {
        "id": "ovgPUZBwjOAe"
      }
    },
    {
      "cell_type": "code",
      "source": [
        "sex_map = {' Female': 0, ' Male': 1}\n",
        "\n",
        "adult['Sex'] = adult['Sex'].map(sex_map)\n",
        "\n",
        "adult.head()"
      ],
      "metadata": {
        "id": "RGOrRb7Cazwj",
        "colab": {
          "base_uri": "https://localhost:8080/",
          "height": 392
        },
        "outputId": "e855fa7d-9591-400a-d650-32e74a1b7906"
      },
      "execution_count": 18,
      "outputs": [
        {
          "output_type": "execute_result",
          "data": {
            "text/plain": [
              "   Age          Workclass  Final-Weight   Education  \\\n",
              "0   39          State-gov         77516   Bachelors   \n",
              "1   50   Self-emp-not-inc         83311   Bachelors   \n",
              "2   38            Private        215646     HS-grad   \n",
              "3   53            Private        234721        11th   \n",
              "4   28            Private        338409   Bachelors   \n",
              "\n",
              "   Education-number-of-years       Marital-status          Occupation  \\\n",
              "0                         13        Never-married        Adm-clerical   \n",
              "1                         13   Married-civ-spouse     Exec-managerial   \n",
              "2                          9             Divorced   Handlers-cleaners   \n",
              "3                          7   Married-civ-spouse   Handlers-cleaners   \n",
              "4                         13   Married-civ-spouse      Prof-specialty   \n",
              "\n",
              "     Relationship    Race  Sex  Capital-gain  Capital-loss  Hours-per-week  \\\n",
              "0   Not-in-family   White    1          2174             0              40   \n",
              "1         Husband   White    1             0             0              13   \n",
              "2   Not-in-family   White    1             0             0              40   \n",
              "3         Husband   Black    1             0             0              40   \n",
              "4            Wife   Black    0             0             0              40   \n",
              "\n",
              "   Native-country  Target Target by Sex  \n",
              "0   United-States   <=50K    Male <=50K  \n",
              "1   United-States   <=50K    Male <=50K  \n",
              "2   United-States   <=50K    Male <=50K  \n",
              "3   United-States   <=50K    Male <=50K  \n",
              "4            Cuba   <=50K  Female <=50K  "
            ],
            "text/html": [
              "\n",
              "\n",
              "  <div id=\"df-3a94dffb-cf83-4cdb-9914-62c81cbe7fab\">\n",
              "    <div class=\"colab-df-container\">\n",
              "      <div>\n",
              "<style scoped>\n",
              "    .dataframe tbody tr th:only-of-type {\n",
              "        vertical-align: middle;\n",
              "    }\n",
              "\n",
              "    .dataframe tbody tr th {\n",
              "        vertical-align: top;\n",
              "    }\n",
              "\n",
              "    .dataframe thead th {\n",
              "        text-align: right;\n",
              "    }\n",
              "</style>\n",
              "<table border=\"1\" class=\"dataframe\">\n",
              "  <thead>\n",
              "    <tr style=\"text-align: right;\">\n",
              "      <th></th>\n",
              "      <th>Age</th>\n",
              "      <th>Workclass</th>\n",
              "      <th>Final-Weight</th>\n",
              "      <th>Education</th>\n",
              "      <th>Education-number-of-years</th>\n",
              "      <th>Marital-status</th>\n",
              "      <th>Occupation</th>\n",
              "      <th>Relationship</th>\n",
              "      <th>Race</th>\n",
              "      <th>Sex</th>\n",
              "      <th>Capital-gain</th>\n",
              "      <th>Capital-loss</th>\n",
              "      <th>Hours-per-week</th>\n",
              "      <th>Native-country</th>\n",
              "      <th>Target</th>\n",
              "      <th>Target by Sex</th>\n",
              "    </tr>\n",
              "  </thead>\n",
              "  <tbody>\n",
              "    <tr>\n",
              "      <th>0</th>\n",
              "      <td>39</td>\n",
              "      <td>State-gov</td>\n",
              "      <td>77516</td>\n",
              "      <td>Bachelors</td>\n",
              "      <td>13</td>\n",
              "      <td>Never-married</td>\n",
              "      <td>Adm-clerical</td>\n",
              "      <td>Not-in-family</td>\n",
              "      <td>White</td>\n",
              "      <td>1</td>\n",
              "      <td>2174</td>\n",
              "      <td>0</td>\n",
              "      <td>40</td>\n",
              "      <td>United-States</td>\n",
              "      <td>&lt;=50K</td>\n",
              "      <td>Male &lt;=50K</td>\n",
              "    </tr>\n",
              "    <tr>\n",
              "      <th>1</th>\n",
              "      <td>50</td>\n",
              "      <td>Self-emp-not-inc</td>\n",
              "      <td>83311</td>\n",
              "      <td>Bachelors</td>\n",
              "      <td>13</td>\n",
              "      <td>Married-civ-spouse</td>\n",
              "      <td>Exec-managerial</td>\n",
              "      <td>Husband</td>\n",
              "      <td>White</td>\n",
              "      <td>1</td>\n",
              "      <td>0</td>\n",
              "      <td>0</td>\n",
              "      <td>13</td>\n",
              "      <td>United-States</td>\n",
              "      <td>&lt;=50K</td>\n",
              "      <td>Male &lt;=50K</td>\n",
              "    </tr>\n",
              "    <tr>\n",
              "      <th>2</th>\n",
              "      <td>38</td>\n",
              "      <td>Private</td>\n",
              "      <td>215646</td>\n",
              "      <td>HS-grad</td>\n",
              "      <td>9</td>\n",
              "      <td>Divorced</td>\n",
              "      <td>Handlers-cleaners</td>\n",
              "      <td>Not-in-family</td>\n",
              "      <td>White</td>\n",
              "      <td>1</td>\n",
              "      <td>0</td>\n",
              "      <td>0</td>\n",
              "      <td>40</td>\n",
              "      <td>United-States</td>\n",
              "      <td>&lt;=50K</td>\n",
              "      <td>Male &lt;=50K</td>\n",
              "    </tr>\n",
              "    <tr>\n",
              "      <th>3</th>\n",
              "      <td>53</td>\n",
              "      <td>Private</td>\n",
              "      <td>234721</td>\n",
              "      <td>11th</td>\n",
              "      <td>7</td>\n",
              "      <td>Married-civ-spouse</td>\n",
              "      <td>Handlers-cleaners</td>\n",
              "      <td>Husband</td>\n",
              "      <td>Black</td>\n",
              "      <td>1</td>\n",
              "      <td>0</td>\n",
              "      <td>0</td>\n",
              "      <td>40</td>\n",
              "      <td>United-States</td>\n",
              "      <td>&lt;=50K</td>\n",
              "      <td>Male &lt;=50K</td>\n",
              "    </tr>\n",
              "    <tr>\n",
              "      <th>4</th>\n",
              "      <td>28</td>\n",
              "      <td>Private</td>\n",
              "      <td>338409</td>\n",
              "      <td>Bachelors</td>\n",
              "      <td>13</td>\n",
              "      <td>Married-civ-spouse</td>\n",
              "      <td>Prof-specialty</td>\n",
              "      <td>Wife</td>\n",
              "      <td>Black</td>\n",
              "      <td>0</td>\n",
              "      <td>0</td>\n",
              "      <td>0</td>\n",
              "      <td>40</td>\n",
              "      <td>Cuba</td>\n",
              "      <td>&lt;=50K</td>\n",
              "      <td>Female &lt;=50K</td>\n",
              "    </tr>\n",
              "  </tbody>\n",
              "</table>\n",
              "</div>\n",
              "      <button class=\"colab-df-convert\" onclick=\"convertToInteractive('df-3a94dffb-cf83-4cdb-9914-62c81cbe7fab')\"\n",
              "              title=\"Convert this dataframe to an interactive table.\"\n",
              "              style=\"display:none;\">\n",
              "\n",
              "  <svg xmlns=\"http://www.w3.org/2000/svg\" height=\"24px\"viewBox=\"0 0 24 24\"\n",
              "       width=\"24px\">\n",
              "    <path d=\"M0 0h24v24H0V0z\" fill=\"none\"/>\n",
              "    <path d=\"M18.56 5.44l.94 2.06.94-2.06 2.06-.94-2.06-.94-.94-2.06-.94 2.06-2.06.94zm-11 1L8.5 8.5l.94-2.06 2.06-.94-2.06-.94L8.5 2.5l-.94 2.06-2.06.94zm10 10l.94 2.06.94-2.06 2.06-.94-2.06-.94-.94-2.06-.94 2.06-2.06.94z\"/><path d=\"M17.41 7.96l-1.37-1.37c-.4-.4-.92-.59-1.43-.59-.52 0-1.04.2-1.43.59L10.3 9.45l-7.72 7.72c-.78.78-.78 2.05 0 2.83L4 21.41c.39.39.9.59 1.41.59.51 0 1.02-.2 1.41-.59l7.78-7.78 2.81-2.81c.8-.78.8-2.07 0-2.86zM5.41 20L4 18.59l7.72-7.72 1.47 1.35L5.41 20z\"/>\n",
              "  </svg>\n",
              "      </button>\n",
              "\n",
              "\n",
              "\n",
              "    <div id=\"df-22070427-7252-4111-99fb-703a4719531e\">\n",
              "      <button class=\"colab-df-quickchart\" onclick=\"quickchart('df-22070427-7252-4111-99fb-703a4719531e')\"\n",
              "              title=\"Suggest charts.\"\n",
              "              style=\"display:none;\">\n",
              "\n",
              "<svg xmlns=\"http://www.w3.org/2000/svg\" height=\"24px\"viewBox=\"0 0 24 24\"\n",
              "     width=\"24px\">\n",
              "    <g>\n",
              "        <path d=\"M19 3H5c-1.1 0-2 .9-2 2v14c0 1.1.9 2 2 2h14c1.1 0 2-.9 2-2V5c0-1.1-.9-2-2-2zM9 17H7v-7h2v7zm4 0h-2V7h2v10zm4 0h-2v-4h2v4z\"/>\n",
              "    </g>\n",
              "</svg>\n",
              "      </button>\n",
              "    </div>\n",
              "\n",
              "<style>\n",
              "  .colab-df-quickchart {\n",
              "    background-color: #E8F0FE;\n",
              "    border: none;\n",
              "    border-radius: 50%;\n",
              "    cursor: pointer;\n",
              "    display: none;\n",
              "    fill: #1967D2;\n",
              "    height: 32px;\n",
              "    padding: 0 0 0 0;\n",
              "    width: 32px;\n",
              "  }\n",
              "\n",
              "  .colab-df-quickchart:hover {\n",
              "    background-color: #E2EBFA;\n",
              "    box-shadow: 0px 1px 2px rgba(60, 64, 67, 0.3), 0px 1px 3px 1px rgba(60, 64, 67, 0.15);\n",
              "    fill: #174EA6;\n",
              "  }\n",
              "\n",
              "  [theme=dark] .colab-df-quickchart {\n",
              "    background-color: #3B4455;\n",
              "    fill: #D2E3FC;\n",
              "  }\n",
              "\n",
              "  [theme=dark] .colab-df-quickchart:hover {\n",
              "    background-color: #434B5C;\n",
              "    box-shadow: 0px 1px 3px 1px rgba(0, 0, 0, 0.15);\n",
              "    filter: drop-shadow(0px 1px 2px rgba(0, 0, 0, 0.3));\n",
              "    fill: #FFFFFF;\n",
              "  }\n",
              "</style>\n",
              "\n",
              "    <script>\n",
              "      async function quickchart(key) {\n",
              "        const containerElement = document.querySelector('#' + key);\n",
              "        const charts = await google.colab.kernel.invokeFunction(\n",
              "            'suggestCharts', [key], {});\n",
              "      }\n",
              "    </script>\n",
              "\n",
              "      <script>\n",
              "\n",
              "function displayQuickchartButton(domScope) {\n",
              "  let quickchartButtonEl =\n",
              "    domScope.querySelector('#df-22070427-7252-4111-99fb-703a4719531e button.colab-df-quickchart');\n",
              "  quickchartButtonEl.style.display =\n",
              "    google.colab.kernel.accessAllowed ? 'block' : 'none';\n",
              "}\n",
              "\n",
              "        displayQuickchartButton(document);\n",
              "      </script>\n",
              "      <style>\n",
              "    .colab-df-container {\n",
              "      display:flex;\n",
              "      flex-wrap:wrap;\n",
              "      gap: 12px;\n",
              "    }\n",
              "\n",
              "    .colab-df-convert {\n",
              "      background-color: #E8F0FE;\n",
              "      border: none;\n",
              "      border-radius: 50%;\n",
              "      cursor: pointer;\n",
              "      display: none;\n",
              "      fill: #1967D2;\n",
              "      height: 32px;\n",
              "      padding: 0 0 0 0;\n",
              "      width: 32px;\n",
              "    }\n",
              "\n",
              "    .colab-df-convert:hover {\n",
              "      background-color: #E2EBFA;\n",
              "      box-shadow: 0px 1px 2px rgba(60, 64, 67, 0.3), 0px 1px 3px 1px rgba(60, 64, 67, 0.15);\n",
              "      fill: #174EA6;\n",
              "    }\n",
              "\n",
              "    [theme=dark] .colab-df-convert {\n",
              "      background-color: #3B4455;\n",
              "      fill: #D2E3FC;\n",
              "    }\n",
              "\n",
              "    [theme=dark] .colab-df-convert:hover {\n",
              "      background-color: #434B5C;\n",
              "      box-shadow: 0px 1px 3px 1px rgba(0, 0, 0, 0.15);\n",
              "      filter: drop-shadow(0px 1px 2px rgba(0, 0, 0, 0.3));\n",
              "      fill: #FFFFFF;\n",
              "    }\n",
              "  </style>\n",
              "\n",
              "      <script>\n",
              "        const buttonEl =\n",
              "          document.querySelector('#df-3a94dffb-cf83-4cdb-9914-62c81cbe7fab button.colab-df-convert');\n",
              "        buttonEl.style.display =\n",
              "          google.colab.kernel.accessAllowed ? 'block' : 'none';\n",
              "\n",
              "        async function convertToInteractive(key) {\n",
              "          const element = document.querySelector('#df-3a94dffb-cf83-4cdb-9914-62c81cbe7fab');\n",
              "          const dataTable =\n",
              "            await google.colab.kernel.invokeFunction('convertToInteractive',\n",
              "                                                     [key], {});\n",
              "          if (!dataTable) return;\n",
              "\n",
              "          const docLinkHtml = 'Like what you see? Visit the ' +\n",
              "            '<a target=\"_blank\" href=https://colab.research.google.com/notebooks/data_table.ipynb>data table notebook</a>'\n",
              "            + ' to learn more about interactive tables.';\n",
              "          element.innerHTML = '';\n",
              "          dataTable['output_type'] = 'display_data';\n",
              "          await google.colab.output.renderOutput(dataTable, element);\n",
              "          const docLink = document.createElement('div');\n",
              "          docLink.innerHTML = docLinkHtml;\n",
              "          element.appendChild(docLink);\n",
              "        }\n",
              "      </script>\n",
              "    </div>\n",
              "  </div>\n"
            ]
          },
          "metadata": {},
          "execution_count": 18
        }
      ]
    },
    {
      "cell_type": "markdown",
      "metadata": {
        "id": "zzuVpJmTaop7"
      },
      "source": [
        "### **Problem #3.2**\n",
        "\n",
        "Determine the features and target and split the data into training and test sets."
      ]
    },
    {
      "cell_type": "code",
      "source": [
        "# Decide the independent and dependent variables\n",
        "features = adult.drop(columns = ['Target', 'Target by Sex'],axis=1)\n",
        "label = adult['Target']\n",
        "\n",
        "# Split the data into train and test sets\n",
        "X_train, X_test, y_train, y_test = train_test_split(features, label, test_size=0.2, random_state=42)"
      ],
      "metadata": {
        "id": "w-TV3ugGaX7H"
      },
      "execution_count": 26,
      "outputs": []
    },
    {
      "cell_type": "markdown",
      "source": [
        "### **Problem #3.3**\n",
        "\n",
        "Lets prepare the data for modeling. Specifically,\n",
        "* Dummy variable encode the following non-numerical categorical variables:\n",
        "> * `Workclass`\n",
        "> * `Education`\n",
        "> * `Marital-status`\n",
        "> * `Occupation`\n",
        "> * `Relationship`\n",
        "> * `Race`\n",
        "> * `Native-country`\n",
        "\n",
        "* Standardize the data.\n",
        "\n",
        "\n",
        "\n",
        "<br>\n",
        "\n",
        "**NOTE**: It may be helpful to refer back to the [Advanced ML Techniques Cheat Sheet](https://docs.google.com/document/d/16BeAevvvvCYJ5q0qLTl0SQnTPWnGkktwGYUxvnJMkE4/edit?usp=drive_link).\n"
      ],
      "metadata": {
        "id": "zK9wS9JatKUs"
      }
    },
    {
      "cell_type": "code",
      "source": [
        "# Dummy Variable encode your data\n",
        "cols = ['Workclass', 'Education', 'Marital-status', 'Occupation', 'Relationship', 'Race', 'Native-country']\n",
        "\n",
        "X_train_dv = X_train.drop(columns = cols)\n",
        "X_test_dv = X_test.drop(columns = cols)\n",
        "\n",
        "dv_enc = OneHotEncoder(sparse_output = False, drop = 'first')\n",
        "dv_enc.set_output(transform = 'pandas')\n",
        "\n",
        "dv_enc.fit(X_train[cols])\n",
        "dv_columns = dv_enc.get_feature_names_out()\n",
        "\n",
        "X_train_dv[dv_columns] = dv_enc.transform(X_train[cols])\n",
        "\n",
        "X_test_dv[dv_columns] = dv_enc.transform(X_test[cols])\n",
        "\n",
        "\n",
        "\n",
        "# Scale your data\n",
        "scaler = StandardScaler()\n",
        "\n",
        "X_train_scaled = scaler.fit_transform(X_train_dv)\n",
        "X_test_scaled = scaler.transform(X_test_dv)"
      ],
      "metadata": {
        "id": "LxJV_yEebX0j"
      },
      "execution_count": 27,
      "outputs": []
    },
    {
      "cell_type": "markdown",
      "source": [
        "### **Problem #3.4**\n",
        "\n",
        "Initialize and evaluate a 5NN model using 10-Folds CV. The [Advanced ML Techniques Cheat Sheet](https://docs.google.com/document/d/16BeAevvvvCYJ5q0qLTl0SQnTPWnGkktwGYUxvnJMkE4/edit?usp=drive_link) will be helpful here as well."
      ],
      "metadata": {
        "id": "FQF2UOQktKUt"
      }
    },
    {
      "cell_type": "code",
      "source": [
        "knn = KNeighborsClassifier(n_neighbors=5)\n",
        "\n",
        "scores = cross_val_score(knn,X_train_dv,y_train,cv=10)\n",
        "print(\"10-Folds CV Scores: \" + str(scores.mean()) + \" +/- \" + str(scores.std()))"
      ],
      "metadata": {
        "id": "EM3kjM39tKUt",
        "colab": {
          "base_uri": "https://localhost:8080/"
        },
        "outputId": "01086063-0977-4ad7-c17c-27ad5cfdd1cc"
      },
      "execution_count": 28,
      "outputs": [
        {
          "output_type": "stream",
          "name": "stdout",
          "text": [
            "10-Folds CV Scores: 0.7729966005348334 +/- 0.005789259007402012\n"
          ]
        }
      ]
    },
    {
      "cell_type": "markdown",
      "source": [
        "### **Problem #3.5**\n",
        "\n",
        "Evaluate your model using the smaller training and validation set created below. Specifically,\n",
        "* Print the accuracy score.\n",
        "* Plot the confusion matrix.\n",
        "\n",
        "<br>\n",
        "\n",
        "**NOTE**: Since we are using `type1` as the label directly here, we just use `display_labels=clf.classes_`. This is one good reason for using non-encoded labels."
      ],
      "metadata": {
        "id": "ZPVhbERLtKUt"
      }
    },
    {
      "cell_type": "code",
      "source": [
        "# Create validation and smaller training set\n",
        "X_train_small, X_val, y_train_small, y_val = train_test_split(X_train_dv, y_train, test_size=0.1, random_state=42)\n",
        "\n",
        "# Fit the model on the samller training set\n",
        "knn.fit(X_train_small, y_train_small)\n",
        "\n",
        "# Print the accuracy score based on the validation set\n",
        "pred = knn.predict(X_val)\n",
        "\n",
        "accuracy = accuracy_score(y_val, pred)\n",
        "print(f'Accuracy: {accuracy}')\n",
        "\n",
        "# Plot the confusion matrix based on the validation set\n",
        "cm = confusion_matrix(y_val, pred, labels=knn.classes_)\n",
        "\n",
        "disp = ConfusionMatrixDisplay(confusion_matrix=cm, display_labels=knn.classes_)\n",
        "disp.plot()\n",
        "\n",
        "plt.xticks(rotation = 90)\n",
        "plt.show()"
      ],
      "metadata": {
        "id": "6nDJP4aWtKUt",
        "colab": {
          "base_uri": "https://localhost:8080/",
          "height": 508
        },
        "outputId": "1a63bcef-d782-4025-bb96-439f641fab65"
      },
      "execution_count": 29,
      "outputs": [
        {
          "output_type": "stream",
          "name": "stdout",
          "text": [
            "Accuracy: 0.7904030710172745\n"
          ]
        },
        {
          "output_type": "display_data",
          "data": {
            "text/plain": [
              "<Figure size 640x480 with 2 Axes>"
            ],
            "image/png": "[encoded data removed]"
          },
          "metadata": {}
        }
      ]
    },
    {
      "cell_type": "markdown",
      "metadata": {
        "id": "PEmRSIJYcrMF"
      },
      "source": [
        "### **Problem #3.6**\n",
        "\n",
        "Let's attempt to mitigate the bias by blinding our model. In other words, we will simply *remove* sex as an input for our model. The hope is that by blinding our model to a feature we have explicitly shown to be biased in the previous Parts, we can remove this bias.\n",
        "\n",
        "<br>\n",
        "\n",
        "**NOTE**: Although it is often one of the first thoughts, blinding to bias is not always good practice! There are patterns in the data correlated to the removed features that mean we have not really removed the bias. In fact, this can be even more problematic since we believe we have mitigated the bias and take the results more seriously, when in fact the results still reflect biases."
      ]
    },
    {
      "cell_type": "code",
      "source": [
        "# Create a new dataset without the the Sex feature\n",
        "X_train_blind = X_train_dv.drop(columns = 'Sex')\n",
        "\n",
        "\n",
        "# Initialize and evaluate using 10-Folds CV\n",
        "knn = KNeighborsClassifier(n_neighbors = 5)\n",
        "scores = cross_val_score(knn, X_train_blind, y_train, cv=10)\n",
        "print(\"10-Folds CV Scores: \" + str(scores.mean()) + \" +/- \" + str(scores.std()))\n",
        "\n",
        "\n",
        "# Evaluate your model\n",
        "\n",
        "# Create validation and smaller training set\n",
        "X_train_small, X_val, y_train_small, y_val = train_test_split(X_train_blind, y_train, test_size=0.1, random_state=42)\n",
        "\n",
        "# Fit the model on the samller training set\n",
        "knn.fit(X_train_small, y_train_small)\n",
        "\n",
        "# Print the accuracy score based on the validation set\n",
        "pred = knn.predict(X_val)\n",
        "\n",
        "accuracy = accuracy_score(y_val, pred)\n",
        "print(f'Accuracy: {accuracy}')\n",
        "\n",
        "# Plot the confusion matrix based on the validation set\n",
        "cm = confusion_matrix(y_val, pred, labels=knn.classes_)\n",
        "\n",
        "disp = ConfusionMatrixDisplay(confusion_matrix=cm, display_labels=knn.classes_)\n",
        "disp.plot()\n",
        "\n",
        "plt.xticks(rotation = 90)\n",
        "plt.show()"
      ],
      "metadata": {
        "id": "kPmODkhUgrqo",
        "colab": {
          "base_uri": "https://localhost:8080/",
          "height": 526
        },
        "outputId": "3d93772f-9c44-48b8-b841-1c73306de765"
      },
      "execution_count": 30,
      "outputs": [
        {
          "output_type": "stream",
          "name": "stdout",
          "text": [
            "10-Folds CV Scores: 0.7729966005348334 +/- 0.005789259007402012\n",
            "Accuracy: 0.7904030710172745\n"
          ]
        },
        {
          "output_type": "display_data",
          "data": {
            "text/plain": [
              "<Figure size 640x480 with 2 Axes>"
            ],
            "image/png": "[encoded data removed]"
          },
          "metadata": {}
        }
      ]
    },
    {
      "cell_type": "markdown",
      "metadata": {
        "id": "f0m1V4vthEvu"
      },
      "source": [
        "### **Problem #3.7**\n",
        "\n",
        "Let's now try mitigating bias by balancing the dataset. This involves making the data distribution more equal. In this step, we will balance the sex distribtuion by ensuring there are equal amount of data points for male and female entries being used in our model.\n",
        "\n",
        "<br>\n",
        "\n",
        "**Run the cell below to create this balanced dataset.**"
      ]
    },
    {
      "cell_type": "code",
      "source": [
        "# get two data frames by sex\n",
        "females = X_train_dv.query(\"Sex == 0\")\n",
        "males = X_train_dv.query(\"Sex == 1\")\n",
        "\n",
        "# make the males the minimum between females and males\n",
        "sampled_males = males.sample(n=int(min(females.shape[0], males.shape[0])))\n",
        "\n",
        "# combine\n",
        "X_train_balanced = pd.concat([sampled_males, females]).sample(frac=1)\n",
        "y_train_balanced = y_train[X_train_balanced.index]"
      ],
      "metadata": {
        "id": "JQSWhWBdf-gu"
      },
      "execution_count": 31,
      "outputs": []
    },
    {
      "cell_type": "code",
      "source": [
        "# Initialize and evaluate using 10-Folds CV\n",
        "knn = KNeighborsClassifier(n_neighbors = 5)\n",
        "scores = cross_val_score(knn, X_train_balanced, y_train_balanced, cv=10)\n",
        "print(\"10-Folds CV Scores: \" + str(scores.mean()) + \" +/- \" + str(scores.std()))\n",
        "\n",
        "\n",
        "# Evaluate your model\n",
        "\n",
        "# Create validation and smaller training set\n",
        "X_train_small, X_val, y_train_small, y_val = train_test_split(X_train_balanced, y_train_balanced, test_size=0.1, random_state=42)\n",
        "\n",
        "# Fit the model on the samller training set\n",
        "knn.fit(X_train_small, y_train_small)\n",
        "\n",
        "# Print the accuracy score based on the validation set\n",
        "pred = knn.predict(X_val)\n",
        "\n",
        "accuracy = accuracy_score(y_val, pred)\n",
        "print(f'Accuracy: {accuracy}')\n",
        "\n",
        "# Plot the confusion matrix based on the validation set\n",
        "cm = confusion_matrix(y_val, pred, labels=knn.classes_)\n",
        "\n",
        "disp = ConfusionMatrixDisplay(confusion_matrix=cm, display_labels=knn.classes_)\n",
        "disp.plot()\n",
        "\n",
        "plt.xticks(rotation = 90)\n",
        "plt.show()"
      ],
      "metadata": {
        "id": "Jqd846djjJko",
        "colab": {
          "base_uri": "https://localhost:8080/",
          "height": 526
        },
        "outputId": "499c5e5e-0fe8-44ac-96dc-bc26700b73df"
      },
      "execution_count": 32,
      "outputs": [
        {
          "output_type": "stream",
          "name": "stdout",
          "text": [
            "10-Folds CV Scores: 0.8037015615962986 +/- 0.006273104390031809\n",
            "Accuracy: 0.7958357432041643\n"
          ]
        },
        {
          "output_type": "display_data",
          "data": {
            "text/plain": [
              "<Figure size 640x480 with 2 Axes>"
            ],
            "image/png": "[encoded data removed]"
          },
          "metadata": {}
        }
      ]
    },
    {
      "cell_type": "markdown",
      "metadata": {
        "id": "c2_-TYBr-bhs"
      },
      "source": [
        "#### **NOTE**\n",
        "\n",
        "This should have been your most accurate model and it has made an honest attempt to mitigate (instead of blinding ourselves to) bias."
      ]
    },
    {
      "cell_type": "markdown",
      "source": [
        "# End of Lab\n",
        "\n",
        "---\n",
        "© 2023 The Coding School, All rights reserved"
      ],
      "metadata": {
        "id": "nD5aj7Um5k-S"
      }
    }
  ],
  "metadata": {
    "colab": {
      "provenance": [],
      "include_colab_link": true
    },
    "kernelspec": {
      "display_name": "default:Python",
      "language": "python",
      "name": "conda-env-default-py"
    },
    "language_info": {
      "codemirror_mode": {
        "name": "ipython",
        "version": 3
      },
      "file_extension": ".py",
      "mimetype": "text/x-python",
      "name": "python",
      "nbconvert_exporter": "python",
      "pygments_lexer": "ipython3",
      "version": "3.9.13"
    }
  },
  "nbformat": 4,
  "nbformat_minor": 0
}