{
  "nbformat": 4,
  "nbformat_minor": 0,
  "metadata": {
    "colab": {
      "provenance": [],
      "include_colab_link": true
    },
    "kernelspec": {
      "name": "python3",
      "display_name": "Python 3"
    },
    "language_info": {
      "name": "python"
    }
  },
  "cells": [
    {
      "cell_type": "markdown",
      "metadata": {
        "id": "view-in-github",
        "colab_type": "text"
      },
      "source": [
        "<a href=\"https://colab.research.google.com/github/blckpwdr50/datasciencecoursera/blob/master/TRAIN_HS_PD_Lab_13_%5BDaniel_Schaben%5D.ipynb\" target=\"_parent\"><img src=\"https://colab.research.google.com/assets/colab-badge.svg\" alt=\"Open In Colab\"/></a>"
      ]
    },
    {
      "cell_type": "markdown",
      "source": [
        "# **Lab 13: Training Neural Networks**\n",
        "---\n",
        "\n",
        "\n",
        "### **Description**\n",
        "This lab focuses on continuing to build and train neural networks using the keras python library. This will cover key topics such as:\n",
        "* Network structure\n",
        "* Hidden layers\n",
        "* Layer types\n",
        "* Activation functions\n",
        "* Training neural networks\n",
        "* Different optimization algorithms\n",
        "\n",
        "<br>\n",
        "\n",
        "We will work with a famous wine dataset that rates the quality of red variants of the Portuguese \"Vinho Verde\" wine according to a variety of chemical properties (these are our features):\n",
        "1. `fixed acidity`\n",
        "2. `volatile acidity`\n",
        "3. `citric acid`\n",
        "4. `residual sugar`\n",
        "5. `chlorides`\n",
        "6. `free sulfur dioxide`\n",
        "7. `total sulfur dioxide`\n",
        "8. `density`\n",
        "9. `pH`\n",
        "10. `sulphates`\n",
        "11. `alcohol`\n",
        "\n",
        "**You will use deep learning for regression to predict this variable**:\n",
        "12. `quality` (continuous score between 0 and 10)\n",
        "\n",
        "<br>\n",
        "\n",
        "### **Lab Structure**\n",
        "* **Part 1**: [Comparing Linear Regression and Neural Networks](#p1)\n",
        "\n",
        "* **Part 2**: [Model Architecture](#p2)\n",
        "\n",
        "* **Part 3**: [Hyperparameter Tuning](#p3)\n",
        "\n",
        "* **Part 4**: [[HOMEWORK] Neural Networks for Classification](#p4)\n",
        "\n",
        "\n",
        "\n",
        "<br>\n",
        "\n",
        "### **Goals**\n",
        "By the end of this lab, you will:\n",
        "* Learn how to use and tune both Stochastic Gradient Descent and Adam for training Neural Networks.\n",
        "* Train and evaluate a Neural Network for both regression and classification.\n",
        "\n",
        "<br>\n",
        "\n",
        "\n",
        "### **Cheat Sheets**:\n",
        "* [Deep Learning with keras](https://docs.google.com/document/d/1vc51G6X8ERimrVW6kuyIXNcumR-34-SNiUXA8IYK_1o/edit?usp=sharing)\n",
        "\n",
        "<br>\n",
        "\n",
        "**Before starting, run the code below to import all necessary functions and libraries.**\n",
        "\n",
        "\n"
      ],
      "metadata": {
        "id": "mbZXQ3rA3NwL"
      }
    },
    {
      "cell_type": "code",
      "execution_count": null,
      "metadata": {
        "id": "3Ca_AR_LgQ8u"
      },
      "outputs": [],
      "source": [
        "from keras.models import Sequential\n",
        "from keras.layers import *\n",
        "\n",
        "from keras.optimizers import Adam, SGD\n",
        "from keras.utils import to_categorical\n",
        "\n",
        "import matplotlib.pyplot as plt\n",
        "import numpy as np\n",
        "import pandas as pd\n",
        "\n",
        "from sklearn.model_selection import train_test_split, cross_val_score\n",
        "from sklearn.preprocessing import StandardScaler\n",
        "from sklearn.linear_model import LinearRegression, LogisticRegression\n",
        "from sklearn.metrics import mean_squared_error, accuracy_score\n",
        "from sklearn.metrics import confusion_matrix, ConfusionMatrixDisplay"
      ]
    },
    {
      "cell_type": "markdown",
      "metadata": {
        "id": "HwWds60H1cLl"
      },
      "source": [
        "<a name=\"p1\"></a>\n",
        "\n",
        "---\n",
        "## **Part 1: Comparing Linear Regression and a Neural Network**\n",
        "---\n",
        "\n",
        "In this section, we will build, fit, and compare a Linear Regression model and a simple Neural Network."
      ]
    },
    {
      "cell_type": "markdown",
      "metadata": {
        "id": "MBFmYwD9pTpG"
      },
      "source": [
        "### **Problem #1.1**\n",
        "\n",
        "To get started, let's:\n",
        "1. Load the data into a data frame.\n",
        "2. Split the data in training and test sets.\n",
        "3. Standardize the features."
      ]
    },
    {
      "cell_type": "markdown",
      "source": [
        "#### **1. Load the data into a data frame.**"
      ],
      "metadata": {
        "id": "kWO2NFQqhxj9"
      }
    },
    {
      "cell_type": "code",
      "source": [
        "url = \"https://docs.google.com/spreadsheets/d/e/2PACX-1vSXznmcXoHsnmcRgMl-4UQK_O0xsjHOgknGTzZGWwUP6vHffTYJ2-_QNtwmJCbELi8in3msD3dVFTzF/pub?gid=456238604&single=true&output=csv\"\n",
        "df = pd.read_csv(url)\n",
        "df.head()"
      ],
      "metadata": {
        "id": "FFBviF8uxUWs",
        "colab": {
          "base_uri": "https://localhost:8080/",
          "height": 268
        },
        "outputId": "fa8f4062-7ff5-48db-9d08-563906504a76"
      },
      "execution_count": null,
      "outputs": [
        {
          "output_type": "execute_result",
          "data": {
            "text/plain": [
              "   fixed acidity  volatile acidity  citric acid  residual sugar  chlorides  \\\n",
              "0            7.4              0.70         0.00             1.9      0.076   \n",
              "1            7.8              0.88         0.00             2.6      0.098   \n",
              "2            7.8              0.76         0.04             2.3      0.092   \n",
              "3           11.2              0.28         0.56             1.9      0.075   \n",
              "4            7.4              0.70         0.00             1.9      0.076   \n",
              "\n",
              "   free sulfur dioxide  total sulfur dioxide  density    pH  sulphates  \\\n",
              "0                 11.0                  34.0   0.9978  3.51       0.56   \n",
              "1                 25.0                  67.0   0.9968  3.20       0.68   \n",
              "2                 15.0                  54.0   0.9970  3.26       0.65   \n",
              "3                 17.0                  60.0   0.9980  3.16       0.58   \n",
              "4                 11.0                  34.0   0.9978  3.51       0.56   \n",
              "\n",
              "   alcohol   quality  \n",
              "0      9.4  4.141081  \n",
              "1      9.8  4.252022  \n",
              "2      9.8  4.252022  \n",
              "3      9.8  3.165538  \n",
              "4      9.4  4.141081  "
            ],
            "text/html": [
              "\n",
              "\n",
              "  <div id=\"df-87eeca81-1ae9-4acf-a963-e166969c9e8e\">\n",
              "    <div class=\"colab-df-container\">\n",
              "      <div>\n",
              "<style scoped>\n",
              "    .dataframe tbody tr th:only-of-type {\n",
              "        vertical-align: middle;\n",
              "    }\n",
              "\n",
              "    .dataframe tbody tr th {\n",
              "        vertical-align: top;\n",
              "    }\n",
              "\n",
              "    .dataframe thead th {\n",
              "        text-align: right;\n",
              "    }\n",
              "</style>\n",
              "<table border=\"1\" class=\"dataframe\">\n",
              "  <thead>\n",
              "    <tr style=\"text-align: right;\">\n",
              "      <th></th>\n",
              "      <th>fixed acidity</th>\n",
              "      <th>volatile acidity</th>\n",
              "      <th>citric acid</th>\n",
              "      <th>residual sugar</th>\n",
              "      <th>chlorides</th>\n",
              "      <th>free sulfur dioxide</th>\n",
              "      <th>total sulfur dioxide</th>\n",
              "      <th>density</th>\n",
              "      <th>pH</th>\n",
              "      <th>sulphates</th>\n",
              "      <th>alcohol</th>\n",
              "      <th>quality</th>\n",
              "    </tr>\n",
              "  </thead>\n",
              "  <tbody>\n",
              "    <tr>\n",
              "      <th>0</th>\n",
              "      <td>7.4</td>\n",
              "      <td>0.70</td>\n",
              "      <td>0.00</td>\n",
              "      <td>1.9</td>\n",
              "      <td>0.076</td>\n",
              "      <td>11.0</td>\n",
              "      <td>34.0</td>\n",
              "      <td>0.9978</td>\n",
              "      <td>3.51</td>\n",
              "      <td>0.56</td>\n",
              "      <td>9.4</td>\n",
              "      <td>4.141081</td>\n",
              "    </tr>\n",
              "    <tr>\n",
              "      <th>1</th>\n",
              "      <td>7.8</td>\n",
              "      <td>0.88</td>\n",
              "      <td>0.00</td>\n",
              "      <td>2.6</td>\n",
              "      <td>0.098</td>\n",
              "      <td>25.0</td>\n",
              "      <td>67.0</td>\n",
              "      <td>0.9968</td>\n",
              "      <td>3.20</td>\n",
              "      <td>0.68</td>\n",
              "      <td>9.8</td>\n",
              "      <td>4.252022</td>\n",
              "    </tr>\n",
              "    <tr>\n",
              "      <th>2</th>\n",
              "      <td>7.8</td>\n",
              "      <td>0.76</td>\n",
              "      <td>0.04</td>\n",
              "      <td>2.3</td>\n",
              "      <td>0.092</td>\n",
              "      <td>15.0</td>\n",
              "      <td>54.0</td>\n",
              "      <td>0.9970</td>\n",
              "      <td>3.26</td>\n",
              "      <td>0.65</td>\n",
              "      <td>9.8</td>\n",
              "      <td>4.252022</td>\n",
              "    </tr>\n",
              "    <tr>\n",
              "      <th>3</th>\n",
              "      <td>11.2</td>\n",
              "      <td>0.28</td>\n",
              "      <td>0.56</td>\n",
              "      <td>1.9</td>\n",
              "      <td>0.075</td>\n",
              "      <td>17.0</td>\n",
              "      <td>60.0</td>\n",
              "      <td>0.9980</td>\n",
              "      <td>3.16</td>\n",
              "      <td>0.58</td>\n",
              "      <td>9.8</td>\n",
              "      <td>3.165538</td>\n",
              "    </tr>\n",
              "    <tr>\n",
              "      <th>4</th>\n",
              "      <td>7.4</td>\n",
              "      <td>0.70</td>\n",
              "      <td>0.00</td>\n",
              "      <td>1.9</td>\n",
              "      <td>0.076</td>\n",
              "      <td>11.0</td>\n",
              "      <td>34.0</td>\n",
              "      <td>0.9978</td>\n",
              "      <td>3.51</td>\n",
              "      <td>0.56</td>\n",
              "      <td>9.4</td>\n",
              "      <td>4.141081</td>\n",
              "    </tr>\n",
              "  </tbody>\n",
              "</table>\n",
              "</div>\n",
              "      <button class=\"colab-df-convert\" onclick=\"convertToInteractive('df-87eeca81-1ae9-4acf-a963-e166969c9e8e')\"\n",
              "              title=\"Convert this dataframe to an interactive table.\"\n",
              "              style=\"display:none;\">\n",
              "\n",
              "  <svg xmlns=\"http://www.w3.org/2000/svg\" height=\"24px\"viewBox=\"0 0 24 24\"\n",
              "       width=\"24px\">\n",
              "    <path d=\"M0 0h24v24H0V0z\" fill=\"none\"/>\n",
              "    <path d=\"M18.56 5.44l.94 2.06.94-2.06 2.06-.94-2.06-.94-.94-2.06-.94 2.06-2.06.94zm-11 1L8.5 8.5l.94-2.06 2.06-.94-2.06-.94L8.5 2.5l-.94 2.06-2.06.94zm10 10l.94 2.06.94-2.06 2.06-.94-2.06-.94-.94-2.06-.94 2.06-2.06.94z\"/><path d=\"M17.41 7.96l-1.37-1.37c-.4-.4-.92-.59-1.43-.59-.52 0-1.04.2-1.43.59L10.3 9.45l-7.72 7.72c-.78.78-.78 2.05 0 2.83L4 21.41c.39.39.9.59 1.41.59.51 0 1.02-.2 1.41-.59l7.78-7.78 2.81-2.81c.8-.78.8-2.07 0-2.86zM5.41 20L4 18.59l7.72-7.72 1.47 1.35L5.41 20z\"/>\n",
              "  </svg>\n",
              "      </button>\n",
              "\n",
              "\n",
              "\n",
              "    <div id=\"df-95cce365-561e-41c7-b502-0133bb045e01\">\n",
              "      <button class=\"colab-df-quickchart\" onclick=\"quickchart('df-95cce365-561e-41c7-b502-0133bb045e01')\"\n",
              "              title=\"Suggest charts.\"\n",
              "              style=\"display:none;\">\n",
              "\n",
              "<svg xmlns=\"http://www.w3.org/2000/svg\" height=\"24px\"viewBox=\"0 0 24 24\"\n",
              "     width=\"24px\">\n",
              "    <g>\n",
              "        <path d=\"M19 3H5c-1.1 0-2 .9-2 2v14c0 1.1.9 2 2 2h14c1.1 0 2-.9 2-2V5c0-1.1-.9-2-2-2zM9 17H7v-7h2v7zm4 0h-2V7h2v10zm4 0h-2v-4h2v4z\"/>\n",
              "    </g>\n",
              "</svg>\n",
              "      </button>\n",
              "    </div>\n",
              "\n",
              "<style>\n",
              "  .colab-df-quickchart {\n",
              "    background-color: #E8F0FE;\n",
              "    border: none;\n",
              "    border-radius: 50%;\n",
              "    cursor: pointer;\n",
              "    display: none;\n",
              "    fill: #1967D2;\n",
              "    height: 32px;\n",
              "    padding: 0 0 0 0;\n",
              "    width: 32px;\n",
              "  }\n",
              "\n",
              "  .colab-df-quickchart:hover {\n",
              "    background-color: #E2EBFA;\n",
              "    box-shadow: 0px 1px 2px rgba(60, 64, 67, 0.3), 0px 1px 3px 1px rgba(60, 64, 67, 0.15);\n",
              "    fill: #174EA6;\n",
              "  }\n",
              "\n",
              "  [theme=dark] .colab-df-quickchart {\n",
              "    background-color: #3B4455;\n",
              "    fill: #D2E3FC;\n",
              "  }\n",
              "\n",
              "  [theme=dark] .colab-df-quickchart:hover {\n",
              "    background-color: #434B5C;\n",
              "    box-shadow: 0px 1px 3px 1px rgba(0, 0, 0, 0.15);\n",
              "    filter: drop-shadow(0px 1px 2px rgba(0, 0, 0, 0.3));\n",
              "    fill: #FFFFFF;\n",
              "  }\n",
              "</style>\n",
              "\n",
              "    <script>\n",
              "      async function quickchart(key) {\n",
              "        const containerElement = document.querySelector('#' + key);\n",
              "        const charts = await google.colab.kernel.invokeFunction(\n",
              "            'suggestCharts', [key], {});\n",
              "      }\n",
              "    </script>\n",
              "\n",
              "      <script>\n",
              "\n",
              "function displayQuickchartButton(domScope) {\n",
              "  let quickchartButtonEl =\n",
              "    domScope.querySelector('#df-95cce365-561e-41c7-b502-0133bb045e01 button.colab-df-quickchart');\n",
              "  quickchartButtonEl.style.display =\n",
              "    google.colab.kernel.accessAllowed ? 'block' : 'none';\n",
              "}\n",
              "\n",
              "        displayQuickchartButton(document);\n",
              "      </script>\n",
              "      <style>\n",
              "    .colab-df-container {\n",
              "      display:flex;\n",
              "      flex-wrap:wrap;\n",
              "      gap: 12px;\n",
              "    }\n",
              "\n",
              "    .colab-df-convert {\n",
              "      background-color: #E8F0FE;\n",
              "      border: none;\n",
              "      border-radius: 50%;\n",
              "      cursor: pointer;\n",
              "      display: none;\n",
              "      fill: #1967D2;\n",
              "      height: 32px;\n",
              "      padding: 0 0 0 0;\n",
              "      width: 32px;\n",
              "    }\n",
              "\n",
              "    .colab-df-convert:hover {\n",
              "      background-color: #E2EBFA;\n",
              "      box-shadow: 0px 1px 2px rgba(60, 64, 67, 0.3), 0px 1px 3px 1px rgba(60, 64, 67, 0.15);\n",
              "      fill: #174EA6;\n",
              "    }\n",
              "\n",
              "    [theme=dark] .colab-df-convert {\n",
              "      background-color: #3B4455;\n",
              "      fill: #D2E3FC;\n",
              "    }\n",
              "\n",
              "    [theme=dark] .colab-df-convert:hover {\n",
              "      background-color: #434B5C;\n",
              "      box-shadow: 0px 1px 3px 1px rgba(0, 0, 0, 0.15);\n",
              "      filter: drop-shadow(0px 1px 2px rgba(0, 0, 0, 0.3));\n",
              "      fill: #FFFFFF;\n",
              "    }\n",
              "  </style>\n",
              "\n",
              "      <script>\n",
              "        const buttonEl =\n",
              "          document.querySelector('#df-87eeca81-1ae9-4acf-a963-e166969c9e8e button.colab-df-convert');\n",
              "        buttonEl.style.display =\n",
              "          google.colab.kernel.accessAllowed ? 'block' : 'none';\n",
              "\n",
              "        async function convertToInteractive(key) {\n",
              "          const element = document.querySelector('#df-87eeca81-1ae9-4acf-a963-e166969c9e8e');\n",
              "          const dataTable =\n",
              "            await google.colab.kernel.invokeFunction('convertToInteractive',\n",
              "                                                     [key], {});\n",
              "          if (!dataTable) return;\n",
              "\n",
              "          const docLinkHtml = 'Like what you see? Visit the ' +\n",
              "            '<a target=\"_blank\" href=https://colab.research.google.com/notebooks/data_table.ipynb>data table notebook</a>'\n",
              "            + ' to learn more about interactive tables.';\n",
              "          element.innerHTML = '';\n",
              "          dataTable['output_type'] = 'display_data';\n",
              "          await google.colab.output.renderOutput(dataTable, element);\n",
              "          const docLink = document.createElement('div');\n",
              "          docLink.innerHTML = docLinkHtml;\n",
              "          element.appendChild(docLink);\n",
              "        }\n",
              "      </script>\n",
              "    </div>\n",
              "  </div>\n"
            ]
          },
          "metadata": {},
          "execution_count": 131
        }
      ]
    },
    {
      "cell_type": "markdown",
      "source": [
        "#### **2. Split the data in training and test sets.**"
      ],
      "metadata": {
        "id": "Et1qGItBiutq"
      }
    },
    {
      "cell_type": "code",
      "source": [
        "features = df.drop(\"quality\", axis=1)\n",
        "label = df[\"quality\"]\n",
        "\n",
        "X_train, X_test, y_train, y_test = train_test_split(features, label, test_size=0.2, random_state=42)"
      ],
      "metadata": {
        "id": "AiIYKO_Wh4K7"
      },
      "execution_count": null,
      "outputs": []
    },
    {
      "cell_type": "markdown",
      "source": [
        "#### **3. Standardize the features.**"
      ],
      "metadata": {
        "id": "lFDfd7vti3CX"
      }
    },
    {
      "cell_type": "code",
      "source": [
        "scaler = StandardScaler()\n",
        "\n",
        "X_train = scaler.fit_transform(X_train)\n",
        "X_test = scaler.transform(X_test)"
      ],
      "metadata": {
        "id": "vi3BnTl7i-Vz"
      },
      "execution_count": null,
      "outputs": []
    },
    {
      "cell_type": "markdown",
      "metadata": {
        "id": "9djNCUi4yyXq"
      },
      "source": [
        "### **Problem #1.2**\n",
        "\n",
        "Before building the Neural Network, let's use a simpler Linear Regression model for comparison. Specifcally, let's:\n",
        "1. Create a Linear Regression model and fit it to the training data.\n",
        "2. Print the learned coefficients and intercept.\n",
        "3. Evaluate it using the mean squared error and visualize the actual vs. predicted outputs in the test set."
      ]
    },
    {
      "cell_type": "markdown",
      "source": [
        "#### **1. Create a Linear Regression model and fit it to the training data.**"
      ],
      "metadata": {
        "id": "cxWQ1yyvzLbt"
      }
    },
    {
      "cell_type": "code",
      "source": [
        "model_lr = LinearRegression()\n",
        "model_lr.fit(X_train, y_train)"
      ],
      "metadata": {
        "id": "-E_OB7sbzLbv",
        "colab": {
          "base_uri": "https://localhost:8080/",
          "height": 75
        },
        "outputId": "36029b7c-bd89-4595-a242-53033b3953ef"
      },
      "execution_count": null,
      "outputs": [
        {
          "output_type": "execute_result",
          "data": {
            "text/plain": [
              "LinearRegression()"
            ],
            "text/html": [
              "<style>#sk-container-id-6 {color: black;background-color: white;}#sk-container-id-6 pre{padding: 0;}#sk-container-id-6 div.sk-toggleable {background-color: white;}#sk-container-id-6 label.sk-toggleable__label {cursor: pointer;display: block;width: 100%;margin-bottom: 0;padding: 0.3em;box-sizing: border-box;text-align: center;}#sk-container-id-6 label.sk-toggleable__label-arrow:before {content: \"▸\";float: left;margin-right: 0.25em;color: #696969;}#sk-container-id-6 label.sk-toggleable__label-arrow:hover:before {color: black;}#sk-container-id-6 div.sk-estimator:hover label.sk-toggleable__label-arrow:before {color: black;}#sk-container-id-6 div.sk-toggleable__content {max-height: 0;max-width: 0;overflow: hidden;text-align: left;background-color: #f0f8ff;}#sk-container-id-6 div.sk-toggleable__content pre {margin: 0.2em;color: black;border-radius: 0.25em;background-color: #f0f8ff;}#sk-container-id-6 input.sk-toggleable__control:checked~div.sk-toggleable__content {max-height: 200px;max-width: 100%;overflow: auto;}#sk-container-id-6 input.sk-toggleable__control:checked~label.sk-toggleable__label-arrow:before {content: \"▾\";}#sk-container-id-6 div.sk-estimator input.sk-toggleable__control:checked~label.sk-toggleable__label {background-color: #d4ebff;}#sk-container-id-6 div.sk-label input.sk-toggleable__control:checked~label.sk-toggleable__label {background-color: #d4ebff;}#sk-container-id-6 input.sk-hidden--visually {border: 0;clip: rect(1px 1px 1px 1px);clip: rect(1px, 1px, 1px, 1px);height: 1px;margin: -1px;overflow: hidden;padding: 0;position: absolute;width: 1px;}#sk-container-id-6 div.sk-estimator {font-family: monospace;background-color: #f0f8ff;border: 1px dotted black;border-radius: 0.25em;box-sizing: border-box;margin-bottom: 0.5em;}#sk-container-id-6 div.sk-estimator:hover {background-color: #d4ebff;}#sk-container-id-6 div.sk-parallel-item::after {content: \"\";width: 100%;border-bottom: 1px solid gray;flex-grow: 1;}#sk-container-id-6 div.sk-label:hover label.sk-toggleable__label {background-color: #d4ebff;}#sk-container-id-6 div.sk-serial::before {content: \"\";position: absolute;border-left: 1px solid gray;box-sizing: border-box;top: 0;bottom: 0;left: 50%;z-index: 0;}#sk-container-id-6 div.sk-serial {display: flex;flex-direction: column;align-items: center;background-color: white;padding-right: 0.2em;padding-left: 0.2em;position: relative;}#sk-container-id-6 div.sk-item {position: relative;z-index: 1;}#sk-container-id-6 div.sk-parallel {display: flex;align-items: stretch;justify-content: center;background-color: white;position: relative;}#sk-container-id-6 div.sk-item::before, #sk-container-id-6 div.sk-parallel-item::before {content: \"\";position: absolute;border-left: 1px solid gray;box-sizing: border-box;top: 0;bottom: 0;left: 50%;z-index: -1;}#sk-container-id-6 div.sk-parallel-item {display: flex;flex-direction: column;z-index: 1;position: relative;background-color: white;}#sk-container-id-6 div.sk-parallel-item:first-child::after {align-self: flex-end;width: 50%;}#sk-container-id-6 div.sk-parallel-item:last-child::after {align-self: flex-start;width: 50%;}#sk-container-id-6 div.sk-parallel-item:only-child::after {width: 0;}#sk-container-id-6 div.sk-dashed-wrapped {border: 1px dashed gray;margin: 0 0.4em 0.5em 0.4em;box-sizing: border-box;padding-bottom: 0.4em;background-color: white;}#sk-container-id-6 div.sk-label label {font-family: monospace;font-weight: bold;display: inline-block;line-height: 1.2em;}#sk-container-id-6 div.sk-label-container {text-align: center;}#sk-container-id-6 div.sk-container {/* jupyter's `normalize.less` sets `[hidden] { display: none; }` but bootstrap.min.css set `[hidden] { display: none !important; }` so we also need the `!important` here to be able to override the default hidden behavior on the sphinx rendered scikit-learn.org. See: https://github.com/scikit-learn/scikit-learn/issues/21755 */display: inline-block !important;position: relative;}#sk-container-id-6 div.sk-text-repr-fallback {display: none;}</style><div id=\"sk-container-id-6\" class=\"sk-top-container\"><div class=\"sk-text-repr-fallback\"><pre>LinearRegression()</pre><b>In a Jupyter environment, please rerun this cell to show the HTML representation or trust the notebook. <br />On GitHub, the HTML representation is unable to render, please try loading this page with nbviewer.org.</b></div><div class=\"sk-container\" hidden><div class=\"sk-item\"><div class=\"sk-estimator sk-toggleable\"><input class=\"sk-toggleable__control sk-hidden--visually\" id=\"sk-estimator-id-6\" type=\"checkbox\" checked><label for=\"sk-estimator-id-6\" class=\"sk-toggleable__label sk-toggleable__label-arrow\">LinearRegression</label><div class=\"sk-toggleable__content\"><pre>LinearRegression()</pre></div></div></div></div></div>"
            ]
          },
          "metadata": {},
          "execution_count": 134
        }
      ]
    },
    {
      "cell_type": "markdown",
      "source": [
        "#### **2. Print the learned coefficients and intercept.**"
      ],
      "metadata": {
        "id": "lrr7IyQHzdVj"
      }
    },
    {
      "cell_type": "code",
      "source": [
        "print('Coefficients: \\n' + str(model_lr.coef_))\n",
        "print('\\nIntercept: \\n' + str(model_lr.intercept_))"
      ],
      "metadata": {
        "id": "-gHZbrTUzdVv",
        "colab": {
          "base_uri": "https://localhost:8080/"
        },
        "outputId": "66c5ef11-11b4-434f-b4fd-abe15fe2248a"
      },
      "execution_count": null,
      "outputs": [
        {
          "output_type": "stream",
          "name": "stdout",
          "text": [
            "Coefficients: \n",
            "[-0.36560239 -0.28935364 -0.16150274 -0.06507778 -0.10119939  0.03015325\n",
            " -0.07055983  0.09489939 -0.28076838  0.13856176  0.2582551 ]\n",
            "\n",
            "Intercept: \n",
            "4.304909390909908\n"
          ]
        }
      ]
    },
    {
      "cell_type": "markdown",
      "source": [
        "#### **3. Evaluate it using the mean squared error and visualize the actual vs. predicted outputs in the test set.**"
      ],
      "metadata": {
        "id": "7kahW2Af0Doa"
      }
    },
    {
      "cell_type": "code",
      "source": [
        "pred = model_lr.predict(X_test)\n",
        "print('MSE: ' + str(mean_squared_error(y_test, pred)))\n",
        "\n",
        "\n",
        "plt.scatter(y_test, pred)\n",
        "plt.plot([y_test.min(), y_test.max()], [y_test.min(), y_test.max()], color = 'black')\n",
        "\n",
        "plt.xlabel(\"Actual Quality\")\n",
        "plt.ylabel(\"Predicted Quality\")\n",
        "plt.title(\"Actual vs Predicted Quality\")\n",
        "\n",
        "plt.show()"
      ],
      "metadata": {
        "id": "NJa5aW2f0Doc",
        "colab": {
          "base_uri": "https://localhost:8080/",
          "height": 490
        },
        "outputId": "91f6f6f4-88a1-41c3-f68b-cebdf6fb91cf"
      },
      "execution_count": null,
      "outputs": [
        {
          "output_type": "stream",
          "name": "stdout",
          "text": [
            "MSE: 0.9503019589754338\n"
          ]
        },
        {
          "output_type": "display_data",
          "data": {
            "text/plain": [
              "<Figure size 640x480 with 1 Axes>"
            ],
            "image/png": "[encoded data removed]"
          },
          "metadata": {}
        }
      ]
    },
    {
      "cell_type": "markdown",
      "metadata": {
        "id": "021sV71T1Nnv"
      },
      "source": [
        "### **Problem #1.3**\n",
        "\n",
        "Now let's build and fit a Neural Network to do the same task. Specifically, let's:\n",
        "1. Create a Neural Network and fit it to the training data.\n",
        "2. Print the learned coefficients and intercept.\n",
        "3. Evaluate it using the mean squared error and visualize the actual vs. predicted outputs in the test set."
      ]
    },
    {
      "cell_type": "markdown",
      "source": [
        "#### **1. Create a Neural Network and fit it to the training data.**\n",
        "\n",
        "Build a NN such that it has:\n",
        "* The correct number of input neurons (one for each feature).\n",
        "* No hidden layers.\n",
        "* One output neuron with the `'linear'` activation function.\n",
        "\n",
        "\n",
        "<br>\n",
        "\n",
        "**NOTE**: The code to fit the model is provided below. We will unpack and modify this throughout today's lab."
      ],
      "metadata": {
        "id": "DVEOTist1Nn4"
      }
    },
    {
      "cell_type": "code",
      "source": [
        "model_nn = Sequential()\n",
        "model_nn.add(Input(11))\n",
        "model_nn.add(Dense(1, activation='linear'))\n",
        "\n",
        "# Compile the model\n",
        "opt = Adam(learning_rate = 0.1)\n",
        "model_nn.compile(optimizer = opt, loss = 'mse', metrics = ['mse'])\n",
        "\n",
        "# Fit the model on the training data\n",
        "history = model_nn.fit(X_train, y_train, epochs=10, batch_size = 64)"
      ],
      "metadata": {
        "id": "Ju6ZGWkUx8Uq",
        "colab": {
          "base_uri": "https://localhost:8080/"
        },
        "outputId": "15d28d13-9826-4076-91e4-f5ef9ab3188d"
      },
      "execution_count": null,
      "outputs": [
        {
          "output_type": "stream",
          "name": "stdout",
          "text": [
            "Epoch 1/10\n",
            "15/15 [==============================] - 0s 2ms/step - loss: 15.2547 - mse: 15.2547\n",
            "Epoch 2/10\n",
            "15/15 [==============================] - 0s 2ms/step - loss: 6.2823 - mse: 6.2823\n",
            "Epoch 3/10\n",
            "15/15 [==============================] - 0s 2ms/step - loss: 2.3841 - mse: 2.3841\n",
            "Epoch 4/10\n",
            "15/15 [==============================] - 0s 2ms/step - loss: 1.1476 - mse: 1.1476\n",
            "Epoch 5/10\n",
            "15/15 [==============================] - 0s 2ms/step - loss: 0.9350 - mse: 0.9350\n",
            "Epoch 6/10\n",
            "15/15 [==============================] - 0s 2ms/step - loss: 0.9472 - mse: 0.9472\n",
            "Epoch 7/10\n",
            "15/15 [==============================] - 0s 2ms/step - loss: 0.9381 - mse: 0.9381\n",
            "Epoch 8/10\n",
            "15/15 [==============================] - 0s 2ms/step - loss: 0.9345 - mse: 0.9345\n",
            "Epoch 9/10\n",
            "15/15 [==============================] - 0s 2ms/step - loss: 0.9408 - mse: 0.9408\n",
            "Epoch 10/10\n",
            "15/15 [==============================] - 0s 2ms/step - loss: 0.9373 - mse: 0.9373\n"
          ]
        }
      ]
    },
    {
      "cell_type": "markdown",
      "source": [
        "#### **2. Print the learned coefficients and intercept.**\n",
        "\n",
        "**Run the two cells below to print the learned parameters for both the NN and the Linear Regression model from above.**"
      ],
      "metadata": {
        "id": "eoB9S4qV1Nn5"
      }
    },
    {
      "cell_type": "code",
      "source": [
        "layers = model_nn.layers\n",
        "\n",
        "for i in range(len(layers)):\n",
        "  print('\\nLayer ' + str(i))\n",
        "  print('Weights: \\n' + str(layers[i].get_weights()[0]))\n",
        "  print('\\nBiases: \\n' + str(layers[i].get_weights()[1]))"
      ],
      "metadata": {
        "id": "3zbAIjmi1Nn5",
        "colab": {
          "base_uri": "https://localhost:8080/"
        },
        "outputId": "d49d05a7-21d5-4368-8eec-825aea7b03bc"
      },
      "execution_count": null,
      "outputs": [
        {
          "output_type": "stream",
          "name": "stdout",
          "text": [
            "\n",
            "Layer 0\n",
            "Weights: \n",
            "[[-0.37312433]\n",
            " [-0.26593405]\n",
            " [-0.12449248]\n",
            " [-0.06086325]\n",
            " [-0.11588813]\n",
            " [ 0.03787168]\n",
            " [-0.06445273]\n",
            " [ 0.12425267]\n",
            " [-0.30604887]\n",
            " [ 0.18447575]\n",
            " [ 0.29241362]]\n",
            "\n",
            "Biases: \n",
            "[4.306695]\n"
          ]
        }
      ]
    },
    {
      "cell_type": "code",
      "source": [
        "print('Coefficients: \\n' + str(model_lr.coef_))\n",
        "print('\\nIntercept: \\n' + str(model_lr.intercept_))"
      ],
      "metadata": {
        "id": "BQWcVIwm3KsJ",
        "colab": {
          "base_uri": "https://localhost:8080/"
        },
        "outputId": "4d12732b-6462-4f9d-dd6e-a5674feed1df"
      },
      "execution_count": null,
      "outputs": [
        {
          "output_type": "stream",
          "name": "stdout",
          "text": [
            "Coefficients: \n",
            "[-0.36560239 -0.28935364 -0.16150274 -0.06507778 -0.10119939  0.03015325\n",
            " -0.07055983  0.09489939 -0.28076838  0.13856176  0.2582551 ]\n",
            "\n",
            "Intercept: \n",
            "4.304909390909908\n"
          ]
        }
      ]
    },
    {
      "cell_type": "markdown",
      "source": [
        "#### **3. Evaluate it using the mean squared error and visualize the actual vs. predicted outputs in the test set.**"
      ],
      "metadata": {
        "id": "sdX1C9Uy1Nn5"
      }
    },
    {
      "cell_type": "code",
      "source": [
        "print('MSE: ' + str(model_nn.evaluate(X_test, y_test)))\n",
        "\n",
        "pred = model_nn.predict(X_test)\n",
        "\n",
        "plt.scatter(y_test, pred)\n",
        "plt.plot([y_test.min(), y_test.max()], [y_test.min(), y_test.max()], color = 'black')\n",
        "\n",
        "plt.xlabel(\"Actual Quality\")\n",
        "plt.ylabel(\"Predicted Quality\")\n",
        "plt.title(\"Actual vs Predicted Quality\")\n",
        "\n",
        "plt.show()"
      ],
      "metadata": {
        "id": "MNtNDM-M1Nn5",
        "colab": {
          "base_uri": "https://localhost:8080/",
          "height": 526
        },
        "outputId": "a824d0a0-49b4-4628-dfb9-8e9d97078219"
      },
      "execution_count": null,
      "outputs": [
        {
          "output_type": "stream",
          "name": "stdout",
          "text": [
            "8/8 [==============================] - 0s 3ms/step - loss: 0.9409 - mse: 0.9409\n",
            "MSE: [0.9409396648406982, 0.9409396648406982]\n",
            "8/8 [==============================] - 0s 2ms/step\n"
          ]
        },
        {
          "output_type": "display_data",
          "data": {
            "text/plain": [
              "<Figure size 640x480 with 1 Axes>"
            ],
            "image/png": "[encoded data removed]"
          },
          "metadata": {}
        }
      ]
    },
    {
      "cell_type": "markdown",
      "metadata": {
        "id": "MpepG4btZQDH"
      },
      "source": [
        "### **Reflection Questions**\n",
        "\n",
        "1. How did the performances of Linear Regression and the Neural Network compare?\n",
        "\n",
        "2. How did the coefficients of Linear Regression and the Neural Network compare? Why might they be this way?"
      ]
    },
    {
      "cell_type": "markdown",
      "metadata": {
        "id": "d6ZppKOC5Sh2"
      },
      "source": [
        "<a name=\"p2\"></a>\n",
        "\n",
        "---\n",
        "## **Part 2: Model Architecture**\n",
        "---\n",
        "\n",
        "In this section, we will see how creating more complex model architectures (number of layers, neurons, and types of activation functions) can affect the performance of a Neural Network."
      ]
    },
    {
      "cell_type": "markdown",
      "metadata": {
        "id": "6V5VAfOg5eag"
      },
      "source": [
        "### **Problem #2.1**\n",
        "\n",
        "Let's build and fit a *deeper* Neural Network to do the same task as above. Specifically, let's:\n",
        "1. Create a Neural Network and fit it to the training data.\n",
        "2. Print the learned coefficients and intercept.\n",
        "3. Evaluate it using the mean squared error and visualize the actual vs. predicted outputs in the test set."
      ]
    },
    {
      "cell_type": "markdown",
      "source": [
        "#### **1. Create a Neural Network and fit it to the training data.**\n",
        "\n",
        "Build a NN such that it has:\n",
        "* The correct number of input neurons (one for each feature).\n",
        "* One hidden layer with 8 neurons all with the `'linear'` activation function.\n",
        "* One output neuron with the `'linear'` activation function.\n",
        "\n",
        "\n",
        "<br>\n",
        "\n",
        "**NOTE**: The code to fit the model is provided below. We will unpack and modify this throughout today's lab."
      ],
      "metadata": {
        "id": "sb6pkdyd5eas"
      }
    },
    {
      "cell_type": "code",
      "source": [
        "model_nn = Sequential()\n",
        "model_nn.add(Input(11))\n",
        "model_nn.add(Dense(8, activation='linear'))\n",
        "model_nn.add(Dense(1, activation='linear'))\n",
        "\n",
        "# Compile the model\n",
        "opt = Adam(learning_rate = 0.1)\n",
        "model_nn.compile(optimizer = opt, loss = 'mse', metrics = ['mse'])\n",
        "\n",
        "# Fit the model on the training data\n",
        "history = model_nn.fit(X_train, y_train, epochs=10, batch_size = 64)"
      ],
      "metadata": {
        "id": "6Jz5LpTD5eas",
        "colab": {
          "base_uri": "https://localhost:8080/"
        },
        "outputId": "90cfb112-094d-4c29-cc3b-08f5ee6e3df1"
      },
      "execution_count": null,
      "outputs": [
        {
          "output_type": "stream",
          "name": "stdout",
          "text": [
            "Epoch 1/10\n",
            "15/15 [==============================] - 0s 2ms/step - loss: 8.5752 - mse: 8.5752\n",
            "Epoch 2/10\n",
            "15/15 [==============================] - 0s 2ms/step - loss: 1.8518 - mse: 1.8518\n",
            "Epoch 3/10\n",
            "15/15 [==============================] - 0s 2ms/step - loss: 1.1584 - mse: 1.1584\n",
            "Epoch 4/10\n",
            "15/15 [==============================] - 0s 2ms/step - loss: 1.0421 - mse: 1.0421\n",
            "Epoch 5/10\n",
            "15/15 [==============================] - 0s 2ms/step - loss: 0.9723 - mse: 0.9723\n",
            "Epoch 6/10\n",
            "15/15 [==============================] - 0s 2ms/step - loss: 1.1633 - mse: 1.1633\n",
            "Epoch 7/10\n",
            "15/15 [==============================] - 0s 2ms/step - loss: 1.1142 - mse: 1.1142\n",
            "Epoch 8/10\n",
            "15/15 [==============================] - 0s 2ms/step - loss: 1.0367 - mse: 1.0367\n",
            "Epoch 9/10\n",
            "15/15 [==============================] - 0s 2ms/step - loss: 1.0070 - mse: 1.0070\n",
            "Epoch 10/10\n",
            "15/15 [==============================] - 0s 2ms/step - loss: 0.9986 - mse: 0.9986\n"
          ]
        }
      ]
    },
    {
      "cell_type": "markdown",
      "source": [
        "#### **2. Print the learned coefficients and intercept.**"
      ],
      "metadata": {
        "id": "_RDqTSrs5eat"
      }
    },
    {
      "cell_type": "code",
      "source": [
        "layers = model_nn.layers\n",
        "for i in range(len(layers)):\n",
        "  print('\\nLayer ' + str(i))\n",
        "  print('Weights: \\n' + str(layers[i].get_weights()[0]))\n",
        "  print('\\nBiases: \\n' + str(layers[i].get_weights()[1]))"
      ],
      "metadata": {
        "id": "lqUSbGSv6jxF",
        "colab": {
          "base_uri": "https://localhost:8080/"
        },
        "outputId": "d8e93ea2-9eb3-47ad-a63b-93e4afe7cb9c"
      },
      "execution_count": null,
      "outputs": [
        {
          "output_type": "stream",
          "name": "stdout",
          "text": [
            "\n",
            "Layer 0\n",
            "Weights: \n",
            "[[-5.8901012e-02 -8.6080566e-02  3.5421994e-01  1.2531072e-01\n",
            "  -3.4385177e-01  3.0915231e-01 -6.9251977e-02 -4.9944010e-01]\n",
            " [ 1.9018804e-01 -2.4936706e-01 -2.7090302e-01  7.6857939e-02\n",
            "  -6.9301623e-01  2.6569325e-01 -5.5212464e-02 -3.9261103e-01]\n",
            " [-1.6510323e-01 -1.8196680e-01 -1.1951938e-01  1.8286616e-02\n",
            "  -5.0375670e-01 -5.1744126e-02 -1.3652296e-01 -4.7362077e-01]\n",
            " [-4.7384652e-01  6.4381167e-02 -2.1936902e-01  1.4781003e-01\n",
            "  -4.6668133e-01 -2.0390050e-01  4.8733336e-01  1.7356724e-01]\n",
            " [ 3.3336431e-02  6.2697399e-01 -4.6227479e-01 -7.7892207e-02\n",
            "  -7.7025533e-01  5.4113332e-02  2.9692242e-01 -2.6502591e-01]\n",
            " [ 3.1319776e-01 -2.6950535e-01 -1.2563583e-01 -3.1361833e-01\n",
            "  -1.4603588e-01 -2.8362514e-02  1.6859169e-01  2.2462550e-01]\n",
            " [ 3.6105651e-01 -4.1373409e-02 -1.5940104e-01 -2.5511119e-01\n",
            "   1.0809740e-01 -4.6154216e-02  2.0319080e-01 -1.1250131e-01]\n",
            " [-9.6499063e-02 -1.3614555e-01 -4.0466432e-05  5.3316027e-02\n",
            "   4.3952000e-01  1.6481376e-01 -2.0080103e-01  3.8175642e-01]\n",
            " [ 8.3099015e-02 -1.2512094e-01  1.4139956e-01 -2.6343292e-01\n",
            "  -3.3317611e-01  4.0000880e-01 -3.2193191e-02 -3.7880498e-01]\n",
            " [-1.9613260e-01 -2.1445855e-01  1.1179352e-02 -3.5765238e-02\n",
            "   5.0031394e-02 -1.8316557e-01 -2.9383254e-01 -2.5453417e-02]\n",
            " [-2.3386505e-01  3.2116690e-01 -3.6697373e-01  4.6191737e-01\n",
            "  -3.7333897e-01 -1.8826015e-01 -4.4519415e-01  1.4941414e-01]]\n",
            "\n",
            "Biases: \n",
            "[-0.9146112   1.1544487  -0.11024934 -1.3421602  -0.6477317  -1.5833434\n",
            " -1.4457123   1.4966009 ]\n",
            "\n",
            "Layer 1\n",
            "Weights: \n",
            "[[-0.11667995]\n",
            " [ 0.2051404 ]\n",
            " [-0.01790268]\n",
            " [-0.24660091]\n",
            " [-0.05117345]\n",
            " [-0.44752675]\n",
            " [-0.36643946]\n",
            " [ 0.47061944]]\n",
            "\n",
            "Biases: \n",
            "[1.8647109]\n"
          ]
        }
      ]
    },
    {
      "cell_type": "markdown",
      "source": [
        "#### **3. Evaluate it using the mean squared error and visualize the actual vs. predicted outputs in the test set.**"
      ],
      "metadata": {
        "id": "U1OlK3rg5eat"
      }
    },
    {
      "cell_type": "code",
      "source": [
        "print('MSE: ' + str(model_nn.evaluate(X_test,y_test)))\n",
        "\n",
        "pred = model_nn.predict(X_test)\n",
        "\n",
        "plt.scatter(y_test,pred)\n",
        "plt.plot([y_test.min(), y_test.max()], [y_test.min(), y_test.max()], color = 'black')\n",
        "\n",
        "plt.xlabel(\"Actual Quality\")\n",
        "plt.ylabel(\"Predicted Quality\")\n",
        "plt.title(\"Actual vs Predicted Quality\")\n",
        "\n",
        "plt.show()"
      ],
      "metadata": {
        "id": "_a5L7kyz5eat",
        "colab": {
          "base_uri": "https://localhost:8080/",
          "height": 526
        },
        "outputId": "7cd96e97-2ad9-4a24-d0ec-d2bc964fd0c3"
      },
      "execution_count": null,
      "outputs": [
        {
          "output_type": "stream",
          "name": "stdout",
          "text": [
            "8/8 [==============================] - 0s 3ms/step - loss: 1.0203 - mse: 1.0203\n",
            "MSE: [1.020304799079895, 1.020304799079895]\n",
            "8/8 [==============================] - 0s 3ms/step\n"
          ]
        },
        {
          "output_type": "display_data",
          "data": {
            "text/plain": [
              "<Figure size 640x480 with 1 Axes>"
            ],
            "image/png": "[encoded data removed]"
          },
          "metadata": {}
        }
      ]
    },
    {
      "cell_type": "markdown",
      "metadata": {
        "id": "vWHimQdN6s_1"
      },
      "source": [
        "### **Problem #2.2**\n",
        "\n",
        "Let's build and fit a *deeper* Neural Network with *non-linear activation functions* to do the same task as above. Specifically, let's:\n",
        "1. Create a Neural Network and fit it to the training data.\n",
        "2. Print the learned coefficients and intercept.\n",
        "3. Evaluate it using the mean squared error and visualize the actual vs. predicted outputs in the test set."
      ]
    },
    {
      "cell_type": "markdown",
      "source": [
        "#### **1. Create a Neural Network and fit it to the training data.**\n",
        "\n",
        "Build a NN such that it has:\n",
        "* The correct number of input neurons (one for each feature).\n",
        "* One hidden layer with 8 neurons all with the `'relu'` activation function.\n",
        "* One output neuron with the `'linear'` activation function.\n",
        "\n",
        "\n",
        "<br>\n",
        "\n",
        "**NOTE**: The code to fit the model is provided below. We will unpack and modify this throughout today's lab."
      ],
      "metadata": {
        "id": "kgAgG4sw6tAC"
      }
    },
    {
      "cell_type": "code",
      "source": [
        "model_nn = Sequential()\n",
        "model_nn.add(Input(11))\n",
        "model_nn.add(Dense(8, activation='relu'))\n",
        "model_nn.add(Dense(1, activation='linear'))\n",
        "\n",
        "# Compile the model\n",
        "opt = Adam(learning_rate = 0.1)\n",
        "model_nn.compile(optimizer = opt, loss = 'mse', metrics = ['mse'])\n",
        "\n",
        "# Fit the model on the training data\n",
        "history = model_nn.fit(X_train, y_train, epochs=10, batch_size = 64)"
      ],
      "metadata": {
        "id": "4hxUai2p6tAC",
        "colab": {
          "base_uri": "https://localhost:8080/"
        },
        "outputId": "aff4e135-040a-4963-c1c6-a0396be211bb"
      },
      "execution_count": null,
      "outputs": [
        {
          "output_type": "stream",
          "name": "stdout",
          "text": [
            "Epoch 1/10\n",
            "15/15 [==============================] - 0s 2ms/step - loss: 7.9607 - mse: 7.9607\n",
            "Epoch 2/10\n",
            "15/15 [==============================] - 0s 2ms/step - loss: 2.2164 - mse: 2.2164\n",
            "Epoch 3/10\n",
            "15/15 [==============================] - 0s 2ms/step - loss: 1.4545 - mse: 1.4545\n",
            "Epoch 4/10\n",
            "15/15 [==============================] - 0s 2ms/step - loss: 1.1727 - mse: 1.1727\n",
            "Epoch 5/10\n",
            "15/15 [==============================] - 0s 2ms/step - loss: 0.9307 - mse: 0.9307\n",
            "Epoch 6/10\n",
            "15/15 [==============================] - 0s 2ms/step - loss: 0.9470 - mse: 0.9470\n",
            "Epoch 7/10\n",
            "15/15 [==============================] - 0s 2ms/step - loss: 0.8705 - mse: 0.8705\n",
            "Epoch 8/10\n",
            "15/15 [==============================] - 0s 3ms/step - loss: 0.8369 - mse: 0.8369\n",
            "Epoch 9/10\n",
            "15/15 [==============================] - 0s 2ms/step - loss: 0.7900 - mse: 0.7900\n",
            "Epoch 10/10\n",
            "15/15 [==============================] - 0s 2ms/step - loss: 0.7523 - mse: 0.7523\n"
          ]
        }
      ]
    },
    {
      "cell_type": "markdown",
      "source": [
        "#### **2. Print the learned coefficients and intercept.**"
      ],
      "metadata": {
        "id": "Vdg9YVf16tAD"
      }
    },
    {
      "cell_type": "code",
      "source": [
        "layers = model_nn.layers\n",
        "\n",
        "for i in range(len(layers)):\n",
        "  print('\\nLayer ' + str(i))\n",
        "  print('Weights: \\n' + str(layers[i].get_weights()[0]))\n",
        "  print('\\nBiases: \\n' + str(layers[i].get_weights()[1]))"
      ],
      "metadata": {
        "id": "AdCzKi3R6tAD",
        "colab": {
          "base_uri": "https://localhost:8080/"
        },
        "outputId": "505fa20c-ca3c-4697-88b1-1cad371f5cdc"
      },
      "execution_count": null,
      "outputs": [
        {
          "output_type": "stream",
          "name": "stdout",
          "text": [
            "\n",
            "Layer 0\n",
            "Weights: \n",
            "[[ 0.1151393  -1.5738387  -1.408334   -0.26795954  0.23697864  0.72275764\n",
            "   0.16262726 -0.6850709 ]\n",
            " [-0.253128   -0.54694915 -0.06727087  0.3276547   0.84170574 -0.6174857\n",
            "  -0.64817864  0.06137924]\n",
            " [-0.26117706  0.5809442  -0.53782487 -1.1710298  -0.15884143  0.30192673\n",
            "   0.15964575 -0.6380281 ]\n",
            " [-0.54444057  0.07043363 -0.05146923 -0.20459542  0.45013744 -0.2364309\n",
            "   0.16938633  0.2990318 ]\n",
            " [-0.04252518 -0.11551781 -0.31891847 -0.41670308  0.00468003 -0.3274555\n",
            "  -0.344424    0.42113155]\n",
            " [-0.19595972 -0.40138292 -0.19285975  0.33992282 -0.3327073   0.50722855\n",
            "   0.4026054  -0.69633776]\n",
            " [ 0.1797065   0.9219296   0.00444128 -0.71739626 -0.52081954 -0.9995236\n",
            "  -1.1230719   0.56917226]\n",
            " [ 0.27202636 -0.21809928 -0.66216654  0.04309723  0.32282254 -0.00802157\n",
            "  -0.7915837   0.13248804]\n",
            " [ 0.18341562 -0.8128521   1.0531352   0.10435047 -0.06282854  0.35763556\n",
            "  -0.20198916  0.39365643]\n",
            " [-0.41049635  0.12362093 -0.78125083 -0.16316608 -0.50048333  0.4601398\n",
            "  -0.09701917 -0.33246002]\n",
            " [-0.2963538  -0.2782488   0.15405528  0.2683951  -0.35317385  0.9562897\n",
            "   0.5470188  -0.02143636]]\n",
            "\n",
            "Biases: \n",
            "[-1.5294038  1.5077355 -1.0986636  1.8047469 -1.0830266  1.9422079\n",
            " -1.0604784  1.9781517]\n",
            "\n",
            "Layer 1\n",
            "Weights: \n",
            "[[ 0.561497  ]\n",
            " [ 0.2898968 ]\n",
            " [-0.6001392 ]\n",
            " [ 0.39239082]\n",
            " [-0.08690584]\n",
            " [ 0.4156685 ]\n",
            " [ 0.04967219]\n",
            " [ 0.41752192]]\n",
            "\n",
            "Biases: \n",
            "[1.9834388]\n"
          ]
        }
      ]
    },
    {
      "cell_type": "markdown",
      "source": [
        "#### **3. Evaluate it using the mean squared error and visualize the actual vs. predicted outputs in the test set.**"
      ],
      "metadata": {
        "id": "Lo6MJdqj6tAD"
      }
    },
    {
      "cell_type": "code",
      "source": [
        "print('MSE: ' + str(model_nn.evaluate(X_test, y_test)))\n",
        "\n",
        "pred = model_nn.predict(X_test)\n",
        "\n",
        "plt.scatter(y_test, pred)\n",
        "plt.plot([y_test.min(), y_test.max()], [y_test.min(), y_test.max()], color = 'black')\n",
        "\n",
        "plt.xlabel(\"Actual Quality\")\n",
        "plt.ylabel(\"Predicted Quality\")\n",
        "plt.title(\"Actual vs Predicted Quality\")\n",
        "\n",
        "plt.show()"
      ],
      "metadata": {
        "id": "cLi1mngK6tAD",
        "colab": {
          "base_uri": "https://localhost:8080/",
          "height": 526
        },
        "outputId": "a3e546f1-c269-400f-ad6a-86b8fbb87f82"
      },
      "execution_count": null,
      "outputs": [
        {
          "output_type": "stream",
          "name": "stdout",
          "text": [
            "8/8 [==============================] - 0s 3ms/step - loss: 0.6761 - mse: 0.6761\n",
            "MSE: [0.6761266589164734, 0.6761266589164734]\n",
            "8/8 [==============================] - 0s 3ms/step\n"
          ]
        },
        {
          "output_type": "display_data",
          "data": {
            "text/plain": [
              "<Figure size 640x480 with 1 Axes>"
            ],
            "image/png": "[encoded data removed]"
          },
          "metadata": {}
        }
      ]
    },
    {
      "cell_type": "markdown",
      "metadata": {
        "id": "ygYCPGIP7Jy7"
      },
      "source": [
        "### **Problem #2.3**\n",
        "\n",
        "Let's build and fit a different *deeper* Neural Network with *non-linear activation functions* to do the same task as above. Specifically, let's:\n",
        "1. Create a Neural Network and fit it to the training data.\n",
        "2. Print the learned coefficients and intercept.\n",
        "3. Evaluate it using the mean squared error and visualize the actual vs. predicted outputs in the test set."
      ]
    },
    {
      "cell_type": "markdown",
      "source": [
        "#### **1. Create a Neural Network and fit it to the training data.**\n",
        "\n",
        "Build a NN such that it has:\n",
        "* The correct number of input neurons (one for each feature).\n",
        "* One hidden layer with 8 neurons all with the `'tanh'` activation function.\n",
        "* One output neuron with the `'linear'` activation function.\n",
        "\n",
        "\n",
        "<br>\n",
        "\n",
        "**NOTE**: The code to fit the model is provided below. We will unpack and modify this throughout today's lab."
      ],
      "metadata": {
        "id": "bDJ3fkfd7JzH"
      }
    },
    {
      "cell_type": "code",
      "source": [
        "model_nn = Sequential()\n",
        "model_nn.add(Input(11))\n",
        "model_nn.add(Dense(8, activation='tanh'))\n",
        "model_nn.add(Dense(1, activation='linear'))\n",
        "\n",
        "# Compile the model\n",
        "opt = Adam(learning_rate = 0.1)\n",
        "model_nn.compile(optimizer = opt, loss = 'mse', metrics = ['mse'])\n",
        "\n",
        "# Fit the model on the training data\n",
        "history = model_nn.fit(X_train, y_train, epochs=10, batch_size = 64)"
      ],
      "metadata": {
        "id": "IDq8bfuy7JzH",
        "colab": {
          "base_uri": "https://localhost:8080/"
        },
        "outputId": "3f6849b3-f2bc-4476-8513-f3220cac7dfa"
      },
      "execution_count": null,
      "outputs": [
        {
          "output_type": "stream",
          "name": "stdout",
          "text": [
            "Epoch 1/10\n",
            "15/15 [==============================] - 1s 3ms/step - loss: 7.9924 - mse: 7.9924\n",
            "Epoch 2/10\n",
            "15/15 [==============================] - 0s 2ms/step - loss: 1.3808 - mse: 1.3808\n",
            "Epoch 3/10\n",
            "15/15 [==============================] - 0s 3ms/step - loss: 0.7820 - mse: 0.7820\n",
            "Epoch 4/10\n",
            "15/15 [==============================] - 0s 3ms/step - loss: 0.7185 - mse: 0.7185\n",
            "Epoch 5/10\n",
            "15/15 [==============================] - 0s 3ms/step - loss: 0.6618 - mse: 0.6618\n",
            "Epoch 6/10\n",
            "15/15 [==============================] - 0s 3ms/step - loss: 0.6374 - mse: 0.6374\n",
            "Epoch 7/10\n",
            "15/15 [==============================] - 0s 5ms/step - loss: 0.6168 - mse: 0.6168\n",
            "Epoch 8/10\n",
            "15/15 [==============================] - 0s 6ms/step - loss: 0.6224 - mse: 0.6224\n",
            "Epoch 9/10\n",
            "15/15 [==============================] - 0s 6ms/step - loss: 0.6192 - mse: 0.6192\n",
            "Epoch 10/10\n",
            "15/15 [==============================] - 0s 3ms/step - loss: 0.5931 - mse: 0.5931\n"
          ]
        }
      ]
    },
    {
      "cell_type": "markdown",
      "source": [
        "#### **2. Print the learned coefficients and intercept.**"
      ],
      "metadata": {
        "id": "M5aE-5ud7JzI"
      }
    },
    {
      "cell_type": "code",
      "source": [
        "layers = model_nn.layers\n",
        "\n",
        "for i in range(len(layers)):\n",
        "  print('\\nLayer ' + str(i))\n",
        "  print('Weights: \\n' + str(layers[i].get_weights()[0]))\n",
        "  print('\\nBiases: \\n' + str(layers[i].get_weights()[1]))"
      ],
      "metadata": {
        "id": "3T-bdnnN7JzI",
        "colab": {
          "base_uri": "https://localhost:8080/"
        },
        "outputId": "a45dd257-47d7-4783-9aed-5c0aa13559f1"
      },
      "execution_count": null,
      "outputs": [
        {
          "output_type": "stream",
          "name": "stdout",
          "text": [
            "\n",
            "Layer 0\n",
            "Weights: \n",
            "[[-0.46978545  1.2116446  -0.40436023 -0.12902284  0.24411783  2.334558\n",
            "  -1.3674048   1.1557709 ]\n",
            " [-0.45638314 -0.29990256  0.3984968   0.23529446 -0.11742307  0.27915433\n",
            "   0.50976616  0.10702752]\n",
            " [ 0.07679161  0.18247932  0.00831444  0.07681155  0.32001895  0.2071306\n",
            "  -0.927063   -0.28157774]\n",
            " [-0.75195336 -0.07488772 -0.3234358   0.39508858  0.9924341  -0.12701474\n",
            "   0.50190514 -0.47816253]\n",
            " [-0.34074646  0.21775286 -0.4011702  -0.04505546 -2.3860137  -0.48530424\n",
            "  -0.9778353   0.53220755]\n",
            " [-0.40216333 -0.08003094  0.03206731  0.8204001   0.4750531  -0.05718587\n",
            "  -0.01623625  0.4694895 ]\n",
            " [ 0.24444409  0.23236422 -0.69428164 -0.21035372 -0.38929912 -0.07502474\n",
            "  -0.05335172 -0.62218   ]\n",
            " [ 0.7526386   0.039459    0.52613926  0.17469248  0.5077464   0.87140155\n",
            "  -0.9055663   0.6177975 ]\n",
            " [-0.6382447  -0.16045855  0.42569986  0.02259828  0.47193938 -0.07012013\n",
            "   0.49882665 -0.6466622 ]\n",
            " [-1.5974811  -0.06212717 -1.4540062   0.20360492 -0.48029634 -0.2315896\n",
            "   0.4525245   0.46804702]\n",
            " [-0.62091625  0.41643846  0.34904873 -1.1091743   0.5225194   0.08677754\n",
            "   0.6950937   0.38759586]]\n",
            "\n",
            "Biases: \n",
            "[-1.8616574  1.8525556 -1.6037766 -1.8605168  1.6994469 -1.5693688\n",
            "  1.5311342  1.6842825]\n",
            "\n",
            "Layer 1\n",
            "Weights: \n",
            "[[-0.32545698]\n",
            " [ 0.7273985 ]\n",
            " [-0.40678853]\n",
            " [-0.5780012 ]\n",
            " [ 0.5162193 ]\n",
            " [-0.9473985 ]\n",
            " [ 0.12689514]\n",
            " [ 0.5290912 ]]\n",
            "\n",
            "Biases: \n",
            "[1.8059003]\n"
          ]
        }
      ]
    },
    {
      "cell_type": "markdown",
      "source": [
        "#### **3. Evaluate it using the mean squared error and visualize the actual vs. predicted outputs in the test set.**"
      ],
      "metadata": {
        "id": "wrD9XrRt7JzI"
      }
    },
    {
      "cell_type": "code",
      "source": [
        "print('MSE: ' + str(model_nn.evaluate(X_test, y_test)))\n",
        "\n",
        "pred = model_nn.predict(X_test)\n",
        "\n",
        "plt.scatter(y_test, pred)\n",
        "plt.plot([y_test.min(), y_test.max()], [y_test.min(), y_test.max()], color = 'black')\n",
        "\n",
        "plt.xlabel(\"Actual Quality\")\n",
        "plt.ylabel(\"Predicted Quality\")\n",
        "plt.title(\"Actual vs Predicted Quality\")\n",
        "\n",
        "plt.show()"
      ],
      "metadata": {
        "id": "PKGy07q97JzI",
        "colab": {
          "base_uri": "https://localhost:8080/",
          "height": 526
        },
        "outputId": "2c1b9287-ade5-454e-9304-e2d57f05a9e6"
      },
      "execution_count": null,
      "outputs": [
        {
          "output_type": "stream",
          "name": "stdout",
          "text": [
            "8/8 [==============================] - 0s 2ms/step - loss: 0.5914 - mse: 0.5914\n",
            "MSE: [0.5914046168327332, 0.5914046168327332]\n",
            "8/8 [==============================] - 0s 2ms/step\n"
          ]
        },
        {
          "output_type": "display_data",
          "data": {
            "text/plain": [
              "<Figure size 640x480 with 1 Axes>"
            ],
            "image/png": "[encoded data removed]"
          },
          "metadata": {}
        }
      ]
    },
    {
      "cell_type": "markdown",
      "metadata": {
        "id": "0ET5VbOE7aDw"
      },
      "source": [
        "### **Problem #2.4**\n",
        "\n",
        "Let's build and fit a different *even deeper* Neural Network with *non-linear activation functions* to do the same task as above. Specifically, let's:\n",
        "1. Create a Neural Network and fit it to the training data.\n",
        "2. Print the learned coefficients and intercept.\n",
        "3. Evaluate it using the mean squared error and visualize the actual vs. predicted outputs in the test set."
      ]
    },
    {
      "cell_type": "markdown",
      "source": [
        "#### **1. Create a Neural Network and fit it to the training data.**\n",
        "\n",
        "Build a NN such that it has:\n",
        "* The correct number of input neurons (one for each feature).\n",
        "* One hidden layer with 8 neurons all with the `'tanh'` activation function.\n",
        "* Another hidden layer with 4 neurons all with the `'relu'` activation function.\n",
        "* One output neuron with the `'linear'` activation function.\n",
        "\n",
        "\n",
        "<br>\n",
        "\n",
        "**NOTE**: The code to fit the model is provided below. We will unpack and modify this throughout today's lab."
      ],
      "metadata": {
        "id": "Aas4sXp97aD7"
      }
    },
    {
      "cell_type": "code",
      "source": [
        "model_nn = Sequential()\n",
        "model_nn.add(Input(11))\n",
        "model_nn.add(Dense(8, activation='tanh'))\n",
        "model_nn.add(Dense(4,activation='relu'))\n",
        "model_nn.add(Dense(1, activation='linear'))\n",
        "\n",
        "# Compile the model\n",
        "opt = Adam(learning_rate = 0.1)\n",
        "model_nn.compile(optimizer = opt, loss = 'mse', metrics = ['mse'])\n",
        "\n",
        "# Fit the model on the training data\n",
        "history = model_nn.fit(X_train, y_train, epochs=10, batch_size = 64)"
      ],
      "metadata": {
        "id": "64QR8N-W7aD8",
        "colab": {
          "base_uri": "https://localhost:8080/"
        },
        "outputId": "1654b1b1-3236-412f-cc80-44804fa576ca"
      },
      "execution_count": null,
      "outputs": [
        {
          "output_type": "stream",
          "name": "stdout",
          "text": [
            "Epoch 1/10\n",
            "15/15 [==============================] - 1s 2ms/step - loss: 4.5148 - mse: 4.5148\n",
            "Epoch 2/10\n",
            "15/15 [==============================] - 0s 2ms/step - loss: 1.2688 - mse: 1.2688\n",
            "Epoch 3/10\n",
            "15/15 [==============================] - 0s 2ms/step - loss: 0.9468 - mse: 0.9468\n",
            "Epoch 4/10\n",
            "15/15 [==============================] - 0s 2ms/step - loss: 0.8386 - mse: 0.8386\n",
            "Epoch 5/10\n",
            "15/15 [==============================] - 0s 2ms/step - loss: 0.7371 - mse: 0.7371\n",
            "Epoch 6/10\n",
            "15/15 [==============================] - 0s 2ms/step - loss: 0.7017 - mse: 0.7017\n",
            "Epoch 7/10\n",
            "15/15 [==============================] - 0s 2ms/step - loss: 0.7226 - mse: 0.7226\n",
            "Epoch 8/10\n",
            "15/15 [==============================] - 0s 2ms/step - loss: 0.7363 - mse: 0.7363\n",
            "Epoch 9/10\n",
            "15/15 [==============================] - 0s 2ms/step - loss: 0.7766 - mse: 0.7766\n",
            "Epoch 10/10\n",
            "15/15 [==============================] - 0s 2ms/step - loss: 0.6870 - mse: 0.6870\n"
          ]
        }
      ]
    },
    {
      "cell_type": "markdown",
      "source": [
        "#### **2. Print the learned coefficients and intercept.**"
      ],
      "metadata": {
        "id": "Xa9Pu2_x7aD8"
      }
    },
    {
      "cell_type": "code",
      "source": [
        "layers = model_nn.layers\n",
        "\n",
        "for i in range(len(layers)):\n",
        "  print('\\nLayer ' + str(i))\n",
        "  print('Weights: \\n' + str(layers[i].get_weights()[0]))\n",
        "  print('\\nBiases: \\n' + str(layers[i].get_weights()[1]))"
      ],
      "metadata": {
        "id": "XWESPP8J7aD8",
        "colab": {
          "base_uri": "https://localhost:8080/"
        },
        "outputId": "fda9545e-addf-4c36-8dd6-4674f879e7d9"
      },
      "execution_count": null,
      "outputs": [
        {
          "output_type": "stream",
          "name": "stdout",
          "text": [
            "\n",
            "Layer 0\n",
            "Weights: \n",
            "[[-1.6634057   0.17726582 -1.8325062  -1.5956072  -2.5122962  -0.01980255\n",
            "   0.49819198  0.9783766 ]\n",
            " [ 0.49368197 -1.7597294  -0.86993515  0.2707108   0.12382884  0.05732737\n",
            "  -0.75954324  0.6342901 ]\n",
            " [-0.7034787   0.6242624  -0.27880672  0.48833644 -0.30722016  0.41646323\n",
            "   1.2084397   0.8374541 ]\n",
            " [ 0.15534265  1.1422176   0.44626927  0.89654917  0.262499   -0.08152831\n",
            "  -0.39258727  1.7848386 ]\n",
            " [-0.86819136  0.3847296  -0.8475919  -0.3831604  -0.14391047 -0.15882291\n",
            "   0.7064438   0.6775183 ]\n",
            " [ 1.540566    1.3831923  -0.2586231  -0.48771787 -0.18055552  1.0483475\n",
            "   0.6172698   0.86305016]\n",
            " [ 1.3268417   0.9454277   0.3687235   0.87374055  0.0798066   2.2252913\n",
            "  -0.2468773   0.7002744 ]\n",
            " [-1.2026936   0.17854884 -0.5323775  -0.18471919 -0.72502106 -0.157795\n",
            "   0.4550155   2.641714  ]\n",
            " [ 1.2678825  -0.2904102   0.251459    0.8786044   0.41883117  0.7655044\n",
            "   0.09651321  0.3729495 ]\n",
            " [ 0.91450995  0.04683054  0.3014563  -0.7363752  -0.02964582 -0.17183346\n",
            "   1.2557174  -0.8976906 ]\n",
            " [-0.21247041  1.2684907   0.30253094 -0.7054047  -0.10948621 -1.4431742\n",
            "   0.07140742 -0.0632183 ]]\n",
            "\n",
            "Biases: \n",
            "[ 1.1033031  -0.22996601  0.983011   -1.4061642   1.8453571  -1.1054633\n",
            "  0.775717    1.3011866 ]\n",
            "\n",
            "Layer 1\n",
            "Weights: \n",
            "[[-0.6110413   0.17308609  0.7871327  -0.25938568]\n",
            " [ 0.33994326  0.33522886  0.15128784 -0.6547847 ]\n",
            " [ 0.5147612  -1.4615432   0.4786535   0.37642026]\n",
            " [-0.64531165  0.6096157  -0.6377082   0.28123045]\n",
            " [ 0.01661864  0.7559568   0.81490433  1.064488  ]\n",
            " [-0.743338    0.11005898  0.02641997  0.24363397]\n",
            " [ 0.21847174  0.02423473  0.8040618  -1.2478453 ]\n",
            " [-0.04686368  0.4404016   0.02061277  0.33833465]]\n",
            "\n",
            "Biases: \n",
            "[0.7083051  1.0104406  0.91561764 0.54350257]\n",
            "\n",
            "Layer 2\n",
            "Weights: \n",
            "[[0.678931  ]\n",
            " [0.29017502]\n",
            " [0.57448137]\n",
            " [0.333955  ]]\n",
            "\n",
            "Biases: \n",
            "[1.2643458]\n"
          ]
        }
      ]
    },
    {
      "cell_type": "markdown",
      "source": [
        "#### **3. Evaluate it using the mean squared error and visualize the actual vs. predicted outputs in the test set.**"
      ],
      "metadata": {
        "id": "PUmgxjOk7aD8"
      }
    },
    {
      "cell_type": "code",
      "source": [
        "print('MSE: ' + str(model_nn.evaluate(X_test, y_test)))\n",
        "\n",
        "pred = model_nn.predict(X_test)\n",
        "\n",
        "plt.scatter(y_test, pred)\n",
        "plt.plot([y_test.min(), y_test.max()], [y_test.min(), y_test.max()], color = 'black')\n",
        "\n",
        "plt.xlabel(\"Actual Quality\")\n",
        "plt.ylabel(\"Predicted Quality\")\n",
        "plt.title(\"Actual vs Predicted Quality\")\n",
        "\n",
        "plt.show()"
      ],
      "metadata": {
        "id": "AAZ6-Z3F7aD9",
        "colab": {
          "base_uri": "https://localhost:8080/",
          "height": 526
        },
        "outputId": "c06f3193-48f8-4680-c7a1-a036de81c54f"
      },
      "execution_count": null,
      "outputs": [
        {
          "output_type": "stream",
          "name": "stdout",
          "text": [
            "8/8 [==============================] - 0s 8ms/step - loss: 0.6586 - mse: 0.6586\n",
            "MSE: [0.658610999584198, 0.658610999584198]\n",
            "8/8 [==============================] - 0s 3ms/step\n"
          ]
        },
        {
          "output_type": "display_data",
          "data": {
            "text/plain": [
              "<Figure size 640x480 with 1 Axes>"
            ],
            "image/png": "[encoded data removed]"
          },
          "metadata": {}
        }
      ]
    },
    {
      "cell_type": "markdown",
      "metadata": {
        "id": "Uuciz1S28z-M"
      },
      "source": [
        "### **Problem #2.5**\n",
        "\n",
        "Let's build and fit a different *even deeper* Neural Network with *non-linear activation functions* to do the same task as above. Specifically, let's:\n",
        "1. Create a Neural Network and fit it to the training data.\n",
        "2. Print the learned coefficients and intercept.\n",
        "3. Evaluate it using the mean squared error and visualize the actual vs. predicted outputs in the test set."
      ]
    },
    {
      "cell_type": "markdown",
      "source": [
        "#### **1. Create a Neural Network and fit it to the training data.**\n",
        "\n",
        "Build a NN such that it has:\n",
        "* The correct number of input neurons (one for each feature).\n",
        "* One hidden layer with 8 neurons all with the `'tanh'` activation function.\n",
        "* Another hidden layer with 4 neurons all with the `'relu'` activation function.\n",
        "* Another hidden layer with 4 neurons all with the `'sigmoid'` activation function.\n",
        "* One output neuron with the `'linear'` activation function.\n",
        "\n",
        "\n",
        "<br>\n",
        "\n",
        "**NOTE**: The code to fit the model is provided below. We will unpack and modify this throughout today's lab."
      ],
      "metadata": {
        "id": "-cxfU-qI8z-X"
      }
    },
    {
      "cell_type": "code",
      "source": [
        "model_nn = Sequential()\n",
        "model_nn.add(Input(11))\n",
        "model_nn.add(Dense(8, activation='tanh'))\n",
        "model_nn.add(Dense(4, activation='relu'))\n",
        "model_nn.add(Dense(4, activation='sigmoid'))\n",
        "model_nn.add(Dense(1, activation='linear'))\n",
        "\n",
        "# Compile the model\n",
        "opt = Adam(learning_rate = 0.1)\n",
        "model_nn.compile(optimizer = opt, loss = 'mse', metrics = ['mse'])\n",
        "\n",
        "# Fit the model on the training data\n",
        "history = model_nn.fit(X_train, y_train, epochs=10, batch_size = 64)"
      ],
      "metadata": {
        "id": "dPpO2geS8z-X",
        "colab": {
          "base_uri": "https://localhost:8080/"
        },
        "outputId": "000a113c-690e-4908-8779-4ac848659908"
      },
      "execution_count": null,
      "outputs": [
        {
          "output_type": "stream",
          "name": "stdout",
          "text": [
            "Epoch 1/10\n",
            "15/15 [==============================] - 2s 4ms/step - loss: 3.7471 - mse: 3.7471\n",
            "Epoch 2/10\n",
            "15/15 [==============================] - 0s 10ms/step - loss: 1.2146 - mse: 1.2146\n",
            "Epoch 3/10\n",
            "15/15 [==============================] - 0s 10ms/step - loss: 1.0081 - mse: 1.0081\n",
            "Epoch 4/10\n",
            "15/15 [==============================] - 0s 6ms/step - loss: 0.9539 - mse: 0.9539\n",
            "Epoch 5/10\n",
            "15/15 [==============================] - 0s 6ms/step - loss: 0.9429 - mse: 0.9429\n",
            "Epoch 6/10\n",
            "15/15 [==============================] - 0s 5ms/step - loss: 0.9148 - mse: 0.9148\n",
            "Epoch 7/10\n",
            "15/15 [==============================] - 0s 5ms/step - loss: 0.8887 - mse: 0.8887\n",
            "Epoch 8/10\n",
            "15/15 [==============================] - 0s 8ms/step - loss: 0.8647 - mse: 0.8647\n",
            "Epoch 9/10\n",
            "15/15 [==============================] - 0s 4ms/step - loss: 0.8515 - mse: 0.8515\n",
            "Epoch 10/10\n",
            "15/15 [==============================] - 0s 8ms/step - loss: 0.8243 - mse: 0.8243\n"
          ]
        }
      ]
    },
    {
      "cell_type": "markdown",
      "source": [
        "#### **2. Print the learned coefficients and intercept.**"
      ],
      "metadata": {
        "id": "SKlkuBHP8z-Y"
      }
    },
    {
      "cell_type": "code",
      "source": [
        "layers = model_nn.layers\n",
        "\n",
        "for i in range(len(layers)):\n",
        "  print('\\nLayer ' + str(i))\n",
        "  print('Weights: \\n' + str(layers[i].get_weights()[0]))\n",
        "  print('\\nBiases: \\n' + str(layers[i].get_weights()[1]))"
      ],
      "metadata": {
        "id": "EhgsifOT8z-Y",
        "colab": {
          "base_uri": "https://localhost:8080/"
        },
        "outputId": "9eaaf2b2-530a-46ec-d917-9114279dda30"
      },
      "execution_count": null,
      "outputs": [
        {
          "output_type": "stream",
          "name": "stdout",
          "text": [
            "\n",
            "Layer 0\n",
            "Weights: \n",
            "[[ 3.1304924   1.9010712  -1.6463813   2.7184196  -0.8661664  -2.12654\n",
            "  -2.0709949   0.6778162 ]\n",
            " [ 0.3479598   0.4399862   1.397017    0.03597714  0.07704558 -1.6499076\n",
            "  -0.00952063 -2.7034032 ]\n",
            " [ 1.2820319  -0.5149969  -0.38424203  1.2154914  -0.38076913 -0.78142273\n",
            "  -1.5233024   0.4393916 ]\n",
            " [-1.1274112   0.5140576   0.63698006  0.5545532   0.31789398 -1.0466627\n",
            "   0.06355835  0.8127693 ]\n",
            " [ 0.40001807  2.2635765  -0.5561212   1.5952961  -1.2692128  -0.25901046\n",
            "  -1.4635872  -0.83719003]\n",
            " [ 0.5463931   0.43030015 -0.69054776 -0.10164859 -0.40973958  0.5684649\n",
            "   0.00544368  1.375059  ]\n",
            " [-0.12311645 -0.11766512  1.1091745  -0.36203042 -1.6850145  -0.54904467\n",
            "  -1.1935127   0.72013795]\n",
            " [ 0.92439806  1.915585    1.241437    0.42858747 -0.4356135  -2.5044403\n",
            "  -0.6905743   0.3874994 ]\n",
            " [ 0.41369775  0.39612487  1.6246504  -0.83582914 -0.3031973   0.62173\n",
            "   2.1420302  -0.9114103 ]\n",
            " [-0.48724073  0.7745937  -1.0803688   0.22683878 -0.35318416  1.3024858\n",
            "   1.0025274   2.2226436 ]\n",
            " [-0.36378485 -1.7481922  -1.379588    0.8807033   1.1945641   0.9587692\n",
            "   1.630117    1.9464197 ]]\n",
            "\n",
            "Biases: \n",
            "[-1.887031   -0.39015114  0.7023464  -1.7442936   1.2818187  -0.30314326\n",
            "  1.1800399  -1.0415941 ]\n",
            "\n",
            "Layer 1\n",
            "Weights: \n",
            "[[-0.9931413  -0.36718735 -0.6328444  -1.3813624 ]\n",
            " [-0.379669   -0.25944263 -1.0194417  -0.9572813 ]\n",
            " [-0.1600359  -1.4759226   0.1674062   0.711964  ]\n",
            " [-0.15505151  0.4000957  -1.2056566  -1.8621173 ]\n",
            " [ 0.5938515   1.1526546  -0.83452904  0.46812424]\n",
            " [ 0.31562713  1.395331    2.1381087   0.29665372]\n",
            " [ 0.80315286  1.050523   -0.01692685  1.384163  ]\n",
            " [ 1.3281709   2.2788532   0.37121242  0.21880671]]\n",
            "\n",
            "Biases: \n",
            "[-1.4285693 -0.5410329  0.5043953  1.2352695]\n",
            "\n",
            "Layer 2\n",
            "Weights: \n",
            "[[ 0.16387956  0.39235502  0.529896    0.41493982]\n",
            " [ 1.7138914  -0.33307505  1.7655678  -0.01117355]\n",
            " [ 1.6437657   0.91066724 -0.29283917  1.1230441 ]\n",
            " [ 1.5192336   1.6703591  -0.51473886  1.7074592 ]]\n",
            "\n",
            "Biases: \n",
            "[0.66026926 0.6130009  0.36956704 0.6698513 ]\n",
            "\n",
            "Layer 3\n",
            "Weights: \n",
            "[[1.2623006]\n",
            " [1.0616579]\n",
            " [0.8504054]\n",
            " [1.2190254]]\n",
            "\n",
            "Biases: \n",
            "[0.75748634]\n"
          ]
        }
      ]
    },
    {
      "cell_type": "markdown",
      "source": [
        "#### **3. Evaluate it using the mean squared error and visualize the actual vs. predicted outputs in the test set.**"
      ],
      "metadata": {
        "id": "L5rdr-ta8z-Y"
      }
    },
    {
      "cell_type": "code",
      "source": [
        "print('MSE: ' + str(model_nn.evaluate(X_test, y_test)))\n",
        "\n",
        "pred = model_nn.predict(X_test)\n",
        "\n",
        "plt.scatter(y_test, pred)\n",
        "plt.plot([y_test.min(), y_test.max()], [y_test.min(), y_test.max()], color = 'black')\n",
        "\n",
        "plt.xlabel(\"Actual Quality\")\n",
        "plt.ylabel(\"Predicted Quality\")\n",
        "plt.title(\"Actual vs Predicted Quality\")\n",
        "\n",
        "plt.show()"
      ],
      "metadata": {
        "id": "rgl2cnGE8z-Y",
        "colab": {
          "base_uri": "https://localhost:8080/",
          "height": 526
        },
        "outputId": "0e6da0c9-f424-4632-af4d-ba15cb0746d7"
      },
      "execution_count": null,
      "outputs": [
        {
          "output_type": "stream",
          "name": "stdout",
          "text": [
            "8/8 [==============================] - 0s 5ms/step - loss: 0.8378 - mse: 0.8378\n",
            "MSE: [0.837813675403595, 0.837813675403595]\n",
            "8/8 [==============================] - 0s 5ms/step\n"
          ]
        },
        {
          "output_type": "display_data",
          "data": {
            "text/plain": [
              "<Figure size 640x480 with 1 Axes>"
            ],
            "image/png": "[encoded data removed]"
          },
          "metadata": {}
        }
      ]
    },
    {
      "cell_type": "markdown",
      "metadata": {
        "id": "5KaM7g0s8m_j"
      },
      "source": [
        "<a name=\"p3\"></a>\n",
        "\n",
        "---\n",
        "## **Part 3: Hyperparameter Tuning**\n",
        "---\n",
        "\n",
        "In this section, we will see how tuning hyperparameters can affect the performance of a Neural Network."
      ]
    },
    {
      "cell_type": "markdown",
      "metadata": {
        "id": "r2waalaIpxBz"
      },
      "source": [
        "### **Problem #3.1**\n",
        "\n",
        "Modify the code below to find the ideal `learning_rate` parameter given everything else is fixed. Consider values such as: `10`, `1`, `0.1`, `0.01`, `0.001`, and `0.0001`."
      ]
    },
    {
      "cell_type": "code",
      "source": [
        "model_nn = Sequential()\n",
        "model_nn.add(Input(11))\n",
        "model_nn.add(Dense(8, activation='relu'))\n",
        "model_nn.add(Dense(1, activation='linear'))\n",
        "\n",
        "# Compile the model\n",
        "opt = Adam(learning_rate = .1)\n",
        "model_nn.compile(optimizer = opt, loss = 'mse', metrics = ['mse'])\n",
        "\n",
        "# Fit the model on the training data\n",
        "history = model_nn.fit(X_train, y_train, epochs=10, batch_size = 64)"
      ],
      "metadata": {
        "id": "B-GA895WyCr2",
        "colab": {
          "base_uri": "https://localhost:8080/"
        },
        "outputId": "d8b518d6-6584-4912-d87e-f6e4f50d7227"
      },
      "execution_count": null,
      "outputs": [
        {
          "output_type": "stream",
          "name": "stdout",
          "text": [
            "Epoch 1/10\n",
            "15/15 [==============================] - 0s 3ms/step - loss: 6.6178 - mse: 6.6178\n",
            "Epoch 2/10\n",
            "15/15 [==============================] - 0s 2ms/step - loss: 1.9546 - mse: 1.9546\n",
            "Epoch 3/10\n",
            "15/15 [==============================] - 0s 2ms/step - loss: 1.3521 - mse: 1.3521\n",
            "Epoch 4/10\n",
            "15/15 [==============================] - 0s 2ms/step - loss: 1.0151 - mse: 1.0151\n",
            "Epoch 5/10\n",
            "15/15 [==============================] - 0s 2ms/step - loss: 0.9588 - mse: 0.9588\n",
            "Epoch 6/10\n",
            "15/15 [==============================] - 0s 3ms/step - loss: 0.8711 - mse: 0.8711\n",
            "Epoch 7/10\n",
            "15/15 [==============================] - 0s 4ms/step - loss: 0.8217 - mse: 0.8217\n",
            "Epoch 8/10\n",
            "15/15 [==============================] - 0s 3ms/step - loss: 0.7683 - mse: 0.7683\n",
            "Epoch 9/10\n",
            "15/15 [==============================] - 0s 5ms/step - loss: 0.7718 - mse: 0.7718\n",
            "Epoch 10/10\n",
            "15/15 [==============================] - 0s 6ms/step - loss: 0.7186 - mse: 0.7186\n"
          ]
        }
      ]
    },
    {
      "cell_type": "markdown",
      "metadata": {
        "id": "fSp9j4Pn-ZDt"
      },
      "source": [
        "### **Problem #3.2**\n",
        "\n",
        "To reach the full potential of smaller learning rates, we often need to compensate by running more epochs. So, modify the code below to increase the `epochs` parameter to `100` and find the ideal `learning_rate` parameter given everything else is fixed. Consider values such as: `10`, `1`, `0.1`, `0.01`, `0.001`, and `0.0001`."
      ]
    },
    {
      "cell_type": "code",
      "source": [
        "model_nn = Sequential()\n",
        "model_nn.add(Input(11))\n",
        "model_nn.add(Dense(8, activation='relu'))\n",
        "model_nn.add(Dense(1, activation='linear'))\n",
        "\n",
        "# Compile the model\n",
        "opt = Adam(learning_rate = 0.1)\n",
        "model_nn.compile(optimizer = opt, loss = 'mse', metrics = ['mse'])\n",
        "\n",
        "# Fit the model on the training data\n",
        "history = model_nn.fit(X_train, y_train, epochs=100, batch_size = 64)"
      ],
      "metadata": {
        "id": "sCRTeVWJ-ZD6",
        "colab": {
          "base_uri": "https://localhost:8080/"
        },
        "outputId": "1bbd11a0-59dd-4ffb-856e-62810961f147"
      },
      "execution_count": null,
      "outputs": [
        {
          "output_type": "stream",
          "name": "stdout",
          "text": [
            "Epoch 1/100\n",
            "15/15 [==============================] - 0s 3ms/step - loss: 5.8018 - mse: 5.8018\n",
            "Epoch 2/100\n",
            "15/15 [==============================] - 0s 2ms/step - loss: 1.8089 - mse: 1.8089\n",
            "Epoch 3/100\n",
            "15/15 [==============================] - 0s 2ms/step - loss: 1.1910 - mse: 1.1910\n",
            "Epoch 4/100\n",
            "15/15 [==============================] - 0s 2ms/step - loss: 0.9831 - mse: 0.9831\n",
            "Epoch 5/100\n",
            "15/15 [==============================] - 0s 2ms/step - loss: 0.9137 - mse: 0.9137\n",
            "Epoch 6/100\n",
            "15/15 [==============================] - 0s 2ms/step - loss: 0.8675 - mse: 0.8675\n",
            "Epoch 7/100\n",
            "15/15 [==============================] - 0s 2ms/step - loss: 0.8869 - mse: 0.8869\n",
            "Epoch 8/100\n",
            "15/15 [==============================] - 0s 2ms/step - loss: 0.8565 - mse: 0.8565\n",
            "Epoch 9/100\n",
            "15/15 [==============================] - 0s 2ms/step - loss: 0.8115 - mse: 0.8115\n",
            "Epoch 10/100\n",
            "15/15 [==============================] - 0s 5ms/step - loss: 0.8293 - mse: 0.8293\n",
            "Epoch 11/100\n",
            "15/15 [==============================] - 0s 4ms/step - loss: 0.8578 - mse: 0.8578\n",
            "Epoch 12/100\n",
            "15/15 [==============================] - 0s 4ms/step - loss: 0.8888 - mse: 0.8888\n",
            "Epoch 13/100\n",
            "15/15 [==============================] - 0s 4ms/step - loss: 0.8714 - mse: 0.8714\n",
            "Epoch 14/100\n",
            "15/15 [==============================] - 0s 3ms/step - loss: 0.8736 - mse: 0.8736\n",
            "Epoch 15/100\n",
            "15/15 [==============================] - 0s 3ms/step - loss: 0.8792 - mse: 0.8792\n",
            "Epoch 16/100\n",
            "15/15 [==============================] - 0s 3ms/step - loss: 0.7555 - mse: 0.7555\n",
            "Epoch 17/100\n",
            "15/15 [==============================] - 0s 3ms/step - loss: 0.7544 - mse: 0.7544\n",
            "Epoch 18/100\n",
            "15/15 [==============================] - 0s 3ms/step - loss: 0.7322 - mse: 0.7322\n",
            "Epoch 19/100\n",
            "15/15 [==============================] - 0s 3ms/step - loss: 0.7818 - mse: 0.7818\n",
            "Epoch 20/100\n",
            "15/15 [==============================] - 0s 3ms/step - loss: 0.7420 - mse: 0.7420\n",
            "Epoch 21/100\n",
            "15/15 [==============================] - 0s 3ms/step - loss: 0.6852 - mse: 0.6852\n",
            "Epoch 22/100\n",
            "15/15 [==============================] - 0s 3ms/step - loss: 0.6386 - mse: 0.6386\n",
            "Epoch 23/100\n",
            "15/15 [==============================] - 0s 2ms/step - loss: 0.6426 - mse: 0.6426\n",
            "Epoch 24/100\n",
            "15/15 [==============================] - 0s 3ms/step - loss: 0.6786 - mse: 0.6786\n",
            "Epoch 25/100\n",
            "15/15 [==============================] - 0s 3ms/step - loss: 0.6577 - mse: 0.6577\n",
            "Epoch 26/100\n",
            "15/15 [==============================] - 0s 2ms/step - loss: 0.6528 - mse: 0.6528\n",
            "Epoch 27/100\n",
            "15/15 [==============================] - 0s 4ms/step - loss: 0.6537 - mse: 0.6537\n",
            "Epoch 28/100\n",
            "15/15 [==============================] - 0s 3ms/step - loss: 0.6303 - mse: 0.6303\n",
            "Epoch 29/100\n",
            "15/15 [==============================] - 0s 2ms/step - loss: 0.6266 - mse: 0.6266\n",
            "Epoch 30/100\n",
            "15/15 [==============================] - 0s 3ms/step - loss: 0.5855 - mse: 0.5855\n",
            "Epoch 31/100\n",
            "15/15 [==============================] - 0s 3ms/step - loss: 0.6589 - mse: 0.6589\n",
            "Epoch 32/100\n",
            "15/15 [==============================] - 0s 3ms/step - loss: 0.6005 - mse: 0.6005\n",
            "Epoch 33/100\n",
            "15/15 [==============================] - 0s 4ms/step - loss: 0.6080 - mse: 0.6080\n",
            "Epoch 34/100\n",
            "15/15 [==============================] - 0s 5ms/step - loss: 0.6596 - mse: 0.6596\n",
            "Epoch 35/100\n",
            "15/15 [==============================] - 0s 3ms/step - loss: 0.6264 - mse: 0.6264\n",
            "Epoch 36/100\n",
            "15/15 [==============================] - 0s 3ms/step - loss: 0.6452 - mse: 0.6452\n",
            "Epoch 37/100\n",
            "15/15 [==============================] - 0s 3ms/step - loss: 0.6012 - mse: 0.6012\n",
            "Epoch 38/100\n",
            "15/15 [==============================] - 0s 5ms/step - loss: 0.6186 - mse: 0.6186\n",
            "Epoch 39/100\n",
            "15/15 [==============================] - 0s 3ms/step - loss: 0.6296 - mse: 0.6296\n",
            "Epoch 40/100\n",
            "15/15 [==============================] - 0s 4ms/step - loss: 0.6581 - mse: 0.6581\n",
            "Epoch 41/100\n",
            "15/15 [==============================] - 0s 3ms/step - loss: 0.7487 - mse: 0.7487\n",
            "Epoch 42/100\n",
            "15/15 [==============================] - 0s 3ms/step - loss: 0.6559 - mse: 0.6559\n",
            "Epoch 43/100\n",
            "15/15 [==============================] - 0s 3ms/step - loss: 0.5761 - mse: 0.5761\n",
            "Epoch 44/100\n",
            "15/15 [==============================] - 0s 5ms/step - loss: 0.5615 - mse: 0.5615\n",
            "Epoch 45/100\n",
            "15/15 [==============================] - 0s 2ms/step - loss: 0.5438 - mse: 0.5438\n",
            "Epoch 46/100\n",
            "15/15 [==============================] - 0s 3ms/step - loss: 0.5844 - mse: 0.5844\n",
            "Epoch 47/100\n",
            "15/15 [==============================] - 0s 4ms/step - loss: 0.6988 - mse: 0.6988\n",
            "Epoch 48/100\n",
            "15/15 [==============================] - 0s 2ms/step - loss: 0.6017 - mse: 0.6017\n",
            "Epoch 49/100\n",
            "15/15 [==============================] - 0s 3ms/step - loss: 0.5600 - mse: 0.5600\n",
            "Epoch 50/100\n",
            "15/15 [==============================] - 0s 3ms/step - loss: 0.5693 - mse: 0.5693\n",
            "Epoch 51/100\n",
            "15/15 [==============================] - 0s 3ms/step - loss: 0.5823 - mse: 0.5823\n",
            "Epoch 52/100\n",
            "15/15 [==============================] - 0s 3ms/step - loss: 0.6098 - mse: 0.6098\n",
            "Epoch 53/100\n",
            "15/15 [==============================] - 0s 3ms/step - loss: 0.5975 - mse: 0.5975\n",
            "Epoch 54/100\n",
            "15/15 [==============================] - 0s 3ms/step - loss: 0.5879 - mse: 0.5879\n",
            "Epoch 55/100\n",
            "15/15 [==============================] - 0s 3ms/step - loss: 0.5817 - mse: 0.5817\n",
            "Epoch 56/100\n",
            "15/15 [==============================] - 0s 3ms/step - loss: 0.6018 - mse: 0.6018\n",
            "Epoch 57/100\n",
            "15/15 [==============================] - 0s 4ms/step - loss: 0.5694 - mse: 0.5694\n",
            "Epoch 58/100\n",
            "15/15 [==============================] - 0s 5ms/step - loss: 0.5409 - mse: 0.5409\n",
            "Epoch 59/100\n",
            "15/15 [==============================] - 0s 6ms/step - loss: 0.5547 - mse: 0.5547\n",
            "Epoch 60/100\n",
            "15/15 [==============================] - 0s 6ms/step - loss: 0.5412 - mse: 0.5412\n",
            "Epoch 61/100\n",
            "15/15 [==============================] - 0s 8ms/step - loss: 0.5682 - mse: 0.5682\n",
            "Epoch 62/100\n",
            "15/15 [==============================] - 0s 8ms/step - loss: 0.5798 - mse: 0.5798\n",
            "Epoch 63/100\n",
            "15/15 [==============================] - 0s 8ms/step - loss: 0.6987 - mse: 0.6987\n",
            "Epoch 64/100\n",
            "15/15 [==============================] - 0s 11ms/step - loss: 0.8027 - mse: 0.8027\n",
            "Epoch 65/100\n",
            "15/15 [==============================] - 0s 7ms/step - loss: 0.5873 - mse: 0.5873\n",
            "Epoch 66/100\n",
            "15/15 [==============================] - 0s 4ms/step - loss: 0.5815 - mse: 0.5815\n",
            "Epoch 67/100\n",
            "15/15 [==============================] - 0s 3ms/step - loss: 0.5516 - mse: 0.5516\n",
            "Epoch 68/100\n",
            "15/15 [==============================] - 0s 2ms/step - loss: 0.5707 - mse: 0.5707\n",
            "Epoch 69/100\n",
            "15/15 [==============================] - 0s 2ms/step - loss: 0.5925 - mse: 0.5925\n",
            "Epoch 70/100\n",
            "15/15 [==============================] - 0s 3ms/step - loss: 0.6977 - mse: 0.6977\n",
            "Epoch 71/100\n",
            "15/15 [==============================] - 0s 3ms/step - loss: 0.6028 - mse: 0.6028\n",
            "Epoch 72/100\n",
            "15/15 [==============================] - 0s 2ms/step - loss: 0.5607 - mse: 0.5607\n",
            "Epoch 73/100\n",
            "15/15 [==============================] - 0s 2ms/step - loss: 0.7332 - mse: 0.7332\n",
            "Epoch 74/100\n",
            "15/15 [==============================] - 0s 2ms/step - loss: 0.5476 - mse: 0.5476\n",
            "Epoch 75/100\n",
            "15/15 [==============================] - 0s 2ms/step - loss: 0.5681 - mse: 0.5681\n",
            "Epoch 76/100\n",
            "15/15 [==============================] - 0s 2ms/step - loss: 0.5767 - mse: 0.5767\n",
            "Epoch 77/100\n",
            "15/15 [==============================] - 0s 2ms/step - loss: 0.6250 - mse: 0.6250\n",
            "Epoch 78/100\n",
            "15/15 [==============================] - 0s 3ms/step - loss: 0.6154 - mse: 0.6154\n",
            "Epoch 79/100\n",
            "15/15 [==============================] - 0s 3ms/step - loss: 0.6119 - mse: 0.6119\n",
            "Epoch 80/100\n",
            "15/15 [==============================] - 0s 2ms/step - loss: 0.6174 - mse: 0.6174\n",
            "Epoch 81/100\n",
            "15/15 [==============================] - 0s 2ms/step - loss: 0.5754 - mse: 0.5754\n",
            "Epoch 82/100\n",
            "15/15 [==============================] - 0s 2ms/step - loss: 0.5443 - mse: 0.5443\n",
            "Epoch 83/100\n",
            "15/15 [==============================] - 0s 2ms/step - loss: 0.5729 - mse: 0.5729\n",
            "Epoch 84/100\n",
            "15/15 [==============================] - 0s 2ms/step - loss: 0.5548 - mse: 0.5548\n",
            "Epoch 85/100\n",
            "15/15 [==============================] - 0s 2ms/step - loss: 0.5508 - mse: 0.5508\n",
            "Epoch 86/100\n",
            "15/15 [==============================] - 0s 3ms/step - loss: 0.5758 - mse: 0.5758\n",
            "Epoch 87/100\n",
            "15/15 [==============================] - 0s 3ms/step - loss: 0.5446 - mse: 0.5446\n",
            "Epoch 88/100\n",
            "15/15 [==============================] - 0s 2ms/step - loss: 0.6269 - mse: 0.6269\n",
            "Epoch 89/100\n",
            "15/15 [==============================] - 0s 2ms/step - loss: 0.5790 - mse: 0.5790\n",
            "Epoch 90/100\n",
            "15/15 [==============================] - 0s 2ms/step - loss: 0.5897 - mse: 0.5897\n",
            "Epoch 91/100\n",
            "15/15 [==============================] - 0s 2ms/step - loss: 0.5672 - mse: 0.5672\n",
            "Epoch 92/100\n",
            "15/15 [==============================] - 0s 2ms/step - loss: 0.5595 - mse: 0.5595\n",
            "Epoch 93/100\n",
            "15/15 [==============================] - 0s 2ms/step - loss: 0.5352 - mse: 0.5352\n",
            "Epoch 94/100\n",
            "15/15 [==============================] - 0s 2ms/step - loss: 0.5624 - mse: 0.5624\n",
            "Epoch 95/100\n",
            "15/15 [==============================] - 0s 2ms/step - loss: 0.5578 - mse: 0.5578\n",
            "Epoch 96/100\n",
            "15/15 [==============================] - 0s 2ms/step - loss: 0.6263 - mse: 0.6263\n",
            "Epoch 97/100\n",
            "15/15 [==============================] - 0s 2ms/step - loss: 0.5958 - mse: 0.5958\n",
            "Epoch 98/100\n",
            "15/15 [==============================] - 0s 2ms/step - loss: 0.5330 - mse: 0.5330\n",
            "Epoch 99/100\n",
            "15/15 [==============================] - 0s 2ms/step - loss: 0.5230 - mse: 0.5230\n",
            "Epoch 100/100\n",
            "15/15 [==============================] - 0s 2ms/step - loss: 0.5717 - mse: 0.5717\n"
          ]
        }
      ]
    },
    {
      "cell_type": "markdown",
      "metadata": {
        "id": "GzHIdT4P_1cw"
      },
      "source": [
        "### **Problem #3.3**\n",
        "\n",
        "The last main hyperparameter for us to consider is `batch_size`, which is how many data points we use to make a single update to the weights and parameters. Modify the code below to find the ideal `batch_size` given everything else is fixed. Consider values such as: `1`, `32`, `64`, `256`, and `len(X_train)`.\n",
        "\n",
        "<br>\n",
        "\n",
        "**NOTE**: Each epoch involves looking at *all* of the data points. In other words, **size of training data = batch_size * number of updates per epoch**. So, increasing `batch_size`, decreases the number of updates, which in turn speeds up each epoch. As such, pay attention to the amount of time it takes to run through each epoch."
      ]
    },
    {
      "cell_type": "code",
      "source": [
        "model_nn = Sequential()\n",
        "model_nn.add(Input(11))\n",
        "model_nn.add(Dense(8, activation='relu'))\n",
        "model_nn.add(Dense(1, activation='linear'))\n",
        "\n",
        "# Compile the model\n",
        "opt = Adam(learning_rate = 0.01)\n",
        "model_nn.compile(optimizer = opt, loss = 'mse', metrics = ['mse'])\n",
        "\n",
        "# Fit the model on the training data\n",
        "history = model_nn.fit(X_train, y_train, epochs=100, batch_size = 64)"
      ],
      "metadata": {
        "id": "6zuFps0I_1c-",
        "colab": {
          "base_uri": "https://localhost:8080/"
        },
        "outputId": "ce134855-b550-4f3c-a6d7-17fa9d15f446"
      },
      "execution_count": null,
      "outputs": [
        {
          "output_type": "stream",
          "name": "stdout",
          "text": [
            "Epoch 1/100\n",
            "15/15 [==============================] - 2s 3ms/step - loss: 13.7027 - mse: 13.7027\n",
            "Epoch 2/100\n",
            "15/15 [==============================] - 0s 3ms/step - loss: 8.1591 - mse: 8.1591\n",
            "Epoch 3/100\n",
            "15/15 [==============================] - 0s 4ms/step - loss: 5.0520 - mse: 5.0520\n",
            "Epoch 4/100\n",
            "15/15 [==============================] - 0s 4ms/step - loss: 3.1376 - mse: 3.1376\n",
            "Epoch 5/100\n",
            "15/15 [==============================] - 0s 4ms/step - loss: 2.3442 - mse: 2.3442\n",
            "Epoch 6/100\n",
            "15/15 [==============================] - 0s 6ms/step - loss: 1.9102 - mse: 1.9102\n",
            "Epoch 7/100\n",
            "15/15 [==============================] - 0s 6ms/step - loss: 1.6524 - mse: 1.6524\n",
            "Epoch 8/100\n",
            "15/15 [==============================] - 0s 6ms/step - loss: 1.4618 - mse: 1.4618\n",
            "Epoch 9/100\n",
            "15/15 [==============================] - 0s 7ms/step - loss: 1.3188 - mse: 1.3188\n",
            "Epoch 10/100\n",
            "15/15 [==============================] - 0s 6ms/step - loss: 1.2069 - mse: 1.2069\n",
            "Epoch 11/100\n",
            "15/15 [==============================] - 0s 4ms/step - loss: 1.1057 - mse: 1.1057\n",
            "Epoch 12/100\n",
            "15/15 [==============================] - 0s 7ms/step - loss: 1.0297 - mse: 1.0297\n",
            "Epoch 13/100\n",
            "15/15 [==============================] - 0s 4ms/step - loss: 0.9694 - mse: 0.9694\n",
            "Epoch 14/100\n",
            "15/15 [==============================] - 0s 3ms/step - loss: 0.9191 - mse: 0.9191\n",
            "Epoch 15/100\n",
            "15/15 [==============================] - 0s 4ms/step - loss: 0.8777 - mse: 0.8777\n",
            "Epoch 16/100\n",
            "15/15 [==============================] - 0s 5ms/step - loss: 0.8324 - mse: 0.8324\n",
            "Epoch 17/100\n",
            "15/15 [==============================] - 0s 6ms/step - loss: 0.7956 - mse: 0.7956\n",
            "Epoch 18/100\n",
            "15/15 [==============================] - 0s 4ms/step - loss: 0.7782 - mse: 0.7782\n",
            "Epoch 19/100\n",
            "15/15 [==============================] - 0s 3ms/step - loss: 0.7519 - mse: 0.7519\n",
            "Epoch 20/100\n",
            "15/15 [==============================] - 0s 5ms/step - loss: 0.7340 - mse: 0.7340\n",
            "Epoch 21/100\n",
            "15/15 [==============================] - 0s 4ms/step - loss: 0.7145 - mse: 0.7145\n",
            "Epoch 22/100\n",
            "15/15 [==============================] - 0s 3ms/step - loss: 0.7092 - mse: 0.7092\n",
            "Epoch 23/100\n",
            "15/15 [==============================] - 0s 3ms/step - loss: 0.6859 - mse: 0.6859\n",
            "Epoch 24/100\n",
            "15/15 [==============================] - 0s 3ms/step - loss: 0.6808 - mse: 0.6808\n",
            "Epoch 25/100\n",
            "15/15 [==============================] - 0s 3ms/step - loss: 0.6720 - mse: 0.6720\n",
            "Epoch 26/100\n",
            "15/15 [==============================] - 0s 3ms/step - loss: 0.6636 - mse: 0.6636\n",
            "Epoch 27/100\n",
            "15/15 [==============================] - 0s 4ms/step - loss: 0.6665 - mse: 0.6665\n",
            "Epoch 28/100\n",
            "15/15 [==============================] - 0s 3ms/step - loss: 0.6571 - mse: 0.6571\n",
            "Epoch 29/100\n",
            "15/15 [==============================] - 0s 3ms/step - loss: 0.6431 - mse: 0.6431\n",
            "Epoch 30/100\n",
            "15/15 [==============================] - 0s 3ms/step - loss: 0.6436 - mse: 0.6436\n",
            "Epoch 31/100\n",
            "15/15 [==============================] - 0s 3ms/step - loss: 0.6340 - mse: 0.6340\n",
            "Epoch 32/100\n",
            "15/15 [==============================] - 0s 3ms/step - loss: 0.6140 - mse: 0.6140\n",
            "Epoch 33/100\n",
            "15/15 [==============================] - 0s 3ms/step - loss: 0.6098 - mse: 0.6098\n",
            "Epoch 34/100\n",
            "15/15 [==============================] - 0s 5ms/step - loss: 0.6101 - mse: 0.6101\n",
            "Epoch 35/100\n",
            "15/15 [==============================] - 0s 3ms/step - loss: 0.6218 - mse: 0.6218\n",
            "Epoch 36/100\n",
            "15/15 [==============================] - 0s 3ms/step - loss: 0.6022 - mse: 0.6022\n",
            "Epoch 37/100\n",
            "15/15 [==============================] - 0s 3ms/step - loss: 0.6056 - mse: 0.6056\n",
            "Epoch 38/100\n",
            "15/15 [==============================] - 0s 3ms/step - loss: 0.5920 - mse: 0.5920\n",
            "Epoch 39/100\n",
            "15/15 [==============================] - 0s 5ms/step - loss: 0.5869 - mse: 0.5869\n",
            "Epoch 40/100\n",
            "15/15 [==============================] - 0s 4ms/step - loss: 0.5761 - mse: 0.5761\n",
            "Epoch 41/100\n",
            "15/15 [==============================] - 0s 3ms/step - loss: 0.5678 - mse: 0.5678\n",
            "Epoch 42/100\n",
            "15/15 [==============================] - 0s 3ms/step - loss: 0.5612 - mse: 0.5612\n",
            "Epoch 43/100\n",
            "15/15 [==============================] - 0s 5ms/step - loss: 0.5546 - mse: 0.5546\n",
            "Epoch 44/100\n",
            "15/15 [==============================] - 0s 3ms/step - loss: 0.5583 - mse: 0.5583\n",
            "Epoch 45/100\n",
            "15/15 [==============================] - 0s 4ms/step - loss: 0.5540 - mse: 0.5540\n",
            "Epoch 46/100\n",
            "15/15 [==============================] - 0s 5ms/step - loss: 0.5487 - mse: 0.5487\n",
            "Epoch 47/100\n",
            "15/15 [==============================] - 0s 9ms/step - loss: 0.5507 - mse: 0.5507\n",
            "Epoch 48/100\n",
            "15/15 [==============================] - 0s 4ms/step - loss: 0.5458 - mse: 0.5458\n",
            "Epoch 49/100\n",
            "15/15 [==============================] - 0s 2ms/step - loss: 0.5462 - mse: 0.5462\n",
            "Epoch 50/100\n",
            "15/15 [==============================] - 0s 2ms/step - loss: 0.5406 - mse: 0.5406\n",
            "Epoch 51/100\n",
            "15/15 [==============================] - 0s 2ms/step - loss: 0.5615 - mse: 0.5615\n",
            "Epoch 52/100\n",
            "15/15 [==============================] - 0s 2ms/step - loss: 0.5354 - mse: 0.5354\n",
            "Epoch 53/100\n",
            "15/15 [==============================] - 0s 2ms/step - loss: 0.5671 - mse: 0.5671\n",
            "Epoch 54/100\n",
            "15/15 [==============================] - 0s 2ms/step - loss: 0.5459 - mse: 0.5459\n",
            "Epoch 55/100\n",
            "15/15 [==============================] - 0s 5ms/step - loss: 0.5382 - mse: 0.5382\n",
            "Epoch 56/100\n",
            "15/15 [==============================] - 0s 3ms/step - loss: 0.5253 - mse: 0.5253\n",
            "Epoch 57/100\n",
            "15/15 [==============================] - 0s 3ms/step - loss: 0.5229 - mse: 0.5229\n",
            "Epoch 58/100\n",
            "15/15 [==============================] - 0s 2ms/step - loss: 0.5178 - mse: 0.5178\n",
            "Epoch 59/100\n",
            "15/15 [==============================] - 0s 3ms/step - loss: 0.5242 - mse: 0.5242\n",
            "Epoch 60/100\n",
            "15/15 [==============================] - 0s 3ms/step - loss: 0.5177 - mse: 0.5177\n",
            "Epoch 61/100\n",
            "15/15 [==============================] - 0s 3ms/step - loss: 0.5153 - mse: 0.5153\n",
            "Epoch 62/100\n",
            "15/15 [==============================] - 0s 2ms/step - loss: 0.5176 - mse: 0.5176\n",
            "Epoch 63/100\n",
            "15/15 [==============================] - 0s 3ms/step - loss: 0.5050 - mse: 0.5050\n",
            "Epoch 64/100\n",
            "15/15 [==============================] - 0s 3ms/step - loss: 0.5120 - mse: 0.5120\n",
            "Epoch 65/100\n",
            "15/15 [==============================] - 0s 4ms/step - loss: 0.4994 - mse: 0.4994\n",
            "Epoch 66/100\n",
            "15/15 [==============================] - 0s 2ms/step - loss: 0.4974 - mse: 0.4974\n",
            "Epoch 67/100\n",
            "15/15 [==============================] - 0s 4ms/step - loss: 0.5123 - mse: 0.5123\n",
            "Epoch 68/100\n",
            "15/15 [==============================] - 0s 3ms/step - loss: 0.5051 - mse: 0.5051\n",
            "Epoch 69/100\n",
            "15/15 [==============================] - 0s 3ms/step - loss: 0.5211 - mse: 0.5211\n",
            "Epoch 70/100\n",
            "15/15 [==============================] - 0s 3ms/step - loss: 0.4977 - mse: 0.4977\n",
            "Epoch 71/100\n",
            "15/15 [==============================] - 0s 3ms/step - loss: 0.5035 - mse: 0.5035\n",
            "Epoch 72/100\n",
            "15/15 [==============================] - 0s 3ms/step - loss: 0.4971 - mse: 0.4971\n",
            "Epoch 73/100\n",
            "15/15 [==============================] - 0s 3ms/step - loss: 0.4955 - mse: 0.4955\n",
            "Epoch 74/100\n",
            "15/15 [==============================] - 0s 3ms/step - loss: 0.5230 - mse: 0.5230\n",
            "Epoch 75/100\n",
            "15/15 [==============================] - 0s 5ms/step - loss: 0.4983 - mse: 0.4983\n",
            "Epoch 76/100\n",
            "15/15 [==============================] - 0s 4ms/step - loss: 0.5094 - mse: 0.5094\n",
            "Epoch 77/100\n",
            "15/15 [==============================] - 0s 3ms/step - loss: 0.5028 - mse: 0.5028\n",
            "Epoch 78/100\n",
            "15/15 [==============================] - 0s 3ms/step - loss: 0.4962 - mse: 0.4962\n",
            "Epoch 79/100\n",
            "15/15 [==============================] - 0s 3ms/step - loss: 0.4921 - mse: 0.4921\n",
            "Epoch 80/100\n",
            "15/15 [==============================] - 0s 6ms/step - loss: 0.4940 - mse: 0.4940\n",
            "Epoch 81/100\n",
            "15/15 [==============================] - 0s 5ms/step - loss: 0.4771 - mse: 0.4771\n",
            "Epoch 82/100\n",
            "15/15 [==============================] - 0s 4ms/step - loss: 0.4824 - mse: 0.4824\n",
            "Epoch 83/100\n",
            "15/15 [==============================] - 0s 3ms/step - loss: 0.4798 - mse: 0.4798\n",
            "Epoch 84/100\n",
            "15/15 [==============================] - 0s 3ms/step - loss: 0.4765 - mse: 0.4765\n",
            "Epoch 85/100\n",
            "15/15 [==============================] - 0s 3ms/step - loss: 0.4802 - mse: 0.4802\n",
            "Epoch 86/100\n",
            "15/15 [==============================] - 0s 3ms/step - loss: 0.4794 - mse: 0.4794\n",
            "Epoch 87/100\n",
            "15/15 [==============================] - 0s 4ms/step - loss: 0.4842 - mse: 0.4842\n",
            "Epoch 88/100\n",
            "15/15 [==============================] - 0s 3ms/step - loss: 0.4868 - mse: 0.4868\n",
            "Epoch 89/100\n",
            "15/15 [==============================] - 0s 3ms/step - loss: 0.4758 - mse: 0.4758\n",
            "Epoch 90/100\n",
            "15/15 [==============================] - 0s 3ms/step - loss: 0.4760 - mse: 0.4760\n",
            "Epoch 91/100\n",
            "15/15 [==============================] - 0s 2ms/step - loss: 0.4728 - mse: 0.4728\n",
            "Epoch 92/100\n",
            "15/15 [==============================] - 0s 2ms/step - loss: 0.4684 - mse: 0.4684\n",
            "Epoch 93/100\n",
            "15/15 [==============================] - 0s 8ms/step - loss: 0.4853 - mse: 0.4853\n",
            "Epoch 94/100\n",
            "15/15 [==============================] - 0s 4ms/step - loss: 0.4770 - mse: 0.4770\n",
            "Epoch 95/100\n",
            "15/15 [==============================] - 0s 5ms/step - loss: 0.4898 - mse: 0.4898\n",
            "Epoch 96/100\n",
            "15/15 [==============================] - 0s 2ms/step - loss: 0.4743 - mse: 0.4743\n",
            "Epoch 97/100\n",
            "15/15 [==============================] - 0s 4ms/step - loss: 0.4743 - mse: 0.4743\n",
            "Epoch 98/100\n",
            "15/15 [==============================] - 0s 3ms/step - loss: 0.4891 - mse: 0.4891\n",
            "Epoch 99/100\n",
            "15/15 [==============================] - 0s 2ms/step - loss: 0.4856 - mse: 0.4856\n",
            "Epoch 100/100\n",
            "15/15 [==============================] - 0s 2ms/step - loss: 0.4739 - mse: 0.4739\n"
          ]
        }
      ]
    },
    {
      "cell_type": "markdown",
      "source": [
        "### **Problem #3.4**\n",
        "\n",
        "With so many hyperparameters to tune and potentially deep & complex NNs, the amount of information printed out often becomes less helpful to dig through. It is common practice to visualize the performance of different models for each epoch instead. Furthermore, we can \"mute\" the output of the `fit(...)` function by setting `verbose = False`.\n",
        "\n",
        "<br>\n",
        "\n",
        "**Complete the code below to train and visualize the losses of a NN with the best set of hyperparameters you found above.**\n",
        "\n",
        "\n",
        "Some questions to consider:\n",
        "* Does the loss tend to increase or decrease?\n",
        "* Should we have let the model train for more epochs?\n",
        "* Could we have gotten away with fewer epochs?\n"
      ],
      "metadata": {
        "id": "a_J7TGOlvPBG"
      }
    },
    {
      "cell_type": "code",
      "source": [
        "# BUILD AND TRAIN\n",
        "model_nn = Sequential()\n",
        "model_nn.add(Input(11))\n",
        "model_nn.add(Dense(8, activation='relu'))\n",
        "model_nn.add(Dense(1, activation='linear'))\n",
        "\n",
        "# Compile the model\n",
        "opt = Adam(learning_rate = .01)\n",
        "model_nn.compile(optimizer = opt, loss = 'mse', metrics = ['mse'])\n",
        "\n",
        "# Fit the model on the training data\n",
        "history = model_nn.fit(X_train, y_train, verbose = False, epochs=100, batch_size = 32)\n",
        "\n",
        "\n",
        "# VISUALIZE\n",
        "loss = history.history['loss']\n",
        "plt.plot(loss)\n",
        "\n",
        "plt.title('Loss After Each Epoch', fontsize = 'x-large')\n",
        "plt.xlabel('Epoch', fontsize = 'x-large')\n",
        "plt.ylabel('Loss', fontsize = 'x-large')\n",
        "plt.show()"
      ],
      "metadata": {
        "id": "62uQBW52D9mN",
        "colab": {
          "base_uri": "https://localhost:8080/",
          "height": 478
        },
        "outputId": "180e6930-136e-48c7-93c0-4a513175b573"
      },
      "execution_count": null,
      "outputs": [
        {
          "output_type": "display_data",
          "data": {
            "text/plain": [
              "<Figure size 640x480 with 1 Axes>"
            ],
            "image/png": "[encoded data removed]"
          },
          "metadata": {}
        }
      ]
    },
    {
      "cell_type": "markdown",
      "source": [
        "### **Problem #3.5**\n",
        "\n",
        "We've forgotten one *very important* lesson from the course so far: **validation**! In practice, we should *never* tune hyperparameters or decide between models without both the training and validation metrics.\n",
        "\n",
        "<br>\n",
        "\n",
        "**Complete the code below to train and visualize the training *and* validation losses of a NN with the best set of hyperparameters you found above.**\n",
        "\n",
        "\n",
        "Some questions to consider:\n",
        "* Do the losses tend to increase or decrease?\n",
        "* How do the training and validation losses compare?\n",
        "* Should we have let the model train for more epochs?\n",
        "* Could we have gotten away with fewer epochs?"
      ],
      "metadata": {
        "id": "7A4bMwqjDvly"
      }
    },
    {
      "cell_type": "code",
      "source": [
        "# BUILD AND TRAIN\n",
        "model_nn = Sequential()\n",
        "model_nn.add(Input(11))\n",
        "model_nn.add(Dense(8, activation='relu'))\n",
        "model_nn.add(Dense(1, activation='linear'))\n",
        "\n",
        "# Compile the model\n",
        "opt = Adam(learning_rate = 0.01)\n",
        "model_nn.compile(optimizer = opt, loss = 'mse', metrics = ['mse'])\n",
        "\n",
        "# Fit the model on the training data\n",
        "history = model_nn.fit(X_train, y_train, verbose = False, validation_split = 0.1, epochs=100, batch_size = 32)\n",
        "\n",
        "\n",
        "# VISUALIZE\n",
        "train_loss = history.history['loss']\n",
        "plt.plot(train_loss, label = 'Training')\n",
        "\n",
        "val_loss = history.history['val_loss']\n",
        "plt.plot(val_loss, label = 'Validation')\n",
        "\n",
        "plt.title('Loss After Each Epoch', fontsize = 'x-large')\n",
        "plt.xlabel('Epoch', fontsize = 'x-large')\n",
        "plt.ylabel('Loss', fontsize = 'x-large')\n",
        "plt.legend()\n",
        "plt.show()"
      ],
      "metadata": {
        "id": "baxHUYbTE7rd",
        "colab": {
          "base_uri": "https://localhost:8080/",
          "height": 478
        },
        "outputId": "2deaa861-7fcc-40a1-9972-ff3541578272"
      },
      "execution_count": null,
      "outputs": [
        {
          "output_type": "display_data",
          "data": {
            "text/plain": [
              "<Figure size 640x480 with 1 Axes>"
            ],
            "image/png": "[encoded data removed]"
          },
          "metadata": {}
        }
      ]
    },
    {
      "cell_type": "markdown",
      "metadata": {
        "id": "5fNrHmCUGefw"
      },
      "source": [
        "<a name=\"p4\"></a>\n",
        "\n",
        "---\n",
        "## **Part 4: [HOMEWORK] Neural Networks for Classification**\n",
        "---\n",
        "\n",
        "In this section, we will see how to perform classification tasks using Neural Networks. As usual, we will return to the Iris dataset to get started! As a reminder, this dataset contains 150 data points with the following variables:\n",
        "\n",
        "* `sepal length (cm)`.\n",
        "* `sepal width (cm)`.\n",
        "* `petal length (cm)`.\n",
        "* `petal width (cm)`.\n",
        "* `class`: 0 for setosa, 1 for versicolor, and 2 for virginica."
      ]
    },
    {
      "cell_type": "markdown",
      "metadata": {
        "id": "ivwdzZuGIbYw"
      },
      "source": [
        "### **Problem #4.1**\n",
        "\n",
        "To get started, let's:\n",
        "1. Load the data into a data frame.\n",
        "2. Split the data in training and test sets.\n",
        "3. Standardize the features."
      ]
    },
    {
      "cell_type": "markdown",
      "source": [
        "#### **1. Load the data into a data frame.**"
      ],
      "metadata": {
        "id": "ngDY4APgIbYx"
      }
    },
    {
      "cell_type": "code",
      "source": [
        "from sklearn import datasets\n",
        "\n",
        "data = datasets.load_iris()\n",
        "\n",
        "iris_df = pd.DataFrame(data.data, columns = data.feature_names)\n",
        "iris_df['class'] = data.target\n",
        "\n",
        "iris_df.head()"
      ],
      "metadata": {
        "id": "c97GfPV8IbYx",
        "colab": {
          "base_uri": "https://localhost:8080/",
          "height": 206
        },
        "outputId": "1f00bb27-a552-4fc7-da8e-2c19a5a1eae4"
      },
      "execution_count": null,
      "outputs": [
        {
          "output_type": "execute_result",
          "data": {
            "text/plain": [
              "   sepal length (cm)  sepal width (cm)  petal length (cm)  petal width (cm)  \\\n",
              "0                5.1               3.5                1.4               0.2   \n",
              "1                4.9               3.0                1.4               0.2   \n",
              "2                4.7               3.2                1.3               0.2   \n",
              "3                4.6               3.1                1.5               0.2   \n",
              "4                5.0               3.6                1.4               0.2   \n",
              "\n",
              "   class  \n",
              "0      0  \n",
              "1      0  \n",
              "2      0  \n",
              "3      0  \n",
              "4      0  "
            ],
            "text/html": [
              "\n",
              "\n",
              "  <div id=\"df-22ce3845-57de-401d-9f5f-79833b42adc0\">\n",
              "    <div class=\"colab-df-container\">\n",
              "      <div>\n",
              "<style scoped>\n",
              "    .dataframe tbody tr th:only-of-type {\n",
              "        vertical-align: middle;\n",
              "    }\n",
              "\n",
              "    .dataframe tbody tr th {\n",
              "        vertical-align: top;\n",
              "    }\n",
              "\n",
              "    .dataframe thead th {\n",
              "        text-align: right;\n",
              "    }\n",
              "</style>\n",
              "<table border=\"1\" class=\"dataframe\">\n",
              "  <thead>\n",
              "    <tr style=\"text-align: right;\">\n",
              "      <th></th>\n",
              "      <th>sepal length (cm)</th>\n",
              "      <th>sepal width (cm)</th>\n",
              "      <th>petal length (cm)</th>\n",
              "      <th>petal width (cm)</th>\n",
              "      <th>class</th>\n",
              "    </tr>\n",
              "  </thead>\n",
              "  <tbody>\n",
              "    <tr>\n",
              "      <th>0</th>\n",
              "      <td>5.1</td>\n",
              "      <td>3.5</td>\n",
              "      <td>1.4</td>\n",
              "      <td>0.2</td>\n",
              "      <td>0</td>\n",
              "    </tr>\n",
              "    <tr>\n",
              "      <th>1</th>\n",
              "      <td>4.9</td>\n",
              "      <td>3.0</td>\n",
              "      <td>1.4</td>\n",
              "      <td>0.2</td>\n",
              "      <td>0</td>\n",
              "    </tr>\n",
              "    <tr>\n",
              "      <th>2</th>\n",
              "      <td>4.7</td>\n",
              "      <td>3.2</td>\n",
              "      <td>1.3</td>\n",
              "      <td>0.2</td>\n",
              "      <td>0</td>\n",
              "    </tr>\n",
              "    <tr>\n",
              "      <th>3</th>\n",
              "      <td>4.6</td>\n",
              "      <td>3.1</td>\n",
              "      <td>1.5</td>\n",
              "      <td>0.2</td>\n",
              "      <td>0</td>\n",
              "    </tr>\n",
              "    <tr>\n",
              "      <th>4</th>\n",
              "      <td>5.0</td>\n",
              "      <td>3.6</td>\n",
              "      <td>1.4</td>\n",
              "      <td>0.2</td>\n",
              "      <td>0</td>\n",
              "    </tr>\n",
              "  </tbody>\n",
              "</table>\n",
              "</div>\n",
              "      <button class=\"colab-df-convert\" onclick=\"convertToInteractive('df-22ce3845-57de-401d-9f5f-79833b42adc0')\"\n",
              "              title=\"Convert this dataframe to an interactive table.\"\n",
              "              style=\"display:none;\">\n",
              "\n",
              "  <svg xmlns=\"http://www.w3.org/2000/svg\" height=\"24px\"viewBox=\"0 0 24 24\"\n",
              "       width=\"24px\">\n",
              "    <path d=\"M0 0h24v24H0V0z\" fill=\"none\"/>\n",
              "    <path d=\"M18.56 5.44l.94 2.06.94-2.06 2.06-.94-2.06-.94-.94-2.06-.94 2.06-2.06.94zm-11 1L8.5 8.5l.94-2.06 2.06-.94-2.06-.94L8.5 2.5l-.94 2.06-2.06.94zm10 10l.94 2.06.94-2.06 2.06-.94-2.06-.94-.94-2.06-.94 2.06-2.06.94z\"/><path d=\"M17.41 7.96l-1.37-1.37c-.4-.4-.92-.59-1.43-.59-.52 0-1.04.2-1.43.59L10.3 9.45l-7.72 7.72c-.78.78-.78 2.05 0 2.83L4 21.41c.39.39.9.59 1.41.59.51 0 1.02-.2 1.41-.59l7.78-7.78 2.81-2.81c.8-.78.8-2.07 0-2.86zM5.41 20L4 18.59l7.72-7.72 1.47 1.35L5.41 20z\"/>\n",
              "  </svg>\n",
              "      </button>\n",
              "\n",
              "\n",
              "\n",
              "    <div id=\"df-cdfe4a5f-9fbd-405f-9632-40c9a6fb65fa\">\n",
              "      <button class=\"colab-df-quickchart\" onclick=\"quickchart('df-cdfe4a5f-9fbd-405f-9632-40c9a6fb65fa')\"\n",
              "              title=\"Suggest charts.\"\n",
              "              style=\"display:none;\">\n",
              "\n",
              "<svg xmlns=\"http://www.w3.org/2000/svg\" height=\"24px\"viewBox=\"0 0 24 24\"\n",
              "     width=\"24px\">\n",
              "    <g>\n",
              "        <path d=\"M19 3H5c-1.1 0-2 .9-2 2v14c0 1.1.9 2 2 2h14c1.1 0 2-.9 2-2V5c0-1.1-.9-2-2-2zM9 17H7v-7h2v7zm4 0h-2V7h2v10zm4 0h-2v-4h2v4z\"/>\n",
              "    </g>\n",
              "</svg>\n",
              "      </button>\n",
              "    </div>\n",
              "\n",
              "<style>\n",
              "  .colab-df-quickchart {\n",
              "    background-color: #E8F0FE;\n",
              "    border: none;\n",
              "    border-radius: 50%;\n",
              "    cursor: pointer;\n",
              "    display: none;\n",
              "    fill: #1967D2;\n",
              "    height: 32px;\n",
              "    padding: 0 0 0 0;\n",
              "    width: 32px;\n",
              "  }\n",
              "\n",
              "  .colab-df-quickchart:hover {\n",
              "    background-color: #E2EBFA;\n",
              "    box-shadow: 0px 1px 2px rgba(60, 64, 67, 0.3), 0px 1px 3px 1px rgba(60, 64, 67, 0.15);\n",
              "    fill: #174EA6;\n",
              "  }\n",
              "\n",
              "  [theme=dark] .colab-df-quickchart {\n",
              "    background-color: #3B4455;\n",
              "    fill: #D2E3FC;\n",
              "  }\n",
              "\n",
              "  [theme=dark] .colab-df-quickchart:hover {\n",
              "    background-color: #434B5C;\n",
              "    box-shadow: 0px 1px 3px 1px rgba(0, 0, 0, 0.15);\n",
              "    filter: drop-shadow(0px 1px 2px rgba(0, 0, 0, 0.3));\n",
              "    fill: #FFFFFF;\n",
              "  }\n",
              "</style>\n",
              "\n",
              "    <script>\n",
              "      async function quickchart(key) {\n",
              "        const containerElement = document.querySelector('#' + key);\n",
              "        const charts = await google.colab.kernel.invokeFunction(\n",
              "            'suggestCharts', [key], {});\n",
              "      }\n",
              "    </script>\n",
              "\n",
              "      <script>\n",
              "\n",
              "function displayQuickchartButton(domScope) {\n",
              "  let quickchartButtonEl =\n",
              "    domScope.querySelector('#df-cdfe4a5f-9fbd-405f-9632-40c9a6fb65fa button.colab-df-quickchart');\n",
              "  quickchartButtonEl.style.display =\n",
              "    google.colab.kernel.accessAllowed ? 'block' : 'none';\n",
              "}\n",
              "\n",
              "        displayQuickchartButton(document);\n",
              "      </script>\n",
              "      <style>\n",
              "    .colab-df-container {\n",
              "      display:flex;\n",
              "      flex-wrap:wrap;\n",
              "      gap: 12px;\n",
              "    }\n",
              "\n",
              "    .colab-df-convert {\n",
              "      background-color: #E8F0FE;\n",
              "      border: none;\n",
              "      border-radius: 50%;\n",
              "      cursor: pointer;\n",
              "      display: none;\n",
              "      fill: #1967D2;\n",
              "      height: 32px;\n",
              "      padding: 0 0 0 0;\n",
              "      width: 32px;\n",
              "    }\n",
              "\n",
              "    .colab-df-convert:hover {\n",
              "      background-color: #E2EBFA;\n",
              "      box-shadow: 0px 1px 2px rgba(60, 64, 67, 0.3), 0px 1px 3px 1px rgba(60, 64, 67, 0.15);\n",
              "      fill: #174EA6;\n",
              "    }\n",
              "\n",
              "    [theme=dark] .colab-df-convert {\n",
              "      background-color: #3B4455;\n",
              "      fill: #D2E3FC;\n",
              "    }\n",
              "\n",
              "    [theme=dark] .colab-df-convert:hover {\n",
              "      background-color: #434B5C;\n",
              "      box-shadow: 0px 1px 3px 1px rgba(0, 0, 0, 0.15);\n",
              "      filter: drop-shadow(0px 1px 2px rgba(0, 0, 0, 0.3));\n",
              "      fill: #FFFFFF;\n",
              "    }\n",
              "  </style>\n",
              "\n",
              "      <script>\n",
              "        const buttonEl =\n",
              "          document.querySelector('#df-22ce3845-57de-401d-9f5f-79833b42adc0 button.colab-df-convert');\n",
              "        buttonEl.style.display =\n",
              "          google.colab.kernel.accessAllowed ? 'block' : 'none';\n",
              "\n",
              "        async function convertToInteractive(key) {\n",
              "          const element = document.querySelector('#df-22ce3845-57de-401d-9f5f-79833b42adc0');\n",
              "          const dataTable =\n",
              "            await google.colab.kernel.invokeFunction('convertToInteractive',\n",
              "                                                     [key], {});\n",
              "          if (!dataTable) return;\n",
              "\n",
              "          const docLinkHtml = 'Like what you see? Visit the ' +\n",
              "            '<a target=\"_blank\" href=https://colab.research.google.com/notebooks/data_table.ipynb>data table notebook</a>'\n",
              "            + ' to learn more about interactive tables.';\n",
              "          element.innerHTML = '';\n",
              "          dataTable['output_type'] = 'display_data';\n",
              "          await google.colab.output.renderOutput(dataTable, element);\n",
              "          const docLink = document.createElement('div');\n",
              "          docLink.innerHTML = docLinkHtml;\n",
              "          element.appendChild(docLink);\n",
              "        }\n",
              "      </script>\n",
              "    </div>\n",
              "  </div>\n"
            ]
          },
          "metadata": {},
          "execution_count": 190
        }
      ]
    },
    {
      "cell_type": "markdown",
      "source": [
        "#### **2. Split the data in training and test sets.**"
      ],
      "metadata": {
        "id": "vKTRKL-YIbYx"
      }
    },
    {
      "cell_type": "code",
      "source": [
        "features = iris_df.drop('class',axis=1)\n",
        "label = iris_df['class']\n",
        "\n",
        "X_train, X_test, y_train, y_test = train_test_split(features, label, test_size=0.2, random_state=42)"
      ],
      "metadata": {
        "id": "GuM9RK2fIbYy"
      },
      "execution_count": null,
      "outputs": []
    },
    {
      "cell_type": "markdown",
      "source": [
        "#### **3. Standardize the features.**"
      ],
      "metadata": {
        "id": "44cJecC3IbYy"
      }
    },
    {
      "cell_type": "code",
      "source": [
        "scaler = StandardScaler()\n",
        "\n",
        "X_train = scaler.fit_transform(X_train)\n",
        "X_test = scaler.transform(X_test)"
      ],
      "metadata": {
        "id": "7ncxwdnRIbYy"
      },
      "execution_count": null,
      "outputs": []
    },
    {
      "cell_type": "markdown",
      "metadata": {
        "id": "6Q8xWcASIbYy"
      },
      "source": [
        "### **Problem #4.2**\n",
        "\n",
        "Before building the Neural Network, let's use a simpler Logistic Regression model for comparison. Specifcally, let's:\n",
        "1. Create a Logistic Regression model, evaluate it using 10-Folds CV, and fit it to the training data.\n",
        "2. Print the learned coefficients and intercept.\n",
        "3. Visualize the validation performance per fold."
      ]
    },
    {
      "cell_type": "markdown",
      "source": [
        "#### **1. Create a Logistic Regression model, evaluate it using 10-Folds CV, and fit it to the training data.**"
      ],
      "metadata": {
        "id": "SJD9p2TrIbYy"
      }
    },
    {
      "cell_type": "code",
      "source": [
        "model_log = LogisticRegression()\n",
        "model_log.fit(X_train,y_train)\n",
        "scores = cross_val_score(model_log, X_train, y_train, cv=10)\n",
        "\n",
        "print(\"10-Folds CV Scores: \" + str(scores.mean()) + \" +/- \" + str(scores.std()))"
      ],
      "metadata": {
        "id": "snQFXLOFIbYz",
        "colab": {
          "base_uri": "https://localhost:8080/"
        },
        "outputId": "4b545ea1-085c-40fd-e3e3-5b69473a2c8a"
      },
      "execution_count": null,
      "outputs": [
        {
          "output_type": "stream",
          "name": "stdout",
          "text": [
            "10-Folds CV Scores: 0.9333333333333332 +/- 0.10408329997330665\n"
          ]
        }
      ]
    },
    {
      "cell_type": "markdown",
      "source": [
        "#### **2. Print the learned coefficients and intercept.**"
      ],
      "metadata": {
        "id": "A5iKODyyIbYz"
      }
    },
    {
      "cell_type": "code",
      "source": [
        "print('Coefficients: \\n' + str(model_log.coef_))\n",
        "print('\\nIntercept: \\n' + str(model_log.intercept_))"
      ],
      "metadata": {
        "id": "8ApvhdG6IbYz",
        "colab": {
          "base_uri": "https://localhost:8080/"
        },
        "outputId": "2e31a55d-1e53-4f4a-f18d-46f751b6367b"
      },
      "execution_count": null,
      "outputs": [
        {
          "output_type": "stream",
          "name": "stdout",
          "text": [
            "Coefficients: \n",
            "[[-1.00316768  1.14456076 -1.81255767 -1.69176083]\n",
            " [ 0.52785456 -0.28289055 -0.34085076 -0.71984718]\n",
            " [ 0.47531311 -0.8616702   2.15340842  2.41160801]]\n",
            "\n",
            "Intercept: \n",
            "[-0.13379691  1.98339163 -1.84959472]\n"
          ]
        }
      ]
    },
    {
      "cell_type": "markdown",
      "source": [
        "#### **3. Visualize the validation performance per fold.**"
      ],
      "metadata": {
        "id": "nqBnqjiGIbYz"
      }
    },
    {
      "cell_type": "code",
      "source": [
        "plt.plot(scores,label='Logiistic Regression')\n",
        "plt.plot([scores.mean()for i in range(10)], label='Mean')\n",
        "plt.xlabel('Fold')\n",
        "plt.ylabel('Accuracy')\n",
        "plt.legend(bbox_to_anchor = (1.5,1.1))\n",
        "\n",
        "plt.show()"
      ],
      "metadata": {
        "id": "HWRQcApFIbY0",
        "colab": {
          "base_uri": "https://localhost:8080/",
          "height": 420
        },
        "outputId": "7436f8b7-5e7d-4966-bb91-4a885f64f3e2"
      },
      "execution_count": null,
      "outputs": [
        {
          "output_type": "display_data",
          "data": {
            "text/plain": [
              "<Figure size 640x480 with 1 Axes>"
            ],
            "image/png": "[encoded data removed]"
          },
          "metadata": {}
        }
      ]
    },
    {
      "cell_type": "markdown",
      "metadata": {
        "id": "2BU29jwwIbY0"
      },
      "source": [
        "### **Problem #4.3**\n",
        "\n",
        "Now let's build and fit a Neural Network to do the same task. Specifically, let's:\n",
        "0. One hot encode the label.\n",
        "1. Create a Neural Network and fit it to the training data.\n",
        "2. Print the learned coefficients and intercept.\n",
        "3. Visualize the training and validation performance per epoch."
      ]
    },
    {
      "cell_type": "markdown",
      "source": [
        "#### **0. One hot encode the label.**\n",
        "\n",
        "It is typical practice to one hot encode categorical variables in Deep Learning due to the nature of the loss functions used and the fact that Deep Learning tends to be unaffected by the curse of dimensionality so more features do not tend to be a problem.\n",
        "\n",
        "<br>\n",
        "\n",
        "**Run the code below to one hot encode the labels using the keras function `to_categorical(...)`.**"
      ],
      "metadata": {
        "id": "rdSdwNM9MxuH"
      }
    },
    {
      "cell_type": "code",
      "source": [
        "y_train_ohe = to_categorical(y_train)\n",
        "y_test_ohe = to_categorical(y_test)"
      ],
      "metadata": {
        "id": "e5NlxYhONizr"
      },
      "execution_count": null,
      "outputs": []
    },
    {
      "cell_type": "markdown",
      "source": [
        "#### **1. Create a Neural Network and fit it to the training data.**\n",
        "\n",
        "Build a NN such that it has:\n",
        "* The correct number of input neurons (one for each feature).\n",
        "* No hidden layers.\n",
        "* Three output neurons with the `'softmax'` activation function. This is the typical output activation function for classification. It outputs probabilities just like Logistic Regression. **NOTE: You need one output neuron per class.**\n",
        "\n",
        "<br>\n",
        "\n",
        "Train the NN such that the:\n",
        "* `loss = 'categorical_crossentropy'`. This is a typical loss function for one hot encoded categorical variables. It compares the probabilities of outputs.\n",
        "* `metrics = ['accuracy']`.\n"
      ],
      "metadata": {
        "id": "Kh9Vcxx9IbY0"
      }
    },
    {
      "cell_type": "code",
      "source": [
        "model_nn = Sequential()\n",
        "model_nn.add(Input(4))\n",
        "model_nn.add(Dense(3,activation='softmax'))# COMPLETE THIS LINE\n",
        "\n",
        "# Compile the model\n",
        "opt = Adam(learning_rate = 0.1)\n",
        "model_nn.compile(optimizer = opt, loss ='categorical_crossentropy', metrics=['accuracy'])\n",
        "\n",
        "# Fit the model on the training data\n",
        "history = model_nn.fit(X_train, y_train_ohe, validation_split = 0.1, epochs=100, batch_size = 16)"
      ],
      "metadata": {
        "id": "vwyZN74tIbY0",
        "colab": {
          "base_uri": "https://localhost:8080/"
        },
        "outputId": "95d35954-3edd-43f9-84d4-48b14b1f41ef"
      },
      "execution_count": null,
      "outputs": [
        {
          "output_type": "stream",
          "name": "stdout",
          "text": [
            "Epoch 1/100\n",
            "7/7 [==============================] - 2s 161ms/step - loss: 0.8227 - accuracy: 0.5741 - val_loss: 0.4548 - val_accuracy: 1.0000\n",
            "Epoch 2/100\n",
            "7/7 [==============================] - 0s 58ms/step - loss: 0.3635 - accuracy: 0.8333 - val_loss: 0.3731 - val_accuracy: 0.9167\n",
            "Epoch 3/100\n",
            "7/7 [==============================] - 1s 80ms/step - loss: 0.2952 - accuracy: 0.8704 - val_loss: 0.3537 - val_accuracy: 0.9167\n",
            "Epoch 4/100\n",
            "7/7 [==============================] - 0s 76ms/step - loss: 0.2533 - accuracy: 0.8981 - val_loss: 0.3022 - val_accuracy: 0.9167\n",
            "Epoch 5/100\n",
            "7/7 [==============================] - 1s 84ms/step - loss: 0.2162 - accuracy: 0.9352 - val_loss: 0.2535 - val_accuracy: 0.9167\n",
            "Epoch 6/100\n",
            "7/7 [==============================] - 0s 61ms/step - loss: 0.1870 - accuracy: 0.9444 - val_loss: 0.2255 - val_accuracy: 0.9167\n",
            "Epoch 7/100\n",
            "7/7 [==============================] - 0s 41ms/step - loss: 0.1679 - accuracy: 0.9537 - val_loss: 0.2061 - val_accuracy: 1.0000\n",
            "Epoch 8/100\n",
            "7/7 [==============================] - 0s 34ms/step - loss: 0.1538 - accuracy: 0.9630 - val_loss: 0.1946 - val_accuracy: 1.0000\n",
            "Epoch 9/100\n",
            "7/7 [==============================] - 0s 29ms/step - loss: 0.1446 - accuracy: 0.9630 - val_loss: 0.1803 - val_accuracy: 1.0000\n",
            "Epoch 10/100\n",
            "7/7 [==============================] - 0s 32ms/step - loss: 0.1378 - accuracy: 0.9537 - val_loss: 0.1780 - val_accuracy: 1.0000\n",
            "Epoch 11/100\n",
            "7/7 [==============================] - 0s 41ms/step - loss: 0.1305 - accuracy: 0.9537 - val_loss: 0.1743 - val_accuracy: 1.0000\n",
            "Epoch 12/100\n",
            "7/7 [==============================] - 0s 35ms/step - loss: 0.1248 - accuracy: 0.9630 - val_loss: 0.1727 - val_accuracy: 1.0000\n",
            "Epoch 13/100\n",
            "7/7 [==============================] - 0s 36ms/step - loss: 0.1160 - accuracy: 0.9537 - val_loss: 0.1512 - val_accuracy: 1.0000\n",
            "Epoch 14/100\n",
            "7/7 [==============================] - 0s 24ms/step - loss: 0.1168 - accuracy: 0.9537 - val_loss: 0.1597 - val_accuracy: 1.0000\n",
            "Epoch 15/100\n",
            "7/7 [==============================] - 0s 25ms/step - loss: 0.1101 - accuracy: 0.9630 - val_loss: 0.1493 - val_accuracy: 1.0000\n",
            "Epoch 16/100\n",
            "7/7 [==============================] - 0s 24ms/step - loss: 0.1066 - accuracy: 0.9630 - val_loss: 0.1474 - val_accuracy: 1.0000\n",
            "Epoch 17/100\n",
            "7/7 [==============================] - 0s 24ms/step - loss: 0.1031 - accuracy: 0.9630 - val_loss: 0.1469 - val_accuracy: 1.0000\n",
            "Epoch 18/100\n",
            "7/7 [==============================] - 0s 29ms/step - loss: 0.0993 - accuracy: 0.9630 - val_loss: 0.1408 - val_accuracy: 1.0000\n",
            "Epoch 19/100\n",
            "7/7 [==============================] - 0s 27ms/step - loss: 0.0978 - accuracy: 0.9630 - val_loss: 0.1399 - val_accuracy: 1.0000\n",
            "Epoch 20/100\n",
            "7/7 [==============================] - 0s 26ms/step - loss: 0.0950 - accuracy: 0.9630 - val_loss: 0.1273 - val_accuracy: 1.0000\n",
            "Epoch 21/100\n",
            "7/7 [==============================] - 0s 27ms/step - loss: 0.0950 - accuracy: 0.9630 - val_loss: 0.1352 - val_accuracy: 1.0000\n",
            "Epoch 22/100\n",
            "7/7 [==============================] - 0s 25ms/step - loss: 0.0911 - accuracy: 0.9630 - val_loss: 0.1200 - val_accuracy: 1.0000\n",
            "Epoch 23/100\n",
            "7/7 [==============================] - 0s 23ms/step - loss: 0.0888 - accuracy: 0.9630 - val_loss: 0.1225 - val_accuracy: 1.0000\n",
            "Epoch 24/100\n",
            "7/7 [==============================] - 0s 26ms/step - loss: 0.0903 - accuracy: 0.9630 - val_loss: 0.1181 - val_accuracy: 1.0000\n",
            "Epoch 25/100\n",
            "7/7 [==============================] - 0s 24ms/step - loss: 0.0888 - accuracy: 0.9722 - val_loss: 0.1289 - val_accuracy: 1.0000\n",
            "Epoch 26/100\n",
            "7/7 [==============================] - 0s 23ms/step - loss: 0.0846 - accuracy: 0.9815 - val_loss: 0.1164 - val_accuracy: 1.0000\n",
            "Epoch 27/100\n",
            "7/7 [==============================] - 0s 16ms/step - loss: 0.0804 - accuracy: 0.9630 - val_loss: 0.1032 - val_accuracy: 1.0000\n",
            "Epoch 28/100\n",
            "7/7 [==============================] - 0s 18ms/step - loss: 0.0893 - accuracy: 0.9630 - val_loss: 0.0939 - val_accuracy: 1.0000\n",
            "Epoch 29/100\n",
            "7/7 [==============================] - 0s 15ms/step - loss: 0.0811 - accuracy: 0.9630 - val_loss: 0.1099 - val_accuracy: 1.0000\n",
            "Epoch 30/100\n",
            "7/7 [==============================] - 0s 11ms/step - loss: 0.0828 - accuracy: 0.9722 - val_loss: 0.1192 - val_accuracy: 1.0000\n",
            "Epoch 31/100\n",
            "7/7 [==============================] - 0s 19ms/step - loss: 0.0813 - accuracy: 0.9630 - val_loss: 0.1052 - val_accuracy: 1.0000\n",
            "Epoch 32/100\n",
            "7/7 [==============================] - 0s 14ms/step - loss: 0.0770 - accuracy: 0.9630 - val_loss: 0.1034 - val_accuracy: 1.0000\n",
            "Epoch 33/100\n",
            "7/7 [==============================] - 0s 9ms/step - loss: 0.0766 - accuracy: 0.9630 - val_loss: 0.1076 - val_accuracy: 1.0000\n",
            "Epoch 34/100\n",
            "7/7 [==============================] - 0s 7ms/step - loss: 0.0768 - accuracy: 0.9722 - val_loss: 0.1100 - val_accuracy: 1.0000\n",
            "Epoch 35/100\n",
            "7/7 [==============================] - 0s 8ms/step - loss: 0.0768 - accuracy: 0.9630 - val_loss: 0.0948 - val_accuracy: 1.0000\n",
            "Epoch 36/100\n",
            "7/7 [==============================] - 0s 7ms/step - loss: 0.0733 - accuracy: 0.9630 - val_loss: 0.1021 - val_accuracy: 1.0000\n",
            "Epoch 37/100\n",
            "7/7 [==============================] - 0s 7ms/step - loss: 0.0735 - accuracy: 0.9630 - val_loss: 0.1038 - val_accuracy: 1.0000\n",
            "Epoch 38/100\n",
            "7/7 [==============================] - 0s 8ms/step - loss: 0.0730 - accuracy: 0.9722 - val_loss: 0.1039 - val_accuracy: 1.0000\n",
            "Epoch 39/100\n",
            "7/7 [==============================] - 0s 7ms/step - loss: 0.0727 - accuracy: 0.9630 - val_loss: 0.0902 - val_accuracy: 1.0000\n",
            "Epoch 40/100\n",
            "7/7 [==============================] - 0s 7ms/step - loss: 0.0712 - accuracy: 0.9630 - val_loss: 0.0951 - val_accuracy: 1.0000\n",
            "Epoch 41/100\n",
            "7/7 [==============================] - 0s 8ms/step - loss: 0.0746 - accuracy: 0.9630 - val_loss: 0.1054 - val_accuracy: 1.0000\n",
            "Epoch 42/100\n",
            "7/7 [==============================] - 0s 8ms/step - loss: 0.0698 - accuracy: 0.9722 - val_loss: 0.0877 - val_accuracy: 1.0000\n",
            "Epoch 43/100\n",
            "7/7 [==============================] - 0s 11ms/step - loss: 0.0724 - accuracy: 0.9630 - val_loss: 0.0937 - val_accuracy: 1.0000\n",
            "Epoch 44/100\n",
            "7/7 [==============================] - 0s 8ms/step - loss: 0.0741 - accuracy: 0.9630 - val_loss: 0.0763 - val_accuracy: 1.0000\n",
            "Epoch 45/100\n",
            "7/7 [==============================] - 0s 8ms/step - loss: 0.0697 - accuracy: 0.9630 - val_loss: 0.0889 - val_accuracy: 1.0000\n",
            "Epoch 46/100\n",
            "7/7 [==============================] - 0s 7ms/step - loss: 0.0686 - accuracy: 0.9722 - val_loss: 0.0888 - val_accuracy: 1.0000\n",
            "Epoch 47/100\n",
            "7/7 [==============================] - 0s 8ms/step - loss: 0.0676 - accuracy: 0.9722 - val_loss: 0.0831 - val_accuracy: 1.0000\n",
            "Epoch 48/100\n",
            "7/7 [==============================] - 0s 9ms/step - loss: 0.0693 - accuracy: 0.9630 - val_loss: 0.0805 - val_accuracy: 1.0000\n",
            "Epoch 49/100\n",
            "7/7 [==============================] - 0s 7ms/step - loss: 0.0661 - accuracy: 0.9630 - val_loss: 0.0873 - val_accuracy: 1.0000\n",
            "Epoch 50/100\n",
            "7/7 [==============================] - 0s 8ms/step - loss: 0.0672 - accuracy: 0.9722 - val_loss: 0.0932 - val_accuracy: 1.0000\n",
            "Epoch 51/100\n",
            "7/7 [==============================] - 0s 8ms/step - loss: 0.0676 - accuracy: 0.9815 - val_loss: 0.0875 - val_accuracy: 1.0000\n",
            "Epoch 52/100\n",
            "7/7 [==============================] - 0s 12ms/step - loss: 0.0647 - accuracy: 0.9722 - val_loss: 0.0749 - val_accuracy: 1.0000\n",
            "Epoch 53/100\n",
            "7/7 [==============================] - 0s 13ms/step - loss: 0.0664 - accuracy: 0.9630 - val_loss: 0.0727 - val_accuracy: 1.0000\n",
            "Epoch 54/100\n",
            "7/7 [==============================] - 0s 8ms/step - loss: 0.0655 - accuracy: 0.9630 - val_loss: 0.0824 - val_accuracy: 1.0000\n",
            "Epoch 55/100\n",
            "7/7 [==============================] - 0s 9ms/step - loss: 0.0645 - accuracy: 0.9630 - val_loss: 0.0809 - val_accuracy: 1.0000\n",
            "Epoch 56/100\n",
            "7/7 [==============================] - 0s 8ms/step - loss: 0.0647 - accuracy: 0.9815 - val_loss: 0.0849 - val_accuracy: 1.0000\n",
            "Epoch 57/100\n",
            "7/7 [==============================] - 0s 9ms/step - loss: 0.0642 - accuracy: 0.9815 - val_loss: 0.0766 - val_accuracy: 1.0000\n",
            "Epoch 58/100\n",
            "7/7 [==============================] - 0s 10ms/step - loss: 0.0640 - accuracy: 0.9630 - val_loss: 0.0677 - val_accuracy: 1.0000\n",
            "Epoch 59/100\n",
            "7/7 [==============================] - 0s 9ms/step - loss: 0.0640 - accuracy: 0.9630 - val_loss: 0.0712 - val_accuracy: 1.0000\n",
            "Epoch 60/100\n",
            "7/7 [==============================] - 0s 11ms/step - loss: 0.0657 - accuracy: 0.9630 - val_loss: 0.0880 - val_accuracy: 1.0000\n",
            "Epoch 61/100\n",
            "7/7 [==============================] - 0s 11ms/step - loss: 0.0626 - accuracy: 0.9815 - val_loss: 0.0750 - val_accuracy: 1.0000\n",
            "Epoch 62/100\n",
            "7/7 [==============================] - 0s 15ms/step - loss: 0.0628 - accuracy: 0.9630 - val_loss: 0.0731 - val_accuracy: 1.0000\n",
            "Epoch 63/100\n",
            "7/7 [==============================] - 0s 8ms/step - loss: 0.0632 - accuracy: 0.9630 - val_loss: 0.0676 - val_accuracy: 1.0000\n",
            "Epoch 64/100\n",
            "7/7 [==============================] - 0s 10ms/step - loss: 0.0658 - accuracy: 0.9722 - val_loss: 0.0806 - val_accuracy: 1.0000\n",
            "Epoch 65/100\n",
            "7/7 [==============================] - 0s 9ms/step - loss: 0.0623 - accuracy: 0.9815 - val_loss: 0.0642 - val_accuracy: 1.0000\n",
            "Epoch 66/100\n",
            "7/7 [==============================] - 0s 9ms/step - loss: 0.0660 - accuracy: 0.9630 - val_loss: 0.0561 - val_accuracy: 1.0000\n",
            "Epoch 67/100\n",
            "7/7 [==============================] - 0s 7ms/step - loss: 0.0630 - accuracy: 0.9630 - val_loss: 0.0724 - val_accuracy: 1.0000\n",
            "Epoch 68/100\n",
            "7/7 [==============================] - 0s 8ms/step - loss: 0.0634 - accuracy: 0.9722 - val_loss: 0.0795 - val_accuracy: 1.0000\n",
            "Epoch 69/100\n",
            "7/7 [==============================] - 0s 7ms/step - loss: 0.0641 - accuracy: 0.9722 - val_loss: 0.0574 - val_accuracy: 1.0000\n",
            "Epoch 70/100\n",
            "7/7 [==============================] - 0s 7ms/step - loss: 0.0618 - accuracy: 0.9630 - val_loss: 0.0610 - val_accuracy: 1.0000\n",
            "Epoch 71/100\n",
            "7/7 [==============================] - 0s 11ms/step - loss: 0.0597 - accuracy: 0.9630 - val_loss: 0.0817 - val_accuracy: 1.0000\n",
            "Epoch 72/100\n",
            "7/7 [==============================] - 0s 7ms/step - loss: 0.0640 - accuracy: 0.9722 - val_loss: 0.0793 - val_accuracy: 1.0000\n",
            "Epoch 73/100\n",
            "7/7 [==============================] - 0s 7ms/step - loss: 0.0618 - accuracy: 0.9815 - val_loss: 0.0752 - val_accuracy: 1.0000\n",
            "Epoch 74/100\n",
            "7/7 [==============================] - 0s 8ms/step - loss: 0.0613 - accuracy: 0.9630 - val_loss: 0.0750 - val_accuracy: 1.0000\n",
            "Epoch 75/100\n",
            "7/7 [==============================] - 0s 8ms/step - loss: 0.0594 - accuracy: 0.9722 - val_loss: 0.0700 - val_accuracy: 1.0000\n",
            "Epoch 76/100\n",
            "7/7 [==============================] - 0s 11ms/step - loss: 0.0609 - accuracy: 0.9722 - val_loss: 0.0746 - val_accuracy: 1.0000\n",
            "Epoch 77/100\n",
            "7/7 [==============================] - 0s 8ms/step - loss: 0.0604 - accuracy: 0.9722 - val_loss: 0.0661 - val_accuracy: 1.0000\n",
            "Epoch 78/100\n",
            "7/7 [==============================] - 0s 8ms/step - loss: 0.0597 - accuracy: 0.9630 - val_loss: 0.0699 - val_accuracy: 1.0000\n",
            "Epoch 79/100\n",
            "7/7 [==============================] - 0s 7ms/step - loss: 0.0615 - accuracy: 0.9722 - val_loss: 0.0722 - val_accuracy: 1.0000\n",
            "Epoch 80/100\n",
            "7/7 [==============================] - 0s 7ms/step - loss: 0.0595 - accuracy: 0.9815 - val_loss: 0.0674 - val_accuracy: 1.0000\n",
            "Epoch 81/100\n",
            "7/7 [==============================] - 0s 8ms/step - loss: 0.0595 - accuracy: 0.9722 - val_loss: 0.0629 - val_accuracy: 1.0000\n",
            "Epoch 82/100\n",
            "7/7 [==============================] - 0s 8ms/step - loss: 0.0589 - accuracy: 0.9722 - val_loss: 0.0680 - val_accuracy: 1.0000\n",
            "Epoch 83/100\n",
            "7/7 [==============================] - 0s 10ms/step - loss: 0.0615 - accuracy: 0.9630 - val_loss: 0.0630 - val_accuracy: 1.0000\n",
            "Epoch 84/100\n",
            "7/7 [==============================] - 0s 7ms/step - loss: 0.0590 - accuracy: 0.9815 - val_loss: 0.0709 - val_accuracy: 1.0000\n",
            "Epoch 85/100\n",
            "7/7 [==============================] - 0s 8ms/step - loss: 0.0618 - accuracy: 0.9630 - val_loss: 0.0577 - val_accuracy: 1.0000\n",
            "Epoch 86/100\n",
            "7/7 [==============================] - 0s 9ms/step - loss: 0.0584 - accuracy: 0.9722 - val_loss: 0.0657 - val_accuracy: 1.0000\n",
            "Epoch 87/100\n",
            "7/7 [==============================] - 0s 11ms/step - loss: 0.0597 - accuracy: 0.9722 - val_loss: 0.0733 - val_accuracy: 1.0000\n",
            "Epoch 88/100\n",
            "7/7 [==============================] - 0s 8ms/step - loss: 0.0586 - accuracy: 0.9722 - val_loss: 0.0659 - val_accuracy: 1.0000\n",
            "Epoch 89/100\n",
            "7/7 [==============================] - 0s 10ms/step - loss: 0.0588 - accuracy: 0.9722 - val_loss: 0.0549 - val_accuracy: 1.0000\n",
            "Epoch 90/100\n",
            "7/7 [==============================] - 0s 7ms/step - loss: 0.0593 - accuracy: 0.9630 - val_loss: 0.0627 - val_accuracy: 1.0000\n",
            "Epoch 91/100\n",
            "7/7 [==============================] - 0s 8ms/step - loss: 0.0580 - accuracy: 0.9815 - val_loss: 0.0610 - val_accuracy: 1.0000\n",
            "Epoch 92/100\n",
            "7/7 [==============================] - 0s 8ms/step - loss: 0.0598 - accuracy: 0.9722 - val_loss: 0.0537 - val_accuracy: 1.0000\n",
            "Epoch 93/100\n",
            "7/7 [==============================] - 0s 9ms/step - loss: 0.0595 - accuracy: 0.9815 - val_loss: 0.0636 - val_accuracy: 1.0000\n",
            "Epoch 94/100\n",
            "7/7 [==============================] - 0s 8ms/step - loss: 0.0578 - accuracy: 0.9815 - val_loss: 0.0618 - val_accuracy: 1.0000\n",
            "Epoch 95/100\n",
            "7/7 [==============================] - 0s 8ms/step - loss: 0.0585 - accuracy: 0.9722 - val_loss: 0.0555 - val_accuracy: 1.0000\n",
            "Epoch 96/100\n",
            "7/7 [==============================] - 0s 8ms/step - loss: 0.0597 - accuracy: 0.9630 - val_loss: 0.0763 - val_accuracy: 1.0000\n",
            "Epoch 97/100\n",
            "7/7 [==============================] - 0s 7ms/step - loss: 0.0578 - accuracy: 0.9722 - val_loss: 0.0578 - val_accuracy: 1.0000\n",
            "Epoch 98/100\n",
            "7/7 [==============================] - 0s 11ms/step - loss: 0.0572 - accuracy: 0.9722 - val_loss: 0.0569 - val_accuracy: 1.0000\n",
            "Epoch 99/100\n",
            "7/7 [==============================] - 0s 7ms/step - loss: 0.0569 - accuracy: 0.9630 - val_loss: 0.0548 - val_accuracy: 1.0000\n",
            "Epoch 100/100\n",
            "7/7 [==============================] - 0s 11ms/step - loss: 0.0571 - accuracy: 0.9815 - val_loss: 0.0595 - val_accuracy: 1.0000\n"
          ]
        }
      ]
    },
    {
      "cell_type": "markdown",
      "source": [
        "#### **2. Print the learned weights and biases.**\n",
        "\n",
        "**NOTE**: We have provided the code to compare to the logistic regression coefficients and intercepts, since the multinomial case can be a bit more complicated. If you're curious, the outputs from keras represent the weights for each feature in its own row (so there are 4 rows here). On the other hand, the outputs from sklearn represent the weights for each label/category in its own row (so there 3 rows). We have used the `.transpose()` function to ensure they are more clearly comparable."
      ],
      "metadata": {
        "id": "Ztg9YVowIbY0"
      }
    },
    {
      "cell_type": "code",
      "source": [
        "layers = model_nn.layers\n",
        "\n",
        "for i in range(len(layers)):\n",
        "  print('\\nLayer ' + str(i))\n",
        "  print('Weights: \\n' + str(layers[i].get_weights()[0]))\n",
        "  print('\\nBiases: \\n' + str(layers[i].get_weights()[1]))"
      ],
      "metadata": {
        "id": "41G3GAPnWqvc",
        "colab": {
          "base_uri": "https://localhost:8080/"
        },
        "outputId": "ded4d0ef-cf87-4192-d943-23e9b1c2c871"
      },
      "execution_count": null,
      "outputs": [
        {
          "output_type": "stream",
          "name": "stdout",
          "text": [
            "\n",
            "Layer 0\n",
            "Weights: \n",
            "[[-2.982535   1.5471897  1.1611079]\n",
            " [ 2.035656  -0.959557  -2.9837496]\n",
            " [-3.5953345 -1.3862749  6.2858586]\n",
            " [-5.013146  -1.6332592  5.628929 ]]\n",
            "\n",
            "Biases: \n",
            "[-0.31253263  5.387237   -5.3077874 ]\n"
          ]
        }
      ]
    },
    {
      "cell_type": "code",
      "source": [
        "print('Coefficients: \\n' + str(model_log.coef_.transpose()))\n",
        "print('\\nIntercept: \\n' + str(model_log.intercept_))"
      ],
      "metadata": {
        "id": "p8uLx09HYfGu",
        "colab": {
          "base_uri": "https://localhost:8080/"
        },
        "outputId": "9c65b998-3566-4812-ec98-910350a670d5"
      },
      "execution_count": null,
      "outputs": [
        {
          "output_type": "stream",
          "name": "stdout",
          "text": [
            "Coefficients: \n",
            "[[-1.00316768  0.52785456  0.47531311]\n",
            " [ 1.14456076 -0.28289055 -0.8616702 ]\n",
            " [-1.81255767 -0.34085076  2.15340842]\n",
            " [-1.69176083 -0.71984718  2.41160801]]\n",
            "\n",
            "Intercept: \n",
            "[-0.13379691  1.98339163 -1.84959472]\n"
          ]
        }
      ]
    },
    {
      "cell_type": "markdown",
      "source": [
        "#### **3. Visualize the training and validation performance per epoch.**\n",
        "\n",
        "Specifically, create two plots:\n",
        "1. The loss of the NN vs. epochs for both the training and validation sets.\n",
        "\n",
        "2. The accuracy of the NN vs. epochs for both the training and validation sets. You can do this by replaced `'loss'` with `'accuracy'` anywhere you find it in the code. Also include the mean CV accuracy score for the logistic regression model."
      ],
      "metadata": {
        "id": "ulxWphE9IbY0"
      }
    },
    {
      "cell_type": "code",
      "source": [
        "# VISUALIZE\n",
        "train_loss = history.history['loss']\n",
        "plt.plot(train_loss, label = 'Training')\n",
        "\n",
        "val_loss = history.history['val_loss']\n",
        "plt.plot(val_loss, label = 'Validation')\n",
        "\n",
        "plt.title('Loss After Each Epoch', fontsize = 'x-large')\n",
        "plt.xlabel('Epoch', fontsize = 'x-large')\n",
        "plt.ylabel('Loss', fontsize = 'x-large')\n",
        "plt.legend()\n",
        "plt.show()"
      ],
      "metadata": {
        "id": "hrIMfP9EIbY1",
        "colab": {
          "base_uri": "https://localhost:8080/",
          "height": 478
        },
        "outputId": "8e9c695e-edb0-42a4-9bf9-9bf15723ccc3"
      },
      "execution_count": null,
      "outputs": [
        {
          "output_type": "display_data",
          "data": {
            "text/plain": [
              "<Figure size 640x480 with 1 Axes>"
            ],
            "image/png": "[encoded data removed]"
          },
          "metadata": {}
        }
      ]
    },
    {
      "cell_type": "code",
      "source": [
        "# VISUALIZE\n",
        "train_accuracy = history.history['accuracy']\n",
        "plt.plot(train_accuracy, label = 'Training')\n",
        "\n",
        "val_accuracy = history.history['val_accuracy']\n",
        "plt.plot(val_accuracy, label = 'Validation')\n",
        "\n",
        "plt.plot([scores.mean() for i in range(len(train_accuracy))], label = 'Logistic Regression Average')\n",
        "\n",
        "plt.title('Accuracy After Each Epoch', fontsize = 'x-large')\n",
        "plt.xlabel('Epoch', fontsize = 'x-large')\n",
        "plt.ylabel('Accuracy', fontsize = 'x-large')\n",
        "plt.legend()\n",
        "plt.show()"
      ],
      "metadata": {
        "id": "gTqvwx0dcx5e",
        "colab": {
          "base_uri": "https://localhost:8080/",
          "height": 478
        },
        "outputId": "8129fcab-2f66-4531-f3af-4cb732ad79d7"
      },
      "execution_count": null,
      "outputs": [
        {
          "output_type": "display_data",
          "data": {
            "text/plain": [
              "<Figure size 640x480 with 1 Axes>"
            ],
            "image/png": "[encoded data removed]"
          },
          "metadata": {}
        }
      ]
    },
    {
      "cell_type": "markdown",
      "source": [
        "### **Problem #4.4**\n",
        "\n",
        "Let's examine what the output of our models are to understand them more deeply. Specifically for the first test data point (as an example),\n",
        "\n",
        "1. Print the probability of belonging to each class predicted by your logistic regression model.\n",
        "\n",
        "2. Print the class predicted by your logistic regression model.\n",
        "\n",
        "3. Print the probability of belonging to each class predicted by your neural network.\n",
        "\n",
        "4. Print the class predicted by your neural network."
      ],
      "metadata": {
        "id": "Qn15CwrPhJkG"
      }
    },
    {
      "cell_type": "code",
      "source": [
        "data = X_test[0:1]"
      ],
      "metadata": {
        "id": "B8SyKle3_29F"
      },
      "execution_count": null,
      "outputs": []
    },
    {
      "cell_type": "code",
      "source": [
        "model_log.predict_proba(data)"
      ],
      "metadata": {
        "id": "Cgg3IDKoADAU",
        "colab": {
          "base_uri": "https://localhost:8080/"
        },
        "outputId": "c247d5a9-bf4b-4519-df0f-4d2ff3c45418"
      },
      "execution_count": null,
      "outputs": [
        {
          "output_type": "execute_result",
          "data": {
            "text/plain": [
              "array([[0.01144751, 0.87601427, 0.11253823]])"
            ]
          },
          "metadata": {},
          "execution_count": 219
        }
      ]
    },
    {
      "cell_type": "code",
      "source": [
        "model_log.predict(data)"
      ],
      "metadata": {
        "id": "uejoU9a3AOtA",
        "colab": {
          "base_uri": "https://localhost:8080/"
        },
        "outputId": "58f36c29-4631-4e8e-a1a3-78c303667089"
      },
      "execution_count": null,
      "outputs": [
        {
          "output_type": "execute_result",
          "data": {
            "text/plain": [
              "array([1])"
            ]
          },
          "metadata": {},
          "execution_count": 220
        }
      ]
    },
    {
      "cell_type": "code",
      "source": [
        "model_nn.predict(data)"
      ],
      "metadata": {
        "id": "UqNyC_lyAOly",
        "colab": {
          "base_uri": "https://localhost:8080/"
        },
        "outputId": "60c44d4f-620b-4d48-eb85-3cd10f45ebdc"
      },
      "execution_count": null,
      "outputs": [
        {
          "output_type": "stream",
          "name": "stdout",
          "text": [
            "1/1 [==============================] - 0s 117ms/step\n"
          ]
        },
        {
          "output_type": "execute_result",
          "data": {
            "text/plain": [
              "array([[3.1332333e-05, 9.9451917e-01, 5.4495232e-03]], dtype=float32)"
            ]
          },
          "metadata": {},
          "execution_count": 221
        }
      ]
    },
    {
      "cell_type": "code",
      "source": [
        "np.argmax(model_nn.predict(data), axis = 1)"
      ],
      "metadata": {
        "id": "7Pqqyr2UASUe",
        "colab": {
          "base_uri": "https://localhost:8080/"
        },
        "outputId": "d7884b5e-f3ce-44ab-c0ba-1e09f105a7c3"
      },
      "execution_count": null,
      "outputs": [
        {
          "output_type": "stream",
          "name": "stdout",
          "text": [
            "1/1 [==============================] - 0s 59ms/step\n"
          ]
        },
        {
          "output_type": "execute_result",
          "data": {
            "text/plain": [
              "array([1])"
            ]
          },
          "metadata": {},
          "execution_count": 222
        }
      ]
    },
    {
      "cell_type": "markdown",
      "metadata": {
        "id": "6dLtT66GaW4p"
      },
      "source": [
        "### **Reflection Questions**\n",
        "\n",
        "1. How did the validation performances of Logistic Regression and the Neural Network compare?\n",
        "\n",
        "2. How did the coefficients of Logistic Regression and the Neural Network compare? Why might they be this way?"
      ]
    },
    {
      "cell_type": "markdown",
      "source": [
        "1. I thought the Neural network performed a little better with an accuracy of .97.  the logistics model had a lower accuracy of 0.93\n",
        "2. The coefficents in each case are pretty much the same because a simple logistic regression would be the same as a Nerual network with only an input and a softmax output.\n"
      ],
      "metadata": {
        "id": "TK4FS02e-l_-"
      }
    },
    {
      "cell_type": "code",
      "source": [],
      "metadata": {
        "id": "RcKuvyLc-lYo"
      },
      "execution_count": null,
      "outputs": []
    },
    {
      "cell_type": "markdown",
      "source": [
        "### **Problem #4.5**\n",
        "\n",
        "In the space below, build, train, and visualize the performance of different Neural Networks for this task to see how various model architectures and hyperparameter tuning affects the performance. Your overall goal here is two fold:\n",
        "1. Experiment with the various architecture and hyperparameter options to gain a deeper understanding of them.\n",
        "2. See if you can get a better model than the ones above."
      ],
      "metadata": {
        "id": "1y__ZmmWeSU7"
      }
    },
    {
      "cell_type": "code",
      "source": [
        "model_nn = Sequential()\n",
        "model_nn.add(Input(4))\n",
        "model_nn.add(Dense(4,'linear')) #tried an extra Dense layer.  Does not seem to help.   tried  linear and relu, neither seemed to do anthing also tried another node.  less accurate\n",
        "model_nn.add(Dense(3,activation='softmax'))\n",
        "\n",
        "# Compile the model\n",
        "opt = Adam(learning_rate = 0.01)\n",
        "model_nn.compile(optimizer = opt, loss ='categorical_crossentropy', metrics=['accuracy'])\n",
        "\n",
        "# Fit the model on the training data\n",
        "history = model_nn.fit(X_train, y_train_ohe, validation_split = 0.1, epochs=100, batch_size = 32)"
      ],
      "metadata": {
        "id": "zoVV1nJCedqN",
        "colab": {
          "base_uri": "https://localhost:8080/"
        },
        "outputId": "3539f79d-939d-49d8-e2d5-ee25521af438"
      },
      "execution_count": null,
      "outputs": [
        {
          "output_type": "stream",
          "name": "stdout",
          "text": [
            "Epoch 1/100\n",
            "4/4 [==============================] - 1s 73ms/step - loss: 1.6812 - accuracy: 0.2500 - val_loss: 1.4728 - val_accuracy: 0.4167\n",
            "Epoch 2/100\n",
            "4/4 [==============================] - 0s 15ms/step - loss: 1.4202 - accuracy: 0.2500 - val_loss: 1.3224 - val_accuracy: 0.4167\n",
            "Epoch 3/100\n",
            "4/4 [==============================] - 0s 15ms/step - loss: 1.2452 - accuracy: 0.2593 - val_loss: 1.2127 - val_accuracy: 0.4167\n",
            "Epoch 4/100\n",
            "4/4 [==============================] - 0s 17ms/step - loss: 1.1249 - accuracy: 0.2778 - val_loss: 1.1363 - val_accuracy: 0.4167\n",
            "Epoch 5/100\n",
            "4/4 [==============================] - 0s 14ms/step - loss: 1.0483 - accuracy: 0.3796 - val_loss: 1.0798 - val_accuracy: 0.5000\n",
            "Epoch 6/100\n",
            "4/4 [==============================] - 0s 13ms/step - loss: 0.9976 - accuracy: 0.5556 - val_loss: 1.0372 - val_accuracy: 0.6667\n",
            "Epoch 7/100\n",
            "4/4 [==============================] - 0s 16ms/step - loss: 0.9562 - accuracy: 0.6111 - val_loss: 1.0034 - val_accuracy: 0.5833\n",
            "Epoch 8/100\n",
            "4/4 [==============================] - 0s 15ms/step - loss: 0.9206 - accuracy: 0.6481 - val_loss: 0.9695 - val_accuracy: 0.5833\n",
            "Epoch 9/100\n",
            "4/4 [==============================] - 0s 13ms/step - loss: 0.8845 - accuracy: 0.6759 - val_loss: 0.9365 - val_accuracy: 0.7500\n",
            "Epoch 10/100\n",
            "4/4 [==============================] - 0s 20ms/step - loss: 0.8422 - accuracy: 0.7130 - val_loss: 0.8997 - val_accuracy: 0.7500\n",
            "Epoch 11/100\n",
            "4/4 [==============================] - 0s 20ms/step - loss: 0.7936 - accuracy: 0.7407 - val_loss: 0.8598 - val_accuracy: 0.7500\n",
            "Epoch 12/100\n",
            "4/4 [==============================] - 0s 21ms/step - loss: 0.7398 - accuracy: 0.7500 - val_loss: 0.8165 - val_accuracy: 0.7500\n",
            "Epoch 13/100\n",
            "4/4 [==============================] - 0s 18ms/step - loss: 0.6817 - accuracy: 0.7593 - val_loss: 0.7683 - val_accuracy: 0.7500\n",
            "Epoch 14/100\n",
            "4/4 [==============================] - 0s 23ms/step - loss: 0.6243 - accuracy: 0.7685 - val_loss: 0.7191 - val_accuracy: 0.8333\n",
            "Epoch 15/100\n",
            "4/4 [==============================] - 0s 23ms/step - loss: 0.5730 - accuracy: 0.7778 - val_loss: 0.6737 - val_accuracy: 0.8333\n",
            "Epoch 16/100\n",
            "4/4 [==============================] - 0s 22ms/step - loss: 0.5253 - accuracy: 0.8056 - val_loss: 0.6336 - val_accuracy: 0.8333\n",
            "Epoch 17/100\n",
            "4/4 [==============================] - 0s 17ms/step - loss: 0.4858 - accuracy: 0.8056 - val_loss: 0.5992 - val_accuracy: 0.8333\n",
            "Epoch 18/100\n",
            "4/4 [==============================] - 0s 24ms/step - loss: 0.4534 - accuracy: 0.8056 - val_loss: 0.5706 - val_accuracy: 0.8333\n",
            "Epoch 19/100\n",
            "4/4 [==============================] - 0s 18ms/step - loss: 0.4271 - accuracy: 0.8241 - val_loss: 0.5455 - val_accuracy: 0.8333\n",
            "Epoch 20/100\n",
            "4/4 [==============================] - 0s 22ms/step - loss: 0.4043 - accuracy: 0.8333 - val_loss: 0.5212 - val_accuracy: 0.9167\n",
            "Epoch 21/100\n",
            "4/4 [==============================] - 0s 18ms/step - loss: 0.3836 - accuracy: 0.8426 - val_loss: 0.4978 - val_accuracy: 0.9167\n",
            "Epoch 22/100\n",
            "4/4 [==============================] - 0s 22ms/step - loss: 0.3663 - accuracy: 0.8519 - val_loss: 0.4754 - val_accuracy: 0.9167\n",
            "Epoch 23/100\n",
            "4/4 [==============================] - 0s 16ms/step - loss: 0.3530 - accuracy: 0.8611 - val_loss: 0.4555 - val_accuracy: 0.9167\n",
            "Epoch 24/100\n",
            "4/4 [==============================] - 0s 26ms/step - loss: 0.3394 - accuracy: 0.8611 - val_loss: 0.4393 - val_accuracy: 0.9167\n",
            "Epoch 25/100\n",
            "4/4 [==============================] - 0s 17ms/step - loss: 0.3272 - accuracy: 0.8796 - val_loss: 0.4253 - val_accuracy: 0.9167\n",
            "Epoch 26/100\n",
            "4/4 [==============================] - 0s 22ms/step - loss: 0.3156 - accuracy: 0.8889 - val_loss: 0.4142 - val_accuracy: 0.9167\n",
            "Epoch 27/100\n",
            "4/4 [==============================] - 0s 23ms/step - loss: 0.3039 - accuracy: 0.8889 - val_loss: 0.4052 - val_accuracy: 0.9167\n",
            "Epoch 28/100\n",
            "4/4 [==============================] - 0s 25ms/step - loss: 0.2924 - accuracy: 0.8889 - val_loss: 0.3982 - val_accuracy: 0.9167\n",
            "Epoch 29/100\n",
            "4/4 [==============================] - 0s 17ms/step - loss: 0.2828 - accuracy: 0.8981 - val_loss: 0.3897 - val_accuracy: 0.9167\n",
            "Epoch 30/100\n",
            "4/4 [==============================] - 0s 26ms/step - loss: 0.2741 - accuracy: 0.8981 - val_loss: 0.3819 - val_accuracy: 0.9167\n",
            "Epoch 31/100\n",
            "4/4 [==============================] - 0s 26ms/step - loss: 0.2652 - accuracy: 0.9074 - val_loss: 0.3686 - val_accuracy: 0.9167\n",
            "Epoch 32/100\n",
            "4/4 [==============================] - 0s 21ms/step - loss: 0.2554 - accuracy: 0.9167 - val_loss: 0.3515 - val_accuracy: 0.9167\n",
            "Epoch 33/100\n",
            "4/4 [==============================] - 0s 18ms/step - loss: 0.2474 - accuracy: 0.9167 - val_loss: 0.3381 - val_accuracy: 0.9167\n",
            "Epoch 34/100\n",
            "4/4 [==============================] - 0s 22ms/step - loss: 0.2389 - accuracy: 0.9167 - val_loss: 0.3299 - val_accuracy: 0.9167\n",
            "Epoch 35/100\n",
            "4/4 [==============================] - 0s 22ms/step - loss: 0.2301 - accuracy: 0.9352 - val_loss: 0.3214 - val_accuracy: 0.9167\n",
            "Epoch 36/100\n",
            "4/4 [==============================] - 0s 20ms/step - loss: 0.2231 - accuracy: 0.9444 - val_loss: 0.3136 - val_accuracy: 0.9167\n",
            "Epoch 37/100\n",
            "4/4 [==============================] - 0s 26ms/step - loss: 0.2151 - accuracy: 0.9444 - val_loss: 0.3027 - val_accuracy: 0.9167\n",
            "Epoch 38/100\n",
            "4/4 [==============================] - 0s 24ms/step - loss: 0.2081 - accuracy: 0.9444 - val_loss: 0.2919 - val_accuracy: 0.9167\n",
            "Epoch 39/100\n",
            "4/4 [==============================] - 0s 20ms/step - loss: 0.2010 - accuracy: 0.9352 - val_loss: 0.2828 - val_accuracy: 0.9167\n",
            "Epoch 40/100\n",
            "4/4 [==============================] - 0s 21ms/step - loss: 0.1943 - accuracy: 0.9352 - val_loss: 0.2734 - val_accuracy: 0.9167\n",
            "Epoch 41/100\n",
            "4/4 [==============================] - 0s 21ms/step - loss: 0.1885 - accuracy: 0.9444 - val_loss: 0.2644 - val_accuracy: 0.9167\n",
            "Epoch 42/100\n",
            "4/4 [==============================] - 0s 23ms/step - loss: 0.1818 - accuracy: 0.9444 - val_loss: 0.2552 - val_accuracy: 0.9167\n",
            "Epoch 43/100\n",
            "4/4 [==============================] - 0s 16ms/step - loss: 0.1764 - accuracy: 0.9444 - val_loss: 0.2437 - val_accuracy: 0.9167\n",
            "Epoch 44/100\n",
            "4/4 [==============================] - 0s 22ms/step - loss: 0.1715 - accuracy: 0.9444 - val_loss: 0.2361 - val_accuracy: 0.9167\n",
            "Epoch 45/100\n",
            "4/4 [==============================] - 0s 21ms/step - loss: 0.1660 - accuracy: 0.9444 - val_loss: 0.2348 - val_accuracy: 0.9167\n",
            "Epoch 46/100\n",
            "4/4 [==============================] - 0s 27ms/step - loss: 0.1604 - accuracy: 0.9537 - val_loss: 0.2327 - val_accuracy: 0.9167\n",
            "Epoch 47/100\n",
            "4/4 [==============================] - 0s 29ms/step - loss: 0.1568 - accuracy: 0.9537 - val_loss: 0.2276 - val_accuracy: 0.9167\n",
            "Epoch 48/100\n",
            "4/4 [==============================] - 0s 28ms/step - loss: 0.1522 - accuracy: 0.9537 - val_loss: 0.2184 - val_accuracy: 0.9167\n",
            "Epoch 49/100\n",
            "4/4 [==============================] - 0s 25ms/step - loss: 0.1481 - accuracy: 0.9537 - val_loss: 0.2101 - val_accuracy: 0.9167\n",
            "Epoch 50/100\n",
            "4/4 [==============================] - 0s 28ms/step - loss: 0.1436 - accuracy: 0.9537 - val_loss: 0.2051 - val_accuracy: 0.9167\n",
            "Epoch 51/100\n",
            "4/4 [==============================] - 0s 24ms/step - loss: 0.1399 - accuracy: 0.9537 - val_loss: 0.1989 - val_accuracy: 0.9167\n",
            "Epoch 52/100\n",
            "4/4 [==============================] - 0s 24ms/step - loss: 0.1362 - accuracy: 0.9537 - val_loss: 0.1898 - val_accuracy: 0.9167\n",
            "Epoch 53/100\n",
            "4/4 [==============================] - 0s 17ms/step - loss: 0.1335 - accuracy: 0.9537 - val_loss: 0.1794 - val_accuracy: 0.9167\n",
            "Epoch 54/100\n",
            "4/4 [==============================] - 0s 25ms/step - loss: 0.1298 - accuracy: 0.9537 - val_loss: 0.1742 - val_accuracy: 0.9167\n",
            "Epoch 55/100\n",
            "4/4 [==============================] - 0s 20ms/step - loss: 0.1267 - accuracy: 0.9537 - val_loss: 0.1765 - val_accuracy: 0.9167\n",
            "Epoch 56/100\n",
            "4/4 [==============================] - 0s 19ms/step - loss: 0.1235 - accuracy: 0.9630 - val_loss: 0.1811 - val_accuracy: 0.9167\n",
            "Epoch 57/100\n",
            "4/4 [==============================] - 0s 22ms/step - loss: 0.1210 - accuracy: 0.9630 - val_loss: 0.1760 - val_accuracy: 0.9167\n",
            "Epoch 58/100\n",
            "4/4 [==============================] - 0s 24ms/step - loss: 0.1183 - accuracy: 0.9722 - val_loss: 0.1706 - val_accuracy: 0.9167\n",
            "Epoch 59/100\n",
            "4/4 [==============================] - 0s 26ms/step - loss: 0.1155 - accuracy: 0.9630 - val_loss: 0.1658 - val_accuracy: 0.9167\n",
            "Epoch 60/100\n",
            "4/4 [==============================] - 0s 23ms/step - loss: 0.1129 - accuracy: 0.9630 - val_loss: 0.1599 - val_accuracy: 1.0000\n",
            "Epoch 61/100\n",
            "4/4 [==============================] - 0s 16ms/step - loss: 0.1109 - accuracy: 0.9630 - val_loss: 0.1534 - val_accuracy: 1.0000\n",
            "Epoch 62/100\n",
            "4/4 [==============================] - 0s 23ms/step - loss: 0.1092 - accuracy: 0.9630 - val_loss: 0.1511 - val_accuracy: 1.0000\n",
            "Epoch 63/100\n",
            "4/4 [==============================] - 0s 26ms/step - loss: 0.1070 - accuracy: 0.9630 - val_loss: 0.1459 - val_accuracy: 1.0000\n",
            "Epoch 64/100\n",
            "4/4 [==============================] - 0s 26ms/step - loss: 0.1052 - accuracy: 0.9630 - val_loss: 0.1440 - val_accuracy: 1.0000\n",
            "Epoch 65/100\n",
            "4/4 [==============================] - 0s 20ms/step - loss: 0.1033 - accuracy: 0.9630 - val_loss: 0.1429 - val_accuracy: 1.0000\n",
            "Epoch 66/100\n",
            "4/4 [==============================] - 0s 12ms/step - loss: 0.1015 - accuracy: 0.9630 - val_loss: 0.1416 - val_accuracy: 1.0000\n",
            "Epoch 67/100\n",
            "4/4 [==============================] - 0s 19ms/step - loss: 0.0998 - accuracy: 0.9630 - val_loss: 0.1401 - val_accuracy: 1.0000\n",
            "Epoch 68/100\n",
            "4/4 [==============================] - 0s 15ms/step - loss: 0.0983 - accuracy: 0.9630 - val_loss: 0.1379 - val_accuracy: 1.0000\n",
            "Epoch 69/100\n",
            "4/4 [==============================] - 0s 15ms/step - loss: 0.0970 - accuracy: 0.9630 - val_loss: 0.1390 - val_accuracy: 1.0000\n",
            "Epoch 70/100\n",
            "4/4 [==============================] - 0s 12ms/step - loss: 0.0955 - accuracy: 0.9630 - val_loss: 0.1411 - val_accuracy: 1.0000\n",
            "Epoch 71/100\n",
            "4/4 [==============================] - 0s 14ms/step - loss: 0.0942 - accuracy: 0.9630 - val_loss: 0.1411 - val_accuracy: 1.0000\n",
            "Epoch 72/100\n",
            "4/4 [==============================] - 0s 13ms/step - loss: 0.0933 - accuracy: 0.9630 - val_loss: 0.1379 - val_accuracy: 1.0000\n",
            "Epoch 73/100\n",
            "4/4 [==============================] - 0s 13ms/step - loss: 0.0922 - accuracy: 0.9630 - val_loss: 0.1291 - val_accuracy: 1.0000\n",
            "Epoch 74/100\n",
            "4/4 [==============================] - 0s 16ms/step - loss: 0.0906 - accuracy: 0.9630 - val_loss: 0.1277 - val_accuracy: 1.0000\n",
            "Epoch 75/100\n",
            "4/4 [==============================] - 0s 14ms/step - loss: 0.0906 - accuracy: 0.9630 - val_loss: 0.1218 - val_accuracy: 1.0000\n",
            "Epoch 76/100\n",
            "4/4 [==============================] - 0s 13ms/step - loss: 0.0886 - accuracy: 0.9630 - val_loss: 0.1221 - val_accuracy: 1.0000\n",
            "Epoch 77/100\n",
            "4/4 [==============================] - 0s 18ms/step - loss: 0.0879 - accuracy: 0.9630 - val_loss: 0.1284 - val_accuracy: 1.0000\n",
            "Epoch 78/100\n",
            "4/4 [==============================] - 0s 13ms/step - loss: 0.0863 - accuracy: 0.9630 - val_loss: 0.1263 - val_accuracy: 1.0000\n",
            "Epoch 79/100\n",
            "4/4 [==============================] - 0s 12ms/step - loss: 0.0857 - accuracy: 0.9630 - val_loss: 0.1207 - val_accuracy: 1.0000\n",
            "Epoch 80/100\n",
            "4/4 [==============================] - 0s 14ms/step - loss: 0.0844 - accuracy: 0.9630 - val_loss: 0.1173 - val_accuracy: 1.0000\n",
            "Epoch 81/100\n",
            "4/4 [==============================] - 0s 13ms/step - loss: 0.0851 - accuracy: 0.9630 - val_loss: 0.1090 - val_accuracy: 1.0000\n",
            "Epoch 82/100\n",
            "4/4 [==============================] - 0s 12ms/step - loss: 0.0836 - accuracy: 0.9630 - val_loss: 0.1063 - val_accuracy: 1.0000\n",
            "Epoch 83/100\n",
            "4/4 [==============================] - 0s 17ms/step - loss: 0.0830 - accuracy: 0.9630 - val_loss: 0.1051 - val_accuracy: 1.0000\n",
            "Epoch 84/100\n",
            "4/4 [==============================] - 0s 19ms/step - loss: 0.0813 - accuracy: 0.9630 - val_loss: 0.1097 - val_accuracy: 1.0000\n",
            "Epoch 85/100\n",
            "4/4 [==============================] - 0s 12ms/step - loss: 0.0804 - accuracy: 0.9630 - val_loss: 0.1119 - val_accuracy: 1.0000\n",
            "Epoch 86/100\n",
            "4/4 [==============================] - 0s 15ms/step - loss: 0.0799 - accuracy: 0.9630 - val_loss: 0.1088 - val_accuracy: 1.0000\n",
            "Epoch 87/100\n",
            "4/4 [==============================] - 0s 19ms/step - loss: 0.0789 - accuracy: 0.9630 - val_loss: 0.1081 - val_accuracy: 1.0000\n",
            "Epoch 88/100\n",
            "4/4 [==============================] - 0s 13ms/step - loss: 0.0788 - accuracy: 0.9630 - val_loss: 0.1123 - val_accuracy: 1.0000\n",
            "Epoch 89/100\n",
            "4/4 [==============================] - 0s 15ms/step - loss: 0.0777 - accuracy: 0.9630 - val_loss: 0.1092 - val_accuracy: 1.0000\n",
            "Epoch 90/100\n",
            "4/4 [==============================] - 0s 15ms/step - loss: 0.0779 - accuracy: 0.9630 - val_loss: 0.1079 - val_accuracy: 1.0000\n",
            "Epoch 91/100\n",
            "4/4 [==============================] - 0s 12ms/step - loss: 0.0758 - accuracy: 0.9630 - val_loss: 0.1141 - val_accuracy: 1.0000\n",
            "Epoch 92/100\n",
            "4/4 [==============================] - 0s 14ms/step - loss: 0.0765 - accuracy: 0.9722 - val_loss: 0.1222 - val_accuracy: 1.0000\n",
            "Epoch 93/100\n",
            "4/4 [==============================] - 0s 15ms/step - loss: 0.0770 - accuracy: 0.9815 - val_loss: 0.1222 - val_accuracy: 1.0000\n",
            "Epoch 94/100\n",
            "4/4 [==============================] - 0s 18ms/step - loss: 0.0761 - accuracy: 0.9815 - val_loss: 0.1143 - val_accuracy: 1.0000\n",
            "Epoch 95/100\n",
            "4/4 [==============================] - 0s 15ms/step - loss: 0.0744 - accuracy: 0.9630 - val_loss: 0.1038 - val_accuracy: 1.0000\n",
            "Epoch 96/100\n",
            "4/4 [==============================] - 0s 12ms/step - loss: 0.0734 - accuracy: 0.9630 - val_loss: 0.0969 - val_accuracy: 1.0000\n",
            "Epoch 97/100\n",
            "4/4 [==============================] - 0s 13ms/step - loss: 0.0737 - accuracy: 0.9630 - val_loss: 0.0921 - val_accuracy: 1.0000\n",
            "Epoch 98/100\n",
            "4/4 [==============================] - 0s 19ms/step - loss: 0.0747 - accuracy: 0.9630 - val_loss: 0.0902 - val_accuracy: 1.0000\n",
            "Epoch 99/100\n",
            "4/4 [==============================] - 0s 13ms/step - loss: 0.0733 - accuracy: 0.9630 - val_loss: 0.0945 - val_accuracy: 1.0000\n",
            "Epoch 100/100\n",
            "4/4 [==============================] - 0s 14ms/step - loss: 0.0705 - accuracy: 0.9630 - val_loss: 0.1092 - val_accuracy: 1.0000\n"
          ]
        }
      ]
    },
    {
      "cell_type": "markdown",
      "source": [
        "#End of notebook\n",
        "---\n",
        "© 2023 The Coding School, All rights reserved"
      ],
      "metadata": {
        "id": "7dzC09dLlEhm"
      }
    }
  ]
}