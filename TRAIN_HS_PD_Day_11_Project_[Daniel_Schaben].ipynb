{
  "nbformat": 4,
  "nbformat_minor": 0,
  "metadata": {
    "colab": {
      "provenance": [],
      "toc_visible": true,
      "include_colab_link": true
    },
    "kernelspec": {
      "name": "python3",
      "display_name": "Python 3"
    },
    "language_info": {
      "name": "python"
    }
  },
  "cells": [
    {
      "cell_type": "markdown",
      "metadata": {
        "id": "view-in-github",
        "colab_type": "text"
      },
      "source": [
        "<a href=\"https://colab.research.google.com/github/blckpwdr50/datasciencecoursera/blob/master/TRAIN_HS_PD_Day_11_Project_%5BDaniel_Schaben%5D.ipynb\" target=\"_parent\"><img src=\"https://colab.research.google.com/assets/colab-badge.svg\" alt=\"Open In Colab\"/></a>"
      ]
    },
    {
      "cell_type": "markdown",
      "source": [
        "# **Day 11 Project: Analysis of Life Expectancy**\n",
        "---\n",
        "\n",
        "### **Description**\n",
        "In this project, you will apply what you have learned so far and analyze a dataset containing information on the countries and factors influencing life expectancy. You are tasked with performing exploratory data analysis, cleaning and wrangling the data, and creating detailed visualizations. You will then train machine learning models to predict the life expectancy of countries and classify them based on development status.\n",
        "\n",
        "\n",
        "<br>\n",
        "\n",
        "###**About the Dataset**\n",
        "\n",
        "Below is a list of variables in this dataset. You may not understand the meaning of every single variable. It is typical for ML practitioners to go into a project unaware of the full context within which their data lives. As you go through this project, consider if it would be helpful to learn more about any information you are unfamiliar with.\n",
        "\n",
        "* `Country`: name of country\n",
        "* `Region`: region the country is in\n",
        "* `Year`: year (observed from 2000-2015)\n",
        "* `Infant_deaths`: represents infant deaths per 1000 population\n",
        "* `Under_five_deaths`: represents deaths of children under five years old per 1000 population\n",
        "* `Adult_mortality`: represents deaths of adults per 1000 population\n",
        "* `Alcohol_consumption`: represents alcohol consumption recorded in liters of pure alcohol per capita with 15+ years old\n",
        "* `Hepatitis_B`: represents % of coverage of Hepatitis B (HepB3) immunization among 1-year-olds\n",
        "* `Measles`: represents % of coverage of Measles containing vaccine first dose (MCV1) immunization among 1-year-olds\n",
        "* `BMI`: average body mass index of entire population\n",
        "* `Polio`: represents % of coverage of Polio (Pol3) immunization among 1-year-olds\n",
        "* `Diphtheria`: represents % of coverage of Diphtheria tetanus toxoid and pertussis (DTP3) immunization among 1-year-olds\n",
        "* `Incidents_HIV`: incidents of HIV per 1000 population aged 15-49\n",
        "* `GDP_per_capita`: gross domestic product (GDP) per capita (in USD)\n",
        "* `Population_mln`: total population of the country in millions\n",
        "* `Thinness_ten_nineteen_years`: prevalence of thinness among adolescents aged 10-19 years as a percentage; BMI < -2 standard deviations below the median\n",
        "* `Thinness_five_nine_years`: prevalence of thinness among children aged 5-9 years as a percentage; BMI < -2 standard deviations below the median\n",
        "* `Schooling`: average years that people aged 25+ spent in formal education\n",
        "* `Economy_status_Developed`: whether or not it is a developed country (0: no, 1: yes)\n",
        "* `Economy_status_Developing`: whether or not it is a developing country (0: no, 1: yes)\n",
        "* `Life expectancy`: average life expectancy in age\n",
        "<br>\n",
        "\n",
        "### **Key questions to answer:**\n",
        "1. Which preprocessing steps contribute to your model's predictive performance?\n",
        "2. Can you observe any patterns in the dataset from your visualizations?\n",
        "3. What features most strongly predict a country's life expectancy?\n",
        "4. What features most strongly predict a country's economic development status?\n",
        "5. How do KNN and Logistic Regression compare when both are used?\n",
        "\n",
        "<br>\n",
        "\n",
        "### **Goals:**\n",
        "By the end of these projects, you will have:\n",
        "1. Visualized relationships between various variables in the data.\n",
        "2. Visualized the behavior of variables across features (e.g. grouped bar graphs, etc.).\n",
        "3. Implemented linear regression, KNN, and logistic regression models tuned to best fit this dataset for a variety of tasks.\n",
        "\n",
        "<br>\n",
        "\n",
        "### **Lab Structure**\n",
        "**Part 1**:  [Data Exploration, Wrangling, and Visualization](#p1)\n",
        "\n",
        "**Part 2**:  [Predicting Life Expectancy](#p2)\n",
        "\n",
        "> **Part 2.1**:  [Using All Numerical Features and Label Encodings](#p2.1)\n",
        "\n",
        "> **Part 2.2**:  [Using All Numerical Features and Dummy Variable Encodings](#p2.2)\n",
        "\n",
        "> **Part 2.3**:  [Using the 4 Best Numerical Features and the Best Encodings Where Relevant](#p2.3)\n",
        "\n",
        "> **Part 2**:  [Wrapup](#p2w)\n",
        "\n",
        "**Part 3**:  [Predicting Development Status](#p3)\n",
        "\n",
        "> **Part 3**:  [Wrapup](#p3w)\n",
        "\n",
        "\n",
        "\n",
        "</br>\n",
        "\n",
        "### **Cheat Sheets**\n",
        "\n",
        "* [Python basics](https://docs.google.com/document/d/1sbDvZXxqkqvaxEj7WM_nfhTI3q5Yut-9dz0IxEta-VA/edit?usp=drive_link)\n",
        "\n",
        "* [EDA with pandas](https://docs.google.com/document/d/1lb58BaUQZi_Y9tvgeGuhmm2_oe88smVbpV9pqb1sFNI/edit?usp=drive_link)\n",
        "\n",
        "* [Feature Engineering and Selection with pandas](https://docs.google.com/document/d/1fYANsUd4dKdgGHlAcvaugTihYIP7dku-yqYtjMh95LQ/edit?usp=drive_link)\n",
        "\n",
        "* [Data Visualizations with matplotlib](https://docs.google.com/document/d/1n8kwv3ysgSQL7siw8zOo8lvkwSell1LgW82xDIe9bf4/edit?usp=drive_link)\n",
        "\n",
        "* [Advanced ML Techniques with sklearn](https://docs.google.com/document/d/16BeAevvvvCYJ5q0qLTl0SQnTPWnGkktwGYUxvnJMkE4/edit?usp=drive_link)\n",
        "\n",
        "* [Linear Regression with sklearn](https://docs.google.com/document/d/1aymYoakMDdvRZJS4-NBCF5D54f4RQlCJFimz8Mf-uJI/edit?usp=drive_link)\n",
        "\n",
        "* [K-Nearest Neighbors with sklearn](https://docs.google.com/document/d/1bgOWUmWyPcc2rUinRsGNDjE04eQdMPq49PWbCGMOHSw/edit?usp=drive_link)\n",
        "\n",
        "* [Logistic Regression with sklearn](https://docs.google.com/document/d/1jloY6eTv8Owf0k215SUVutgOk8OzeGYXCDi5X6B3xeY/edit?usp=drive_link)\n",
        "\n",
        "\n",
        "<br>\n",
        "\n",
        "**Before starting, run the code below to import all necessary functions, libraries, and data.**"
      ],
      "metadata": {
        "id": "8Np2oa_ZijMe"
      }
    },
    {
      "cell_type": "code",
      "source": [
        "#!pip install scikit-learn\n",
        "\n",
        "import warnings\n",
        "warnings.filterwarnings('ignore')\n",
        "\n",
        "import numpy as np\n",
        "import pandas as pd\n",
        "import matplotlib.pyplot as plt\n",
        "\n",
        "from sklearn.preprocessing import StandardScaler, OneHotEncoder, OrdinalEncoder\n",
        "from sklearn.feature_selection import SelectKBest\n",
        "from sklearn.model_selection import train_test_split, cross_val_score\n",
        "from sklearn.metrics import *\n",
        "\n",
        "from sklearn.linear_model import LogisticRegression, LinearRegression\n",
        "from sklearn.neighbors import KNeighborsClassifier\n",
        "\n",
        "\n",
        "life_df = pd.read_csv(\"https://raw.githubusercontent.com/the-codingschool/TRAIN-datasets/main/Life-Expectancy-Data-Updated.csv\")"
      ],
      "metadata": {
        "id": "aHMiTIsAD5Mc"
      },
      "execution_count": null,
      "outputs": []
    },
    {
      "cell_type": "markdown",
      "metadata": {
        "id": "PW6EDtnXdczv"
      },
      "source": [
        "<a name=\"p1\"></a>\n",
        "\n",
        "---\n",
        "## **Part 1: Data Preparation**\n",
        "---\n",
        "In this section, you will conduct data exploration, wrangling, and visualization.\n"
      ]
    },
    {
      "cell_type": "markdown",
      "source": [
        "### **Problem #1.1**\n",
        "\n",
        "Explore the dataset. This is your opportunity to become familiar with the data. Investigate the dataset's structure and examine different features."
      ],
      "metadata": {
        "id": "NhuunxzY8Sxx"
      }
    },
    {
      "cell_type": "code",
      "source": [
        "life_df.info()\n",
        "life_df.head()\n"
      ],
      "metadata": {
        "id": "g8mizYoytew8",
        "colab": {
          "base_uri": "https://localhost:8080/",
          "height": 869
        },
        "outputId": "9c68a765-fde1-4f74-a8ca-0b870557a4d5"
      },
      "execution_count": null,
      "outputs": [
        {
          "output_type": "stream",
          "name": "stdout",
          "text": [
            "<class 'pandas.core.frame.DataFrame'>\n",
            "RangeIndex: 2864 entries, 0 to 2863\n",
            "Data columns (total 21 columns):\n",
            " #   Column                       Non-Null Count  Dtype  \n",
            "---  ------                       --------------  -----  \n",
            " 0   Country                      2864 non-null   object \n",
            " 1   Region                       2864 non-null   object \n",
            " 2   Year                         2864 non-null   int64  \n",
            " 3   Infant_deaths                2864 non-null   float64\n",
            " 4   Under_five_deaths            2864 non-null   float64\n",
            " 5   Adult_mortality              2864 non-null   float64\n",
            " 6   Alcohol_consumption          2864 non-null   float64\n",
            " 7   Hepatitis_B                  2864 non-null   int64  \n",
            " 8   Measles                      2864 non-null   int64  \n",
            " 9   BMI                          2864 non-null   float64\n",
            " 10  Polio                        2864 non-null   int64  \n",
            " 11  Diphtheria                   2864 non-null   int64  \n",
            " 12  Incidents_HIV                2864 non-null   float64\n",
            " 13  GDP_per_capita               2864 non-null   int64  \n",
            " 14  Population_mln               2864 non-null   float64\n",
            " 15  Thinness_ten_nineteen_years  2864 non-null   float64\n",
            " 16  Thinness_five_nine_years     2864 non-null   float64\n",
            " 17  Schooling                    2864 non-null   float64\n",
            " 18  Economy_status_Developed     2864 non-null   int64  \n",
            " 19  Economy_status_Developing    2864 non-null   int64  \n",
            " 20  Life_expectancy              2864 non-null   float64\n",
            "dtypes: float64(11), int64(8), object(2)\n",
            "memory usage: 470.0+ KB\n"
          ]
        },
        {
          "output_type": "execute_result",
          "data": {
            "text/plain": [
              "   Country          Region  Year  Infant_deaths  Under_five_deaths  \\\n",
              "0  Turkiye     Middle East  2015           11.1               13.0   \n",
              "1    Spain  European Union  2015            2.7                3.3   \n",
              "2    India            Asia  2007           51.5               67.9   \n",
              "3   Guyana   South America  2006           32.8               40.5   \n",
              "4   Israel     Middle East  2012            3.4                4.3   \n",
              "\n",
              "   Adult_mortality  Alcohol_consumption  Hepatitis_B  Measles   BMI  ...  \\\n",
              "0         105.8240                 1.32           97       65  27.8  ...   \n",
              "1          57.9025                10.35           97       94  26.0  ...   \n",
              "2         201.0765                 1.57           60       35  21.2  ...   \n",
              "3         222.1965                 5.68           93       74  25.3  ...   \n",
              "4          57.9510                 2.89           97       89  27.0  ...   \n",
              "\n",
              "   Diphtheria  Incidents_HIV  GDP_per_capita  Population_mln  \\\n",
              "0          97           0.08           11006           78.53   \n",
              "1          97           0.09           25742           46.44   \n",
              "2          64           0.13            1076         1183.21   \n",
              "3          93           0.79            4146            0.75   \n",
              "4          94           0.08           33995            7.91   \n",
              "\n",
              "   Thinness_ten_nineteen_years  Thinness_five_nine_years  Schooling  \\\n",
              "0                          4.9                       4.8        7.8   \n",
              "1                          0.6                       0.5        9.7   \n",
              "2                         27.1                      28.0        5.0   \n",
              "3                          5.7                       5.5        7.9   \n",
              "4                          1.2                       1.1       12.8   \n",
              "\n",
              "   Economy_status_Developed  Economy_status_Developing  Life_expectancy  \n",
              "0                         0                          1             76.5  \n",
              "1                         1                          0             82.8  \n",
              "2                         0                          1             65.4  \n",
              "3                         0                          1             67.0  \n",
              "4                         1                          0             81.7  \n",
              "\n",
              "[5 rows x 21 columns]"
            ],
            "text/html": [
              "\n",
              "\n",
              "  <div id=\"df-d765fbd9-a821-458a-b9d2-527b65c97b63\">\n",
              "    <div class=\"colab-df-container\">\n",
              "      <div>\n",
              "<style scoped>\n",
              "    .dataframe tbody tr th:only-of-type {\n",
              "        vertical-align: middle;\n",
              "    }\n",
              "\n",
              "    .dataframe tbody tr th {\n",
              "        vertical-align: top;\n",
              "    }\n",
              "\n",
              "    .dataframe thead th {\n",
              "        text-align: right;\n",
              "    }\n",
              "</style>\n",
              "<table border=\"1\" class=\"dataframe\">\n",
              "  <thead>\n",
              "    <tr style=\"text-align: right;\">\n",
              "      <th></th>\n",
              "      <th>Country</th>\n",
              "      <th>Region</th>\n",
              "      <th>Year</th>\n",
              "      <th>Infant_deaths</th>\n",
              "      <th>Under_five_deaths</th>\n",
              "      <th>Adult_mortality</th>\n",
              "      <th>Alcohol_consumption</th>\n",
              "      <th>Hepatitis_B</th>\n",
              "      <th>Measles</th>\n",
              "      <th>BMI</th>\n",
              "      <th>...</th>\n",
              "      <th>Diphtheria</th>\n",
              "      <th>Incidents_HIV</th>\n",
              "      <th>GDP_per_capita</th>\n",
              "      <th>Population_mln</th>\n",
              "      <th>Thinness_ten_nineteen_years</th>\n",
              "      <th>Thinness_five_nine_years</th>\n",
              "      <th>Schooling</th>\n",
              "      <th>Economy_status_Developed</th>\n",
              "      <th>Economy_status_Developing</th>\n",
              "      <th>Life_expectancy</th>\n",
              "    </tr>\n",
              "  </thead>\n",
              "  <tbody>\n",
              "    <tr>\n",
              "      <th>0</th>\n",
              "      <td>Turkiye</td>\n",
              "      <td>Middle East</td>\n",
              "      <td>2015</td>\n",
              "      <td>11.1</td>\n",
              "      <td>13.0</td>\n",
              "      <td>105.8240</td>\n",
              "      <td>1.32</td>\n",
              "      <td>97</td>\n",
              "      <td>65</td>\n",
              "      <td>27.8</td>\n",
              "      <td>...</td>\n",
              "      <td>97</td>\n",
              "      <td>0.08</td>\n",
              "      <td>11006</td>\n",
              "      <td>78.53</td>\n",
              "      <td>4.9</td>\n",
              "      <td>4.8</td>\n",
              "      <td>7.8</td>\n",
              "      <td>0</td>\n",
              "      <td>1</td>\n",
              "      <td>76.5</td>\n",
              "    </tr>\n",
              "    <tr>\n",
              "      <th>1</th>\n",
              "      <td>Spain</td>\n",
              "      <td>European Union</td>\n",
              "      <td>2015</td>\n",
              "      <td>2.7</td>\n",
              "      <td>3.3</td>\n",
              "      <td>57.9025</td>\n",
              "      <td>10.35</td>\n",
              "      <td>97</td>\n",
              "      <td>94</td>\n",
              "      <td>26.0</td>\n",
              "      <td>...</td>\n",
              "      <td>97</td>\n",
              "      <td>0.09</td>\n",
              "      <td>25742</td>\n",
              "      <td>46.44</td>\n",
              "      <td>0.6</td>\n",
              "      <td>0.5</td>\n",
              "      <td>9.7</td>\n",
              "      <td>1</td>\n",
              "      <td>0</td>\n",
              "      <td>82.8</td>\n",
              "    </tr>\n",
              "    <tr>\n",
              "      <th>2</th>\n",
              "      <td>India</td>\n",
              "      <td>Asia</td>\n",
              "      <td>2007</td>\n",
              "      <td>51.5</td>\n",
              "      <td>67.9</td>\n",
              "      <td>201.0765</td>\n",
              "      <td>1.57</td>\n",
              "      <td>60</td>\n",
              "      <td>35</td>\n",
              "      <td>21.2</td>\n",
              "      <td>...</td>\n",
              "      <td>64</td>\n",
              "      <td>0.13</td>\n",
              "      <td>1076</td>\n",
              "      <td>1183.21</td>\n",
              "      <td>27.1</td>\n",
              "      <td>28.0</td>\n",
              "      <td>5.0</td>\n",
              "      <td>0</td>\n",
              "      <td>1</td>\n",
              "      <td>65.4</td>\n",
              "    </tr>\n",
              "    <tr>\n",
              "      <th>3</th>\n",
              "      <td>Guyana</td>\n",
              "      <td>South America</td>\n",
              "      <td>2006</td>\n",
              "      <td>32.8</td>\n",
              "      <td>40.5</td>\n",
              "      <td>222.1965</td>\n",
              "      <td>5.68</td>\n",
              "      <td>93</td>\n",
              "      <td>74</td>\n",
              "      <td>25.3</td>\n",
              "      <td>...</td>\n",
              "      <td>93</td>\n",
              "      <td>0.79</td>\n",
              "      <td>4146</td>\n",
              "      <td>0.75</td>\n",
              "      <td>5.7</td>\n",
              "      <td>5.5</td>\n",
              "      <td>7.9</td>\n",
              "      <td>0</td>\n",
              "      <td>1</td>\n",
              "      <td>67.0</td>\n",
              "    </tr>\n",
              "    <tr>\n",
              "      <th>4</th>\n",
              "      <td>Israel</td>\n",
              "      <td>Middle East</td>\n",
              "      <td>2012</td>\n",
              "      <td>3.4</td>\n",
              "      <td>4.3</td>\n",
              "      <td>57.9510</td>\n",
              "      <td>2.89</td>\n",
              "      <td>97</td>\n",
              "      <td>89</td>\n",
              "      <td>27.0</td>\n",
              "      <td>...</td>\n",
              "      <td>94</td>\n",
              "      <td>0.08</td>\n",
              "      <td>33995</td>\n",
              "      <td>7.91</td>\n",
              "      <td>1.2</td>\n",
              "      <td>1.1</td>\n",
              "      <td>12.8</td>\n",
              "      <td>1</td>\n",
              "      <td>0</td>\n",
              "      <td>81.7</td>\n",
              "    </tr>\n",
              "  </tbody>\n",
              "</table>\n",
              "<p>5 rows × 21 columns</p>\n",
              "</div>\n",
              "      <button class=\"colab-df-convert\" onclick=\"convertToInteractive('df-d765fbd9-a821-458a-b9d2-527b65c97b63')\"\n",
              "              title=\"Convert this dataframe to an interactive table.\"\n",
              "              style=\"display:none;\">\n",
              "\n",
              "  <svg xmlns=\"http://www.w3.org/2000/svg\" height=\"24px\"viewBox=\"0 0 24 24\"\n",
              "       width=\"24px\">\n",
              "    <path d=\"M0 0h24v24H0V0z\" fill=\"none\"/>\n",
              "    <path d=\"M18.56 5.44l.94 2.06.94-2.06 2.06-.94-2.06-.94-.94-2.06-.94 2.06-2.06.94zm-11 1L8.5 8.5l.94-2.06 2.06-.94-2.06-.94L8.5 2.5l-.94 2.06-2.06.94zm10 10l.94 2.06.94-2.06 2.06-.94-2.06-.94-.94-2.06-.94 2.06-2.06.94z\"/><path d=\"M17.41 7.96l-1.37-1.37c-.4-.4-.92-.59-1.43-.59-.52 0-1.04.2-1.43.59L10.3 9.45l-7.72 7.72c-.78.78-.78 2.05 0 2.83L4 21.41c.39.39.9.59 1.41.59.51 0 1.02-.2 1.41-.59l7.78-7.78 2.81-2.81c.8-.78.8-2.07 0-2.86zM5.41 20L4 18.59l7.72-7.72 1.47 1.35L5.41 20z\"/>\n",
              "  </svg>\n",
              "      </button>\n",
              "\n",
              "\n",
              "\n",
              "    <div id=\"df-9929bd5c-3164-4910-80e7-f8deb3a40ef3\">\n",
              "      <button class=\"colab-df-quickchart\" onclick=\"quickchart('df-9929bd5c-3164-4910-80e7-f8deb3a40ef3')\"\n",
              "              title=\"Suggest charts.\"\n",
              "              style=\"display:none;\">\n",
              "\n",
              "<svg xmlns=\"http://www.w3.org/2000/svg\" height=\"24px\"viewBox=\"0 0 24 24\"\n",
              "     width=\"24px\">\n",
              "    <g>\n",
              "        <path d=\"M19 3H5c-1.1 0-2 .9-2 2v14c0 1.1.9 2 2 2h14c1.1 0 2-.9 2-2V5c0-1.1-.9-2-2-2zM9 17H7v-7h2v7zm4 0h-2V7h2v10zm4 0h-2v-4h2v4z\"/>\n",
              "    </g>\n",
              "</svg>\n",
              "      </button>\n",
              "    </div>\n",
              "\n",
              "<style>\n",
              "  .colab-df-quickchart {\n",
              "    background-color: #E8F0FE;\n",
              "    border: none;\n",
              "    border-radius: 50%;\n",
              "    cursor: pointer;\n",
              "    display: none;\n",
              "    fill: #1967D2;\n",
              "    height: 32px;\n",
              "    padding: 0 0 0 0;\n",
              "    width: 32px;\n",
              "  }\n",
              "\n",
              "  .colab-df-quickchart:hover {\n",
              "    background-color: #E2EBFA;\n",
              "    box-shadow: 0px 1px 2px rgba(60, 64, 67, 0.3), 0px 1px 3px 1px rgba(60, 64, 67, 0.15);\n",
              "    fill: #174EA6;\n",
              "  }\n",
              "\n",
              "  [theme=dark] .colab-df-quickchart {\n",
              "    background-color: #3B4455;\n",
              "    fill: #D2E3FC;\n",
              "  }\n",
              "\n",
              "  [theme=dark] .colab-df-quickchart:hover {\n",
              "    background-color: #434B5C;\n",
              "    box-shadow: 0px 1px 3px 1px rgba(0, 0, 0, 0.15);\n",
              "    filter: drop-shadow(0px 1px 2px rgba(0, 0, 0, 0.3));\n",
              "    fill: #FFFFFF;\n",
              "  }\n",
              "</style>\n",
              "\n",
              "    <script>\n",
              "      async function quickchart(key) {\n",
              "        const containerElement = document.querySelector('#' + key);\n",
              "        const charts = await google.colab.kernel.invokeFunction(\n",
              "            'suggestCharts', [key], {});\n",
              "      }\n",
              "    </script>\n",
              "\n",
              "      <script>\n",
              "\n",
              "function displayQuickchartButton(domScope) {\n",
              "  let quickchartButtonEl =\n",
              "    domScope.querySelector('#df-9929bd5c-3164-4910-80e7-f8deb3a40ef3 button.colab-df-quickchart');\n",
              "  quickchartButtonEl.style.display =\n",
              "    google.colab.kernel.accessAllowed ? 'block' : 'none';\n",
              "}\n",
              "\n",
              "        displayQuickchartButton(document);\n",
              "      </script>\n",
              "      <style>\n",
              "    .colab-df-container {\n",
              "      display:flex;\n",
              "      flex-wrap:wrap;\n",
              "      gap: 12px;\n",
              "    }\n",
              "\n",
              "    .colab-df-convert {\n",
              "      background-color: #E8F0FE;\n",
              "      border: none;\n",
              "      border-radius: 50%;\n",
              "      cursor: pointer;\n",
              "      display: none;\n",
              "      fill: #1967D2;\n",
              "      height: 32px;\n",
              "      padding: 0 0 0 0;\n",
              "      width: 32px;\n",
              "    }\n",
              "\n",
              "    .colab-df-convert:hover {\n",
              "      background-color: #E2EBFA;\n",
              "      box-shadow: 0px 1px 2px rgba(60, 64, 67, 0.3), 0px 1px 3px 1px rgba(60, 64, 67, 0.15);\n",
              "      fill: #174EA6;\n",
              "    }\n",
              "\n",
              "    [theme=dark] .colab-df-convert {\n",
              "      background-color: #3B4455;\n",
              "      fill: #D2E3FC;\n",
              "    }\n",
              "\n",
              "    [theme=dark] .colab-df-convert:hover {\n",
              "      background-color: #434B5C;\n",
              "      box-shadow: 0px 1px 3px 1px rgba(0, 0, 0, 0.15);\n",
              "      filter: drop-shadow(0px 1px 2px rgba(0, 0, 0, 0.3));\n",
              "      fill: #FFFFFF;\n",
              "    }\n",
              "  </style>\n",
              "\n",
              "      <script>\n",
              "        const buttonEl =\n",
              "          document.querySelector('#df-d765fbd9-a821-458a-b9d2-527b65c97b63 button.colab-df-convert');\n",
              "        buttonEl.style.display =\n",
              "          google.colab.kernel.accessAllowed ? 'block' : 'none';\n",
              "\n",
              "        async function convertToInteractive(key) {\n",
              "          const element = document.querySelector('#df-d765fbd9-a821-458a-b9d2-527b65c97b63');\n",
              "          const dataTable =\n",
              "            await google.colab.kernel.invokeFunction('convertToInteractive',\n",
              "                                                     [key], {});\n",
              "          if (!dataTable) return;\n",
              "\n",
              "          const docLinkHtml = 'Like what you see? Visit the ' +\n",
              "            '<a target=\"_blank\" href=https://colab.research.google.com/notebooks/data_table.ipynb>data table notebook</a>'\n",
              "            + ' to learn more about interactive tables.';\n",
              "          element.innerHTML = '';\n",
              "          dataTable['output_type'] = 'display_data';\n",
              "          await google.colab.output.renderOutput(dataTable, element);\n",
              "          const docLink = document.createElement('div');\n",
              "          docLink.innerHTML = docLinkHtml;\n",
              "          element.appendChild(docLink);\n",
              "        }\n",
              "      </script>\n",
              "    </div>\n",
              "  </div>\n"
            ]
          },
          "metadata": {},
          "execution_count": 4
        }
      ]
    },
    {
      "cell_type": "markdown",
      "source": [
        "### **Problem #1.2**\n",
        "\n",
        "Clean the dataset.\n",
        "\n"
      ],
      "metadata": {
        "id": "f5ZW7Yo_ypkD"
      }
    },
    {
      "cell_type": "code",
      "source": [
        "life_df.drop_duplicates(inplace = True)\n",
        "\n",
        "\n",
        "life_df.info()"
      ],
      "metadata": {
        "id": "t3srgtUjypkE",
        "colab": {
          "base_uri": "https://localhost:8080/"
        },
        "outputId": "e708f1b7-8c76-45f1-da39-e06274d4bd63"
      },
      "execution_count": null,
      "outputs": [
        {
          "output_type": "stream",
          "name": "stdout",
          "text": [
            "<class 'pandas.core.frame.DataFrame'>\n",
            "Int64Index: 2864 entries, 0 to 2863\n",
            "Data columns (total 21 columns):\n",
            " #   Column                       Non-Null Count  Dtype  \n",
            "---  ------                       --------------  -----  \n",
            " 0   Country                      2864 non-null   object \n",
            " 1   Region                       2864 non-null   object \n",
            " 2   Year                         2864 non-null   int64  \n",
            " 3   Infant_deaths                2864 non-null   float64\n",
            " 4   Under_five_deaths            2864 non-null   float64\n",
            " 5   Adult_mortality              2864 non-null   float64\n",
            " 6   Alcohol_consumption          2864 non-null   float64\n",
            " 7   Hepatitis_B                  2864 non-null   int64  \n",
            " 8   Measles                      2864 non-null   int64  \n",
            " 9   BMI                          2864 non-null   float64\n",
            " 10  Polio                        2864 non-null   int64  \n",
            " 11  Diphtheria                   2864 non-null   int64  \n",
            " 12  Incidents_HIV                2864 non-null   float64\n",
            " 13  GDP_per_capita               2864 non-null   int64  \n",
            " 14  Population_mln               2864 non-null   float64\n",
            " 15  Thinness_ten_nineteen_years  2864 non-null   float64\n",
            " 16  Thinness_five_nine_years     2864 non-null   float64\n",
            " 17  Schooling                    2864 non-null   float64\n",
            " 18  Economy_status_Developed     2864 non-null   int64  \n",
            " 19  Economy_status_Developing    2864 non-null   int64  \n",
            " 20  Life_expectancy              2864 non-null   float64\n",
            "dtypes: float64(11), int64(8), object(2)\n",
            "memory usage: 492.2+ KB\n"
          ]
        }
      ]
    },
    {
      "cell_type": "markdown",
      "source": [
        "### **Problem #1.3**\n",
        "\n",
        "Determine the mean and standard deviation of the numerical variables and assess if scaling will be necessary before modeling or if the features are already close in scale.\n",
        "\n"
      ],
      "metadata": {
        "id": "1pSRy496-WVf"
      }
    },
    {
      "cell_type": "code",
      "source": [
        "life_df.describe()"
      ],
      "metadata": {
        "id": "X-GpnCl0tkcO",
        "colab": {
          "base_uri": "https://localhost:8080/",
          "height": 364
        },
        "outputId": "18383c7d-ee76-4462-beea-4c9bef93f99b"
      },
      "execution_count": null,
      "outputs": [
        {
          "output_type": "execute_result",
          "data": {
            "text/plain": [
              "              Year  Infant_deaths  Under_five_deaths  Adult_mortality  \\\n",
              "count  2864.000000    2864.000000        2864.000000      2864.000000   \n",
              "mean   2007.500000      30.363792          42.938268       192.251775   \n",
              "std       4.610577      27.538117          44.569974       114.910281   \n",
              "min    2000.000000       1.800000           2.300000        49.384000   \n",
              "25%    2003.750000       8.100000           9.675000       106.910250   \n",
              "50%    2007.500000      19.600000          23.100000       163.841500   \n",
              "75%    2011.250000      47.350000          66.000000       246.791375   \n",
              "max    2015.000000     138.100000         224.900000       719.360500   \n",
              "\n",
              "       Alcohol_consumption  Hepatitis_B      Measles          BMI  \\\n",
              "count          2864.000000  2864.000000  2864.000000  2864.000000   \n",
              "mean              4.820882    84.292598    77.344972    25.032926   \n",
              "std               3.981949    15.995511    18.659693     2.193905   \n",
              "min               0.000000    12.000000    10.000000    19.800000   \n",
              "25%               1.200000    78.000000    64.000000    23.200000   \n",
              "50%               4.020000    89.000000    83.000000    25.500000   \n",
              "75%               7.777500    96.000000    93.000000    26.400000   \n",
              "max              17.870000    99.000000    99.000000    32.100000   \n",
              "\n",
              "             Polio   Diphtheria  Incidents_HIV  GDP_per_capita  \\\n",
              "count  2864.000000  2864.000000    2864.000000     2864.000000   \n",
              "mean     86.499651    86.271648       0.894288    11540.924930   \n",
              "std      15.080365    15.534225       2.381389    16934.788931   \n",
              "min       8.000000    16.000000       0.010000      148.000000   \n",
              "25%      81.000000    81.000000       0.080000     1415.750000   \n",
              "50%      93.000000    93.000000       0.150000     4217.000000   \n",
              "75%      97.000000    97.000000       0.460000    12557.000000   \n",
              "max      99.000000    99.000000      21.680000   112418.000000   \n",
              "\n",
              "       Population_mln  Thinness_ten_nineteen_years  Thinness_five_nine_years  \\\n",
              "count     2864.000000                  2864.000000               2864.000000   \n",
              "mean        36.675915                     4.865852                  4.899825   \n",
              "std        136.485867                     4.438234                  4.525217   \n",
              "min          0.080000                     0.100000                  0.100000   \n",
              "25%          2.097500                     1.600000                  1.600000   \n",
              "50%          7.850000                     3.300000                  3.400000   \n",
              "75%         23.687500                     7.200000                  7.300000   \n",
              "max       1379.860000                    27.700000                 28.600000   \n",
              "\n",
              "         Schooling  Economy_status_Developed  Economy_status_Developing  \\\n",
              "count  2864.000000               2864.000000                2864.000000   \n",
              "mean      7.632123                  0.206704                   0.793296   \n",
              "std       3.171556                  0.405012                   0.405012   \n",
              "min       1.100000                  0.000000                   0.000000   \n",
              "25%       5.100000                  0.000000                   1.000000   \n",
              "50%       7.800000                  0.000000                   1.000000   \n",
              "75%      10.300000                  0.000000                   1.000000   \n",
              "max      14.100000                  1.000000                   1.000000   \n",
              "\n",
              "       Life_expectancy  \n",
              "count      2864.000000  \n",
              "mean         68.856075  \n",
              "std           9.405608  \n",
              "min          39.400000  \n",
              "25%          62.700000  \n",
              "50%          71.400000  \n",
              "75%          75.400000  \n",
              "max          83.800000  "
            ],
            "text/html": [
              "\n",
              "\n",
              "  <div id=\"df-2b721e5f-2ecd-4b69-9318-56f8c278ed33\">\n",
              "    <div class=\"colab-df-container\">\n",
              "      <div>\n",
              "<style scoped>\n",
              "    .dataframe tbody tr th:only-of-type {\n",
              "        vertical-align: middle;\n",
              "    }\n",
              "\n",
              "    .dataframe tbody tr th {\n",
              "        vertical-align: top;\n",
              "    }\n",
              "\n",
              "    .dataframe thead th {\n",
              "        text-align: right;\n",
              "    }\n",
              "</style>\n",
              "<table border=\"1\" class=\"dataframe\">\n",
              "  <thead>\n",
              "    <tr style=\"text-align: right;\">\n",
              "      <th></th>\n",
              "      <th>Year</th>\n",
              "      <th>Infant_deaths</th>\n",
              "      <th>Under_five_deaths</th>\n",
              "      <th>Adult_mortality</th>\n",
              "      <th>Alcohol_consumption</th>\n",
              "      <th>Hepatitis_B</th>\n",
              "      <th>Measles</th>\n",
              "      <th>BMI</th>\n",
              "      <th>Polio</th>\n",
              "      <th>Diphtheria</th>\n",
              "      <th>Incidents_HIV</th>\n",
              "      <th>GDP_per_capita</th>\n",
              "      <th>Population_mln</th>\n",
              "      <th>Thinness_ten_nineteen_years</th>\n",
              "      <th>Thinness_five_nine_years</th>\n",
              "      <th>Schooling</th>\n",
              "      <th>Economy_status_Developed</th>\n",
              "      <th>Economy_status_Developing</th>\n",
              "      <th>Life_expectancy</th>\n",
              "    </tr>\n",
              "  </thead>\n",
              "  <tbody>\n",
              "    <tr>\n",
              "      <th>count</th>\n",
              "      <td>2864.000000</td>\n",
              "      <td>2864.000000</td>\n",
              "      <td>2864.000000</td>\n",
              "      <td>2864.000000</td>\n",
              "      <td>2864.000000</td>\n",
              "      <td>2864.000000</td>\n",
              "      <td>2864.000000</td>\n",
              "      <td>2864.000000</td>\n",
              "      <td>2864.000000</td>\n",
              "      <td>2864.000000</td>\n",
              "      <td>2864.000000</td>\n",
              "      <td>2864.000000</td>\n",
              "      <td>2864.000000</td>\n",
              "      <td>2864.000000</td>\n",
              "      <td>2864.000000</td>\n",
              "      <td>2864.000000</td>\n",
              "      <td>2864.000000</td>\n",
              "      <td>2864.000000</td>\n",
              "      <td>2864.000000</td>\n",
              "    </tr>\n",
              "    <tr>\n",
              "      <th>mean</th>\n",
              "      <td>2007.500000</td>\n",
              "      <td>30.363792</td>\n",
              "      <td>42.938268</td>\n",
              "      <td>192.251775</td>\n",
              "      <td>4.820882</td>\n",
              "      <td>84.292598</td>\n",
              "      <td>77.344972</td>\n",
              "      <td>25.032926</td>\n",
              "      <td>86.499651</td>\n",
              "      <td>86.271648</td>\n",
              "      <td>0.894288</td>\n",
              "      <td>11540.924930</td>\n",
              "      <td>36.675915</td>\n",
              "      <td>4.865852</td>\n",
              "      <td>4.899825</td>\n",
              "      <td>7.632123</td>\n",
              "      <td>0.206704</td>\n",
              "      <td>0.793296</td>\n",
              "      <td>68.856075</td>\n",
              "    </tr>\n",
              "    <tr>\n",
              "      <th>std</th>\n",
              "      <td>4.610577</td>\n",
              "      <td>27.538117</td>\n",
              "      <td>44.569974</td>\n",
              "      <td>114.910281</td>\n",
              "      <td>3.981949</td>\n",
              "      <td>15.995511</td>\n",
              "      <td>18.659693</td>\n",
              "      <td>2.193905</td>\n",
              "      <td>15.080365</td>\n",
              "      <td>15.534225</td>\n",
              "      <td>2.381389</td>\n",
              "      <td>16934.788931</td>\n",
              "      <td>136.485867</td>\n",
              "      <td>4.438234</td>\n",
              "      <td>4.525217</td>\n",
              "      <td>3.171556</td>\n",
              "      <td>0.405012</td>\n",
              "      <td>0.405012</td>\n",
              "      <td>9.405608</td>\n",
              "    </tr>\n",
              "    <tr>\n",
              "      <th>min</th>\n",
              "      <td>2000.000000</td>\n",
              "      <td>1.800000</td>\n",
              "      <td>2.300000</td>\n",
              "      <td>49.384000</td>\n",
              "      <td>0.000000</td>\n",
              "      <td>12.000000</td>\n",
              "      <td>10.000000</td>\n",
              "      <td>19.800000</td>\n",
              "      <td>8.000000</td>\n",
              "      <td>16.000000</td>\n",
              "      <td>0.010000</td>\n",
              "      <td>148.000000</td>\n",
              "      <td>0.080000</td>\n",
              "      <td>0.100000</td>\n",
              "      <td>0.100000</td>\n",
              "      <td>1.100000</td>\n",
              "      <td>0.000000</td>\n",
              "      <td>0.000000</td>\n",
              "      <td>39.400000</td>\n",
              "    </tr>\n",
              "    <tr>\n",
              "      <th>25%</th>\n",
              "      <td>2003.750000</td>\n",
              "      <td>8.100000</td>\n",
              "      <td>9.675000</td>\n",
              "      <td>106.910250</td>\n",
              "      <td>1.200000</td>\n",
              "      <td>78.000000</td>\n",
              "      <td>64.000000</td>\n",
              "      <td>23.200000</td>\n",
              "      <td>81.000000</td>\n",
              "      <td>81.000000</td>\n",
              "      <td>0.080000</td>\n",
              "      <td>1415.750000</td>\n",
              "      <td>2.097500</td>\n",
              "      <td>1.600000</td>\n",
              "      <td>1.600000</td>\n",
              "      <td>5.100000</td>\n",
              "      <td>0.000000</td>\n",
              "      <td>1.000000</td>\n",
              "      <td>62.700000</td>\n",
              "    </tr>\n",
              "    <tr>\n",
              "      <th>50%</th>\n",
              "      <td>2007.500000</td>\n",
              "      <td>19.600000</td>\n",
              "      <td>23.100000</td>\n",
              "      <td>163.841500</td>\n",
              "      <td>4.020000</td>\n",
              "      <td>89.000000</td>\n",
              "      <td>83.000000</td>\n",
              "      <td>25.500000</td>\n",
              "      <td>93.000000</td>\n",
              "      <td>93.000000</td>\n",
              "      <td>0.150000</td>\n",
              "      <td>4217.000000</td>\n",
              "      <td>7.850000</td>\n",
              "      <td>3.300000</td>\n",
              "      <td>3.400000</td>\n",
              "      <td>7.800000</td>\n",
              "      <td>0.000000</td>\n",
              "      <td>1.000000</td>\n",
              "      <td>71.400000</td>\n",
              "    </tr>\n",
              "    <tr>\n",
              "      <th>75%</th>\n",
              "      <td>2011.250000</td>\n",
              "      <td>47.350000</td>\n",
              "      <td>66.000000</td>\n",
              "      <td>246.791375</td>\n",
              "      <td>7.777500</td>\n",
              "      <td>96.000000</td>\n",
              "      <td>93.000000</td>\n",
              "      <td>26.400000</td>\n",
              "      <td>97.000000</td>\n",
              "      <td>97.000000</td>\n",
              "      <td>0.460000</td>\n",
              "      <td>12557.000000</td>\n",
              "      <td>23.687500</td>\n",
              "      <td>7.200000</td>\n",
              "      <td>7.300000</td>\n",
              "      <td>10.300000</td>\n",
              "      <td>0.000000</td>\n",
              "      <td>1.000000</td>\n",
              "      <td>75.400000</td>\n",
              "    </tr>\n",
              "    <tr>\n",
              "      <th>max</th>\n",
              "      <td>2015.000000</td>\n",
              "      <td>138.100000</td>\n",
              "      <td>224.900000</td>\n",
              "      <td>719.360500</td>\n",
              "      <td>17.870000</td>\n",
              "      <td>99.000000</td>\n",
              "      <td>99.000000</td>\n",
              "      <td>32.100000</td>\n",
              "      <td>99.000000</td>\n",
              "      <td>99.000000</td>\n",
              "      <td>21.680000</td>\n",
              "      <td>112418.000000</td>\n",
              "      <td>1379.860000</td>\n",
              "      <td>27.700000</td>\n",
              "      <td>28.600000</td>\n",
              "      <td>14.100000</td>\n",
              "      <td>1.000000</td>\n",
              "      <td>1.000000</td>\n",
              "      <td>83.800000</td>\n",
              "    </tr>\n",
              "  </tbody>\n",
              "</table>\n",
              "</div>\n",
              "      <button class=\"colab-df-convert\" onclick=\"convertToInteractive('df-2b721e5f-2ecd-4b69-9318-56f8c278ed33')\"\n",
              "              title=\"Convert this dataframe to an interactive table.\"\n",
              "              style=\"display:none;\">\n",
              "\n",
              "  <svg xmlns=\"http://www.w3.org/2000/svg\" height=\"24px\"viewBox=\"0 0 24 24\"\n",
              "       width=\"24px\">\n",
              "    <path d=\"M0 0h24v24H0V0z\" fill=\"none\"/>\n",
              "    <path d=\"M18.56 5.44l.94 2.06.94-2.06 2.06-.94-2.06-.94-.94-2.06-.94 2.06-2.06.94zm-11 1L8.5 8.5l.94-2.06 2.06-.94-2.06-.94L8.5 2.5l-.94 2.06-2.06.94zm10 10l.94 2.06.94-2.06 2.06-.94-2.06-.94-.94-2.06-.94 2.06-2.06.94z\"/><path d=\"M17.41 7.96l-1.37-1.37c-.4-.4-.92-.59-1.43-.59-.52 0-1.04.2-1.43.59L10.3 9.45l-7.72 7.72c-.78.78-.78 2.05 0 2.83L4 21.41c.39.39.9.59 1.41.59.51 0 1.02-.2 1.41-.59l7.78-7.78 2.81-2.81c.8-.78.8-2.07 0-2.86zM5.41 20L4 18.59l7.72-7.72 1.47 1.35L5.41 20z\"/>\n",
              "  </svg>\n",
              "      </button>\n",
              "\n",
              "\n",
              "\n",
              "    <div id=\"df-9d7caf35-b0e0-4bf3-80b7-5761caa974c2\">\n",
              "      <button class=\"colab-df-quickchart\" onclick=\"quickchart('df-9d7caf35-b0e0-4bf3-80b7-5761caa974c2')\"\n",
              "              title=\"Suggest charts.\"\n",
              "              style=\"display:none;\">\n",
              "\n",
              "<svg xmlns=\"http://www.w3.org/2000/svg\" height=\"24px\"viewBox=\"0 0 24 24\"\n",
              "     width=\"24px\">\n",
              "    <g>\n",
              "        <path d=\"M19 3H5c-1.1 0-2 .9-2 2v14c0 1.1.9 2 2 2h14c1.1 0 2-.9 2-2V5c0-1.1-.9-2-2-2zM9 17H7v-7h2v7zm4 0h-2V7h2v10zm4 0h-2v-4h2v4z\"/>\n",
              "    </g>\n",
              "</svg>\n",
              "      </button>\n",
              "    </div>\n",
              "\n",
              "<style>\n",
              "  .colab-df-quickchart {\n",
              "    background-color: #E8F0FE;\n",
              "    border: none;\n",
              "    border-radius: 50%;\n",
              "    cursor: pointer;\n",
              "    display: none;\n",
              "    fill: #1967D2;\n",
              "    height: 32px;\n",
              "    padding: 0 0 0 0;\n",
              "    width: 32px;\n",
              "  }\n",
              "\n",
              "  .colab-df-quickchart:hover {\n",
              "    background-color: #E2EBFA;\n",
              "    box-shadow: 0px 1px 2px rgba(60, 64, 67, 0.3), 0px 1px 3px 1px rgba(60, 64, 67, 0.15);\n",
              "    fill: #174EA6;\n",
              "  }\n",
              "\n",
              "  [theme=dark] .colab-df-quickchart {\n",
              "    background-color: #3B4455;\n",
              "    fill: #D2E3FC;\n",
              "  }\n",
              "\n",
              "  [theme=dark] .colab-df-quickchart:hover {\n",
              "    background-color: #434B5C;\n",
              "    box-shadow: 0px 1px 3px 1px rgba(0, 0, 0, 0.15);\n",
              "    filter: drop-shadow(0px 1px 2px rgba(0, 0, 0, 0.3));\n",
              "    fill: #FFFFFF;\n",
              "  }\n",
              "</style>\n",
              "\n",
              "    <script>\n",
              "      async function quickchart(key) {\n",
              "        const containerElement = document.querySelector('#' + key);\n",
              "        const charts = await google.colab.kernel.invokeFunction(\n",
              "            'suggestCharts', [key], {});\n",
              "      }\n",
              "    </script>\n",
              "\n",
              "      <script>\n",
              "\n",
              "function displayQuickchartButton(domScope) {\n",
              "  let quickchartButtonEl =\n",
              "    domScope.querySelector('#df-9d7caf35-b0e0-4bf3-80b7-5761caa974c2 button.colab-df-quickchart');\n",
              "  quickchartButtonEl.style.display =\n",
              "    google.colab.kernel.accessAllowed ? 'block' : 'none';\n",
              "}\n",
              "\n",
              "        displayQuickchartButton(document);\n",
              "      </script>\n",
              "      <style>\n",
              "    .colab-df-container {\n",
              "      display:flex;\n",
              "      flex-wrap:wrap;\n",
              "      gap: 12px;\n",
              "    }\n",
              "\n",
              "    .colab-df-convert {\n",
              "      background-color: #E8F0FE;\n",
              "      border: none;\n",
              "      border-radius: 50%;\n",
              "      cursor: pointer;\n",
              "      display: none;\n",
              "      fill: #1967D2;\n",
              "      height: 32px;\n",
              "      padding: 0 0 0 0;\n",
              "      width: 32px;\n",
              "    }\n",
              "\n",
              "    .colab-df-convert:hover {\n",
              "      background-color: #E2EBFA;\n",
              "      box-shadow: 0px 1px 2px rgba(60, 64, 67, 0.3), 0px 1px 3px 1px rgba(60, 64, 67, 0.15);\n",
              "      fill: #174EA6;\n",
              "    }\n",
              "\n",
              "    [theme=dark] .colab-df-convert {\n",
              "      background-color: #3B4455;\n",
              "      fill: #D2E3FC;\n",
              "    }\n",
              "\n",
              "    [theme=dark] .colab-df-convert:hover {\n",
              "      background-color: #434B5C;\n",
              "      box-shadow: 0px 1px 3px 1px rgba(0, 0, 0, 0.15);\n",
              "      filter: drop-shadow(0px 1px 2px rgba(0, 0, 0, 0.3));\n",
              "      fill: #FFFFFF;\n",
              "    }\n",
              "  </style>\n",
              "\n",
              "      <script>\n",
              "        const buttonEl =\n",
              "          document.querySelector('#df-2b721e5f-2ecd-4b69-9318-56f8c278ed33 button.colab-df-convert');\n",
              "        buttonEl.style.display =\n",
              "          google.colab.kernel.accessAllowed ? 'block' : 'none';\n",
              "\n",
              "        async function convertToInteractive(key) {\n",
              "          const element = document.querySelector('#df-2b721e5f-2ecd-4b69-9318-56f8c278ed33');\n",
              "          const dataTable =\n",
              "            await google.colab.kernel.invokeFunction('convertToInteractive',\n",
              "                                                     [key], {});\n",
              "          if (!dataTable) return;\n",
              "\n",
              "          const docLinkHtml = 'Like what you see? Visit the ' +\n",
              "            '<a target=\"_blank\" href=https://colab.research.google.com/notebooks/data_table.ipynb>data table notebook</a>'\n",
              "            + ' to learn more about interactive tables.';\n",
              "          element.innerHTML = '';\n",
              "          dataTable['output_type'] = 'display_data';\n",
              "          await google.colab.output.renderOutput(dataTable, element);\n",
              "          const docLink = document.createElement('div');\n",
              "          docLink.innerHTML = docLinkHtml;\n",
              "          element.appendChild(docLink);\n",
              "        }\n",
              "      </script>\n",
              "    </div>\n",
              "  </div>\n"
            ]
          },
          "metadata": {},
          "execution_count": 6
        }
      ]
    },
    {
      "cell_type": "markdown",
      "source": [
        "### **Problem #1.4**\n",
        "\n",
        "Create separate scatterplots for each of the following relationships:\n",
        "\n",
        "1. `Adult_mortality` and `Life_expectancy`.\n",
        "2. `Alcohol_consumption` and `Life_expectancy`.\n",
        "3. `GDP_per_capita` and `Life_expectancy` with each `Region` colored differently.\n",
        "4. `Population_mln` and `Life_expectancy` with each `Region` colored differently.\n",
        "5. `Schooling` and `Life_expectancy` with each `Region` colored differently.\n",
        "\n",
        "<br>\n",
        "\n",
        "**Make sure to include a meaningful title, x-label, y-label, and legend for all plots.**"
      ],
      "metadata": {
        "id": "Fz6fC2WfQek4"
      }
    },
    {
      "cell_type": "markdown",
      "source": [
        "#### **1. `Adult_mortality` and `Life_expectancy`.**"
      ],
      "metadata": {
        "id": "x9dkj-DoVaap"
      }
    },
    {
      "cell_type": "code",
      "source": [
        "plt.scatter(life_df['Adult_mortality'], life_df['Life_expectancy'])\n",
        "\n",
        "plt.title('Life Expectancy vs. Adult Mortality')\n",
        "plt.xlabel('Adult Mortality')\n",
        "plt.ylabel('Life Expectancy')\n",
        "\n",
        "plt.plot()"
      ],
      "metadata": {
        "id": "VU1Uy414UpYI",
        "colab": {
          "base_uri": "https://localhost:8080/",
          "height": 490
        },
        "outputId": "c206cb8d-fba3-4bc8-8911-2ceb97ac3a01"
      },
      "execution_count": null,
      "outputs": [
        {
          "output_type": "execute_result",
          "data": {
            "text/plain": [
              "[]"
            ]
          },
          "metadata": {},
          "execution_count": 7
        },
        {
          "output_type": "display_data",
          "data": {
            "text/plain": [
              "<Figure size 640x480 with 1 Axes>"
            ],
            "image/png": "[encoded data removed]"
          },
          "metadata": {}
        }
      ]
    },
    {
      "cell_type": "markdown",
      "source": [
        "#### **2. `Alcohol_consumption` and `Life_expectancy`.**"
      ],
      "metadata": {
        "id": "SCIezB4FV2Fn"
      }
    },
    {
      "cell_type": "code",
      "source": [
        "plt.scatter(life_df['Alcohol_consumption'], life_df['Life_expectancy'])\n",
        "\n",
        "plt.title('Alcohol Consumption vs. Adult Mortality')\n",
        "plt.xlabel('Alcohol Consumption')\n",
        "plt.ylabel('Life Expectancy')\n",
        "\n",
        "plt.plot()"
      ],
      "metadata": {
        "id": "7RI3jqWEV2Fo",
        "colab": {
          "base_uri": "https://localhost:8080/",
          "height": 490
        },
        "outputId": "92fbd675-d033-4601-80d9-efb020e61287"
      },
      "execution_count": null,
      "outputs": [
        {
          "output_type": "execute_result",
          "data": {
            "text/plain": [
              "[]"
            ]
          },
          "metadata": {},
          "execution_count": 8
        },
        {
          "output_type": "display_data",
          "data": {
            "text/plain": [
              "<Figure size 640x480 with 1 Axes>"
            ],
            "image/png": "[encoded data removed]"
          },
          "metadata": {}
        }
      ]
    },
    {
      "cell_type": "markdown",
      "source": [
        "#### **3. `GDP_per_capita` and `Life_expectancy` with each `Region` colored differently.**"
      ],
      "metadata": {
        "id": "piCXMk_NWDhe"
      }
    },
    {
      "cell_type": "code",
      "source": [
        "me_rows = life_df['Region'] == 'Middle East'\n",
        "eu_rows = life_df['Region'] == 'European Union'\n",
        "asia_rows = life_df['Region'] == 'Asia'\n",
        "sa_rows = life_df['Region'] == 'South America'\n",
        "cac_rows = life_df['Region'] == 'Central America and Caribbean'\n",
        "roe_rows = life_df['Region'] == 'Rest of Europe'\n",
        "africa_rows = life_df['Region'] == 'Africa'\n",
        "oceania_rows = life_df['Region'] == 'Oceania'\n",
        "na_rows = life_df['Region'] == 'North America'\n",
        "\n",
        "\n",
        "plt.scatter(life_df.loc[me_rows, 'GDP_per_capita'], life_df.loc[me_rows, 'Life_expectancy'], label = 'Middle East')\n",
        "plt.scatter(life_df.loc[eu_rows, 'GDP_per_capita'], life_df.loc[eu_rows, 'Life_expectancy'], label = 'European Union')\n",
        "plt.scatter(life_df.loc[asia_rows, 'GDP_per_capita'], life_df.loc[asia_rows, 'Life_expectancy'], label = 'Asia')\n",
        "plt.scatter(life_df.loc[sa_rows, 'GDP_per_capita'], life_df.loc[sa_rows, 'Life_expectancy'], label = 'South America')\n",
        "plt.scatter(life_df.loc[cac_rows, 'GDP_per_capita'], life_df.loc[cac_rows, 'Life_expectancy'], label = 'Central America and Caribbean')\n",
        "plt.scatter(life_df.loc[roe_rows, 'GDP_per_capita'], life_df.loc[roe_rows, 'Life_expectancy'], label = 'Rest of Europe')\n",
        "plt.scatter(life_df.loc[africa_rows, 'GDP_per_capita'], life_df.loc[africa_rows, 'Life_expectancy'], label = 'Africa')\n",
        "plt.scatter(life_df.loc[oceania_rows, 'GDP_per_capita'], life_df.loc[oceania_rows, 'Life_expectancy'], label = 'Oceania')\n",
        "plt.scatter(life_df.loc[na_rows, 'GDP_per_capita'], life_df.loc[na_rows, 'Life_expectancy'], label = 'North America')\n",
        "\n",
        "plt.title('Life Expectancy vs. GDP per capita')\n",
        "plt.xlabel('GDP per capita (USD)')\n",
        "plt.ylabel('Life Expectancy')\n",
        "plt.legend()\n",
        "\n",
        "plt.plot()"
      ],
      "metadata": {
        "id": "GARBmLqhWDho",
        "colab": {
          "base_uri": "https://localhost:8080/",
          "height": 490
        },
        "outputId": "d02d0378-c137-4491-c6b2-bc13cb0615f5"
      },
      "execution_count": null,
      "outputs": [
        {
          "output_type": "execute_result",
          "data": {
            "text/plain": [
              "[]"
            ]
          },
          "metadata": {},
          "execution_count": 10
        },
        {
          "output_type": "display_data",
          "data": {
            "text/plain": [
              "<Figure size 640x480 with 1 Axes>"
            ],
            "image/png": "[encoded data removed]"
          },
          "metadata": {}
        }
      ]
    },
    {
      "cell_type": "markdown",
      "source": [
        "#### **4. `Population_mln` and `Life_expectancy` with each `Region` colored differently.**"
      ],
      "metadata": {
        "id": "l_exBliVWsdZ"
      }
    },
    {
      "cell_type": "code",
      "source": [
        "me_rows = life_df['Region'] == 'Middle East'\n",
        "eu_rows = life_df['Region'] == 'European Union'\n",
        "asia_rows = life_df['Region'] == 'Asia'\n",
        "sa_rows = life_df['Region'] == 'South America'\n",
        "cac_rows = life_df['Region'] == 'Central America and Caribbean'\n",
        "roe_rows = life_df['Region'] == 'Rest of Europe'\n",
        "africa_rows = life_df['Region'] == 'Africa'\n",
        "oceania_rows = life_df['Region'] == 'Oceania'\n",
        "na_rows = life_df['Region'] == 'North America'\n",
        "\n",
        "\n",
        "plt.scatter(life_df.loc[me_rows, 'Population_mln'], life_df.loc[me_rows, 'Life_expectancy'], label = 'Middle East')\n",
        "plt.scatter(life_df.loc[eu_rows, 'Population_mln'], life_df.loc[eu_rows, 'Life_expectancy'], label = 'European Union')\n",
        "plt.scatter(life_df.loc[asia_rows, 'Population_mln'], life_df.loc[asia_rows, 'Life_expectancy'], label = 'Asia')\n",
        "plt.scatter(life_df.loc[sa_rows, 'Population_mln'], life_df.loc[sa_rows, 'Life_expectancy'], label = 'South America')\n",
        "plt.scatter(life_df.loc[cac_rows, 'Population_mln'], life_df.loc[cac_rows, 'Life_expectancy'], label = 'Central America and Caribbean')\n",
        "plt.scatter(life_df.loc[roe_rows, 'Population_mln'], life_df.loc[roe_rows, 'Life_expectancy'], label = 'Rest of Europe')\n",
        "plt.scatter(life_df.loc[africa_rows, 'Population_mln'], life_df.loc[africa_rows, 'Life_expectancy'], label = 'Africa')\n",
        "plt.scatter(life_df.loc[oceania_rows, 'Population_mln'], life_df.loc[oceania_rows, 'Life_expectancy'], label = 'Oceania')\n",
        "plt.scatter(life_df.loc[na_rows, 'Population_mln'], life_df.loc[na_rows, 'Life_expectancy'], label = 'North America')\n",
        "\n",
        "plt.title('Life Expectancy vs. Population')\n",
        "plt.xlabel('Population Mln')\n",
        "plt.ylabel('Life Expectancy')\n",
        "plt.legend()\n",
        "\n",
        "plt.plot()"
      ],
      "metadata": {
        "id": "vaH8hi7vWsdj",
        "colab": {
          "base_uri": "https://localhost:8080/",
          "height": 490
        },
        "outputId": "f7f7207e-4925-4e66-f508-63e2e8025dfc"
      },
      "execution_count": null,
      "outputs": [
        {
          "output_type": "execute_result",
          "data": {
            "text/plain": [
              "[]"
            ]
          },
          "metadata": {},
          "execution_count": 12
        },
        {
          "output_type": "display_data",
          "data": {
            "text/plain": [
              "<Figure size 640x480 with 1 Axes>"
            ],
            "image/png": "[encoded data removed]"
          },
          "metadata": {}
        }
      ]
    },
    {
      "cell_type": "markdown",
      "source": [
        "#### **5. `Schooling` and `Life_expectancy` with each `Region` colored differently.**"
      ],
      "metadata": {
        "id": "Jgzq6ljdW4Fi"
      }
    },
    {
      "cell_type": "code",
      "source": [
        "me_rows = life_df['Region'] == 'Middle East'\n",
        "eu_rows = life_df['Region'] == 'European Union'\n",
        "asia_rows = life_df['Region'] == 'Asia'\n",
        "sa_rows = life_df['Region'] == 'South America'\n",
        "cac_rows = life_df['Region'] == 'Central America and Caribbean'\n",
        "roe_rows = life_df['Region'] == 'Rest of Europe'\n",
        "africa_rows = life_df['Region'] == 'Africa'\n",
        "oceania_rows = life_df['Region'] == 'Oceania'\n",
        "na_rows = life_df['Region'] == 'North America'\n",
        "\n",
        "\n",
        "plt.scatter(life_df.loc[me_rows, 'Schooling'], life_df.loc[me_rows, 'Life_expectancy'], label = 'Middle East')\n",
        "plt.scatter(life_df.loc[eu_rows, 'Schooling'], life_df.loc[eu_rows, 'Life_expectancy'], label = 'European Union')\n",
        "plt.scatter(life_df.loc[asia_rows, 'Schooling'], life_df.loc[asia_rows, 'Life_expectancy'], label = 'Asia')\n",
        "plt.scatter(life_df.loc[sa_rows, 'Schooling'], life_df.loc[sa_rows, 'Life_expectancy'], label = 'South America')\n",
        "plt.scatter(life_df.loc[cac_rows, 'Schooling'], life_df.loc[cac_rows, 'Life_expectancy'], label = 'Central America and Caribbean')\n",
        "plt.scatter(life_df.loc[roe_rows, 'Schooling'], life_df.loc[roe_rows, 'Life_expectancy'], label = 'Rest of Europe')\n",
        "plt.scatter(life_df.loc[africa_rows, 'Schooling'], life_df.loc[africa_rows, 'Life_expectancy'], label = 'Africa')\n",
        "plt.scatter(life_df.loc[oceania_rows, 'Schooling'], life_df.loc[oceania_rows, 'Life_expectancy'], label = 'Oceania')\n",
        "plt.scatter(life_df.loc[na_rows, 'Schooling'], life_df.loc[na_rows, 'Life_expectancy'], label = 'North America')\n",
        "\n",
        "plt.title('Life Expectancy vs. Schooling')\n",
        "plt.xlabel('Schooling')\n",
        "plt.ylabel('Life Expectancy')\n",
        "plt.legend()"
      ],
      "metadata": {
        "id": "LRVI337FW4Fi",
        "colab": {
          "base_uri": "https://localhost:8080/",
          "height": 490
        },
        "outputId": "fbe1a9b9-cec5-4279-8ba9-0ae2796fd86a"
      },
      "execution_count": null,
      "outputs": [
        {
          "output_type": "execute_result",
          "data": {
            "text/plain": [
              "<matplotlib.legend.Legend at 0x7f4755deb6a0>"
            ]
          },
          "metadata": {},
          "execution_count": 13
        },
        {
          "output_type": "display_data",
          "data": {
            "text/plain": [
              "<Figure size 640x480 with 1 Axes>"
            ],
            "image/png": "[encoded data removed]"
          },
          "metadata": {}
        }
      ]
    },
    {
      "cell_type": "markdown",
      "source": [
        "### **Problem #1.5**\n",
        "\n",
        "Create either 3 bar graphs or one grouped bar graph to show how the following variables are distributed across regions:\n",
        "* Average `Hepatitis_B`\n",
        "* Average `Measles`\n",
        "* Average `Polio`\n",
        "\n",
        "<br>\n",
        "\n",
        "You will need to do this in two parts:\n",
        "1. Calculate the average of each variable by species.\n",
        "2. Plot these averages."
      ],
      "metadata": {
        "id": "CVSntEUQQr82"
      }
    },
    {
      "cell_type": "markdown",
      "source": [
        "#### **1. Calculate the average of each variable by species.**\n",
        "\n",
        "**Hint**: One approach would be to use `groupby(...)` and calculate the averages."
      ],
      "metadata": {
        "id": "f222pHM2YRob"
      }
    },
    {
      "cell_type": "code",
      "source": [
        "df = life_df.groupby('Region')[['Hepatitis_B', 'Measles', 'Polio']]\n",
        "means = df.mean()"
      ],
      "metadata": {
        "id": "s8cklHiGYcQg"
      },
      "execution_count": null,
      "outputs": []
    },
    {
      "cell_type": "markdown",
      "source": [
        "#### **2. Plot these averages.**"
      ],
      "metadata": {
        "id": "JoIu5kROYZAj"
      }
    },
    {
      "cell_type": "code",
      "source": [
        "plt.bar([-0.2, 0.8, 1.8, 2.8, 3.8, 4.8, 5.8, 6.8, 7.8], means['Hepatitis_B'].values, width = 0.2, label = 'Hepatitis B')\n",
        "plt.bar([0, 1, 2, 3, 4, 5, 6, 7, 8], means['Measles'].values, width = 0.2, label = 'Measles')\n",
        "plt.bar([0.2, 1.2, 2.2, 3.2, 4.2, 5.2, 6.2, 7.2, 8.2], means['Polio'].values, width = 0.2, label = 'Polio')\n",
        "\n",
        "plt.legend()\n",
        "\n",
        "plt.xticks(ticks = [0, 1, 2, 3, 4, 5, 6, 7, 8], labels = means.index, rotation = 45)\n",
        "plt.show()"
      ],
      "metadata": {
        "id": "3yTIOo-IdEwd",
        "colab": {
          "base_uri": "https://localhost:8080/",
          "height": 585
        },
        "outputId": "092e4e2a-538e-4e65-8d09-f3452d6fc8b8"
      },
      "execution_count": null,
      "outputs": [
        {
          "output_type": "display_data",
          "data": {
            "text/plain": [
              "<Figure size 640x480 with 1 Axes>"
            ],
            "image/png": "[encoded data removed]"
          },
          "metadata": {}
        }
      ]
    },
    {
      "cell_type": "markdown",
      "metadata": {
        "id": "tR2_M-tIYyfD"
      },
      "source": [
        "<a name=\"p2\"></a>\n",
        "\n",
        "---\n",
        "## **Part 2: Predicting Life Expectancy**\n",
        "---\n",
        "\n",
        "Now you will create, evaluate, and train a machine learning model to predict the average `Life_expectancy` of a country based on the provided numerical features. It is up to you to determine if you should use Linear Regression, KNN, or Logistic Regression. If it is possible to use multiple models and/or multiple hyperparameter values, you should use and compare all possible options within reason (ex: don't try more than 4-5 models for a given part).\n",
        "\n",
        "<br>\n",
        "\n",
        "You will satisfy each of the following:\n",
        "\n",
        "**Part 2.1**: Using All Numerical Features and Label Encodings\n",
        "\n",
        "**Part 2.2**: Using All Numerical Features and Dummy Variable Encodings\n",
        "\n",
        "**Part 2.3**: Using the 4 Best Numerical Features and the Best Encodings Where Relevant\n",
        "\n",
        "<br>\n",
        "\n",
        "Don't forget to follow the 8 step process for implementing machine learning models!"
      ]
    },
    {
      "cell_type": "markdown",
      "source": [
        "<a name=\"p2.1\"></a>\n",
        "\n",
        "---\n",
        "### **Part 2.1: Using All Numerical Features and Label Encodings**\n",
        "---"
      ],
      "metadata": {
        "id": "lAnwuc5ie4jU"
      }
    },
    {
      "cell_type": "markdown",
      "source": [
        "#### **Step #1: Load the data**\n",
        "\n",
        "This was completed in the beginning."
      ],
      "metadata": {
        "id": "9HOKNKlBvat6"
      }
    },
    {
      "cell_type": "markdown",
      "metadata": {
        "id": "Lf5OrHhNifXL"
      },
      "source": [
        "#### **Step #2: Determine the independent and dependent variables**\n",
        "\n",
        "**NOTE**: Since `'Country'` is unique for each data point, this is not a useful feature. As such, this should not be included in your features."
      ]
    },
    {
      "cell_type": "code",
      "source": [
        "features = life_df.drop(columns = ['Life_expectancy', 'Country'])\n",
        "label = life_df['Life_expectancy']"
      ],
      "metadata": {
        "id": "B4G6_dDT9jih"
      },
      "execution_count": null,
      "outputs": []
    },
    {
      "cell_type": "markdown",
      "metadata": {
        "id": "f2My4nq5gKNq"
      },
      "source": [
        "#### **Step #3: Split data into training and testing data**\n",
        "\n",
        "During this step you should:\n",
        "1. Split the data using the conventional 80/20 split.\n",
        "2. Encode any categorical data using an ordinal encoder.\n",
        "3. Standardize the data. **NOTE**: It's not entirely agreed upon whether you should scale encoded variables, but for simplicity's sake we will here. If you're curious, we encourage you to see how your models perform by standardizing only numerical continuous variables."
      ]
    },
    {
      "cell_type": "code",
      "source": [
        "X_train, X_test, y_train, y_test = train_test_split(features, label, test_size = 0.2, random_state = 42)\n",
        "\n",
        "# Encode\n",
        "enc = OrdinalEncoder()\n",
        "\n",
        "cols = X_train.select_dtypes(include = object).columns\n",
        "X_train[cols] = enc.fit_transform(X_train[cols])\n",
        "X_test[cols] = enc.transform(X_test[cols])\n",
        "\n",
        "# Scale\n",
        "scaler = StandardScaler()\n",
        "\n",
        "X_train_scaled = scaler.fit_transform(X_train)\n",
        "X_test_scaled = scaler.transform(X_test)"
      ],
      "metadata": {
        "id": "L-zVhDgvgXMD"
      },
      "execution_count": null,
      "outputs": []
    },
    {
      "cell_type": "markdown",
      "metadata": {
        "id": "CfiX_8hhg9n8"
      },
      "source": [
        "#### **Step #4: Import the algorithm**\n",
        "\n",
        "It's up to you whether this should be Linear Regression, KNN, or Logistic Regression."
      ]
    },
    {
      "cell_type": "code",
      "source": [
        "from sklearn.linear_model import LinearRegression"
      ],
      "metadata": {
        "id": "Cd1IkHtOg-Ig"
      },
      "execution_count": null,
      "outputs": []
    },
    {
      "cell_type": "markdown",
      "metadata": {
        "id": "g2KE3jHPhKzg"
      },
      "source": [
        "#### **Step #5:  Initialize the model and set hyperparameters**\n"
      ]
    },
    {
      "cell_type": "code",
      "source": [
        "model_1=LinearRegression()\n"
      ],
      "metadata": {
        "id": "OfnaMTfz9qFC"
      },
      "execution_count": null,
      "outputs": []
    },
    {
      "cell_type": "markdown",
      "metadata": {
        "id": "0Xb5J75whk-Z"
      },
      "source": [
        "#### **Steps #6 - 7: Fit your model, evaluating using 10-Folds Cross Validation. Create a visualization if applicable**\n",
        "\n",
        "Specifically,\n",
        "\n",
        "1. Determining an average relevant evaluation metric using 10-Folds Cross Validation.\n",
        "2. Visualize the results of cross validation.\n",
        "3. Train a model to use for predictions below. **NOTE**: Do *not* use the test set at any point in this section."
      ]
    },
    {
      "cell_type": "markdown",
      "source": [
        "##### **1. Fit the model to the training data, determining an average relevant evaluation metric using 10-Folds Cross Validation.**\n",
        "\n",
        "\n",
        "**NOTE**: The y-data in this section is still in the form of a pandas DataFrame, so to access a specific index you need to use `.iloc[...]`."
      ],
      "metadata": {
        "id": "zEVQG9nT1P_c"
      }
    },
    {
      "cell_type": "code",
      "source": [
        "model_1.fit(X_train_scaled,y_train)"
      ],
      "metadata": {
        "colab": {
          "base_uri": "https://localhost:8080/",
          "height": 75
        },
        "id": "-wk8VjRGNgcw",
        "outputId": "2447b608-8162-402e-fe66-da8877b1dd70"
      },
      "execution_count": null,
      "outputs": [
        {
          "output_type": "execute_result",
          "data": {
            "text/plain": [
              "LinearRegression()"
            ],
            "text/html": [
              "<style>#sk-container-id-2 {color: black;background-color: white;}#sk-container-id-2 pre{padding: 0;}#sk-container-id-2 div.sk-toggleable {background-color: white;}#sk-container-id-2 label.sk-toggleable__label {cursor: pointer;display: block;width: 100%;margin-bottom: 0;padding: 0.3em;box-sizing: border-box;text-align: center;}#sk-container-id-2 label.sk-toggleable__label-arrow:before {content: \"▸\";float: left;margin-right: 0.25em;color: #696969;}#sk-container-id-2 label.sk-toggleable__label-arrow:hover:before {color: black;}#sk-container-id-2 div.sk-estimator:hover label.sk-toggleable__label-arrow:before {color: black;}#sk-container-id-2 div.sk-toggleable__content {max-height: 0;max-width: 0;overflow: hidden;text-align: left;background-color: #f0f8ff;}#sk-container-id-2 div.sk-toggleable__content pre {margin: 0.2em;color: black;border-radius: 0.25em;background-color: #f0f8ff;}#sk-container-id-2 input.sk-toggleable__control:checked~div.sk-toggleable__content {max-height: 200px;max-width: 100%;overflow: auto;}#sk-container-id-2 input.sk-toggleable__control:checked~label.sk-toggleable__label-arrow:before {content: \"▾\";}#sk-container-id-2 div.sk-estimator input.sk-toggleable__control:checked~label.sk-toggleable__label {background-color: #d4ebff;}#sk-container-id-2 div.sk-label input.sk-toggleable__control:checked~label.sk-toggleable__label {background-color: #d4ebff;}#sk-container-id-2 input.sk-hidden--visually {border: 0;clip: rect(1px 1px 1px 1px);clip: rect(1px, 1px, 1px, 1px);height: 1px;margin: -1px;overflow: hidden;padding: 0;position: absolute;width: 1px;}#sk-container-id-2 div.sk-estimator {font-family: monospace;background-color: #f0f8ff;border: 1px dotted black;border-radius: 0.25em;box-sizing: border-box;margin-bottom: 0.5em;}#sk-container-id-2 div.sk-estimator:hover {background-color: #d4ebff;}#sk-container-id-2 div.sk-parallel-item::after {content: \"\";width: 100%;border-bottom: 1px solid gray;flex-grow: 1;}#sk-container-id-2 div.sk-label:hover label.sk-toggleable__label {background-color: #d4ebff;}#sk-container-id-2 div.sk-serial::before {content: \"\";position: absolute;border-left: 1px solid gray;box-sizing: border-box;top: 0;bottom: 0;left: 50%;z-index: 0;}#sk-container-id-2 div.sk-serial {display: flex;flex-direction: column;align-items: center;background-color: white;padding-right: 0.2em;padding-left: 0.2em;position: relative;}#sk-container-id-2 div.sk-item {position: relative;z-index: 1;}#sk-container-id-2 div.sk-parallel {display: flex;align-items: stretch;justify-content: center;background-color: white;position: relative;}#sk-container-id-2 div.sk-item::before, #sk-container-id-2 div.sk-parallel-item::before {content: \"\";position: absolute;border-left: 1px solid gray;box-sizing: border-box;top: 0;bottom: 0;left: 50%;z-index: -1;}#sk-container-id-2 div.sk-parallel-item {display: flex;flex-direction: column;z-index: 1;position: relative;background-color: white;}#sk-container-id-2 div.sk-parallel-item:first-child::after {align-self: flex-end;width: 50%;}#sk-container-id-2 div.sk-parallel-item:last-child::after {align-self: flex-start;width: 50%;}#sk-container-id-2 div.sk-parallel-item:only-child::after {width: 0;}#sk-container-id-2 div.sk-dashed-wrapped {border: 1px dashed gray;margin: 0 0.4em 0.5em 0.4em;box-sizing: border-box;padding-bottom: 0.4em;background-color: white;}#sk-container-id-2 div.sk-label label {font-family: monospace;font-weight: bold;display: inline-block;line-height: 1.2em;}#sk-container-id-2 div.sk-label-container {text-align: center;}#sk-container-id-2 div.sk-container {/* jupyter's `normalize.less` sets `[hidden] { display: none; }` but bootstrap.min.css set `[hidden] { display: none !important; }` so we also need the `!important` here to be able to override the default hidden behavior on the sphinx rendered scikit-learn.org. See: https://github.com/scikit-learn/scikit-learn/issues/21755 */display: inline-block !important;position: relative;}#sk-container-id-2 div.sk-text-repr-fallback {display: none;}</style><div id=\"sk-container-id-2\" class=\"sk-top-container\"><div class=\"sk-text-repr-fallback\"><pre>LinearRegression()</pre><b>In a Jupyter environment, please rerun this cell to show the HTML representation or trust the notebook. <br />On GitHub, the HTML representation is unable to render, please try loading this page with nbviewer.org.</b></div><div class=\"sk-container\" hidden><div class=\"sk-item\"><div class=\"sk-estimator sk-toggleable\"><input class=\"sk-toggleable__control sk-hidden--visually\" id=\"sk-estimator-id-2\" type=\"checkbox\" checked><label for=\"sk-estimator-id-2\" class=\"sk-toggleable__label sk-toggleable__label-arrow\">LinearRegression</label><div class=\"sk-toggleable__content\"><pre>LinearRegression()</pre></div></div></div></div></div>"
            ]
          },
          "metadata": {},
          "execution_count": 33
        }
      ]
    },
    {
      "cell_type": "code",
      "source": [
        "scores_1 = cross_val_score(model_1, X_train_scaled, y_train, cv=10)\n",
        "\n",
        "print(\"10-Folds CV Scores: \" + str(scores_1.mean()) + \" +/- \" + str(scores_1.std()))"
      ],
      "metadata": {
        "id": "1aVIi4yoieQD",
        "colab": {
          "base_uri": "https://localhost:8080/"
        },
        "outputId": "b1d2bc2f-101f-4afa-9cb7-c93106e62171"
      },
      "execution_count": null,
      "outputs": [
        {
          "output_type": "stream",
          "name": "stdout",
          "text": [
            "10-Folds CV Scores: 0.9790274643511129 +/- 0.0008329635099817909\n"
          ]
        }
      ]
    },
    {
      "cell_type": "markdown",
      "source": [
        "##### **2. Visualize the results.**\n",
        "\n",
        "Plot the performance results.\n",
        "\n",
        "<br>\n",
        "\n",
        "**NOTE**: As we plot more and more on the same figure, it can be helpful to move the legend off the plot. You can use and modify the following code to accomplish this: `plt.legend(bbox_to_anchor=(1.1, 1.05))` instead of `plt.legend()`."
      ],
      "metadata": {
        "id": "j6ELbxOz1dEJ"
      }
    },
    {
      "cell_type": "code",
      "source": [
        "plt.plot(scores_1, label = 'Linear Regression with Ordinally Encoded Variables')\n",
        "plt.plot([scores_1.mean() for i in range(10)], label = 'average')\n",
        "\n",
        "plt.xlabel('Fold')\n",
        "plt.ylabel('Accuracy')\n",
        "plt.legend(bbox_to_anchor=(1.1, 1.05))\n",
        "\n",
        "plt.show()"
      ],
      "metadata": {
        "id": "Kq5cPsXPJq8K",
        "colab": {
          "base_uri": "https://localhost:8080/",
          "height": 455
        },
        "outputId": "634acdd6-d942-4041-aac3-9f7ad148b60b"
      },
      "execution_count": null,
      "outputs": [
        {
          "output_type": "display_data",
          "data": {
            "text/plain": [
              "<Figure size 640x480 with 1 Axes>"
            ],
            "image/png": "[encoded data removed]"
          },
          "metadata": {}
        }
      ]
    },
    {
      "cell_type": "markdown",
      "source": [
        "##### **3. Train a model to use for predictions below.**"
      ],
      "metadata": {
        "id": "JWju564dJwIm"
      }
    },
    {
      "cell_type": "code",
      "source": [
        "model_1.fit(X_train_scaled,y_train)"
      ],
      "metadata": {
        "id": "8Z58inIvMrcd"
      },
      "execution_count": null,
      "outputs": []
    },
    {
      "cell_type": "code",
      "source": [
        "score_1=cross_val_score(model_1,X_train_scaled,y_train,cv=10)\n",
        "print('10 folds score: '+str(score_1.mean())+'+/-'+ str(score_1.std()))"
      ],
      "metadata": {
        "id": "gntQpkd7J581",
        "colab": {
          "base_uri": "https://localhost:8080/"
        },
        "outputId": "baf47d5d-dffc-4b4c-ad8d-e8c1fb2c6363"
      },
      "execution_count": null,
      "outputs": [
        {
          "output_type": "stream",
          "name": "stdout",
          "text": [
            "10 folds score: 0.9790274643511129+/-0.0008329635099817909\n"
          ]
        }
      ]
    },
    {
      "cell_type": "markdown",
      "metadata": {
        "id": "LT_lgbfTjJlO"
      },
      "source": [
        "#### **Step #8: Use the model**\n",
        "\n",
        "Specifically,\n",
        "\n",
        "1. Predict the average life expectancy of two new countries.\n",
        "\n",
        "2. *If you used linear regression*, look at the coefficients and intercept to determine the modeled relationships quantitatively."
      ]
    },
    {
      "cell_type": "markdown",
      "source": [
        "##### **1. Predict the life expectancy of these new countries:**\n",
        "\n",
        "**Country 1**\n",
        "\n",
        "* `Region`: `Africa`\n",
        "* `Year`: 2012\n",
        "* `Infant_deaths`: 32\n",
        "* `Under_five_deaths`: 41\n",
        "* `Adult_mortality`: 417\n",
        "* `Alcohol_consumption`: 1.2\n",
        "* `Hepatitis_B`: 74\n",
        "* `Measles`: 68\n",
        "* `BMI`: 21\n",
        "* `Polio`: 76\n",
        "* `Diphtheria`: 71\n",
        "* `Incidents_HIV`: 12.2\n",
        "* `GDP_per_capita`: 56824\n",
        "* `Population_mln`: 112\n",
        "* `Thinness_ten_nineteen_years`: 7\n",
        "* `Thinness_five_nine_years`: 11\n",
        "* `Schooling`: 9\n",
        "* `Economy_status_Developed`: 0\n",
        "* `Economy_status_Developing`: 1\n",
        "\n",
        "<br>\n",
        "\n",
        "**Country 2**\n",
        "\n",
        "* `Region`: `North America`\n",
        "* `Year`: 2012\n",
        "* `Infant_deaths`: 121\n",
        "* `Under_five_deaths`: 63\n",
        "* `Adult_mortality`: 269\n",
        "* `Alcohol_consumption`: 2.7\n",
        "* `Hepatitis_B`: 87\n",
        "* `Measles`: 81\n",
        "* `BMI`: 27\n",
        "* `Polio`: 88\n",
        "* `Diphtheria`: 88\n",
        "* `Incidents_HIV`: 2.6\n",
        "* `GDP_per_capita`: 73451\n",
        "* `Population_mln`: 341\n",
        "* `Thinness_ten_nineteen_years`: 4\n",
        "* `Thinness_five_nine_years`: 7\n",
        "* `Schooling`: 13\n",
        "* `Economy_status_Developed`: 1\n",
        "* `Economy_status_Developing`: 0\n",
        "\n",
        "<br>\n",
        "\n",
        "**NOTE**: You will need to use your `StandardScaler` to transform these new points *and* you will need to determine how these countries are represented in this given encoding."
      ],
      "metadata": {
        "id": "APzOK_U9NcDn"
      }
    },
    {
      "cell_type": "code",
      "source": [
        "new_countries = pd.DataFrame([['Africa', 2012, 32, 41, 417, 1.2, 74, 68, 21, 76, 71, 12.2, 56824, 112, 7, 11, 9, 0, 1],\n",
        "                  ['North America', 2012, 121, 63, 269, 2.7, 87, 81, 27, 88, 88, 2.6, 73451, 341, 4, 7, 13, 1, 0]],\n",
        "                 columns = X_train.columns)\n",
        "\n",
        "new_countries[cols] = enc.transform(new_countries[cols])\n",
        "data = scaler.transform(new_countries)\n",
        "\n",
        "new_prediction = model_1.predict(data)\n",
        "\n",
        "print(\"Predicted life expectancies: \", new_prediction)"
      ],
      "metadata": {
        "id": "jwFQv83zlb-Q",
        "colab": {
          "base_uri": "https://localhost:8080/"
        },
        "outputId": "eeab4226-5193-4f9f-e7cc-48ea65d7666e"
      },
      "execution_count": null,
      "outputs": [
        {
          "output_type": "stream",
          "name": "stdout",
          "text": [
            "Predicted life expectancies:  [60.51925591 61.76457484]\n"
          ]
        }
      ]
    },
    {
      "cell_type": "markdown",
      "source": [
        "##### **2. *If you used linear regression*, complete the cells below to look at the coefficients and intercept to determine the modeled relationships quantitatively.**"
      ],
      "metadata": {
        "id": "YG6QrVIrNcSr"
      }
    },
    {
      "cell_type": "code",
      "source": [
        "coefficients = model_1.coef_\n",
        "intercept = model_1.intercept_\n",
        "\n",
        "coefficients = pd.DataFrame([coefficients], columns = X_test.columns)\n",
        "intercept = pd.DataFrame([intercept], columns = [\"Life_expectancy\"])"
      ],
      "metadata": {
        "id": "1AI68Jupn6UR"
      },
      "execution_count": null,
      "outputs": []
    },
    {
      "cell_type": "code",
      "source": [
        "print(\"Coefficients:\")\n",
        "coefficients.head()"
      ],
      "metadata": {
        "id": "A4TnZL6fn6US",
        "colab": {
          "base_uri": "https://localhost:8080/",
          "height": 163
        },
        "outputId": "85d99e37-f157-4f63-ad37-67d5eada6b15"
      },
      "execution_count": null,
      "outputs": [
        {
          "output_type": "stream",
          "name": "stdout",
          "text": [
            "Coefficients:\n"
          ]
        },
        {
          "output_type": "execute_result",
          "data": {
            "text/plain": [
              "     Region      Year  Infant_deaths  Under_five_deaths  Adult_mortality  \\\n",
              "0  0.069152  0.109532      -1.475215          -2.295834        -5.583255   \n",
              "\n",
              "   Alcohol_consumption  Hepatitis_B   Measles       BMI     Polio  Diphtheria  \\\n",
              "0             0.257687    -0.146763  0.041388 -0.307642  0.054624    0.027791   \n",
              "\n",
              "   Incidents_HIV  GDP_per_capita  Population_mln  Thinness_ten_nineteen_years  \\\n",
              "0       0.238051        0.417101       -0.017126                    -0.158787   \n",
              "\n",
              "   Thinness_five_nine_years  Schooling  Economy_status_Developed  \\\n",
              "0                  0.021661   0.271989                  0.151992   \n",
              "\n",
              "   Economy_status_Developing  \n",
              "0                  -0.151992  "
            ],
            "text/html": [
              "\n",
              "\n",
              "  <div id=\"df-cddcdaed-3f08-44d5-a22c-9f7c4da7d8fd\">\n",
              "    <div class=\"colab-df-container\">\n",
              "      <div>\n",
              "<style scoped>\n",
              "    .dataframe tbody tr th:only-of-type {\n",
              "        vertical-align: middle;\n",
              "    }\n",
              "\n",
              "    .dataframe tbody tr th {\n",
              "        vertical-align: top;\n",
              "    }\n",
              "\n",
              "    .dataframe thead th {\n",
              "        text-align: right;\n",
              "    }\n",
              "</style>\n",
              "<table border=\"1\" class=\"dataframe\">\n",
              "  <thead>\n",
              "    <tr style=\"text-align: right;\">\n",
              "      <th></th>\n",
              "      <th>Region</th>\n",
              "      <th>Year</th>\n",
              "      <th>Infant_deaths</th>\n",
              "      <th>Under_five_deaths</th>\n",
              "      <th>Adult_mortality</th>\n",
              "      <th>Alcohol_consumption</th>\n",
              "      <th>Hepatitis_B</th>\n",
              "      <th>Measles</th>\n",
              "      <th>BMI</th>\n",
              "      <th>Polio</th>\n",
              "      <th>Diphtheria</th>\n",
              "      <th>Incidents_HIV</th>\n",
              "      <th>GDP_per_capita</th>\n",
              "      <th>Population_mln</th>\n",
              "      <th>Thinness_ten_nineteen_years</th>\n",
              "      <th>Thinness_five_nine_years</th>\n",
              "      <th>Schooling</th>\n",
              "      <th>Economy_status_Developed</th>\n",
              "      <th>Economy_status_Developing</th>\n",
              "    </tr>\n",
              "  </thead>\n",
              "  <tbody>\n",
              "    <tr>\n",
              "      <th>0</th>\n",
              "      <td>0.069152</td>\n",
              "      <td>0.109532</td>\n",
              "      <td>-1.475215</td>\n",
              "      <td>-2.295834</td>\n",
              "      <td>-5.583255</td>\n",
              "      <td>0.257687</td>\n",
              "      <td>-0.146763</td>\n",
              "      <td>0.041388</td>\n",
              "      <td>-0.307642</td>\n",
              "      <td>0.054624</td>\n",
              "      <td>0.027791</td>\n",
              "      <td>0.238051</td>\n",
              "      <td>0.417101</td>\n",
              "      <td>-0.017126</td>\n",
              "      <td>-0.158787</td>\n",
              "      <td>0.021661</td>\n",
              "      <td>0.271989</td>\n",
              "      <td>0.151992</td>\n",
              "      <td>-0.151992</td>\n",
              "    </tr>\n",
              "  </tbody>\n",
              "</table>\n",
              "</div>\n",
              "      <button class=\"colab-df-convert\" onclick=\"convertToInteractive('df-cddcdaed-3f08-44d5-a22c-9f7c4da7d8fd')\"\n",
              "              title=\"Convert this dataframe to an interactive table.\"\n",
              "              style=\"display:none;\">\n",
              "\n",
              "  <svg xmlns=\"http://www.w3.org/2000/svg\" height=\"24px\"viewBox=\"0 0 24 24\"\n",
              "       width=\"24px\">\n",
              "    <path d=\"M0 0h24v24H0V0z\" fill=\"none\"/>\n",
              "    <path d=\"M18.56 5.44l.94 2.06.94-2.06 2.06-.94-2.06-.94-.94-2.06-.94 2.06-2.06.94zm-11 1L8.5 8.5l.94-2.06 2.06-.94-2.06-.94L8.5 2.5l-.94 2.06-2.06.94zm10 10l.94 2.06.94-2.06 2.06-.94-2.06-.94-.94-2.06-.94 2.06-2.06.94z\"/><path d=\"M17.41 7.96l-1.37-1.37c-.4-.4-.92-.59-1.43-.59-.52 0-1.04.2-1.43.59L10.3 9.45l-7.72 7.72c-.78.78-.78 2.05 0 2.83L4 21.41c.39.39.9.59 1.41.59.51 0 1.02-.2 1.41-.59l7.78-7.78 2.81-2.81c.8-.78.8-2.07 0-2.86zM5.41 20L4 18.59l7.72-7.72 1.47 1.35L5.41 20z\"/>\n",
              "  </svg>\n",
              "      </button>\n",
              "\n",
              "\n",
              "\n",
              "    <div id=\"df-26791a53-bb11-4a23-9bb9-80a0ed8ebe23\">\n",
              "      <button class=\"colab-df-quickchart\" onclick=\"quickchart('df-26791a53-bb11-4a23-9bb9-80a0ed8ebe23')\"\n",
              "              title=\"Suggest charts.\"\n",
              "              style=\"display:none;\">\n",
              "\n",
              "<svg xmlns=\"http://www.w3.org/2000/svg\" height=\"24px\"viewBox=\"0 0 24 24\"\n",
              "     width=\"24px\">\n",
              "    <g>\n",
              "        <path d=\"M19 3H5c-1.1 0-2 .9-2 2v14c0 1.1.9 2 2 2h14c1.1 0 2-.9 2-2V5c0-1.1-.9-2-2-2zM9 17H7v-7h2v7zm4 0h-2V7h2v10zm4 0h-2v-4h2v4z\"/>\n",
              "    </g>\n",
              "</svg>\n",
              "      </button>\n",
              "    </div>\n",
              "\n",
              "<style>\n",
              "  .colab-df-quickchart {\n",
              "    background-color: #E8F0FE;\n",
              "    border: none;\n",
              "    border-radius: 50%;\n",
              "    cursor: pointer;\n",
              "    display: none;\n",
              "    fill: #1967D2;\n",
              "    height: 32px;\n",
              "    padding: 0 0 0 0;\n",
              "    width: 32px;\n",
              "  }\n",
              "\n",
              "  .colab-df-quickchart:hover {\n",
              "    background-color: #E2EBFA;\n",
              "    box-shadow: 0px 1px 2px rgba(60, 64, 67, 0.3), 0px 1px 3px 1px rgba(60, 64, 67, 0.15);\n",
              "    fill: #174EA6;\n",
              "  }\n",
              "\n",
              "  [theme=dark] .colab-df-quickchart {\n",
              "    background-color: #3B4455;\n",
              "    fill: #D2E3FC;\n",
              "  }\n",
              "\n",
              "  [theme=dark] .colab-df-quickchart:hover {\n",
              "    background-color: #434B5C;\n",
              "    box-shadow: 0px 1px 3px 1px rgba(0, 0, 0, 0.15);\n",
              "    filter: drop-shadow(0px 1px 2px rgba(0, 0, 0, 0.3));\n",
              "    fill: #FFFFFF;\n",
              "  }\n",
              "</style>\n",
              "\n",
              "    <script>\n",
              "      async function quickchart(key) {\n",
              "        const containerElement = document.querySelector('#' + key);\n",
              "        const charts = await google.colab.kernel.invokeFunction(\n",
              "            'suggestCharts', [key], {});\n",
              "      }\n",
              "    </script>\n",
              "\n",
              "      <script>\n",
              "\n",
              "function displayQuickchartButton(domScope) {\n",
              "  let quickchartButtonEl =\n",
              "    domScope.querySelector('#df-26791a53-bb11-4a23-9bb9-80a0ed8ebe23 button.colab-df-quickchart');\n",
              "  quickchartButtonEl.style.display =\n",
              "    google.colab.kernel.accessAllowed ? 'block' : 'none';\n",
              "}\n",
              "\n",
              "        displayQuickchartButton(document);\n",
              "      </script>\n",
              "      <style>\n",
              "    .colab-df-container {\n",
              "      display:flex;\n",
              "      flex-wrap:wrap;\n",
              "      gap: 12px;\n",
              "    }\n",
              "\n",
              "    .colab-df-convert {\n",
              "      background-color: #E8F0FE;\n",
              "      border: none;\n",
              "      border-radius: 50%;\n",
              "      cursor: pointer;\n",
              "      display: none;\n",
              "      fill: #1967D2;\n",
              "      height: 32px;\n",
              "      padding: 0 0 0 0;\n",
              "      width: 32px;\n",
              "    }\n",
              "\n",
              "    .colab-df-convert:hover {\n",
              "      background-color: #E2EBFA;\n",
              "      box-shadow: 0px 1px 2px rgba(60, 64, 67, 0.3), 0px 1px 3px 1px rgba(60, 64, 67, 0.15);\n",
              "      fill: #174EA6;\n",
              "    }\n",
              "\n",
              "    [theme=dark] .colab-df-convert {\n",
              "      background-color: #3B4455;\n",
              "      fill: #D2E3FC;\n",
              "    }\n",
              "\n",
              "    [theme=dark] .colab-df-convert:hover {\n",
              "      background-color: #434B5C;\n",
              "      box-shadow: 0px 1px 3px 1px rgba(0, 0, 0, 0.15);\n",
              "      filter: drop-shadow(0px 1px 2px rgba(0, 0, 0, 0.3));\n",
              "      fill: #FFFFFF;\n",
              "    }\n",
              "  </style>\n",
              "\n",
              "      <script>\n",
              "        const buttonEl =\n",
              "          document.querySelector('#df-cddcdaed-3f08-44d5-a22c-9f7c4da7d8fd button.colab-df-convert');\n",
              "        buttonEl.style.display =\n",
              "          google.colab.kernel.accessAllowed ? 'block' : 'none';\n",
              "\n",
              "        async function convertToInteractive(key) {\n",
              "          const element = document.querySelector('#df-cddcdaed-3f08-44d5-a22c-9f7c4da7d8fd');\n",
              "          const dataTable =\n",
              "            await google.colab.kernel.invokeFunction('convertToInteractive',\n",
              "                                                     [key], {});\n",
              "          if (!dataTable) return;\n",
              "\n",
              "          const docLinkHtml = 'Like what you see? Visit the ' +\n",
              "            '<a target=\"_blank\" href=https://colab.research.google.com/notebooks/data_table.ipynb>data table notebook</a>'\n",
              "            + ' to learn more about interactive tables.';\n",
              "          element.innerHTML = '';\n",
              "          dataTable['output_type'] = 'display_data';\n",
              "          await google.colab.output.renderOutput(dataTable, element);\n",
              "          const docLink = document.createElement('div');\n",
              "          docLink.innerHTML = docLinkHtml;\n",
              "          element.appendChild(docLink);\n",
              "        }\n",
              "      </script>\n",
              "    </div>\n",
              "  </div>\n"
            ]
          },
          "metadata": {},
          "execution_count": 35
        }
      ]
    },
    {
      "cell_type": "code",
      "source": [
        "print(\"\\nIntercept:\")\n",
        "intercept.head()"
      ],
      "metadata": {
        "id": "9MxeCWwsn6US",
        "colab": {
          "base_uri": "https://localhost:8080/",
          "height": 116
        },
        "outputId": "25b9e313-825d-48b2-e6fa-116bd1ee7625"
      },
      "execution_count": null,
      "outputs": [
        {
          "output_type": "stream",
          "name": "stdout",
          "text": [
            "\n",
            "Intercept:\n"
          ]
        },
        {
          "output_type": "execute_result",
          "data": {
            "text/plain": [
              "   Life_expectancy\n",
              "0        68.797163"
            ],
            "text/html": [
              "\n",
              "\n",
              "  <div id=\"df-c5c75515-d28c-4ff5-93b3-2543c569c357\">\n",
              "    <div class=\"colab-df-container\">\n",
              "      <div>\n",
              "<style scoped>\n",
              "    .dataframe tbody tr th:only-of-type {\n",
              "        vertical-align: middle;\n",
              "    }\n",
              "\n",
              "    .dataframe tbody tr th {\n",
              "        vertical-align: top;\n",
              "    }\n",
              "\n",
              "    .dataframe thead th {\n",
              "        text-align: right;\n",
              "    }\n",
              "</style>\n",
              "<table border=\"1\" class=\"dataframe\">\n",
              "  <thead>\n",
              "    <tr style=\"text-align: right;\">\n",
              "      <th></th>\n",
              "      <th>Life_expectancy</th>\n",
              "    </tr>\n",
              "  </thead>\n",
              "  <tbody>\n",
              "    <tr>\n",
              "      <th>0</th>\n",
              "      <td>68.797163</td>\n",
              "    </tr>\n",
              "  </tbody>\n",
              "</table>\n",
              "</div>\n",
              "      <button class=\"colab-df-convert\" onclick=\"convertToInteractive('df-c5c75515-d28c-4ff5-93b3-2543c569c357')\"\n",
              "              title=\"Convert this dataframe to an interactive table.\"\n",
              "              style=\"display:none;\">\n",
              "\n",
              "  <svg xmlns=\"http://www.w3.org/2000/svg\" height=\"24px\"viewBox=\"0 0 24 24\"\n",
              "       width=\"24px\">\n",
              "    <path d=\"M0 0h24v24H0V0z\" fill=\"none\"/>\n",
              "    <path d=\"M18.56 5.44l.94 2.06.94-2.06 2.06-.94-2.06-.94-.94-2.06-.94 2.06-2.06.94zm-11 1L8.5 8.5l.94-2.06 2.06-.94-2.06-.94L8.5 2.5l-.94 2.06-2.06.94zm10 10l.94 2.06.94-2.06 2.06-.94-2.06-.94-.94-2.06-.94 2.06-2.06.94z\"/><path d=\"M17.41 7.96l-1.37-1.37c-.4-.4-.92-.59-1.43-.59-.52 0-1.04.2-1.43.59L10.3 9.45l-7.72 7.72c-.78.78-.78 2.05 0 2.83L4 21.41c.39.39.9.59 1.41.59.51 0 1.02-.2 1.41-.59l7.78-7.78 2.81-2.81c.8-.78.8-2.07 0-2.86zM5.41 20L4 18.59l7.72-7.72 1.47 1.35L5.41 20z\"/>\n",
              "  </svg>\n",
              "      </button>\n",
              "\n",
              "\n",
              "\n",
              "    <div id=\"df-6b07bc0b-e6b0-4edc-a3e1-fe6a206c4ce0\">\n",
              "      <button class=\"colab-df-quickchart\" onclick=\"quickchart('df-6b07bc0b-e6b0-4edc-a3e1-fe6a206c4ce0')\"\n",
              "              title=\"Suggest charts.\"\n",
              "              style=\"display:none;\">\n",
              "\n",
              "<svg xmlns=\"http://www.w3.org/2000/svg\" height=\"24px\"viewBox=\"0 0 24 24\"\n",
              "     width=\"24px\">\n",
              "    <g>\n",
              "        <path d=\"M19 3H5c-1.1 0-2 .9-2 2v14c0 1.1.9 2 2 2h14c1.1 0 2-.9 2-2V5c0-1.1-.9-2-2-2zM9 17H7v-7h2v7zm4 0h-2V7h2v10zm4 0h-2v-4h2v4z\"/>\n",
              "    </g>\n",
              "</svg>\n",
              "      </button>\n",
              "    </div>\n",
              "\n",
              "<style>\n",
              "  .colab-df-quickchart {\n",
              "    background-color: #E8F0FE;\n",
              "    border: none;\n",
              "    border-radius: 50%;\n",
              "    cursor: pointer;\n",
              "    display: none;\n",
              "    fill: #1967D2;\n",
              "    height: 32px;\n",
              "    padding: 0 0 0 0;\n",
              "    width: 32px;\n",
              "  }\n",
              "\n",
              "  .colab-df-quickchart:hover {\n",
              "    background-color: #E2EBFA;\n",
              "    box-shadow: 0px 1px 2px rgba(60, 64, 67, 0.3), 0px 1px 3px 1px rgba(60, 64, 67, 0.15);\n",
              "    fill: #174EA6;\n",
              "  }\n",
              "\n",
              "  [theme=dark] .colab-df-quickchart {\n",
              "    background-color: #3B4455;\n",
              "    fill: #D2E3FC;\n",
              "  }\n",
              "\n",
              "  [theme=dark] .colab-df-quickchart:hover {\n",
              "    background-color: #434B5C;\n",
              "    box-shadow: 0px 1px 3px 1px rgba(0, 0, 0, 0.15);\n",
              "    filter: drop-shadow(0px 1px 2px rgba(0, 0, 0, 0.3));\n",
              "    fill: #FFFFFF;\n",
              "  }\n",
              "</style>\n",
              "\n",
              "    <script>\n",
              "      async function quickchart(key) {\n",
              "        const containerElement = document.querySelector('#' + key);\n",
              "        const charts = await google.colab.kernel.invokeFunction(\n",
              "            'suggestCharts', [key], {});\n",
              "      }\n",
              "    </script>\n",
              "\n",
              "      <script>\n",
              "\n",
              "function displayQuickchartButton(domScope) {\n",
              "  let quickchartButtonEl =\n",
              "    domScope.querySelector('#df-6b07bc0b-e6b0-4edc-a3e1-fe6a206c4ce0 button.colab-df-quickchart');\n",
              "  quickchartButtonEl.style.display =\n",
              "    google.colab.kernel.accessAllowed ? 'block' : 'none';\n",
              "}\n",
              "\n",
              "        displayQuickchartButton(document);\n",
              "      </script>\n",
              "      <style>\n",
              "    .colab-df-container {\n",
              "      display:flex;\n",
              "      flex-wrap:wrap;\n",
              "      gap: 12px;\n",
              "    }\n",
              "\n",
              "    .colab-df-convert {\n",
              "      background-color: #E8F0FE;\n",
              "      border: none;\n",
              "      border-radius: 50%;\n",
              "      cursor: pointer;\n",
              "      display: none;\n",
              "      fill: #1967D2;\n",
              "      height: 32px;\n",
              "      padding: 0 0 0 0;\n",
              "      width: 32px;\n",
              "    }\n",
              "\n",
              "    .colab-df-convert:hover {\n",
              "      background-color: #E2EBFA;\n",
              "      box-shadow: 0px 1px 2px rgba(60, 64, 67, 0.3), 0px 1px 3px 1px rgba(60, 64, 67, 0.15);\n",
              "      fill: #174EA6;\n",
              "    }\n",
              "\n",
              "    [theme=dark] .colab-df-convert {\n",
              "      background-color: #3B4455;\n",
              "      fill: #D2E3FC;\n",
              "    }\n",
              "\n",
              "    [theme=dark] .colab-df-convert:hover {\n",
              "      background-color: #434B5C;\n",
              "      box-shadow: 0px 1px 3px 1px rgba(0, 0, 0, 0.15);\n",
              "      filter: drop-shadow(0px 1px 2px rgba(0, 0, 0, 0.3));\n",
              "      fill: #FFFFFF;\n",
              "    }\n",
              "  </style>\n",
              "\n",
              "      <script>\n",
              "        const buttonEl =\n",
              "          document.querySelector('#df-c5c75515-d28c-4ff5-93b3-2543c569c357 button.colab-df-convert');\n",
              "        buttonEl.style.display =\n",
              "          google.colab.kernel.accessAllowed ? 'block' : 'none';\n",
              "\n",
              "        async function convertToInteractive(key) {\n",
              "          const element = document.querySelector('#df-c5c75515-d28c-4ff5-93b3-2543c569c357');\n",
              "          const dataTable =\n",
              "            await google.colab.kernel.invokeFunction('convertToInteractive',\n",
              "                                                     [key], {});\n",
              "          if (!dataTable) return;\n",
              "\n",
              "          const docLinkHtml = 'Like what you see? Visit the ' +\n",
              "            '<a target=\"_blank\" href=https://colab.research.google.com/notebooks/data_table.ipynb>data table notebook</a>'\n",
              "            + ' to learn more about interactive tables.';\n",
              "          element.innerHTML = '';\n",
              "          dataTable['output_type'] = 'display_data';\n",
              "          await google.colab.output.renderOutput(dataTable, element);\n",
              "          const docLink = document.createElement('div');\n",
              "          docLink.innerHTML = docLinkHtml;\n",
              "          element.appendChild(docLink);\n",
              "        }\n",
              "      </script>\n",
              "    </div>\n",
              "  </div>\n"
            ]
          },
          "metadata": {},
          "execution_count": 36
        }
      ]
    },
    {
      "cell_type": "markdown",
      "source": [
        "<a name=\"p2.2\"></a>\n",
        "\n",
        "---\n",
        "### **Part 2.2: Using All Numerical Features and Dummy Variable Encodings**\n",
        "---"
      ],
      "metadata": {
        "id": "9vjfv-IgpGoj"
      }
    },
    {
      "cell_type": "markdown",
      "source": [
        "#### **Steps #1 - 5:**\n",
        "1. Load the data.\n",
        "2. Determine the independent and dependent variables.\n",
        "3. Split data into training and testing data (encode and standardize appropriately).\n",
        "4. Import the algorithm.\n",
        "5. Initialize the model and set hyperparameters."
      ],
      "metadata": {
        "id": "-aHgqpw9xh0j"
      }
    },
    {
      "cell_type": "code",
      "source": [
        "# Load the data\n",
        "life_df.dtypes\n",
        "features = life_df.drop(columns = ['Life_expectancy', 'Country'], axis = 1)\n",
        "label = life_df['Life_expectancy']\n",
        "\n",
        "\n",
        "\n",
        "# Step 3 Split data\n",
        "X_train, X_test, y_train, y_test = train_test_split(features, label, test_size = 0.2, random_state = 42)\n",
        "\n",
        "# Encode dv stands for dummy variable\n",
        "cols = X_train.select_dtypes(include = object).columns\n",
        "X_train_dv = X_train.drop(columns = cols)\n",
        "X_test_dv = X_test.drop(columns = cols)\n",
        "\n",
        "dv_enc = OneHotEncoder(sparse_output = False, drop = 'first')\n",
        "dv_enc.set_output(transform = 'pandas')\n",
        "\n",
        "dv_enc.fit(X_train[cols])\n",
        "dv_columns = dv_enc.get_feature_names_out()\n",
        "\n",
        "X_train_dv[dv_columns] = dv_enc.transform(X_train[cols])\n",
        "X_test_dv[dv_columns] = dv_enc.transform(X_test[cols])\n",
        "\n",
        "\n",
        "# Scale\n",
        "scaler = StandardScaler()\n",
        "X_train_scaled = scaler.fit_transform(X_train_dv)\n",
        "X_test_scaled = scaler.transform(X_test_dv)\n",
        "\n",
        "\n",
        "\n",
        "# Step 4\n",
        "from sklearn.linear_model import LinearRegression\n",
        "\n",
        "# Step 5\n",
        "model_2 = LinearRegression()\n"
      ],
      "metadata": {
        "id": "kof34tsDxHMU"
      },
      "execution_count": null,
      "outputs": []
    },
    {
      "cell_type": "markdown",
      "metadata": {
        "id": "A62tHiUVpGom"
      },
      "source": [
        "#### **Steps #6 - 7:**\n",
        "\n",
        "Evaluate using 10-Folds Cross Validation and visualize the performance results. Then train a final model.\n",
        "\n",
        "\n",
        "\n",
        "<br>\n",
        "\n",
        "**NOTE**: As stated above, you can use and modify the following code to accomplish this: `plt.legend(bbox_to_anchor=(1.1, 1.05))` instead of `plt.legend()`."
      ]
    },
    {
      "cell_type": "code",
      "source": [
        "scores_2 = cross_val_score(model_2, X_train_scaled, y_train, cv=10)\n",
        "\n",
        "print(\"10-Folds CV Scores: \" + str(scores_2.mean()) + \" +/- \" + str(scores_2.std()))"
      ],
      "metadata": {
        "id": "jyi_tqMnyYCM",
        "colab": {
          "base_uri": "https://localhost:8080/"
        },
        "outputId": "3005829a-b8bc-478a-8e89-e8e0bebf3c44"
      },
      "execution_count": null,
      "outputs": [
        {
          "output_type": "stream",
          "name": "stdout",
          "text": [
            "10-Folds CV Scores: 0.983769260918851 +/- 0.0013186357702850407\n"
          ]
        }
      ]
    },
    {
      "cell_type": "code",
      "source": [
        "plt.plot(scores_2, label = 'Linear Regression with Dummy Variable Encoded Variables')\n",
        "plt.plot([scores_2.mean() for i in range(10)], label = 'average')\n",
        "\n",
        "plt.xlabel('Fold')\n",
        "plt.ylabel('Accuracy')\n",
        "plt.legend(bbox_to_anchor=(1.1, 1.05))\n",
        "\n",
        "plt.show()"
      ],
      "metadata": {
        "id": "sZ9IVI3PSelH",
        "colab": {
          "base_uri": "https://localhost:8080/",
          "height": 461
        },
        "outputId": "4257c8e0-58c3-4bd1-97df-c77f41faa06a"
      },
      "execution_count": null,
      "outputs": [
        {
          "output_type": "display_data",
          "data": {
            "text/plain": [
              "<Figure size 640x480 with 1 Axes>"
            ],
            "image/png": "[encoded data removed]"
          },
          "metadata": {}
        }
      ]
    },
    {
      "cell_type": "code",
      "source": [
        "model_2.fit(X_train_scaled, y_train)"
      ],
      "metadata": {
        "id": "I1kXWVLHSecb",
        "colab": {
          "base_uri": "https://localhost:8080/",
          "height": 75
        },
        "outputId": "c97b6f9f-5d8f-4572-af92-cc13d3898698"
      },
      "execution_count": null,
      "outputs": [
        {
          "output_type": "execute_result",
          "data": {
            "text/plain": [
              "LinearRegression()"
            ],
            "text/html": [
              "<style>#sk-container-id-3 {color: black;background-color: white;}#sk-container-id-3 pre{padding: 0;}#sk-container-id-3 div.sk-toggleable {background-color: white;}#sk-container-id-3 label.sk-toggleable__label {cursor: pointer;display: block;width: 100%;margin-bottom: 0;padding: 0.3em;box-sizing: border-box;text-align: center;}#sk-container-id-3 label.sk-toggleable__label-arrow:before {content: \"▸\";float: left;margin-right: 0.25em;color: #696969;}#sk-container-id-3 label.sk-toggleable__label-arrow:hover:before {color: black;}#sk-container-id-3 div.sk-estimator:hover label.sk-toggleable__label-arrow:before {color: black;}#sk-container-id-3 div.sk-toggleable__content {max-height: 0;max-width: 0;overflow: hidden;text-align: left;background-color: #f0f8ff;}#sk-container-id-3 div.sk-toggleable__content pre {margin: 0.2em;color: black;border-radius: 0.25em;background-color: #f0f8ff;}#sk-container-id-3 input.sk-toggleable__control:checked~div.sk-toggleable__content {max-height: 200px;max-width: 100%;overflow: auto;}#sk-container-id-3 input.sk-toggleable__control:checked~label.sk-toggleable__label-arrow:before {content: \"▾\";}#sk-container-id-3 div.sk-estimator input.sk-toggleable__control:checked~label.sk-toggleable__label {background-color: #d4ebff;}#sk-container-id-3 div.sk-label input.sk-toggleable__control:checked~label.sk-toggleable__label {background-color: #d4ebff;}#sk-container-id-3 input.sk-hidden--visually {border: 0;clip: rect(1px 1px 1px 1px);clip: rect(1px, 1px, 1px, 1px);height: 1px;margin: -1px;overflow: hidden;padding: 0;position: absolute;width: 1px;}#sk-container-id-3 div.sk-estimator {font-family: monospace;background-color: #f0f8ff;border: 1px dotted black;border-radius: 0.25em;box-sizing: border-box;margin-bottom: 0.5em;}#sk-container-id-3 div.sk-estimator:hover {background-color: #d4ebff;}#sk-container-id-3 div.sk-parallel-item::after {content: \"\";width: 100%;border-bottom: 1px solid gray;flex-grow: 1;}#sk-container-id-3 div.sk-label:hover label.sk-toggleable__label {background-color: #d4ebff;}#sk-container-id-3 div.sk-serial::before {content: \"\";position: absolute;border-left: 1px solid gray;box-sizing: border-box;top: 0;bottom: 0;left: 50%;z-index: 0;}#sk-container-id-3 div.sk-serial {display: flex;flex-direction: column;align-items: center;background-color: white;padding-right: 0.2em;padding-left: 0.2em;position: relative;}#sk-container-id-3 div.sk-item {position: relative;z-index: 1;}#sk-container-id-3 div.sk-parallel {display: flex;align-items: stretch;justify-content: center;background-color: white;position: relative;}#sk-container-id-3 div.sk-item::before, #sk-container-id-3 div.sk-parallel-item::before {content: \"\";position: absolute;border-left: 1px solid gray;box-sizing: border-box;top: 0;bottom: 0;left: 50%;z-index: -1;}#sk-container-id-3 div.sk-parallel-item {display: flex;flex-direction: column;z-index: 1;position: relative;background-color: white;}#sk-container-id-3 div.sk-parallel-item:first-child::after {align-self: flex-end;width: 50%;}#sk-container-id-3 div.sk-parallel-item:last-child::after {align-self: flex-start;width: 50%;}#sk-container-id-3 div.sk-parallel-item:only-child::after {width: 0;}#sk-container-id-3 div.sk-dashed-wrapped {border: 1px dashed gray;margin: 0 0.4em 0.5em 0.4em;box-sizing: border-box;padding-bottom: 0.4em;background-color: white;}#sk-container-id-3 div.sk-label label {font-family: monospace;font-weight: bold;display: inline-block;line-height: 1.2em;}#sk-container-id-3 div.sk-label-container {text-align: center;}#sk-container-id-3 div.sk-container {/* jupyter's `normalize.less` sets `[hidden] { display: none; }` but bootstrap.min.css set `[hidden] { display: none !important; }` so we also need the `!important` here to be able to override the default hidden behavior on the sphinx rendered scikit-learn.org. See: https://github.com/scikit-learn/scikit-learn/issues/21755 */display: inline-block !important;position: relative;}#sk-container-id-3 div.sk-text-repr-fallback {display: none;}</style><div id=\"sk-container-id-3\" class=\"sk-top-container\"><div class=\"sk-text-repr-fallback\"><pre>LinearRegression()</pre><b>In a Jupyter environment, please rerun this cell to show the HTML representation or trust the notebook. <br />On GitHub, the HTML representation is unable to render, please try loading this page with nbviewer.org.</b></div><div class=\"sk-container\" hidden><div class=\"sk-item\"><div class=\"sk-estimator sk-toggleable\"><input class=\"sk-toggleable__control sk-hidden--visually\" id=\"sk-estimator-id-3\" type=\"checkbox\" checked><label for=\"sk-estimator-id-3\" class=\"sk-toggleable__label sk-toggleable__label-arrow\">LinearRegression</label><div class=\"sk-toggleable__content\"><pre>LinearRegression()</pre></div></div></div></div></div>"
            ]
          },
          "metadata": {},
          "execution_count": 42
        }
      ]
    },
    {
      "cell_type": "markdown",
      "metadata": {
        "id": "LaJkPBB_Sa-T"
      },
      "source": [
        "#### **Step #8: Use the model**\n",
        "\n",
        "Specifically,\n",
        "\n",
        "1. Predict the average life expectancy of two new countries.\n",
        "\n",
        "2. *If you used linear regression*, look at the coefficients and intercept to determine the modeled relationships quantitatively."
      ]
    },
    {
      "cell_type": "markdown",
      "source": [
        "##### **1. Predict the life expectancy of these new countries:**\n",
        "\n",
        "**Country 1**\n",
        "\n",
        "* `Region`: `Africa`\n",
        "* `Year`: 2012\n",
        "* `Infant_deaths`: 32\n",
        "* `Under_five_deaths`: 41\n",
        "* `Adult_mortality`: 417\n",
        "* `Alcohol_consumption`: 1.2\n",
        "* `Hepatitis_B`: 74\n",
        "* `Measles`: 68\n",
        "* `BMI`: 21\n",
        "* `Polio`: 76\n",
        "* `Diphtheria`: 71\n",
        "* `Incidents_HIV`: 12.2\n",
        "* `GDP_per_capita`: 56824\n",
        "* `Population_mln`: 112\n",
        "* `Thinness_ten_nineteen_years`: 7\n",
        "* `Thinness_five_nine_years`: 11\n",
        "* `Schooling`: 9\n",
        "* `Economy_status_Developed`: 0\n",
        "* `Economy_status_Developing`: 1\n",
        "\n",
        "<br>\n",
        "\n",
        "**Country 2**\n",
        "\n",
        "* `Region`: `North America`\n",
        "* `Year`: 2012\n",
        "* `Infant_deaths`: 121\n",
        "* `Under_five_deaths`: 63\n",
        "* `Adult_mortality`: 269\n",
        "* `Alcohol_consumption`: 2.7\n",
        "* `Hepatitis_B`: 87\n",
        "* `Measles`: 81\n",
        "* `BMI`: 27\n",
        "* `Polio`: 88\n",
        "* `Diphtheria`: 88\n",
        "* `Incidents_HIV`: 2.6\n",
        "* `GDP_per_capita`: 73451\n",
        "* `Population_mln`: 341\n",
        "* `Thinness_ten_nineteen_years`: 4\n",
        "* `Thinness_five_nine_years`: 7\n",
        "* `Schooling`: 13\n",
        "* `Economy_status_Developed`: 1\n",
        "* `Economy_status_Developing`: 0\n",
        "\n",
        "<br>\n",
        "\n",
        "**NOTE**: You will need to use your `StandardScaler` to transform these new points *and* you will need to determine how these countries are represented in this given encoding."
      ],
      "metadata": {
        "id": "p2KYiyd6Sa-T"
      }
    },
    {
      "cell_type": "code",
      "source": [
        "new_countries = pd.DataFrame([['Africa', 2012, 32, 41, 417, 1.2, 74, 68, 21, 76, 71, 12.2, 56824, 112, 7, 11, 9, 0, 1],\n",
        "                  ['North America', 2012, 121, 63, 269, 2.7, 87, 81, 27, 88, 88, 2.6, 73451, 341, 4, 7, 13, 1, 0]],\n",
        "                 columns = X_train.columns)\n",
        "\n",
        "new_countries_dv = new_countries.drop(columns = cols)\n",
        "new_countries_dv[dv_columns] = dv_enc.transform(X_train[cols])\n",
        "\n",
        "data = scaler.transform(new_countries_dv)\n",
        "\n",
        "new_prediction = model_2.predict(data)\n",
        "\n",
        "print(\"Predicted life expectancies: \", new_prediction)"
      ],
      "metadata": {
        "id": "DQKCueUXSa-U",
        "colab": {
          "base_uri": "https://localhost:8080/"
        },
        "outputId": "ab9916a2-4cf2-454f-d4ee-98ef9390452e"
      },
      "execution_count": null,
      "outputs": [
        {
          "output_type": "stream",
          "name": "stdout",
          "text": [
            "Predicted life expectancies:  [60.71500296 62.12379253]\n"
          ]
        }
      ]
    },
    {
      "cell_type": "markdown",
      "source": [
        "##### **2. *If you used linear regression*, complete the cells below to look at the coefficients and intercept to determine the modeled relationships quantitatively.**"
      ],
      "metadata": {
        "id": "GPbbAWtoSa-U"
      }
    },
    {
      "cell_type": "code",
      "source": [
        "coefficients = model_2.coef_\n",
        "intercept = model_2.intercept_\n",
        "\n",
        "coefficients = pd.DataFrame([coefficients], columns = X_test_dv.columns)\n",
        "intercept = pd.DataFrame([intercept], columns = [\"Life_expectancy\"])"
      ],
      "metadata": {
        "id": "x1k4AUxcSa-U"
      },
      "execution_count": null,
      "outputs": []
    },
    {
      "cell_type": "code",
      "source": [
        "print(\"Coefficients:\")\n",
        "coefficients.head()"
      ],
      "metadata": {
        "id": "piZ-rjNHSa-U",
        "colab": {
          "base_uri": "https://localhost:8080/",
          "height": 227
        },
        "outputId": "a47fe53f-691d-43c6-8b1c-83b8f3766ccb"
      },
      "execution_count": null,
      "outputs": [
        {
          "output_type": "stream",
          "name": "stdout",
          "text": [
            "Coefficients:\n"
          ]
        },
        {
          "output_type": "execute_result",
          "data": {
            "text/plain": [
              "       Year  Infant_deaths  Under_five_deaths  Adult_mortality  \\\n",
              "0  0.161305      -1.581143           -2.10322         -5.40418   \n",
              "\n",
              "   Alcohol_consumption  Hepatitis_B  Measles       BMI     Polio  Diphtheria  \\\n",
              "0            -0.023286    -0.116085  0.05489 -0.269382  0.129943   -0.110909   \n",
              "\n",
              "   ...  Economy_status_Developed  Economy_status_Developing  Region_Asia  \\\n",
              "0  ...                  0.513404                  -0.513404      0.14598   \n",
              "\n",
              "   Region_Central America and Caribbean  Region_European Union  \\\n",
              "0                              0.617701              -0.199297   \n",
              "\n",
              "   Region_Middle East  Region_North America  Region_Oceania  \\\n",
              "0            0.080017              0.108545        -0.17836   \n",
              "\n",
              "   Region_Rest of Europe  Region_South America  \n",
              "0               0.101199              0.467731  \n",
              "\n",
              "[1 rows x 26 columns]"
            ],
            "text/html": [
              "\n",
              "\n",
              "  <div id=\"df-bde235af-8d67-4fdf-86fc-d318b678315f\">\n",
              "    <div class=\"colab-df-container\">\n",
              "      <div>\n",
              "<style scoped>\n",
              "    .dataframe tbody tr th:only-of-type {\n",
              "        vertical-align: middle;\n",
              "    }\n",
              "\n",
              "    .dataframe tbody tr th {\n",
              "        vertical-align: top;\n",
              "    }\n",
              "\n",
              "    .dataframe thead th {\n",
              "        text-align: right;\n",
              "    }\n",
              "</style>\n",
              "<table border=\"1\" class=\"dataframe\">\n",
              "  <thead>\n",
              "    <tr style=\"text-align: right;\">\n",
              "      <th></th>\n",
              "      <th>Year</th>\n",
              "      <th>Infant_deaths</th>\n",
              "      <th>Under_five_deaths</th>\n",
              "      <th>Adult_mortality</th>\n",
              "      <th>Alcohol_consumption</th>\n",
              "      <th>Hepatitis_B</th>\n",
              "      <th>Measles</th>\n",
              "      <th>BMI</th>\n",
              "      <th>Polio</th>\n",
              "      <th>Diphtheria</th>\n",
              "      <th>...</th>\n",
              "      <th>Economy_status_Developed</th>\n",
              "      <th>Economy_status_Developing</th>\n",
              "      <th>Region_Asia</th>\n",
              "      <th>Region_Central America and Caribbean</th>\n",
              "      <th>Region_European Union</th>\n",
              "      <th>Region_Middle East</th>\n",
              "      <th>Region_North America</th>\n",
              "      <th>Region_Oceania</th>\n",
              "      <th>Region_Rest of Europe</th>\n",
              "      <th>Region_South America</th>\n",
              "    </tr>\n",
              "  </thead>\n",
              "  <tbody>\n",
              "    <tr>\n",
              "      <th>0</th>\n",
              "      <td>0.161305</td>\n",
              "      <td>-1.581143</td>\n",
              "      <td>-2.10322</td>\n",
              "      <td>-5.40418</td>\n",
              "      <td>-0.023286</td>\n",
              "      <td>-0.116085</td>\n",
              "      <td>0.05489</td>\n",
              "      <td>-0.269382</td>\n",
              "      <td>0.129943</td>\n",
              "      <td>-0.110909</td>\n",
              "      <td>...</td>\n",
              "      <td>0.513404</td>\n",
              "      <td>-0.513404</td>\n",
              "      <td>0.14598</td>\n",
              "      <td>0.617701</td>\n",
              "      <td>-0.199297</td>\n",
              "      <td>0.080017</td>\n",
              "      <td>0.108545</td>\n",
              "      <td>-0.17836</td>\n",
              "      <td>0.101199</td>\n",
              "      <td>0.467731</td>\n",
              "    </tr>\n",
              "  </tbody>\n",
              "</table>\n",
              "<p>1 rows × 26 columns</p>\n",
              "</div>\n",
              "      <button class=\"colab-df-convert\" onclick=\"convertToInteractive('df-bde235af-8d67-4fdf-86fc-d318b678315f')\"\n",
              "              title=\"Convert this dataframe to an interactive table.\"\n",
              "              style=\"display:none;\">\n",
              "\n",
              "  <svg xmlns=\"http://www.w3.org/2000/svg\" height=\"24px\"viewBox=\"0 0 24 24\"\n",
              "       width=\"24px\">\n",
              "    <path d=\"M0 0h24v24H0V0z\" fill=\"none\"/>\n",
              "    <path d=\"M18.56 5.44l.94 2.06.94-2.06 2.06-.94-2.06-.94-.94-2.06-.94 2.06-2.06.94zm-11 1L8.5 8.5l.94-2.06 2.06-.94-2.06-.94L8.5 2.5l-.94 2.06-2.06.94zm10 10l.94 2.06.94-2.06 2.06-.94-2.06-.94-.94-2.06-.94 2.06-2.06.94z\"/><path d=\"M17.41 7.96l-1.37-1.37c-.4-.4-.92-.59-1.43-.59-.52 0-1.04.2-1.43.59L10.3 9.45l-7.72 7.72c-.78.78-.78 2.05 0 2.83L4 21.41c.39.39.9.59 1.41.59.51 0 1.02-.2 1.41-.59l7.78-7.78 2.81-2.81c.8-.78.8-2.07 0-2.86zM5.41 20L4 18.59l7.72-7.72 1.47 1.35L5.41 20z\"/>\n",
              "  </svg>\n",
              "      </button>\n",
              "\n",
              "\n",
              "\n",
              "    <div id=\"df-b18c15dc-c27b-4a4f-b984-c9f350df59af\">\n",
              "      <button class=\"colab-df-quickchart\" onclick=\"quickchart('df-b18c15dc-c27b-4a4f-b984-c9f350df59af')\"\n",
              "              title=\"Suggest charts.\"\n",
              "              style=\"display:none;\">\n",
              "\n",
              "<svg xmlns=\"http://www.w3.org/2000/svg\" height=\"24px\"viewBox=\"0 0 24 24\"\n",
              "     width=\"24px\">\n",
              "    <g>\n",
              "        <path d=\"M19 3H5c-1.1 0-2 .9-2 2v14c0 1.1.9 2 2 2h14c1.1 0 2-.9 2-2V5c0-1.1-.9-2-2-2zM9 17H7v-7h2v7zm4 0h-2V7h2v10zm4 0h-2v-4h2v4z\"/>\n",
              "    </g>\n",
              "</svg>\n",
              "      </button>\n",
              "    </div>\n",
              "\n",
              "<style>\n",
              "  .colab-df-quickchart {\n",
              "    background-color: #E8F0FE;\n",
              "    border: none;\n",
              "    border-radius: 50%;\n",
              "    cursor: pointer;\n",
              "    display: none;\n",
              "    fill: #1967D2;\n",
              "    height: 32px;\n",
              "    padding: 0 0 0 0;\n",
              "    width: 32px;\n",
              "  }\n",
              "\n",
              "  .colab-df-quickchart:hover {\n",
              "    background-color: #E2EBFA;\n",
              "    box-shadow: 0px 1px 2px rgba(60, 64, 67, 0.3), 0px 1px 3px 1px rgba(60, 64, 67, 0.15);\n",
              "    fill: #174EA6;\n",
              "  }\n",
              "\n",
              "  [theme=dark] .colab-df-quickchart {\n",
              "    background-color: #3B4455;\n",
              "    fill: #D2E3FC;\n",
              "  }\n",
              "\n",
              "  [theme=dark] .colab-df-quickchart:hover {\n",
              "    background-color: #434B5C;\n",
              "    box-shadow: 0px 1px 3px 1px rgba(0, 0, 0, 0.15);\n",
              "    filter: drop-shadow(0px 1px 2px rgba(0, 0, 0, 0.3));\n",
              "    fill: #FFFFFF;\n",
              "  }\n",
              "</style>\n",
              "\n",
              "    <script>\n",
              "      async function quickchart(key) {\n",
              "        const containerElement = document.querySelector('#' + key);\n",
              "        const charts = await google.colab.kernel.invokeFunction(\n",
              "            'suggestCharts', [key], {});\n",
              "      }\n",
              "    </script>\n",
              "\n",
              "      <script>\n",
              "\n",
              "function displayQuickchartButton(domScope) {\n",
              "  let quickchartButtonEl =\n",
              "    domScope.querySelector('#df-b18c15dc-c27b-4a4f-b984-c9f350df59af button.colab-df-quickchart');\n",
              "  quickchartButtonEl.style.display =\n",
              "    google.colab.kernel.accessAllowed ? 'block' : 'none';\n",
              "}\n",
              "\n",
              "        displayQuickchartButton(document);\n",
              "      </script>\n",
              "      <style>\n",
              "    .colab-df-container {\n",
              "      display:flex;\n",
              "      flex-wrap:wrap;\n",
              "      gap: 12px;\n",
              "    }\n",
              "\n",
              "    .colab-df-convert {\n",
              "      background-color: #E8F0FE;\n",
              "      border: none;\n",
              "      border-radius: 50%;\n",
              "      cursor: pointer;\n",
              "      display: none;\n",
              "      fill: #1967D2;\n",
              "      height: 32px;\n",
              "      padding: 0 0 0 0;\n",
              "      width: 32px;\n",
              "    }\n",
              "\n",
              "    .colab-df-convert:hover {\n",
              "      background-color: #E2EBFA;\n",
              "      box-shadow: 0px 1px 2px rgba(60, 64, 67, 0.3), 0px 1px 3px 1px rgba(60, 64, 67, 0.15);\n",
              "      fill: #174EA6;\n",
              "    }\n",
              "\n",
              "    [theme=dark] .colab-df-convert {\n",
              "      background-color: #3B4455;\n",
              "      fill: #D2E3FC;\n",
              "    }\n",
              "\n",
              "    [theme=dark] .colab-df-convert:hover {\n",
              "      background-color: #434B5C;\n",
              "      box-shadow: 0px 1px 3px 1px rgba(0, 0, 0, 0.15);\n",
              "      filter: drop-shadow(0px 1px 2px rgba(0, 0, 0, 0.3));\n",
              "      fill: #FFFFFF;\n",
              "    }\n",
              "  </style>\n",
              "\n",
              "      <script>\n",
              "        const buttonEl =\n",
              "          document.querySelector('#df-bde235af-8d67-4fdf-86fc-d318b678315f button.colab-df-convert');\n",
              "        buttonEl.style.display =\n",
              "          google.colab.kernel.accessAllowed ? 'block' : 'none';\n",
              "\n",
              "        async function convertToInteractive(key) {\n",
              "          const element = document.querySelector('#df-bde235af-8d67-4fdf-86fc-d318b678315f');\n",
              "          const dataTable =\n",
              "            await google.colab.kernel.invokeFunction('convertToInteractive',\n",
              "                                                     [key], {});\n",
              "          if (!dataTable) return;\n",
              "\n",
              "          const docLinkHtml = 'Like what you see? Visit the ' +\n",
              "            '<a target=\"_blank\" href=https://colab.research.google.com/notebooks/data_table.ipynb>data table notebook</a>'\n",
              "            + ' to learn more about interactive tables.';\n",
              "          element.innerHTML = '';\n",
              "          dataTable['output_type'] = 'display_data';\n",
              "          await google.colab.output.renderOutput(dataTable, element);\n",
              "          const docLink = document.createElement('div');\n",
              "          docLink.innerHTML = docLinkHtml;\n",
              "          element.appendChild(docLink);\n",
              "        }\n",
              "      </script>\n",
              "    </div>\n",
              "  </div>\n"
            ]
          },
          "metadata": {},
          "execution_count": 46
        }
      ]
    },
    {
      "cell_type": "code",
      "source": [
        "print(\"\\nIntercept:\")\n",
        "intercept.head()"
      ],
      "metadata": {
        "id": "xYb_DU43Sa-U",
        "colab": {
          "base_uri": "https://localhost:8080/",
          "height": 116
        },
        "outputId": "36068e3c-60a3-43db-f7eb-4dbbd99785ff"
      },
      "execution_count": null,
      "outputs": [
        {
          "output_type": "stream",
          "name": "stdout",
          "text": [
            "\n",
            "Intercept:\n"
          ]
        },
        {
          "output_type": "execute_result",
          "data": {
            "text/plain": [
              "   Life_expectancy\n",
              "0        68.797163"
            ],
            "text/html": [
              "\n",
              "\n",
              "  <div id=\"df-3bfe728a-2cbb-40b6-a949-9f66ec46d70b\">\n",
              "    <div class=\"colab-df-container\">\n",
              "      <div>\n",
              "<style scoped>\n",
              "    .dataframe tbody tr th:only-of-type {\n",
              "        vertical-align: middle;\n",
              "    }\n",
              "\n",
              "    .dataframe tbody tr th {\n",
              "        vertical-align: top;\n",
              "    }\n",
              "\n",
              "    .dataframe thead th {\n",
              "        text-align: right;\n",
              "    }\n",
              "</style>\n",
              "<table border=\"1\" class=\"dataframe\">\n",
              "  <thead>\n",
              "    <tr style=\"text-align: right;\">\n",
              "      <th></th>\n",
              "      <th>Life_expectancy</th>\n",
              "    </tr>\n",
              "  </thead>\n",
              "  <tbody>\n",
              "    <tr>\n",
              "      <th>0</th>\n",
              "      <td>68.797163</td>\n",
              "    </tr>\n",
              "  </tbody>\n",
              "</table>\n",
              "</div>\n",
              "      <button class=\"colab-df-convert\" onclick=\"convertToInteractive('df-3bfe728a-2cbb-40b6-a949-9f66ec46d70b')\"\n",
              "              title=\"Convert this dataframe to an interactive table.\"\n",
              "              style=\"display:none;\">\n",
              "\n",
              "  <svg xmlns=\"http://www.w3.org/2000/svg\" height=\"24px\"viewBox=\"0 0 24 24\"\n",
              "       width=\"24px\">\n",
              "    <path d=\"M0 0h24v24H0V0z\" fill=\"none\"/>\n",
              "    <path d=\"M18.56 5.44l.94 2.06.94-2.06 2.06-.94-2.06-.94-.94-2.06-.94 2.06-2.06.94zm-11 1L8.5 8.5l.94-2.06 2.06-.94-2.06-.94L8.5 2.5l-.94 2.06-2.06.94zm10 10l.94 2.06.94-2.06 2.06-.94-2.06-.94-.94-2.06-.94 2.06-2.06.94z\"/><path d=\"M17.41 7.96l-1.37-1.37c-.4-.4-.92-.59-1.43-.59-.52 0-1.04.2-1.43.59L10.3 9.45l-7.72 7.72c-.78.78-.78 2.05 0 2.83L4 21.41c.39.39.9.59 1.41.59.51 0 1.02-.2 1.41-.59l7.78-7.78 2.81-2.81c.8-.78.8-2.07 0-2.86zM5.41 20L4 18.59l7.72-7.72 1.47 1.35L5.41 20z\"/>\n",
              "  </svg>\n",
              "      </button>\n",
              "\n",
              "\n",
              "\n",
              "    <div id=\"df-4b587bf0-1a02-49b7-800d-5c2ce54d9468\">\n",
              "      <button class=\"colab-df-quickchart\" onclick=\"quickchart('df-4b587bf0-1a02-49b7-800d-5c2ce54d9468')\"\n",
              "              title=\"Suggest charts.\"\n",
              "              style=\"display:none;\">\n",
              "\n",
              "<svg xmlns=\"http://www.w3.org/2000/svg\" height=\"24px\"viewBox=\"0 0 24 24\"\n",
              "     width=\"24px\">\n",
              "    <g>\n",
              "        <path d=\"M19 3H5c-1.1 0-2 .9-2 2v14c0 1.1.9 2 2 2h14c1.1 0 2-.9 2-2V5c0-1.1-.9-2-2-2zM9 17H7v-7h2v7zm4 0h-2V7h2v10zm4 0h-2v-4h2v4z\"/>\n",
              "    </g>\n",
              "</svg>\n",
              "      </button>\n",
              "    </div>\n",
              "\n",
              "<style>\n",
              "  .colab-df-quickchart {\n",
              "    background-color: #E8F0FE;\n",
              "    border: none;\n",
              "    border-radius: 50%;\n",
              "    cursor: pointer;\n",
              "    display: none;\n",
              "    fill: #1967D2;\n",
              "    height: 32px;\n",
              "    padding: 0 0 0 0;\n",
              "    width: 32px;\n",
              "  }\n",
              "\n",
              "  .colab-df-quickchart:hover {\n",
              "    background-color: #E2EBFA;\n",
              "    box-shadow: 0px 1px 2px rgba(60, 64, 67, 0.3), 0px 1px 3px 1px rgba(60, 64, 67, 0.15);\n",
              "    fill: #174EA6;\n",
              "  }\n",
              "\n",
              "  [theme=dark] .colab-df-quickchart {\n",
              "    background-color: #3B4455;\n",
              "    fill: #D2E3FC;\n",
              "  }\n",
              "\n",
              "  [theme=dark] .colab-df-quickchart:hover {\n",
              "    background-color: #434B5C;\n",
              "    box-shadow: 0px 1px 3px 1px rgba(0, 0, 0, 0.15);\n",
              "    filter: drop-shadow(0px 1px 2px rgba(0, 0, 0, 0.3));\n",
              "    fill: #FFFFFF;\n",
              "  }\n",
              "</style>\n",
              "\n",
              "    <script>\n",
              "      async function quickchart(key) {\n",
              "        const containerElement = document.querySelector('#' + key);\n",
              "        const charts = await google.colab.kernel.invokeFunction(\n",
              "            'suggestCharts', [key], {});\n",
              "      }\n",
              "    </script>\n",
              "\n",
              "      <script>\n",
              "\n",
              "function displayQuickchartButton(domScope) {\n",
              "  let quickchartButtonEl =\n",
              "    domScope.querySelector('#df-4b587bf0-1a02-49b7-800d-5c2ce54d9468 button.colab-df-quickchart');\n",
              "  quickchartButtonEl.style.display =\n",
              "    google.colab.kernel.accessAllowed ? 'block' : 'none';\n",
              "}\n",
              "\n",
              "        displayQuickchartButton(document);\n",
              "      </script>\n",
              "      <style>\n",
              "    .colab-df-container {\n",
              "      display:flex;\n",
              "      flex-wrap:wrap;\n",
              "      gap: 12px;\n",
              "    }\n",
              "\n",
              "    .colab-df-convert {\n",
              "      background-color: #E8F0FE;\n",
              "      border: none;\n",
              "      border-radius: 50%;\n",
              "      cursor: pointer;\n",
              "      display: none;\n",
              "      fill: #1967D2;\n",
              "      height: 32px;\n",
              "      padding: 0 0 0 0;\n",
              "      width: 32px;\n",
              "    }\n",
              "\n",
              "    .colab-df-convert:hover {\n",
              "      background-color: #E2EBFA;\n",
              "      box-shadow: 0px 1px 2px rgba(60, 64, 67, 0.3), 0px 1px 3px 1px rgba(60, 64, 67, 0.15);\n",
              "      fill: #174EA6;\n",
              "    }\n",
              "\n",
              "    [theme=dark] .colab-df-convert {\n",
              "      background-color: #3B4455;\n",
              "      fill: #D2E3FC;\n",
              "    }\n",
              "\n",
              "    [theme=dark] .colab-df-convert:hover {\n",
              "      background-color: #434B5C;\n",
              "      box-shadow: 0px 1px 3px 1px rgba(0, 0, 0, 0.15);\n",
              "      filter: drop-shadow(0px 1px 2px rgba(0, 0, 0, 0.3));\n",
              "      fill: #FFFFFF;\n",
              "    }\n",
              "  </style>\n",
              "\n",
              "      <script>\n",
              "        const buttonEl =\n",
              "          document.querySelector('#df-3bfe728a-2cbb-40b6-a949-9f66ec46d70b button.colab-df-convert');\n",
              "        buttonEl.style.display =\n",
              "          google.colab.kernel.accessAllowed ? 'block' : 'none';\n",
              "\n",
              "        async function convertToInteractive(key) {\n",
              "          const element = document.querySelector('#df-3bfe728a-2cbb-40b6-a949-9f66ec46d70b');\n",
              "          const dataTable =\n",
              "            await google.colab.kernel.invokeFunction('convertToInteractive',\n",
              "                                                     [key], {});\n",
              "          if (!dataTable) return;\n",
              "\n",
              "          const docLinkHtml = 'Like what you see? Visit the ' +\n",
              "            '<a target=\"_blank\" href=https://colab.research.google.com/notebooks/data_table.ipynb>data table notebook</a>'\n",
              "            + ' to learn more about interactive tables.';\n",
              "          element.innerHTML = '';\n",
              "          dataTable['output_type'] = 'display_data';\n",
              "          await google.colab.output.renderOutput(dataTable, element);\n",
              "          const docLink = document.createElement('div');\n",
              "          docLink.innerHTML = docLinkHtml;\n",
              "          element.appendChild(docLink);\n",
              "        }\n",
              "      </script>\n",
              "    </div>\n",
              "  </div>\n"
            ]
          },
          "metadata": {},
          "execution_count": 47
        }
      ]
    },
    {
      "cell_type": "markdown",
      "source": [
        "<a name=\"p2.3\"></a>\n",
        "\n",
        "---\n",
        "### **Part 2.3: Using the 4 Best Numerical Features and the Best Encodings Where Relevant**\n",
        "---\n",
        "\n",
        "In this section, you should use the results of above and the `SelectKBest(...)` function to create a model using the 4 best numerical features and the best encodings to create a new model."
      ],
      "metadata": {
        "id": "b6hjsOjNqSW3"
      }
    },
    {
      "cell_type": "markdown",
      "source": [
        "#### **Steps #1-8: Carry out the machine learning process the same as above.**\n",
        "\n",
        "**Suggestions**:\n",
        "* `SelectKBest(...)` should be used *after* splitting the data and only determined by the training set to avoid any possible data leakage.\n",
        "* `SelectKBest(...)` is only for numerical features, so you should choose 4 numerical features *and* encode the categorical features.\n",
        "* You should visualize both of the CV evaluation scores from Parts 2.1 - 2.2 to compare and choose a good encoding.\n",
        "* You should visually compare the CV evaluation scores for all 3 models trained in Part 2 to determine the best one.\n",
        "* It may be helpful to add additional code cells to build your model incrementally.\n",
        "* As stated above, you can use and modify the following code to accomplish this: `plt.legend(bbox_to_anchor=(1.1, 1.05))` instead of `plt.legend()`."
      ],
      "metadata": {
        "id": "_BL-XWvPzcye"
      }
    },
    {
      "cell_type": "code",
      "source": [
        "life_df.dtypes\n",
        "features = life_df.drop(columns = ['Life_expectancy', 'Country'], axis = 1)\n",
        "label = life_df['Life_expectancy']\n",
        "\n",
        "\n",
        "# Step 3\n",
        "X_train, X_test, y_train, y_test = train_test_split(features, label, test_size = 0.2, random_state = 42)\n",
        "\n",
        "cols = X_train.select_dtypes(include = object).columns\n",
        "X_train_best = X_train.drop(columns = cols)\n",
        "X_test_best = X_test.drop(columns = cols)\n",
        "\n",
        "feature_selector = SelectKBest(k = 4)\n",
        "feature_selector.fit_transform(X_train_best, y_train)\n",
        "X_train_best = X_train_best[feature_selector.get_feature_names_out()]\n",
        "X_test_best = X_test_best[feature_selector.get_feature_names_out()]\n",
        "\n",
        "# Encode\n",
        "dv_enc = OneHotEncoder(sparse_output = False, drop = 'first')\n",
        "dv_enc.set_output(transform = 'pandas')\n",
        "\n",
        "dv_enc.fit(X_train[cols])\n",
        "dv_columns = dv_enc.get_feature_names_out()\n",
        "\n",
        "X_train_best[dv_columns] = dv_enc.transform(X_train[cols])\n",
        "X_test_best[dv_columns] = dv_enc.transform(X_test[cols])\n",
        "\n",
        "\n",
        "# Scale\n",
        "scaler = StandardScaler()\n",
        "X_train_scaled = scaler.fit_transform(X_train_best)\n",
        "X_test_scaled = scaler.transform(X_test_best)\n",
        "\n",
        "\n",
        "\n",
        "# Step 4\n",
        "from sklearn.linear_model import LinearRegression\n",
        "\n",
        "# Step 5\n",
        "model_3 = LinearRegression()\n",
        "\n",
        "# Steps 6 - 7\n",
        "scores_3 = cross_val_score(model_3, X_train_scaled, y_train, cv=10)\n",
        "print(\"10-Folds CV Scores: \" + str(scores_3.mean()) + \" +/- \" + str(scores_3.std()))\n",
        "\n",
        "model_3.fit(X_train_scaled, y_train)"
      ],
      "metadata": {
        "id": "Q0ySKNf9z8nS",
        "colab": {
          "base_uri": "https://localhost:8080/",
          "height": 93
        },
        "outputId": "c887d10c-3416-4bf5-cf56-ea83a3bdce41"
      },
      "execution_count": null,
      "outputs": [
        {
          "output_type": "stream",
          "name": "stdout",
          "text": [
            "10-Folds CV Scores: 0.980717525902071 +/- 0.00205274126381351\n"
          ]
        },
        {
          "output_type": "execute_result",
          "data": {
            "text/plain": [
              "LinearRegression()"
            ],
            "text/html": [
              "<style>#sk-container-id-4 {color: black;background-color: white;}#sk-container-id-4 pre{padding: 0;}#sk-container-id-4 div.sk-toggleable {background-color: white;}#sk-container-id-4 label.sk-toggleable__label {cursor: pointer;display: block;width: 100%;margin-bottom: 0;padding: 0.3em;box-sizing: border-box;text-align: center;}#sk-container-id-4 label.sk-toggleable__label-arrow:before {content: \"▸\";float: left;margin-right: 0.25em;color: #696969;}#sk-container-id-4 label.sk-toggleable__label-arrow:hover:before {color: black;}#sk-container-id-4 div.sk-estimator:hover label.sk-toggleable__label-arrow:before {color: black;}#sk-container-id-4 div.sk-toggleable__content {max-height: 0;max-width: 0;overflow: hidden;text-align: left;background-color: #f0f8ff;}#sk-container-id-4 div.sk-toggleable__content pre {margin: 0.2em;color: black;border-radius: 0.25em;background-color: #f0f8ff;}#sk-container-id-4 input.sk-toggleable__control:checked~div.sk-toggleable__content {max-height: 200px;max-width: 100%;overflow: auto;}#sk-container-id-4 input.sk-toggleable__control:checked~label.sk-toggleable__label-arrow:before {content: \"▾\";}#sk-container-id-4 div.sk-estimator input.sk-toggleable__control:checked~label.sk-toggleable__label {background-color: #d4ebff;}#sk-container-id-4 div.sk-label input.sk-toggleable__control:checked~label.sk-toggleable__label {background-color: #d4ebff;}#sk-container-id-4 input.sk-hidden--visually {border: 0;clip: rect(1px 1px 1px 1px);clip: rect(1px, 1px, 1px, 1px);height: 1px;margin: -1px;overflow: hidden;padding: 0;position: absolute;width: 1px;}#sk-container-id-4 div.sk-estimator {font-family: monospace;background-color: #f0f8ff;border: 1px dotted black;border-radius: 0.25em;box-sizing: border-box;margin-bottom: 0.5em;}#sk-container-id-4 div.sk-estimator:hover {background-color: #d4ebff;}#sk-container-id-4 div.sk-parallel-item::after {content: \"\";width: 100%;border-bottom: 1px solid gray;flex-grow: 1;}#sk-container-id-4 div.sk-label:hover label.sk-toggleable__label {background-color: #d4ebff;}#sk-container-id-4 div.sk-serial::before {content: \"\";position: absolute;border-left: 1px solid gray;box-sizing: border-box;top: 0;bottom: 0;left: 50%;z-index: 0;}#sk-container-id-4 div.sk-serial {display: flex;flex-direction: column;align-items: center;background-color: white;padding-right: 0.2em;padding-left: 0.2em;position: relative;}#sk-container-id-4 div.sk-item {position: relative;z-index: 1;}#sk-container-id-4 div.sk-parallel {display: flex;align-items: stretch;justify-content: center;background-color: white;position: relative;}#sk-container-id-4 div.sk-item::before, #sk-container-id-4 div.sk-parallel-item::before {content: \"\";position: absolute;border-left: 1px solid gray;box-sizing: border-box;top: 0;bottom: 0;left: 50%;z-index: -1;}#sk-container-id-4 div.sk-parallel-item {display: flex;flex-direction: column;z-index: 1;position: relative;background-color: white;}#sk-container-id-4 div.sk-parallel-item:first-child::after {align-self: flex-end;width: 50%;}#sk-container-id-4 div.sk-parallel-item:last-child::after {align-self: flex-start;width: 50%;}#sk-container-id-4 div.sk-parallel-item:only-child::after {width: 0;}#sk-container-id-4 div.sk-dashed-wrapped {border: 1px dashed gray;margin: 0 0.4em 0.5em 0.4em;box-sizing: border-box;padding-bottom: 0.4em;background-color: white;}#sk-container-id-4 div.sk-label label {font-family: monospace;font-weight: bold;display: inline-block;line-height: 1.2em;}#sk-container-id-4 div.sk-label-container {text-align: center;}#sk-container-id-4 div.sk-container {/* jupyter's `normalize.less` sets `[hidden] { display: none; }` but bootstrap.min.css set `[hidden] { display: none !important; }` so we also need the `!important` here to be able to override the default hidden behavior on the sphinx rendered scikit-learn.org. See: https://github.com/scikit-learn/scikit-learn/issues/21755 */display: inline-block !important;position: relative;}#sk-container-id-4 div.sk-text-repr-fallback {display: none;}</style><div id=\"sk-container-id-4\" class=\"sk-top-container\"><div class=\"sk-text-repr-fallback\"><pre>LinearRegression()</pre><b>In a Jupyter environment, please rerun this cell to show the HTML representation or trust the notebook. <br />On GitHub, the HTML representation is unable to render, please try loading this page with nbviewer.org.</b></div><div class=\"sk-container\" hidden><div class=\"sk-item\"><div class=\"sk-estimator sk-toggleable\"><input class=\"sk-toggleable__control sk-hidden--visually\" id=\"sk-estimator-id-4\" type=\"checkbox\" checked><label for=\"sk-estimator-id-4\" class=\"sk-toggleable__label sk-toggleable__label-arrow\">LinearRegression</label><div class=\"sk-toggleable__content\"><pre>LinearRegression()</pre></div></div></div></div></div>"
            ]
          },
          "metadata": {},
          "execution_count": 49
        }
      ]
    },
    {
      "cell_type": "markdown",
      "source": [
        "<a name=\"p2w\"></a>\n",
        "\n",
        "---\n",
        "### **Part 2: Wrap-up**\n",
        "---\n",
        "\n",
        "Now that you have trained several models to accomplish this task, answer the following questions:\n",
        "\n",
        "\n",
        "1. Using only the best performing model according to the CV evaluation scores, what is its average performance according to K-Folds CV? What is its performance on the test set? **NOTE**: Round to the 3rd decimal place for simplicity.\n",
        "2. Is Linear Regression, KNN, or Logistic Regression better suited for this task? Why?\n",
        "3. Are there any hyperparameters you need to tune and, if so, what are the best values you found?\n",
        "4. What seemed to play the largest role in improving model performance: selecting fewer features, a specific encoding, both, or neither.\n",
        "5. What 3 variables seem to play the largest role in determining the `Life_expectancy`? **Hint**. Since the data is standardized, we can directly consider the relative size of the coefficients.\n",
        "6. What does your model claim the average life expectancy to be, regardless of any features? **Hint**. This is the part of your model that is unrelated to any features."
      ],
      "metadata": {
        "id": "4KMaFxAvBHsh"
      }
    },
    {
      "cell_type": "markdown",
      "metadata": {
        "id": "BASaZmtCsM5T"
      },
      "source": [
        "<a name=\"p3\"></a>\n",
        "\n",
        "---\n",
        "## **Part 3: Predicting Development Status**\n",
        "---\n",
        "\n",
        "Now you will create, evaluate, and train an ML model to predict `Economy_status_Developed` based on the provided numerical features. It is up to you to determine if you should be using Linear Regression, KNN, or Logistic Regression here. If it is possible to use multiple models and/or multiple hyperparameter values, you should use and compare all possible options within reason (ex: don't try more than 4-5 models for a given part).\n",
        "\n",
        "<br>\n",
        "\n",
        "In this section, we will not break down the steps for you, but rather provide a few guiding questions throughout to help you find the best possible model."
      ]
    },
    {
      "cell_type": "markdown",
      "source": [
        "### **Problem #3.1**\n",
        "\n",
        "Using 10-Folds CV, evaluate the performance of any relevant models in predicting `Economy_status_Developed` using all numerical features and ordinally encoding all categorical features (except `Country`, which you should still drop like above). Make sure you carry out proper standardization procedures and try to evaluate as wide a range of models as possible.\n",
        "\n",
        "**NOTE**: Do not worry about making predictions (Step #8), rather just get the CV scores of any models you consider."
      ],
      "metadata": {
        "id": "R4HFVyXPivC-"
      }
    },
    {
      "cell_type": "code",
      "source": [],
      "metadata": {
        "id": "dRtzg7r1ivDK"
      },
      "execution_count": null,
      "outputs": []
    },
    {
      "cell_type": "markdown",
      "source": [
        "### **Problem #3.2**\n",
        "\n",
        "Did you happen to see any of your models perform perfectly (score of 1.0) during CV? If *any* model displays this (and definitely if *multiple* models do), you should be suspicious--it's almost always too good to be true!\n",
        "\n",
        "<br>\n",
        "\n",
        "This is usually a sign of data leakage or otherwise mishandled data. You should respond by:\n",
        "1. Going line by line to ensure you have not accidentally caused any data leakage (ex: encoded, scaled, or otherwise done anything before splitting your data).\n",
        "2. Exploring the data itself to see if there are any features that may be giving our models an unfair advantage.\n",
        "\n",
        "<br>\n",
        "\n",
        "Assuming you have coded things in the correct order, as we led you through in Part 2, we are most likely facing the second problem. We should:\n",
        "1. See if there are any features that give away the answer or are otherwise unrealistic for us to have when using the model in the real world.\n",
        "\n",
        "2. Drop all such features."
      ],
      "metadata": {
        "id": "5ThfiOLIl772"
      }
    },
    {
      "cell_type": "markdown",
      "source": [
        "#### **1. See if there are any features that give away the answer or are otherwise unrealistic for us to have when using the model in the real world.**\n",
        "\n",
        "In particular, run the two cells below to see the *correlations* between the features and the label. You do not need to worry about the mathematical details of this statistical measure here. Instead, just focus on the following information. If two variables have a correlation of:\n",
        "\n",
        "* **-1 or 1, they are *perfectly correlated*.** This means if you know one of them, you can always figure out the other. We should *almost always* drop one of these variables if we want our model to be at all useful or realistic.\n",
        "* **Close to -1 or 1, they are *highly correlated*.** Depending on how close to -1 or 1 it is, this can be suspicious or too good to be true. Or perhaps they're good variables to use.\n",
        "* **0, they are *completely uncorrelated*.** This means they have absolutely no measurable relationship to each other. These variables are fine to include, but if one of them is a feature and the other a label then that feature is unlikely to help our model at all."
      ],
      "metadata": {
        "id": "l7-wyzbGoARE"
      }
    },
    {
      "cell_type": "code",
      "source": [
        "life_df.corr()['Economy_status_Developed']"
      ],
      "metadata": {
        "id": "84MIomdNoLRw"
      },
      "execution_count": null,
      "outputs": []
    },
    {
      "cell_type": "code",
      "source": [
        "# Just a fancy way to visualize the correlations.\n",
        "import seaborn as sns\n",
        "sns.heatmap(life_df.corr())"
      ],
      "metadata": {
        "id": "UkakYdVIl78B"
      },
      "execution_count": null,
      "outputs": []
    },
    {
      "cell_type": "markdown",
      "source": [
        "#### **2. Drop all such features.**\n",
        "\n",
        "Drop all features with a correlation of 1 or -1 from the `features` data frame."
      ],
      "metadata": {
        "id": "AHAhDPAVqcLT"
      }
    },
    {
      "cell_type": "code",
      "source": [
        "features = # COMPLETE THIS CODE"
      ],
      "metadata": {
        "id": "heWB3FOrr8kb"
      },
      "execution_count": null,
      "outputs": []
    },
    {
      "cell_type": "markdown",
      "source": [
        "### **Reflection Question**\n",
        "\n",
        "Before moving on, ensure you can answer the following question: beyond what the correlation says, *why* should this feature/these features be dropped? In other words, why is it unrealistic or not useful to include this feature when creating an ML model to predict `Economy_status_Developed` and why might these variables be too highly correlated?"
      ],
      "metadata": {
        "id": "S4uc-GDyscz7"
      }
    },
    {
      "cell_type": "markdown",
      "source": [
        "### **Problem #3.3**\n",
        "\n",
        "Now, redo your work from Problem #3.1 with this feature/these features dropped."
      ],
      "metadata": {
        "id": "xpf9Ql6Vua5E"
      }
    },
    {
      "cell_type": "code",
      "source": [],
      "metadata": {
        "id": "KWPXDZHXua5G"
      },
      "execution_count": null,
      "outputs": []
    },
    {
      "cell_type": "markdown",
      "source": [
        "### **Problem #3.4**\n",
        "\n",
        "Next, redo your work from Problem #3.3 with the categorical features dummy variable encoded. Compare the CV performance scores of any models trained here to the best model from Problem #3.3."
      ],
      "metadata": {
        "id": "FAgPkc80u3xW"
      }
    },
    {
      "cell_type": "code",
      "source": [],
      "metadata": {
        "id": "fOFW5VBjxmOy"
      },
      "execution_count": null,
      "outputs": []
    },
    {
      "cell_type": "markdown",
      "source": [
        "### **Problem #3.5**\n",
        "\n",
        "Lastly, redo your work from Problem #3.3 - 3.4 using a smaller number of numerical features (ex: 1 - 4) and the best encoding of variables."
      ],
      "metadata": {
        "id": "cjpAUryq1Gyx"
      }
    },
    {
      "cell_type": "code",
      "source": [],
      "metadata": {
        "id": "dErcGk4K1Gy5"
      },
      "execution_count": null,
      "outputs": []
    },
    {
      "cell_type": "markdown",
      "source": [
        "<a name=\"p3w\"></a>\n",
        "\n",
        "---\n",
        "### **Part 3: Wrapup**\n",
        "---\n",
        "\n",
        "Now that you have trained several models to accomplish this task, answer the following questions:\n",
        "\n",
        "\n",
        "1. Using only the best performing model according to the CV evaluation scores, what is its average performance according to K-Folds CV? What is its performance on the test set? **NOTE**: Round to the 3rd decimal place for simplicity.\n",
        "2. Is Linear Regression, KNN, or Logistic Regression better suited for this task? Why?\n",
        "3. Are there any hyperparameters you need to tune and, if so, what are the best values you found?\n",
        "4. What seemed to play the largest role in improving model performance: selecting fewer features, a specific encoding, both, or neither.\n",
        "5. Are you confident in these results? Why or why not?"
      ],
      "metadata": {
        "id": "f99CjA0aE5Gd"
      }
    },
    {
      "cell_type": "markdown",
      "source": [
        "---\n",
        "#End of Notebook\n",
        "\n",
        "© 2023 The Coding School, All rights reserved"
      ],
      "metadata": {
        "id": "hWa31NPJg0wd"
      }
    }
  ]
}